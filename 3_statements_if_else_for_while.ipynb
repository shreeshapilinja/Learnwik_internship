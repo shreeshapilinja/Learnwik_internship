{
 "cells": [
  {
   "cell_type": "markdown",
   "id": "06c5ad5b",
   "metadata": {},
   "source": [
    "# if else \n",
    "<pre>\n",
    "if condition:\n",
    "    run this code\n",
    "    here also\n",
    "    \n",
    "else:\n",
    "    run this else</pre>"
   ]
  },
  {
   "cell_type": "code",
   "execution_count": 2,
   "id": "319beeb8",
   "metadata": {},
   "outputs": [],
   "source": [
    "x = 10"
   ]
  },
  {
   "cell_type": "code",
   "execution_count": 3,
   "id": "e42c254d",
   "metadata": {},
   "outputs": [
    {
     "name": "stdout",
     "output_type": "stream",
     "text": [
      "its smaller\n"
     ]
    }
   ],
   "source": [
    "if x>10:\n",
    "    print(\"its greater\")\n",
    "else:\n",
    "    print(\"its smaller\")"
   ]
  },
  {
   "cell_type": "code",
   "execution_count": 4,
   "id": "af510849",
   "metadata": {},
   "outputs": [
    {
     "name": "stdout",
     "output_type": "stream",
     "text": [
      "always true\n"
     ]
    }
   ],
   "source": [
    "# constant True or False\n",
    "\n",
    "if True:\n",
    "    print(\"always true\")\n",
    "else:\n",
    "    print(\"doesnt print\")"
   ]
  },
  {
   "cell_type": "code",
   "execution_count": 6,
   "id": "ff418eee",
   "metadata": {},
   "outputs": [
    {
     "name": "stdout",
     "output_type": "stream",
     "text": [
      "Enter the number: 11\n",
      "11  is Odd\n"
     ]
    }
   ],
   "source": [
    "# to check odd or even\n",
    "\n",
    "n = int(input(\"Enter the number: \"))\n",
    "if n%2==0:\n",
    "    print(n,\"is Even\")\n",
    "else:\n",
    "    print(n,\"is Odd\")"
   ]
  },
  {
   "cell_type": "code",
   "execution_count": 9,
   "id": "00700200",
   "metadata": {},
   "outputs": [
    {
     "name": "stdout",
     "output_type": "stream",
     "text": [
      "Enter your name: charan\n",
      "Welcome to the hall charan\n"
     ]
    }
   ],
   "source": [
    "name = input(\"Enter your name: \")\n",
    "if name=='deepak' or 'charan':\n",
    "    print(f\"Welcome to the hall {name}\")\n",
    "else:\n",
    "    print(f\"Sorry no entry for {name}\")"
   ]
  },
  {
   "cell_type": "code",
   "execution_count": 14,
   "id": "f3a69b60",
   "metadata": {},
   "outputs": [
    {
     "name": "stdout",
     "output_type": "stream",
     "text": [
      "Enter your name: charan\n",
      "Welcome to the hall charan\n"
     ]
    }
   ],
   "source": [
    "name = input(\"Enter your name: \")\n",
    "if name=='deepak':\n",
    "    print(f\"Welcome to the hall {name}\")\n",
    "else:\n",
    "    if name=='charan':\n",
    "        print(f\"Welcome to the hall {name}\")\n",
    "    else:\n",
    "        print(f\"Sorry no entry for {name}\")"
   ]
  },
  {
   "cell_type": "code",
   "execution_count": 16,
   "id": "25811578",
   "metadata": {},
   "outputs": [
    {
     "name": "stdout",
     "output_type": "stream",
     "text": [
      "Enter your name: shreesha\n",
      "Sorry no entry for shreesha\n"
     ]
    }
   ],
   "source": [
    "# can use elif instead of branching inside and inside\n",
    "\n",
    "name = input(\"Enter your name: \")\n",
    "if name=='deepak':\n",
    "    print(f\"Welcome to the hall {name}\")\n",
    "elif name=='charan':\n",
    "    print(f\"Welcome to the hall {name}\")\n",
    "else:\n",
    "    print(f\"Sorry no entry for {name}\")"
   ]
  },
  {
   "cell_type": "markdown",
   "id": "e79c4033",
   "metadata": {},
   "source": [
    "# For Loop (iterator)\n",
    "\n",
    "<pre>\n",
    "for i in range() or enumerate():\n",
    "    loop statement\n",
    "\n",
    "for i in list or tuple or set or string:\n",
    "    statement</pre>"
   ]
  },
  {
   "cell_type": "code",
   "execution_count": 2,
   "id": "e3fa43a4",
   "metadata": {},
   "outputs": [],
   "source": [
    "l1 = [11,21,35,24,2,6]"
   ]
  },
  {
   "cell_type": "code",
   "execution_count": 19,
   "id": "32a06bc0",
   "metadata": {},
   "outputs": [
    {
     "name": "stdout",
     "output_type": "stream",
     "text": [
      "121\n",
      "441\n",
      "1225\n",
      "576\n",
      "4\n",
      "36\n"
     ]
    }
   ],
   "source": [
    "for num in l1:\n",
    "    print(num*num)"
   ]
  },
  {
   "cell_type": "code",
   "execution_count": 21,
   "id": "d2a644f1",
   "metadata": {},
   "outputs": [
    {
     "name": "stdout",
     "output_type": "stream",
     "text": [
      "odd numbers are [11, 21, 35]\n",
      "even numbers are [24, 2, 6]\n"
     ]
    }
   ],
   "source": [
    "odd = []\n",
    "even = []\n",
    "for num in l1:\n",
    "    if num%2==0:\n",
    "        even.append(num)\n",
    "    else:\n",
    "        odd.append(num)\n",
    "print(\"odd numbers are\",odd)\n",
    "print(\"even numbers are\",even)"
   ]
  },
  {
   "cell_type": "code",
   "execution_count": 22,
   "id": "2dcb9880",
   "metadata": {},
   "outputs": [
    {
     "name": "stdout",
     "output_type": "stream",
     "text": [
      "odd 11\n",
      "odd 21\n",
      "odd 35\n",
      "even 24\n",
      "even 2\n",
      "even 6\n"
     ]
    }
   ],
   "source": [
    "for num in l1:\n",
    "    if num%2==0:\n",
    "        print(\"even\",num)\n",
    "    else:\n",
    "        print(\"odd\",num)"
   ]
  },
  {
   "cell_type": "code",
   "execution_count": 26,
   "id": "b13f8f3c",
   "metadata": {},
   "outputs": [
    {
     "name": "stdout",
     "output_type": "stream",
     "text": [
      "99\n"
     ]
    }
   ],
   "source": [
    "# sum up all the nos in the list\n",
    "total = 0\n",
    "for num in l1:\n",
    "    total += num\n",
    "print(total)"
   ]
  },
  {
   "cell_type": "code",
   "execution_count": 3,
   "id": "020febb5",
   "metadata": {},
   "outputs": [
    {
     "data": {
      "text/plain": [
       "99"
      ]
     },
     "execution_count": 3,
     "metadata": {},
     "output_type": "execute_result"
    }
   ],
   "source": [
    "sum(l1)  # built in"
   ]
  },
  {
   "cell_type": "code",
   "execution_count": 4,
   "id": "b9735b47",
   "metadata": {},
   "outputs": [
    {
     "data": {
      "text/plain": [
       "range(0, 10)"
      ]
     },
     "execution_count": 4,
     "metadata": {},
     "output_type": "execute_result"
    }
   ],
   "source": [
    "range(10)     # gives values from 0 to 9"
   ]
  },
  {
   "cell_type": "code",
   "execution_count": 6,
   "id": "493b410d",
   "metadata": {},
   "outputs": [
    {
     "name": "stdout",
     "output_type": "stream",
     "text": [
      "2\n",
      "3\n",
      "4\n",
      "5\n",
      "6\n",
      "7\n",
      "8\n"
     ]
    }
   ],
   "source": [
    "for i in range(2,9):         # 2,n-1\n",
    "    print(i)"
   ]
  },
  {
   "cell_type": "code",
   "execution_count": 7,
   "id": "f0de6590",
   "metadata": {},
   "outputs": [
    {
     "name": "stdout",
     "output_type": "stream",
     "text": [
      "1\n",
      "3\n",
      "5\n",
      "7\n",
      "9\n",
      "11\n"
     ]
    }
   ],
   "source": [
    "for i in range(1,12,2):         # 2,n-1,stepsize-1 \n",
    "    print(i)"
   ]
  },
  {
   "cell_type": "code",
   "execution_count": 8,
   "id": "ca1cf836",
   "metadata": {},
   "outputs": [
    {
     "data": {
      "text/plain": [
       "[11, 21, 35, 24, 2, 6]"
      ]
     },
     "execution_count": 8,
     "metadata": {},
     "output_type": "execute_result"
    }
   ],
   "source": [
    "l1"
   ]
  },
  {
   "cell_type": "code",
   "execution_count": 9,
   "id": "a5971e69",
   "metadata": {},
   "outputs": [
    {
     "name": "stdout",
     "output_type": "stream",
     "text": [
      "11\n",
      "21\n",
      "35\n",
      "24\n",
      "2\n",
      "6\n"
     ]
    }
   ],
   "source": [
    "for i in range(len(l1)):  # use indexing to print list \n",
    "    print(l1[i])"
   ]
  },
  {
   "cell_type": "markdown",
   "id": "f03c0290",
   "metadata": {},
   "source": [
    "# While Loop"
   ]
  },
  {
   "cell_type": "raw",
   "id": "3c1845a3",
   "metadata": {},
   "source": [
    "initialization\n",
    "while condition:\n",
    "    statements\n",
    "    increment"
   ]
  },
  {
   "cell_type": "code",
   "execution_count": 10,
   "id": "4d06f8c7",
   "metadata": {},
   "outputs": [],
   "source": [
    "x = 10"
   ]
  },
  {
   "cell_type": "code",
   "execution_count": 11,
   "id": "a8f3e224",
   "metadata": {},
   "outputs": [
    {
     "name": "stdout",
     "output_type": "stream",
     "text": [
      "10\n",
      "9\n",
      "8\n",
      "7\n",
      "6\n",
      "5\n",
      "4\n",
      "3\n",
      "2\n",
      "1\n"
     ]
    }
   ],
   "source": [
    "while x>0:        # till the condition false it will run\n",
    "    print(x)\n",
    "    x = x - 1     # if its not done it goes to infinite times"
   ]
  },
  {
   "cell_type": "code",
   "execution_count": 15,
   "id": "16e413a3",
   "metadata": {},
   "outputs": [
    {
     "name": "stdout",
     "output_type": "stream",
     "text": [
      "11\n",
      "21\n",
      "35\n",
      "24\n",
      "2\n",
      "6\n"
     ]
    }
   ],
   "source": [
    "l1 = [11, 21, 35, 24, 2, 6]\n",
    "i = 0 \n",
    "while i<len(l1):\n",
    "    print(l1[i])\n",
    "    i= i+1"
   ]
  },
  {
   "cell_type": "markdown",
   "id": "3ff616a2",
   "metadata": {},
   "source": [
    "# Break and Continue and Pass"
   ]
  },
  {
   "cell_type": "code",
   "execution_count": 21,
   "id": "9462e295",
   "metadata": {},
   "outputs": [
    {
     "name": "stdout",
     "output_type": "stream",
     "text": [
      "1\n",
      "2\n",
      "3\n",
      "4\n",
      "5\n"
     ]
    }
   ],
   "source": [
    "# break at 5\n",
    "\n",
    "x = 0\n",
    "while x<10:\n",
    "    x = x + 1\n",
    "    print(x)\n",
    "    if x == 5:\n",
    "        break"
   ]
  },
  {
   "cell_type": "code",
   "execution_count": 24,
   "id": "979f0227",
   "metadata": {},
   "outputs": [
    {
     "name": "stdout",
     "output_type": "stream",
     "text": [
      "1\n",
      "2\n",
      "3\n",
      "4\n",
      "6\n",
      "7\n",
      "8\n",
      "9\n",
      "10\n"
     ]
    }
   ],
   "source": [
    "# continue to skip iteration at 5 \n",
    "\n",
    "x = 0\n",
    "while x<10:\n",
    "    x = x + 1\n",
    "    if x == 5:\n",
    "        continue\n",
    "    print(x)          # skip of 5"
   ]
  },
  {
   "cell_type": "code",
   "execution_count": 27,
   "id": "90e80a49",
   "metadata": {
    "scrolled": true
   },
   "outputs": [
    {
     "name": "stdout",
     "output_type": "stream",
     "text": [
      "1\n",
      "3\n",
      "5\n",
      "7\n"
     ]
    }
   ],
   "source": [
    "l1 = [1,2,3,4,5,6,7]\n",
    "for i in l1:\n",
    "    if i%2==0:\n",
    "        continue\n",
    "    print(i)"
   ]
  },
  {
   "cell_type": "code",
   "execution_count": 32,
   "id": "634d6448",
   "metadata": {},
   "outputs": [
    {
     "ename": "SyntaxError",
     "evalue": "incomplete input (925180593.py, line 3)",
     "output_type": "error",
     "traceback": [
      "\u001b[1;36m  Cell \u001b[1;32mIn[32], line 3\u001b[1;36m\u001b[0m\n\u001b[1;33m    \u001b[0m\n\u001b[1;37m    ^\u001b[0m\n\u001b[1;31mSyntaxError\u001b[0m\u001b[1;31m:\u001b[0m incomplete input\n"
     ]
    }
   ],
   "source": [
    "i = 2\n",
    "if i>0:\n",
    "    "
   ]
  },
  {
   "cell_type": "code",
   "execution_count": 33,
   "id": "f9039527",
   "metadata": {},
   "outputs": [],
   "source": [
    "# so use pass : to do not want to do any thing\n",
    "i = 2\n",
    "if i>0:\n",
    "    pass"
   ]
  }
 ],
 "metadata": {
  "kernelspec": {
   "display_name": "Python 3 (ipykernel)",
   "language": "python",
   "name": "python3"
  },
  "language_info": {
   "codemirror_mode": {
    "name": "ipython",
    "version": 3
   },
   "file_extension": ".py",
   "mimetype": "text/x-python",
   "name": "python",
   "nbconvert_exporter": "python",
   "pygments_lexer": "ipython3",
   "version": "3.11.4"
  }
 },
 "nbformat": 4,
 "nbformat_minor": 5
}
