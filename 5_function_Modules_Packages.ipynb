{
 "cells": [
  {
   "cell_type": "markdown",
   "id": "09825ad7",
   "metadata": {},
   "source": [
    "# Functions Continuation"
   ]
  },
  {
   "cell_type": "markdown",
   "id": "b5f8a8a8",
   "metadata": {},
   "source": [
    "### positional arguments passing is missing how to handel or give default value"
   ]
  },
  {
   "cell_type": "code",
   "execution_count": 5,
   "id": "ae5c5ff7",
   "metadata": {},
   "outputs": [
    {
     "ename": "TypeError",
     "evalue": "func() missing 1 required positional argument: 'c'",
     "output_type": "error",
     "traceback": [
      "\u001b[1;31m---------------------------------------------------------------------------\u001b[0m",
      "\u001b[1;31mTypeError\u001b[0m                                 Traceback (most recent call last)",
      "Cell \u001b[1;32mIn[5], line 5\u001b[0m\n\u001b[0;32m      2\u001b[0m \u001b[38;5;28;01mdef\u001b[39;00m \u001b[38;5;21mfunc\u001b[39m(a,b,c):\n\u001b[0;32m      3\u001b[0m     \u001b[38;5;28;01mreturn\u001b[39;00m \u001b[38;5;28msum\u001b[39m((a,b,c))\n\u001b[1;32m----> 5\u001b[0m func(\u001b[38;5;241m10\u001b[39m,\u001b[38;5;241m20\u001b[39m)\n",
      "\u001b[1;31mTypeError\u001b[0m: func() missing 1 required positional argument: 'c'"
     ]
    }
   ],
   "source": [
    "# if not this error \n",
    "def func(a,b,c):\n",
    "    return sum((a,b,c))\n",
    "\n",
    "func(10,20)"
   ]
  },
  {
   "cell_type": "code",
   "execution_count": null,
   "id": "2db6cbf0",
   "metadata": {},
   "outputs": [],
   "source": [
    "func1(10,20,30)  # positional arguments "
   ]
  },
  {
   "cell_type": "code",
   "execution_count": 9,
   "id": "55083f49",
   "metadata": {},
   "outputs": [
    {
     "data": {
      "text/plain": [
       "90"
      ]
     },
     "execution_count": 9,
     "metadata": {},
     "output_type": "execute_result"
    }
   ],
   "source": [
    "func(c=20,a=30,b=40)   # keyworded arguments "
   ]
  },
  {
   "cell_type": "code",
   "execution_count": 13,
   "id": "61e940e1",
   "metadata": {},
   "outputs": [
    {
     "ename": "TypeError",
     "evalue": "func() missing 1 required positional argument: 'b'",
     "output_type": "error",
     "traceback": [
      "\u001b[1;31m---------------------------------------------------------------------------\u001b[0m",
      "\u001b[1;31mTypeError\u001b[0m                                 Traceback (most recent call last)",
      "Cell \u001b[1;32mIn[13], line 1\u001b[0m\n\u001b[1;32m----> 1\u001b[0m func(c\u001b[38;5;241m=\u001b[39m\u001b[38;5;241m20\u001b[39m,a\u001b[38;5;241m=\u001b[39m\u001b[38;5;241m30\u001b[39m)\n",
      "\u001b[1;31mTypeError\u001b[0m: func() missing 1 required positional argument: 'b'"
     ]
    }
   ],
   "source": [
    "func(c=20,a=30)"
   ]
  },
  {
   "cell_type": "code",
   "execution_count": 10,
   "id": "8627943f",
   "metadata": {},
   "outputs": [],
   "source": [
    "# so to handel this error by taking default value\n",
    "def func1(a=0,b=0,c=0):\n",
    "    return sum((a,b,c))"
   ]
  },
  {
   "cell_type": "code",
   "execution_count": 11,
   "id": "decca165",
   "metadata": {},
   "outputs": [
    {
     "data": {
      "text/plain": [
       "60"
      ]
     },
     "execution_count": 11,
     "metadata": {},
     "output_type": "execute_result"
    }
   ],
   "source": [
    "func1(c=30,a=10,b=20)"
   ]
  },
  {
   "cell_type": "code",
   "execution_count": 12,
   "id": "906aadb3",
   "metadata": {},
   "outputs": [
    {
     "data": {
      "text/plain": [
       "60"
      ]
     },
     "execution_count": 12,
     "metadata": {},
     "output_type": "execute_result"
    }
   ],
   "source": [
    "func1(10,20,30)"
   ]
  },
  {
   "cell_type": "code",
   "execution_count": 14,
   "id": "5786606b",
   "metadata": {},
   "outputs": [
    {
     "ename": "TypeError",
     "evalue": "func1() takes from 0 to 3 positional arguments but 5 were given",
     "output_type": "error",
     "traceback": [
      "\u001b[1;31m---------------------------------------------------------------------------\u001b[0m",
      "\u001b[1;31mTypeError\u001b[0m                                 Traceback (most recent call last)",
      "Cell \u001b[1;32mIn[14], line 1\u001b[0m\n\u001b[1;32m----> 1\u001b[0m func1(\u001b[38;5;241m10\u001b[39m,\u001b[38;5;241m20\u001b[39m,\u001b[38;5;241m30\u001b[39m,\u001b[38;5;241m40\u001b[39m,\u001b[38;5;241m50\u001b[39m)\n",
      "\u001b[1;31mTypeError\u001b[0m: func1() takes from 0 to 3 positional arguments but 5 were given"
     ]
    }
   ],
   "source": [
    "func1(10,20,30,40,50)"
   ]
  },
  {
   "cell_type": "markdown",
   "id": "881713a6",
   "metadata": {},
   "source": [
    "## Multiple Arguements - handel this error is this best "
   ]
  },
  {
   "cell_type": "code",
   "execution_count": 15,
   "id": "95fa9131",
   "metadata": {},
   "outputs": [],
   "source": [
    "def func2(*a):\n",
    "    return sum((a))"
   ]
  },
  {
   "cell_type": "code",
   "execution_count": 16,
   "id": "7a01b11e",
   "metadata": {},
   "outputs": [
    {
     "data": {
      "text/plain": [
       "0"
      ]
     },
     "execution_count": 16,
     "metadata": {},
     "output_type": "execute_result"
    }
   ],
   "source": [
    "func2()"
   ]
  },
  {
   "cell_type": "code",
   "execution_count": 17,
   "id": "114d7658",
   "metadata": {},
   "outputs": [
    {
     "data": {
      "text/plain": [
       "3"
      ]
     },
     "execution_count": 17,
     "metadata": {},
     "output_type": "execute_result"
    }
   ],
   "source": [
    "func2(1,2)"
   ]
  },
  {
   "cell_type": "code",
   "execution_count": 18,
   "id": "046040f6",
   "metadata": {},
   "outputs": [
    {
     "data": {
      "text/plain": [
       "21"
      ]
     },
     "execution_count": 18,
     "metadata": {},
     "output_type": "execute_result"
    }
   ],
   "source": [
    "func2(1,2,3,4,5,6)"
   ]
  },
  {
   "cell_type": "code",
   "execution_count": 22,
   "id": "bf8659b6",
   "metadata": {},
   "outputs": [
    {
     "name": "stdout",
     "output_type": "stream",
     "text": [
      "(1, 2, 3, 4) <class 'tuple'>\n"
     ]
    },
    {
     "data": {
      "text/plain": [
       "10"
      ]
     },
     "execution_count": 22,
     "metadata": {},
     "output_type": "execute_result"
    }
   ],
   "source": [
    "def func3(*a):\n",
    "    print(a,type(a))\n",
    "    return sum(a)\n",
    "\n",
    "func3(1,2,3,4)"
   ]
  },
  {
   "cell_type": "code",
   "execution_count": 24,
   "id": "7e278b5c",
   "metadata": {
    "scrolled": true
   },
   "outputs": [
    {
     "ename": "TypeError",
     "evalue": "func3() got an unexpected keyword argument 'a'",
     "output_type": "error",
     "traceback": [
      "\u001b[1;31m---------------------------------------------------------------------------\u001b[0m",
      "\u001b[1;31mTypeError\u001b[0m                                 Traceback (most recent call last)",
      "Cell \u001b[1;32mIn[24], line 5\u001b[0m\n\u001b[0;32m      2\u001b[0m     \u001b[38;5;28mprint\u001b[39m(a,\u001b[38;5;28mtype\u001b[39m(a))\n\u001b[0;32m      3\u001b[0m     \u001b[38;5;28;01mreturn\u001b[39;00m \u001b[38;5;28msum\u001b[39m(a)\n\u001b[1;32m----> 5\u001b[0m func3(a \u001b[38;5;241m=\u001b[39m \u001b[38;5;241m1\u001b[39m)\n",
      "\u001b[1;31mTypeError\u001b[0m: func3() got an unexpected keyword argument 'a'"
     ]
    }
   ],
   "source": [
    "def func3(*a):\n",
    "    print(a,type(a))\n",
    "    return sum(a)\n",
    "\n",
    "func3(a = 1)           # because a is positional argument"
   ]
  },
  {
   "cell_type": "markdown",
   "id": "ccf39ed9",
   "metadata": {},
   "source": [
    "### If 2 ** is given for keyworded arguments  i.e to handel above errror"
   ]
  },
  {
   "cell_type": "code",
   "execution_count": 25,
   "id": "1ae07828",
   "metadata": {},
   "outputs": [
    {
     "ename": "TypeError",
     "evalue": "func3() takes 0 positional arguments but 4 were given",
     "output_type": "error",
     "traceback": [
      "\u001b[1;31m---------------------------------------------------------------------------\u001b[0m",
      "\u001b[1;31mTypeError\u001b[0m                                 Traceback (most recent call last)",
      "Cell \u001b[1;32mIn[25], line 4\u001b[0m\n\u001b[0;32m      1\u001b[0m \u001b[38;5;28;01mdef\u001b[39;00m \u001b[38;5;21mfunc3\u001b[39m(\u001b[38;5;241m*\u001b[39m\u001b[38;5;241m*\u001b[39ma):\n\u001b[0;32m      2\u001b[0m     \u001b[38;5;28mprint\u001b[39m(a,\u001b[38;5;28mtype\u001b[39m(a))\n\u001b[1;32m----> 4\u001b[0m func3(\u001b[38;5;241m1\u001b[39m,\u001b[38;5;241m2\u001b[39m,\u001b[38;5;241m3\u001b[39m,\u001b[38;5;241m4\u001b[39m)\n",
      "\u001b[1;31mTypeError\u001b[0m: func3() takes 0 positional arguments but 4 were given"
     ]
    }
   ],
   "source": [
    "def func3(**a):\n",
    "    print(a,type(a))\n",
    "\n",
    "func3(1,2,3,4)          # positional arguments "
   ]
  },
  {
   "cell_type": "markdown",
   "id": "d46140b2",
   "metadata": {},
   "source": [
    "### its taken as dict "
   ]
  },
  {
   "cell_type": "code",
   "execution_count": 28,
   "id": "43657bbc",
   "metadata": {},
   "outputs": [
    {
     "name": "stdout",
     "output_type": "stream",
     "text": [
      "{'c': 1, 'a': 2, 'e': 3, 'd': 4} <class 'dict'>\n"
     ]
    }
   ],
   "source": [
    "def func3(**a):\n",
    "    print(a,type(a))\n",
    "\n",
    "func3(c=1,a=2,e=3,d=4)   # keyworded arguments "
   ]
  },
  {
   "cell_type": "code",
   "execution_count": 34,
   "id": "611c6c96",
   "metadata": {},
   "outputs": [
    {
     "name": "stdout",
     "output_type": "stream",
     "text": [
      "(11, 2, 3)\n"
     ]
    },
    {
     "data": {
      "text/plain": [
       "(2, 11, 3)"
      ]
     },
     "execution_count": 34,
     "metadata": {},
     "output_type": "execute_result"
    }
   ],
   "source": [
    "# diffeences of using * and **\n",
    "\n",
    "def func4(*a):\n",
    "    x,y,z = a\n",
    "    return x,y,z\n",
    "\n",
    "print(func4(11,2,3))\n",
    "func4(2,11,3)"
   ]
  },
  {
   "cell_type": "code",
   "execution_count": 35,
   "id": "d94bd05f",
   "metadata": {
    "scrolled": true
   },
   "outputs": [
    {
     "name": "stdout",
     "output_type": "stream",
     "text": [
      "(2, 11, 3)\n"
     ]
    },
    {
     "data": {
      "text/plain": [
       "(2, 11, 3)"
      ]
     },
     "execution_count": 35,
     "metadata": {},
     "output_type": "execute_result"
    }
   ],
   "source": [
    "def func4(**a):\n",
    "    return a['x'],a['y'],a['z']\n",
    "\n",
    "print(func4(y=11,x=2,z=3))\n",
    "func4(x=2,y=11,z=3)"
   ]
  },
  {
   "cell_type": "markdown",
   "id": "47fde584",
   "metadata": {},
   "source": [
    "# Correct using of * and **"
   ]
  },
  {
   "cell_type": "code",
   "execution_count": 42,
   "id": "8039ff37",
   "metadata": {},
   "outputs": [
    {
     "ename": "SyntaxError",
     "evalue": "arguments cannot follow var-keyword argument (4008991304.py, line 6)",
     "output_type": "error",
     "traceback": [
      "\u001b[1;36m  Cell \u001b[1;32mIn[42], line 6\u001b[1;36m\u001b[0m\n\u001b[1;33m    def func6(**c,*d):\u001b[0m\n\u001b[1;37m                  ^\u001b[0m\n\u001b[1;31mSyntaxError\u001b[0m\u001b[1;31m:\u001b[0m arguments cannot follow var-keyword argument\n"
     ]
    }
   ],
   "source": [
    "def func5(*a,**b):       #  this is correct we can use * and then only **\n",
    "    pass\n",
    "\n",
    "func5(1,2,3,x=10,b=20,c=30,z=30)                # * accepts positional     ** accepts keyworded argument\n",
    "\n",
    "def func6(**c,*d):        # this is not correct \n",
    "    pass\n",
    "\n",
    "func6(1,2,3,x=10,b=20,c=30,z=30)    # this is not correct \n",
    "func6(x=10,b=20,c=30,z=30,1,2,3)    # this is not correct "
   ]
  },
  {
   "cell_type": "code",
   "execution_count": null,
   "id": "935065a7",
   "metadata": {},
   "outputs": [],
   "source": []
  },
  {
   "cell_type": "markdown",
   "id": "f60bc41c",
   "metadata": {},
   "source": [
    "# Modules \n",
    "\n",
    "- eg: pandas , csv , numpy , etc \n",
    "- prewitten codes \n",
    "- they are python files \n",
    "- these python files have methods,functions etc "
   ]
  },
  {
   "cell_type": "code",
   "execution_count": 1,
   "id": "718df796",
   "metadata": {},
   "outputs": [],
   "source": [
    "# its already created (mymainmodule_5)\n",
    "\n",
    "import mymainmodule_5 as m"
   ]
  },
  {
   "cell_type": "code",
   "execution_count": 2,
   "id": "da1367f2",
   "metadata": {},
   "outputs": [
    {
     "data": {
      "text/plain": [
       "60"
      ]
     },
     "execution_count": 2,
     "metadata": {},
     "output_type": "execute_result"
    }
   ],
   "source": [
    "m.add(10,20,30)"
   ]
  },
  {
   "cell_type": "code",
   "execution_count": 3,
   "id": "ec7404bc",
   "metadata": {},
   "outputs": [
    {
     "data": {
      "text/plain": [
       "400"
      ]
     },
     "execution_count": 3,
     "metadata": {},
     "output_type": "execute_result"
    }
   ],
   "source": [
    "m.mul(10,20,2)"
   ]
  },
  {
   "cell_type": "code",
   "execution_count": 7,
   "id": "388bc8de",
   "metadata": {},
   "outputs": [],
   "source": [
    "# can be like this "
   ]
  },
  {
   "cell_type": "code",
   "execution_count": 5,
   "id": "dfc25c3c",
   "metadata": {},
   "outputs": [],
   "source": [
    "from mymainmodule_5 import test"
   ]
  },
  {
   "cell_type": "code",
   "execution_count": 6,
   "id": "bcb86b38",
   "metadata": {},
   "outputs": [
    {
     "name": "stdout",
     "output_type": "stream",
     "text": [
      "I am inside the mainpymodule\n"
     ]
    }
   ],
   "source": [
    "test()"
   ]
  },
  {
   "cell_type": "markdown",
   "id": "cbf1c3d6",
   "metadata": {},
   "source": [
    "# Package\n",
    "\n",
    "- its a collections of multiple modules \n",
    "- inside a folder there must be **__init__.py** file  "
   ]
  },
  {
   "cell_type": "raw",
   "id": "65df041e",
   "metadata": {},
   "source": [
    "from package import module \n",
    "\n",
    "OR \n",
    "\n",
    "from module import function\n",
    "\n",
    "or \n",
    "\n",
    "import package\n",
    "\n",
    "or \n",
    "\n",
    "import module \n",
    "\n",
    "\n",
    "or \n",
    "\n",
    "import something as s"
   ]
  },
  {
   "cell_type": "code",
   "execution_count": null,
   "id": "9ae7b27e",
   "metadata": {},
   "outputs": [],
   "source": []
  },
  {
   "cell_type": "code",
   "execution_count": 6,
   "id": "df333c63",
   "metadata": {},
   "outputs": [],
   "source": [
    "from package_5 import insidepackage1 as i1"
   ]
  },
  {
   "cell_type": "code",
   "execution_count": 7,
   "id": "5f7ae59c",
   "metadata": {},
   "outputs": [
    {
     "data": {
      "text/plain": [
       "25"
      ]
     },
     "execution_count": 7,
     "metadata": {},
     "output_type": "execute_result"
    }
   ],
   "source": [
    "i1.square(5)"
   ]
  },
  {
   "cell_type": "code",
   "execution_count": 8,
   "id": "da69e3b8",
   "metadata": {},
   "outputs": [
    {
     "name": "stdout",
     "output_type": "stream",
     "text": [
      "inside package 1 py file\n"
     ]
    }
   ],
   "source": [
    "i1.test()"
   ]
  },
  {
   "cell_type": "code",
   "execution_count": 13,
   "id": "7c26bef4",
   "metadata": {},
   "outputs": [],
   "source": [
    "from package_5 import insidepackage2 as i2"
   ]
  },
  {
   "cell_type": "code",
   "execution_count": 14,
   "id": "c2fb716f",
   "metadata": {},
   "outputs": [
    {
     "data": {
      "text/plain": [
       "27"
      ]
     },
     "execution_count": 14,
     "metadata": {},
     "output_type": "execute_result"
    }
   ],
   "source": [
    "i2.cube(3)"
   ]
  },
  {
   "cell_type": "code",
   "execution_count": 15,
   "id": "f9a8eba2",
   "metadata": {},
   "outputs": [
    {
     "name": "stdout",
     "output_type": "stream",
     "text": [
      "inside package 2 py file\n"
     ]
    }
   ],
   "source": [
    "i2.test()"
   ]
  },
  {
   "cell_type": "markdown",
   "id": "1378549f",
   "metadata": {},
   "source": [
    "## if there is subpackage in side package"
   ]
  },
  {
   "cell_type": "raw",
   "id": "a9280eca",
   "metadata": {},
   "source": [
    "from package_5 import insidepackage1\n",
    "from package_5 import insidepackage2\n",
    "\n",
    "from package_5 import subpackage\n",
    "\n",
    "from package_5 import __package__\n",
    "from package_5 import __file__\n",
    "from package_5 import __name__\n",
    "from package_5 import __doc__"
   ]
  },
  {
   "cell_type": "code",
   "execution_count": 2,
   "id": "4410a804",
   "metadata": {},
   "outputs": [
    {
     "name": "stdout",
     "output_type": "stream",
     "text": [
      "sub package\n"
     ]
    }
   ],
   "source": [
    "# package.subpackage import module\n",
    "\n",
    "from package_5.subpackage import sub\n",
    "sub.subp()"
   ]
  },
  {
   "cell_type": "code",
   "execution_count": 3,
   "id": "01d3ee6b",
   "metadata": {},
   "outputs": [
    {
     "name": "stdout",
     "output_type": "stream",
     "text": [
      "sub package\n"
     ]
    }
   ],
   "source": [
    "# OR \n",
    "from package_5 import subpackage\n",
    "subpackage.sub.subp()"
   ]
  },
  {
   "cell_type": "code",
   "execution_count": null,
   "id": "8f4ec6ed",
   "metadata": {},
   "outputs": [],
   "source": []
  },
  {
   "cell_type": "code",
   "execution_count": 4,
   "id": "5351d1b1",
   "metadata": {},
   "outputs": [],
   "source": [
    "import math"
   ]
  },
  {
   "cell_type": "code",
   "execution_count": 5,
   "id": "47c14974",
   "metadata": {},
   "outputs": [
    {
     "data": {
      "text/plain": [
       "-0.9524129804151563"
      ]
     },
     "execution_count": 5,
     "metadata": {},
     "output_type": "execute_result"
    }
   ],
   "source": [
    "math.cos(60)"
   ]
  },
  {
   "cell_type": "code",
   "execution_count": 6,
   "id": "06ee3078",
   "metadata": {},
   "outputs": [
    {
     "data": {
      "text/plain": [
       "6"
      ]
     },
     "execution_count": 6,
     "metadata": {},
     "output_type": "execute_result"
    }
   ],
   "source": [
    "math.ceil(5.6)"
   ]
  }
 ],
 "metadata": {
  "kernelspec": {
   "display_name": "Python 3 (ipykernel)",
   "language": "python",
   "name": "python3"
  },
  "language_info": {
   "codemirror_mode": {
    "name": "ipython",
    "version": 3
   },
   "file_extension": ".py",
   "mimetype": "text/x-python",
   "name": "python",
   "nbconvert_exporter": "python",
   "pygments_lexer": "ipython3",
   "version": "3.11.4"
  }
 },
 "nbformat": 4,
 "nbformat_minor": 5
}
