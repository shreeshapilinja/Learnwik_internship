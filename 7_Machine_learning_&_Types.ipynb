{
 "cells": [
  {
   "cell_type": "markdown",
   "id": "57ea47c9",
   "metadata": {},
   "source": [
    "# What is Machine learning and Types of Machine learning\n"
   ]
  },
  {
   "cell_type": "markdown",
   "id": "255bf3eb",
   "metadata": {},
   "source": [
    "# Terminologies \n",
    "\n",
    "## 1. Artificial Intelligence  \n",
    "        human made               ability to think,make decision,reason"
   ]
  },
  {
   "cell_type": "raw",
   "id": "cdb5c862",
   "metadata": {},
   "source": [
    "Artificial Intelligence -> Machine Learning (subset) -> deep Learning (subsubset)"
   ]
  },
  {
   "cell_type": "markdown",
   "id": "96198557",
   "metadata": {},
   "source": [
    "<pre>\n",
    "Classical program\n",
    "        _______\n",
    "data ->|formula|___> output\n",
    "rule ->|_______| \n",
    "\n",
    "eg: give 3,4 as input\n",
    "    give + as logic \n",
    "    \n",
    "    get output as 7\n",
    "</pre>"
   ]
  },
  {
   "cell_type": "markdown",
   "id": "1d333aa4",
   "metadata": {},
   "source": [
    "<pre>\n",
    "Machine learning\n",
    "          _______\n",
    "data ->  |model  |___> rule\n",
    "output ->|_______| \n",
    "\n",
    "eg: give 3,4 as input\n",
    "    give output as 7\n",
    "    \n",
    "    get + as logic \n",
    "</pre>"
   ]
  },
  {
   "cell_type": "markdown",
   "id": "987478fd",
   "metadata": {},
   "source": [
    "## Types of machine learning \n",
    "\n",
    "1. Supervised : labeled data - target value know - classification and regression\n",
    "2. unsupervised : unlabeled data - no target value - clustering - similarities\n",
    "3. reinforcement : by doing thing multile times by correcting the errors till geting perfect by your own\n",
    "                    (**reward and penality**)"
   ]
  },
  {
   "cell_type": "markdown",
   "id": "24c71127",
   "metadata": {},
   "source": [
    "# Classification and Regression"
   ]
  },
  {
   "cell_type": "markdown",
   "id": "4c211f15",
   "metadata": {},
   "source": [
    "Classification :- male or female prediction\n",
    ", whether the earned > 1000 or < 1000\n",
    "\n",
    "categorical value"
   ]
  },
  {
   "cell_type": "markdown",
   "id": "bc878c93",
   "metadata": {},
   "source": [
    "Regression :- height prediction of a person\n",
    ", salary prediction of a person\n",
    "\n",
    "continuous numerical value"
   ]
  },
  {
   "cell_type": "markdown",
   "id": "1eeab80f",
   "metadata": {},
   "source": []
  }
 ],
 "metadata": {
  "kernelspec": {
   "display_name": "Python 3 (ipykernel)",
   "language": "python",
   "name": "python3"
  },
  "language_info": {
   "codemirror_mode": {
    "name": "ipython",
    "version": 3
   },
   "file_extension": ".py",
   "mimetype": "text/x-python",
   "name": "python",
   "nbconvert_exporter": "python",
   "pygments_lexer": "ipython3",
   "version": "3.11.4"
  }
 },
 "nbformat": 4,
 "nbformat_minor": 5
}
