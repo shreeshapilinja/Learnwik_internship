{
 "cells": [
  {
   "cell_type": "markdown",
   "id": "dbeb71bd",
   "metadata": {},
   "source": [
    "# Types of error\n",
    "- where the application crashes \n",
    "\n",
    "1. Syntax Error\n",
    "2. Syntactical Error  Eg: Index Error , ZeroDivisionError , KeyError\n",
    "3. "
   ]
  },
  {
   "cell_type": "code",
   "execution_count": 1,
   "id": "0a9a95aa",
   "metadata": {},
   "outputs": [
    {
     "ename": "SyntaxError",
     "evalue": "unterminated string literal (detected at line 2) (360764739.py, line 2)",
     "output_type": "error",
     "traceback": [
      "\u001b[1;36m  Cell \u001b[1;32mIn[1], line 2\u001b[1;36m\u001b[0m\n\u001b[1;33m    print(\"Hello)\u001b[0m\n\u001b[1;37m          ^\u001b[0m\n\u001b[1;31mSyntaxError\u001b[0m\u001b[1;31m:\u001b[0m unterminated string literal (detected at line 2)\n"
     ]
    }
   ],
   "source": [
    "#1. Syntax Error\n",
    "print(\"Hello)"
   ]
  },
  {
   "cell_type": "code",
   "execution_count": 2,
   "id": "013961de",
   "metadata": {},
   "outputs": [
    {
     "ename": "IndexError",
     "evalue": "list index out of range",
     "output_type": "error",
     "traceback": [
      "\u001b[1;31m---------------------------------------------------------------------------\u001b[0m",
      "\u001b[1;31mIndexError\u001b[0m                                Traceback (most recent call last)",
      "Cell \u001b[1;32mIn[2], line 3\u001b[0m\n\u001b[0;32m      1\u001b[0m \u001b[38;5;66;03m# Syntactical Error  Eg: Index Error\u001b[39;00m\n\u001b[0;32m      2\u001b[0m l \u001b[38;5;241m=\u001b[39m [\u001b[38;5;241m1\u001b[39m,\u001b[38;5;241m2\u001b[39m,\u001b[38;5;241m3\u001b[39m]\n\u001b[1;32m----> 3\u001b[0m l[\u001b[38;5;241m3\u001b[39m]\n",
      "\u001b[1;31mIndexError\u001b[0m: list index out of range"
     ]
    }
   ],
   "source": [
    "#2. Syntactical Error  Eg: Index Error\n",
    "l = [1,2,3]\n",
    "l[3]"
   ]
  },
  {
   "cell_type": "code",
   "execution_count": 3,
   "id": "f3700c81",
   "metadata": {},
   "outputs": [
    {
     "ename": "ZeroDivisionError",
     "evalue": "division by zero",
     "output_type": "error",
     "traceback": [
      "\u001b[1;31m---------------------------------------------------------------------------\u001b[0m",
      "\u001b[1;31mZeroDivisionError\u001b[0m                         Traceback (most recent call last)",
      "Cell \u001b[1;32mIn[3], line 2\u001b[0m\n\u001b[0;32m      1\u001b[0m \u001b[38;5;66;03m# Syntactical Error  Eg: ZeroDivisionError \u001b[39;00m\n\u001b[1;32m----> 2\u001b[0m \u001b[38;5;241m1\u001b[39m\u001b[38;5;241m/\u001b[39m\u001b[38;5;241m0\u001b[39m\n",
      "\u001b[1;31mZeroDivisionError\u001b[0m: division by zero"
     ]
    }
   ],
   "source": [
    "# Syntactical Error  Eg: ZeroDivisionError \n",
    "1/0"
   ]
  },
  {
   "cell_type": "code",
   "execution_count": 4,
   "id": "c5fe3cb0",
   "metadata": {},
   "outputs": [
    {
     "ename": "KeyError",
     "evalue": "'k3'",
     "output_type": "error",
     "traceback": [
      "\u001b[1;31m---------------------------------------------------------------------------\u001b[0m",
      "\u001b[1;31mKeyError\u001b[0m                                  Traceback (most recent call last)",
      "Cell \u001b[1;32mIn[4], line 3\u001b[0m\n\u001b[0;32m      1\u001b[0m \u001b[38;5;66;03m# Syntactical Error  Eg: KeyError\u001b[39;00m\n\u001b[0;32m      2\u001b[0m d \u001b[38;5;241m=\u001b[39m {\u001b[38;5;124m\"\u001b[39m\u001b[38;5;124mk1\u001b[39m\u001b[38;5;124m\"\u001b[39m:\u001b[38;5;241m1\u001b[39m,\u001b[38;5;124m\"\u001b[39m\u001b[38;5;124mk2\u001b[39m\u001b[38;5;124m\"\u001b[39m:\u001b[38;5;241m2\u001b[39m}\n\u001b[1;32m----> 3\u001b[0m d[\u001b[38;5;124m'\u001b[39m\u001b[38;5;124mk3\u001b[39m\u001b[38;5;124m'\u001b[39m]\n",
      "\u001b[1;31mKeyError\u001b[0m: 'k3'"
     ]
    }
   ],
   "source": [
    "# Syntactical Error  Eg: KeyError\n",
    "d = {\"k1\":1,\"k2\":2}\n",
    "d['k3']"
   ]
  },
  {
   "cell_type": "markdown",
   "id": "e4684e08",
   "metadata": {},
   "source": [
    "# Handling error is by using try & except\n",
    "\n",
    "- prevent application from crashing by handling it and showing user the error\n",
    "\n",
    "<pre>\n",
    "try:\n",
    "    statement\n",
    "except:\n",
    "    print error\n",
    "</pre>"
   ]
  },
  {
   "cell_type": "code",
   "execution_count": 5,
   "id": "dc402c19",
   "metadata": {},
   "outputs": [
    {
     "name": "stdout",
     "output_type": "stream",
     "text": [
      "the key does not exists\n"
     ]
    }
   ],
   "source": [
    "d = {\"k1\":1,\"k2\":2}\n",
    "try:\n",
    "    print(d['k3'])\n",
    "except:\n",
    "    print(\"the key does not exists\")"
   ]
  },
  {
   "cell_type": "code",
   "execution_count": 8,
   "id": "ea3428dc",
   "metadata": {},
   "outputs": [
    {
     "data": {
      "text/plain": [
       "0.5"
      ]
     },
     "execution_count": 8,
     "metadata": {},
     "output_type": "execute_result"
    }
   ],
   "source": [
    "def div(a,b):\n",
    "    try:\n",
    "        return a/b\n",
    "    except:\n",
    "        print(\"division by 0 not possible\")\n",
    "div(10,20)"
   ]
  },
  {
   "cell_type": "code",
   "execution_count": 9,
   "id": "31fa3fe2",
   "metadata": {},
   "outputs": [
    {
     "name": "stdout",
     "output_type": "stream",
     "text": [
      "division by 0 not possible\n"
     ]
    }
   ],
   "source": [
    "div(10,0)"
   ]
  },
  {
   "cell_type": "markdown",
   "id": "8f3ec1ea",
   "metadata": {},
   "source": [
    "## specifing the particular errror "
   ]
  },
  {
   "cell_type": "code",
   "execution_count": 10,
   "id": "aa3a6e32",
   "metadata": {},
   "outputs": [
    {
     "name": "stdout",
     "output_type": "stream",
     "text": [
      "there was an error\n"
     ]
    }
   ],
   "source": [
    "d = {'a':1,'b':2}\n",
    "try:\n",
    "    print(d['c'])\n",
    "except KeyError:\n",
    "    print(\"there was an error\")"
   ]
  },
  {
   "cell_type": "code",
   "execution_count": 11,
   "id": "5587cb27",
   "metadata": {},
   "outputs": [
    {
     "ename": "ZeroDivisionError",
     "evalue": "division by zero",
     "output_type": "error",
     "traceback": [
      "\u001b[1;31m---------------------------------------------------------------------------\u001b[0m",
      "\u001b[1;31mZeroDivisionError\u001b[0m                         Traceback (most recent call last)",
      "Cell \u001b[1;32mIn[11], line 3\u001b[0m\n\u001b[0;32m      1\u001b[0m d \u001b[38;5;241m=\u001b[39m {\u001b[38;5;124m'\u001b[39m\u001b[38;5;124ma\u001b[39m\u001b[38;5;124m'\u001b[39m:\u001b[38;5;241m1\u001b[39m,\u001b[38;5;124m'\u001b[39m\u001b[38;5;124mb\u001b[39m\u001b[38;5;124m'\u001b[39m:\u001b[38;5;241m2\u001b[39m}\n\u001b[0;32m      2\u001b[0m \u001b[38;5;28;01mtry\u001b[39;00m:\n\u001b[1;32m----> 3\u001b[0m     \u001b[38;5;28mprint\u001b[39m(\u001b[38;5;241m10\u001b[39m\u001b[38;5;241m/\u001b[39m\u001b[38;5;241m0\u001b[39m)\n\u001b[0;32m      4\u001b[0m     \u001b[38;5;28mprint\u001b[39m(d[\u001b[38;5;124m'\u001b[39m\u001b[38;5;124mc\u001b[39m\u001b[38;5;124m'\u001b[39m])\n\u001b[0;32m      5\u001b[0m \u001b[38;5;28;01mexcept\u001b[39;00m \u001b[38;5;167;01mKeyError\u001b[39;00m:\n",
      "\u001b[1;31mZeroDivisionError\u001b[0m: division by zero"
     ]
    }
   ],
   "source": [
    "d = {'a':1,'b':2}\n",
    "try:\n",
    "    print(10/0)\n",
    "    print(d['c'])\n",
    "except KeyError:\n",
    "    print(\"there was an error\")"
   ]
  },
  {
   "cell_type": "code",
   "execution_count": 12,
   "id": "fa89adba",
   "metadata": {},
   "outputs": [
    {
     "name": "stdout",
     "output_type": "stream",
     "text": [
      "there was an ZeroDivisionError\n"
     ]
    }
   ],
   "source": [
    "# so handling multiple errors \n",
    "\n",
    "d = {'a':1,'b':2}\n",
    "try:\n",
    "    print(10/0)\n",
    "    print(d['c'])\n",
    "except KeyError:\n",
    "    print(\"there was key error\")\n",
    "except ZeroDivisionError:\n",
    "    print(\"there was an ZeroDivisionError\")\n",
    "except IndexError:\n",
    "    print(\"there was an IndexError\")"
   ]
  },
  {
   "cell_type": "markdown",
   "id": "632f223b",
   "metadata": {},
   "source": [
    "# finally block \n",
    "- runs what ever the try or except may be"
   ]
  },
  {
   "cell_type": "code",
   "execution_count": 13,
   "id": "316ac51e",
   "metadata": {},
   "outputs": [
    {
     "name": "stdout",
     "output_type": "stream",
     "text": [
      "2\n",
      "finished execution\n"
     ]
    }
   ],
   "source": [
    "d = {'a':1,'b':2}\n",
    "try:\n",
    "    print(d['b'])\n",
    "except KeyError:\n",
    "    print(\"there was an error\")\n",
    "finally:\n",
    "    print(\"finished execution\")"
   ]
  },
  {
   "cell_type": "code",
   "execution_count": 14,
   "id": "480270ff",
   "metadata": {},
   "outputs": [
    {
     "name": "stdout",
     "output_type": "stream",
     "text": [
      "there was an error\n",
      "finished execution\n"
     ]
    }
   ],
   "source": [
    "d = {'a':1,'b':2}\n",
    "try:\n",
    "    print(d['c'])\n",
    "except KeyError:\n",
    "    print(\"there was an error\")\n",
    "finally:\n",
    "    print(\"finished execution\")"
   ]
  },
  {
   "cell_type": "code",
   "execution_count": 16,
   "id": "0d4356d9",
   "metadata": {},
   "outputs": [
    {
     "name": "stdout",
     "output_type": "stream",
     "text": [
      "finished execution\n"
     ]
    },
    {
     "ename": "KeyError",
     "evalue": "'c'",
     "output_type": "error",
     "traceback": [
      "\u001b[1;31m---------------------------------------------------------------------------\u001b[0m",
      "\u001b[1;31mKeyError\u001b[0m                                  Traceback (most recent call last)",
      "Cell \u001b[1;32mIn[16], line 5\u001b[0m\n\u001b[0;32m      3\u001b[0m d \u001b[38;5;241m=\u001b[39m {\u001b[38;5;124m'\u001b[39m\u001b[38;5;124ma\u001b[39m\u001b[38;5;124m'\u001b[39m:\u001b[38;5;241m1\u001b[39m,\u001b[38;5;124m'\u001b[39m\u001b[38;5;124mb\u001b[39m\u001b[38;5;124m'\u001b[39m:\u001b[38;5;241m2\u001b[39m}\n\u001b[0;32m      4\u001b[0m \u001b[38;5;28;01mtry\u001b[39;00m:\n\u001b[1;32m----> 5\u001b[0m     \u001b[38;5;28mprint\u001b[39m(d[\u001b[38;5;124m'\u001b[39m\u001b[38;5;124mc\u001b[39m\u001b[38;5;124m'\u001b[39m])\n\u001b[0;32m      6\u001b[0m \u001b[38;5;28;01mfinally\u001b[39;00m:\n\u001b[0;32m      7\u001b[0m     \u001b[38;5;28mprint\u001b[39m(\u001b[38;5;124m\"\u001b[39m\u001b[38;5;124mfinished execution\u001b[39m\u001b[38;5;124m\"\u001b[39m)\n",
      "\u001b[1;31mKeyError\u001b[0m: 'c'"
     ]
    }
   ],
   "source": [
    "# even if there is error the finally statement run (spaciality)\n",
    "\n",
    "d = {'a':1,'b':2}\n",
    "try:\n",
    "    print(d['c'])\n",
    "finally:\n",
    "    print(\"finished execution\")"
   ]
  },
  {
   "cell_type": "code",
   "execution_count": null,
   "id": "6cdc42f7",
   "metadata": {},
   "outputs": [],
   "source": []
  },
  {
   "cell_type": "code",
   "execution_count": 20,
   "id": "d48fba90",
   "metadata": {},
   "outputs": [
    {
     "name": "stdout",
     "output_type": "stream",
     "text": [
      "enter a name: sh\n"
     ]
    },
    {
     "data": {
      "text/plain": [
       "str"
      ]
     },
     "execution_count": 20,
     "metadata": {},
     "output_type": "execute_result"
    }
   ],
   "source": [
    "x = input(\"enter a name: \")\n",
    "type(x)"
   ]
  },
  {
   "cell_type": "code",
   "execution_count": 18,
   "id": "8cb499ce",
   "metadata": {},
   "outputs": [
    {
     "name": "stdout",
     "output_type": "stream",
     "text": [
      "enter age: s\n"
     ]
    },
    {
     "ename": "ValueError",
     "evalue": "invalid literal for int() with base 10: 's'",
     "output_type": "error",
     "traceback": [
      "\u001b[1;31m---------------------------------------------------------------------------\u001b[0m",
      "\u001b[1;31mValueError\u001b[0m                                Traceback (most recent call last)",
      "Cell \u001b[1;32mIn[18], line 1\u001b[0m\n\u001b[1;32m----> 1\u001b[0m y \u001b[38;5;241m=\u001b[39m \u001b[38;5;28mint\u001b[39m(\u001b[38;5;28minput\u001b[39m(\u001b[38;5;124m\"\u001b[39m\u001b[38;5;124menter age: \u001b[39m\u001b[38;5;124m\"\u001b[39m))\n",
      "\u001b[1;31mValueError\u001b[0m: invalid literal for int() with base 10: 's'"
     ]
    }
   ],
   "source": [
    "y = int(input(\"enter age: \"))"
   ]
  },
  {
   "cell_type": "code",
   "execution_count": 19,
   "id": "c5a0cba2",
   "metadata": {},
   "outputs": [
    {
     "name": "stdout",
     "output_type": "stream",
     "text": [
      "enter age: g\n",
      "please enter the integer value\n"
     ]
    }
   ],
   "source": [
    "# so to handel this ValueError\n",
    "\n",
    "try:\n",
    "    y = int(input(\"enter age: \"))\n",
    "except:\n",
    "    print(\"please enter the integer value\")"
   ]
  },
  {
   "cell_type": "code",
   "execution_count": 22,
   "id": "95318c0f",
   "metadata": {},
   "outputs": [
    {
     "name": "stdout",
     "output_type": "stream",
     "text": [
      "enter age: d\n",
      "please enter the integer value\n",
      "enter age: a\n",
      "please enter the integer value\n",
      "enter age: v\n",
      "please enter the integer value\n",
      "enter age: 5\n"
     ]
    }
   ],
   "source": [
    "while True:\n",
    "    try:\n",
    "        y = int(input(\"enter age: \"))\n",
    "        break\n",
    "    except:\n",
    "        print(\"please enter the integer value\")"
   ]
  },
  {
   "cell_type": "code",
   "execution_count": null,
   "id": "cb72954e",
   "metadata": {},
   "outputs": [],
   "source": [
    "# introduction to ml,ai,dp,big data\n",
    "# numpy\n",
    "# pandas basic and advanced\n",
    "# visualization with matplotlib and seaborn (basic and advanced)\n",
    "# sklearn\n",
    "\n",
    "## data science\n",
    "# streamlit(dash bording and creating webapplication and deployment)"
   ]
  }
 ],
 "metadata": {
  "kernelspec": {
   "display_name": "Python 3 (ipykernel)",
   "language": "python",
   "name": "python3"
  },
  "language_info": {
   "codemirror_mode": {
    "name": "ipython",
    "version": 3
   },
   "file_extension": ".py",
   "mimetype": "text/x-python",
   "name": "python",
   "nbconvert_exporter": "python",
   "pygments_lexer": "ipython3",
   "version": "3.11.4"
  }
 },
 "nbformat": 4,
 "nbformat_minor": 5
}
