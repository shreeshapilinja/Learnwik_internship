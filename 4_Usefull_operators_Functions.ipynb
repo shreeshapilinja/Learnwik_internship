{
 "cells": [
  {
   "cell_type": "markdown",
   "id": "edc85132",
   "metadata": {},
   "source": [
    "# Usefull operators"
   ]
  },
  {
   "cell_type": "raw",
   "id": "21ee5530",
   "metadata": {},
   "source": [
    "# generative function\n",
    "1. range(start,end,stepsize)  \n",
    "2. enumerate()\n",
    "3. zip(v1,v2)"
   ]
  },
  {
   "cell_type": "markdown",
   "id": "39803f1f",
   "metadata": {},
   "source": [
    "## range"
   ]
  },
  {
   "cell_type": "code",
   "execution_count": 1,
   "id": "a2acd330",
   "metadata": {},
   "outputs": [
    {
     "data": {
      "text/plain": [
       "(2, 4, 6, 8, 10, 12)"
      ]
     },
     "execution_count": 1,
     "metadata": {},
     "output_type": "execute_result"
    }
   ],
   "source": [
    "tuple(range(2,13,2))  # tuple of even numbers "
   ]
  },
  {
   "cell_type": "code",
   "execution_count": 5,
   "id": "70abe46f",
   "metadata": {},
   "outputs": [
    {
     "data": {
      "text/plain": [
       "[0, 1, 2, 3, 4, 5, 6, 7, 8, 9]"
      ]
     },
     "execution_count": 5,
     "metadata": {},
     "output_type": "execute_result"
    }
   ],
   "source": [
    "list(range(0,10,1))"
   ]
  },
  {
   "cell_type": "code",
   "execution_count": 6,
   "id": "66108130",
   "metadata": {},
   "outputs": [],
   "source": [
    "l = list(range(1,12,2))   # odd nos "
   ]
  },
  {
   "cell_type": "markdown",
   "id": "6353f7b8",
   "metadata": {},
   "source": [
    "## enumerate"
   ]
  },
  {
   "cell_type": "code",
   "execution_count": 7,
   "id": "5696f17a",
   "metadata": {},
   "outputs": [
    {
     "name": "stdout",
     "output_type": "stream",
     "text": [
      "0 1\n",
      "1 3\n",
      "2 5\n",
      "3 7\n",
      "4 9\n",
      "5 11\n"
     ]
    }
   ],
   "source": [
    "for index,value in enumerate(l):\n",
    "    print(index,value)"
   ]
  },
  {
   "cell_type": "code",
   "execution_count": 11,
   "id": "63ed687f",
   "metadata": {},
   "outputs": [
    {
     "data": {
      "text/plain": [
       "[(0, 'a'), (1, 'b'), (2, 'c'), (3, 'd')]"
      ]
     },
     "execution_count": 11,
     "metadata": {},
     "output_type": "execute_result"
    }
   ],
   "source": [
    "s = 'abcd'\n",
    "list(enumerate(s))   # gives a list of tuples "
   ]
  },
  {
   "cell_type": "code",
   "execution_count": 12,
   "id": "e5ab9de2",
   "metadata": {},
   "outputs": [
    {
     "data": {
      "text/plain": [
       "'a'"
      ]
     },
     "execution_count": 12,
     "metadata": {},
     "output_type": "execute_result"
    }
   ],
   "source": [
    "d = dict(enumerate(s))\n",
    "\n",
    "d[0]"
   ]
  },
  {
   "cell_type": "code",
   "execution_count": 14,
   "id": "2de80e16",
   "metadata": {},
   "outputs": [
    {
     "data": {
      "text/plain": [
       "{0: 'a', 1: 'b', 2: 'c', 3: 'd'}"
      ]
     },
     "execution_count": 14,
     "metadata": {},
     "output_type": "execute_result"
    }
   ],
   "source": [
    "d"
   ]
  },
  {
   "cell_type": "code",
   "execution_count": 17,
   "id": "6d405115",
   "metadata": {},
   "outputs": [
    {
     "data": {
      "text/plain": [
       "{0: 'shreesha', 1: 'rajgopal'}"
      ]
     },
     "execution_count": 17,
     "metadata": {},
     "output_type": "execute_result"
    }
   ],
   "source": [
    "l = ['shreesha','rajgopal']\n",
    "d = dict(enumerate(l))\n",
    "d"
   ]
  },
  {
   "cell_type": "markdown",
   "id": "1658c024",
   "metadata": {},
   "source": [
    "## zip \n",
    "\n",
    "there instead of haveing index values you can have another values "
   ]
  },
  {
   "cell_type": "code",
   "execution_count": 27,
   "id": "de1ad5ff",
   "metadata": {},
   "outputs": [],
   "source": [
    "roll = [11,13,4,5,6]\n",
    "student = ['a','b','c','d','e','f']"
   ]
  },
  {
   "cell_type": "code",
   "execution_count": 28,
   "id": "3095555f",
   "metadata": {},
   "outputs": [],
   "source": [
    "z = zip(roll,student)"
   ]
  },
  {
   "cell_type": "code",
   "execution_count": 29,
   "id": "f0b64ab8",
   "metadata": {},
   "outputs": [
    {
     "data": {
      "text/plain": [
       "<zip at 0x19b44929e00>"
      ]
     },
     "execution_count": 29,
     "metadata": {},
     "output_type": "execute_result"
    }
   ],
   "source": [
    "z"
   ]
  },
  {
   "cell_type": "code",
   "execution_count": 30,
   "id": "279c5f68",
   "metadata": {},
   "outputs": [
    {
     "name": "stdout",
     "output_type": "stream",
     "text": [
      "(11, 'a')\n",
      "(13, 'b')\n",
      "(4, 'c')\n",
      "(5, 'd')\n",
      "(6, 'e')\n"
     ]
    }
   ],
   "source": [
    "for i in zip(roll,student):\n",
    "    print(i)"
   ]
  },
  {
   "cell_type": "code",
   "execution_count": 31,
   "id": "5ea03d46",
   "metadata": {},
   "outputs": [],
   "source": [
    "d = dict(z)"
   ]
  },
  {
   "cell_type": "code",
   "execution_count": 32,
   "id": "ec5737c7",
   "metadata": {},
   "outputs": [
    {
     "data": {
      "text/plain": [
       "{11: 'a', 13: 'b', 4: 'c', 5: 'd', 6: 'e'}"
      ]
     },
     "execution_count": 32,
     "metadata": {},
     "output_type": "execute_result"
    }
   ],
   "source": [
    "d"
   ]
  },
  {
   "cell_type": "markdown",
   "id": "63494547",
   "metadata": {},
   "source": [
    "# in operator"
   ]
  },
  {
   "cell_type": "code",
   "execution_count": 33,
   "id": "52bf4b6b",
   "metadata": {},
   "outputs": [
    {
     "name": "stdout",
     "output_type": "stream",
     "text": [
      "True\n"
     ]
    }
   ],
   "source": [
    "if 10 in [1,2,3,4,5,10,12,14]:\n",
    "    print(\"True\")"
   ]
  },
  {
   "cell_type": "code",
   "execution_count": 34,
   "id": "cc41f5f5",
   "metadata": {},
   "outputs": [
    {
     "data": {
      "text/plain": [
       "True"
      ]
     },
     "execution_count": 34,
     "metadata": {},
     "output_type": "execute_result"
    }
   ],
   "source": [
    "'c' in \"abcdef\""
   ]
  },
  {
   "cell_type": "code",
   "execution_count": 35,
   "id": "e4f65602",
   "metadata": {},
   "outputs": [
    {
     "data": {
      "text/plain": [
       "False"
      ]
     },
     "execution_count": 35,
     "metadata": {},
     "output_type": "execute_result"
    }
   ],
   "source": [
    "'a' in d"
   ]
  },
  {
   "cell_type": "code",
   "execution_count": 37,
   "id": "b5ba5a2d",
   "metadata": {},
   "outputs": [
    {
     "data": {
      "text/plain": [
       "True"
      ]
     },
     "execution_count": 37,
     "metadata": {},
     "output_type": "execute_result"
    }
   ],
   "source": [
    "'c' not in 'ab'"
   ]
  },
  {
   "cell_type": "markdown",
   "id": "ff12fc87",
   "metadata": {},
   "source": [
    "# min max operator"
   ]
  },
  {
   "cell_type": "code",
   "execution_count": 38,
   "id": "c9d59d67",
   "metadata": {},
   "outputs": [],
   "source": [
    "l = list(d)"
   ]
  },
  {
   "cell_type": "code",
   "execution_count": 39,
   "id": "9bd23639",
   "metadata": {},
   "outputs": [
    {
     "data": {
      "text/plain": [
       "[11, 13, 4, 5, 6]"
      ]
     },
     "execution_count": 39,
     "metadata": {},
     "output_type": "execute_result"
    }
   ],
   "source": [
    "l"
   ]
  },
  {
   "cell_type": "code",
   "execution_count": 40,
   "id": "eddc3ab7",
   "metadata": {},
   "outputs": [
    {
     "data": {
      "text/plain": [
       "4"
      ]
     },
     "execution_count": 40,
     "metadata": {},
     "output_type": "execute_result"
    }
   ],
   "source": [
    "min(l)"
   ]
  },
  {
   "cell_type": "code",
   "execution_count": 41,
   "id": "12b7284e",
   "metadata": {},
   "outputs": [
    {
     "data": {
      "text/plain": [
       "13"
      ]
     },
     "execution_count": 41,
     "metadata": {},
     "output_type": "execute_result"
    }
   ],
   "source": [
    "max(l)"
   ]
  },
  {
   "cell_type": "markdown",
   "id": "d0093738",
   "metadata": {},
   "source": [
    "# input  - always takes in form of string"
   ]
  },
  {
   "cell_type": "code",
   "execution_count": 43,
   "id": "184eb646",
   "metadata": {},
   "outputs": [
    {
     "name": "stdout",
     "output_type": "stream",
     "text": [
      "Enter the name: shreesha\n"
     ]
    },
    {
     "data": {
      "text/plain": [
       "'shreesha'"
      ]
     },
     "execution_count": 43,
     "metadata": {},
     "output_type": "execute_result"
    }
   ],
   "source": [
    "s = input(\"Enter the name: \")\n",
    "s"
   ]
  },
  {
   "cell_type": "code",
   "execution_count": 44,
   "id": "e6bcf5ee",
   "metadata": {},
   "outputs": [
    {
     "data": {
      "text/plain": [
       "str"
      ]
     },
     "execution_count": 44,
     "metadata": {},
     "output_type": "execute_result"
    }
   ],
   "source": [
    "type(s)"
   ]
  },
  {
   "cell_type": "code",
   "execution_count": 45,
   "id": "fd558006",
   "metadata": {},
   "outputs": [
    {
     "name": "stdout",
     "output_type": "stream",
     "text": [
      "Enter the number: s\n"
     ]
    },
    {
     "ename": "ValueError",
     "evalue": "invalid literal for int() with base 10: 's'",
     "output_type": "error",
     "traceback": [
      "\u001b[1;31m---------------------------------------------------------------------------\u001b[0m",
      "\u001b[1;31mValueError\u001b[0m                                Traceback (most recent call last)",
      "Cell \u001b[1;32mIn[45], line 1\u001b[0m\n\u001b[1;32m----> 1\u001b[0m i \u001b[38;5;241m=\u001b[39m \u001b[38;5;28mint\u001b[39m(\u001b[38;5;28minput\u001b[39m(\u001b[38;5;124m\"\u001b[39m\u001b[38;5;124mEnter the number: \u001b[39m\u001b[38;5;124m\"\u001b[39m))\n",
      "\u001b[1;31mValueError\u001b[0m: invalid literal for int() with base 10: 's'"
     ]
    }
   ],
   "source": [
    "i = int(input(\"Enter the number: \"))     # crash if wrong input"
   ]
  },
  {
   "cell_type": "code",
   "execution_count": 46,
   "id": "890dc557",
   "metadata": {},
   "outputs": [
    {
     "name": "stdout",
     "output_type": "stream",
     "text": [
      "Enter the number: s\n",
      "Enter the number only\n"
     ]
    }
   ],
   "source": [
    "try:\n",
    "    i = int(input(\"Enter the number: \"))\n",
    "except:\n",
    "    print(\"Enter the number only\")"
   ]
  },
  {
   "cell_type": "code",
   "execution_count": 48,
   "id": "f0543e5a",
   "metadata": {
    "scrolled": true
   },
   "outputs": [
    {
     "name": "stdout",
     "output_type": "stream",
     "text": [
      "Enter the number: 54\n"
     ]
    },
    {
     "data": {
      "text/plain": [
       "int"
      ]
     },
     "execution_count": 48,
     "metadata": {},
     "output_type": "execute_result"
    }
   ],
   "source": [
    "i = int(input(\"Enter the number: \"))\n",
    "type(i)"
   ]
  },
  {
   "cell_type": "markdown",
   "id": "6f0935bb",
   "metadata": {},
   "source": [
    "### calculate the company with highest stock price"
   ]
  },
  {
   "cell_type": "code",
   "execution_count": 49,
   "id": "648a6196",
   "metadata": {},
   "outputs": [],
   "source": [
    "stock_name = ['apple', 'micorsoft', 'google', 'tesla']\n",
    "stock_prices = [208, 356, 598, 437]"
   ]
  },
  {
   "cell_type": "code",
   "execution_count": 57,
   "id": "37aba879",
   "metadata": {},
   "outputs": [
    {
     "name": "stdout",
     "output_type": "stream",
     "text": [
      "The highest stock price is by company google\n"
     ]
    }
   ],
   "source": [
    "m = stock_prices[0]\n",
    "c = stock_name[0]\n",
    "for sn,sp in zip(stock_name,stock_prices):\n",
    "    if sp>m:\n",
    "        m = sp\n",
    "        c = sn\n",
    "print(f\"The highest stock price is by company {c}\")"
   ]
  },
  {
   "cell_type": "markdown",
   "id": "daf2256c",
   "metadata": {},
   "source": [
    "### create a dictionary of the VC students "
   ]
  },
  {
   "cell_type": "code",
   "execution_count": 76,
   "id": "737d901e",
   "metadata": {},
   "outputs": [],
   "source": [
    "usn = [f\"4VP20AI00{i}\" for i in range(1,10)]"
   ]
  },
  {
   "cell_type": "code",
   "execution_count": 77,
   "id": "fe3ef859",
   "metadata": {},
   "outputs": [
    {
     "data": {
      "text/plain": [
       "['ejlzyr',\n",
       " 'hgsvwa',\n",
       " 'dztugf',\n",
       " 'dhowrx',\n",
       " 'nrppfa',\n",
       " 'shgupk',\n",
       " 'woisfs',\n",
       " 'lubgne',\n",
       " 'iwdujq']"
      ]
     },
     "execution_count": 77,
     "metadata": {},
     "output_type": "execute_result"
    }
   ],
   "source": [
    "import random \n",
    "students = []\n",
    "for i in range(1,10):\n",
    "    name = ''\n",
    "    for i in range(1,7):\n",
    "        name += chr(random.randint(1, 26) + 96)  # Adding 96 to map to lowercase letters\n",
    "    students.append(name)\n",
    "students"
   ]
  },
  {
   "cell_type": "code",
   "execution_count": 78,
   "id": "36b6ddfc",
   "metadata": {},
   "outputs": [],
   "source": [
    "# Use random.randint(1, 26) to generate a random number between 1 and 26\n",
    "# and then convert it to a character using chr()\n",
    "# name += chr(random.randint(1, 26) + 96)  # Adding 96 to map to lowercase letters"
   ]
  },
  {
   "cell_type": "code",
   "execution_count": 79,
   "id": "fa41b5d2",
   "metadata": {},
   "outputs": [],
   "source": [
    "d = dict(zip(usn,students))"
   ]
  },
  {
   "cell_type": "code",
   "execution_count": 80,
   "id": "22aa931e",
   "metadata": {},
   "outputs": [
    {
     "data": {
      "text/plain": [
       "{'4VP20AI001': 'ejlzyr',\n",
       " '4VP20AI002': 'hgsvwa',\n",
       " '4VP20AI003': 'dztugf',\n",
       " '4VP20AI004': 'dhowrx',\n",
       " '4VP20AI005': 'nrppfa',\n",
       " '4VP20AI006': 'shgupk',\n",
       " '4VP20AI007': 'woisfs',\n",
       " '4VP20AI008': 'lubgne',\n",
       " '4VP20AI009': 'iwdujq'}"
      ]
     },
     "execution_count": 80,
     "metadata": {},
     "output_type": "execute_result"
    }
   ],
   "source": [
    "d"
   ]
  },
  {
   "cell_type": "code",
   "execution_count": 81,
   "id": "6e80c2f8",
   "metadata": {},
   "outputs": [
    {
     "data": {
      "text/plain": [
       "'dhowrx'"
      ]
     },
     "execution_count": 81,
     "metadata": {},
     "output_type": "execute_result"
    }
   ],
   "source": [
    "d['4VP20AI004']"
   ]
  },
  {
   "cell_type": "markdown",
   "id": "60edd1a9",
   "metadata": {},
   "source": [
    "# Functions \n",
    "* its name given to a block of code that can be called again and again"
   ]
  },
  {
   "cell_type": "raw",
   "id": "7e632be8",
   "metadata": {},
   "source": [
    "def name(arg1,arg2,arg3,....):            # function definition\n",
    "    codes\n",
    "    for the logic\n",
    "    return value if needed\n",
    "name(value1,value2,value3,.....)           # function call "
   ]
  },
  {
   "cell_type": "code",
   "execution_count": 98,
   "id": "bd0533fd",
   "metadata": {},
   "outputs": [],
   "source": [
    "def hello():\n",
    "    print(\"hello\")"
   ]
  },
  {
   "cell_type": "code",
   "execution_count": 100,
   "id": "4450a3dc",
   "metadata": {},
   "outputs": [
    {
     "name": "stdout",
     "output_type": "stream",
     "text": [
      "hello\n",
      "hello\n"
     ]
    }
   ],
   "source": [
    "hello()\n",
    "hello()"
   ]
  },
  {
   "cell_type": "code",
   "execution_count": 110,
   "id": "da1f8f99",
   "metadata": {},
   "outputs": [
    {
     "name": "stdout",
     "output_type": "stream",
     "text": [
      "hello\n"
     ]
    },
    {
     "data": {
      "text/plain": [
       "NoneType"
      ]
     },
     "execution_count": 110,
     "metadata": {},
     "output_type": "execute_result"
    }
   ],
   "source": [
    "s = hello()\n",
    "type(s)             # none type"
   ]
  },
  {
   "cell_type": "code",
   "execution_count": 101,
   "id": "6bb135dd",
   "metadata": {},
   "outputs": [],
   "source": [
    "def greet(name):\n",
    "    print(f\"Welcome {name}\")"
   ]
  },
  {
   "cell_type": "code",
   "execution_count": 102,
   "id": "12b79080",
   "metadata": {},
   "outputs": [
    {
     "name": "stdout",
     "output_type": "stream",
     "text": [
      "Welcome Shreesha\n",
      "Welcome Rajgopal\n"
     ]
    }
   ],
   "source": [
    "greet(\"Shreesha\")\n",
    "greet(\"Rajgopal\")"
   ]
  },
  {
   "cell_type": "code",
   "execution_count": 103,
   "id": "832547b6",
   "metadata": {},
   "outputs": [],
   "source": [
    "def add(a,b):\n",
    "    return a+b\n",
    "def sub(a,b):\n",
    "    return a-b\n",
    "def mul(a,b):\n",
    "    return a*b\n",
    "def div(a,b):\n",
    "    if b==0:\n",
    "        print(\"Infinity\")\n",
    "        return\n",
    "    return a/b"
   ]
  },
  {
   "cell_type": "code",
   "execution_count": 104,
   "id": "292cb5c9",
   "metadata": {},
   "outputs": [
    {
     "data": {
      "text/plain": [
       "2.0"
      ]
     },
     "execution_count": 104,
     "metadata": {},
     "output_type": "execute_result"
    }
   ],
   "source": [
    "div(10,5)"
   ]
  },
  {
   "cell_type": "code",
   "execution_count": 108,
   "id": "f679c3fa",
   "metadata": {},
   "outputs": [
    {
     "name": "stdout",
     "output_type": "stream",
     "text": [
      "7\n"
     ]
    }
   ],
   "source": [
    "print(sub(10,3))"
   ]
  },
  {
   "cell_type": "code",
   "execution_count": 109,
   "id": "d5642b92",
   "metadata": {
    "scrolled": false
   },
   "outputs": [
    {
     "name": "stdout",
     "output_type": "stream",
     "text": [
      "Infinity\n"
     ]
    }
   ],
   "source": [
    "div(10,0)"
   ]
  },
  {
   "cell_type": "code",
   "execution_count": 114,
   "id": "9c60c06d",
   "metadata": {},
   "outputs": [],
   "source": [
    "# Even or odd number \n",
    "n = 2"
   ]
  },
  {
   "cell_type": "code",
   "execution_count": 116,
   "id": "4b90d48a",
   "metadata": {},
   "outputs": [
    {
     "data": {
      "text/plain": [
       "'even'"
      ]
     },
     "execution_count": 116,
     "metadata": {},
     "output_type": "execute_result"
    }
   ],
   "source": [
    "def check_even_odd(num):\n",
    "    if num%2==0:\n",
    "        return 'even'\n",
    "    else:\n",
    "        return 'odd'\n",
    "\n",
    "check_even_odd(n)"
   ]
  },
  {
   "cell_type": "code",
   "execution_count": 117,
   "id": "b1abb278",
   "metadata": {
    "scrolled": true
   },
   "outputs": [
    {
     "data": {
      "text/plain": [
       "'odd'"
      ]
     },
     "execution_count": 117,
     "metadata": {},
     "output_type": "execute_result"
    }
   ],
   "source": [
    "check_even_odd(1)"
   ]
  },
  {
   "cell_type": "code",
   "execution_count": 119,
   "id": "fa7f95e5",
   "metadata": {},
   "outputs": [
    {
     "data": {
      "text/plain": [
       "15"
      ]
     },
     "execution_count": 119,
     "metadata": {},
     "output_type": "execute_result"
    }
   ],
   "source": [
    "# return statement in any fucntion will only work once then terminate function\n",
    "\n",
    "def summ(l):\n",
    "    s = 0\n",
    "    for i in l:\n",
    "        s += i\n",
    "    return s\n",
    "\n",
    "summ([1,2,3,4,5])"
   ]
  },
  {
   "cell_type": "code",
   "execution_count": 121,
   "id": "4bf61e60",
   "metadata": {},
   "outputs": [
    {
     "name": "stdout",
     "output_type": "stream",
     "text": [
      "Even\n"
     ]
    }
   ],
   "source": [
    "def check_even_odd(num):\n",
    "    if num%2==0:\n",
    "        return 1\n",
    "    else:\n",
    "        return 0\n",
    "\n",
    "if check_even_odd(n) == 1:\n",
    "    print(\"Even\")\n",
    "else:\n",
    "    print(\"Odd\")"
   ]
  },
  {
   "cell_type": "code",
   "execution_count": 127,
   "id": "0f9db884",
   "metadata": {},
   "outputs": [],
   "source": [
    "# divide the list into odd and even list and return it from function\n",
    "\n",
    "lst = [12, 45, 10, 82, 78, 21, 78, 20, 63, 81, 8]\n",
    "\n",
    "def div_list_even_odd(l):\n",
    "    even = [i for i in l if i%2==0]\n",
    "    odd = [i for i in l if i%2!=0]\n",
    "    return even,odd"
   ]
  },
  {
   "cell_type": "code",
   "execution_count": 129,
   "id": "c4041ea8",
   "metadata": {},
   "outputs": [
    {
     "name": "stdout",
     "output_type": "stream",
     "text": [
      "even list is [12, 10, 82, 78, 78, 20, 8] \n",
      "odd list is [45, 21, 63, 81]\n"
     ]
    }
   ],
   "source": [
    "e,o = div_list_even_odd(lst)\n",
    "print(f\"even list is {e} \\nodd list is {o}\")"
   ]
  },
  {
   "cell_type": "markdown",
   "id": "7fd1dd52",
   "metadata": {},
   "source": [
    "## Methods \n",
    "* are also a functions that are inside the class"
   ]
  },
  {
   "cell_type": "code",
   "execution_count": 82,
   "id": "48b2929e",
   "metadata": {},
   "outputs": [
    {
     "data": {
      "text/plain": [
       "'STRING'"
      ]
     },
     "execution_count": 82,
     "metadata": {},
     "output_type": "execute_result"
    }
   ],
   "source": [
    "'string'.upper()"
   ]
  },
  {
   "cell_type": "code",
   "execution_count": 84,
   "id": "a10c5723",
   "metadata": {},
   "outputs": [
    {
     "data": {
      "text/plain": [
       "1"
      ]
     },
     "execution_count": 84,
     "metadata": {},
     "output_type": "execute_result"
    }
   ],
   "source": [
    "'string'.count('s')"
   ]
  },
  {
   "cell_type": "code",
   "execution_count": 89,
   "id": "a4f0bf89",
   "metadata": {},
   "outputs": [],
   "source": [
    "l = [5,72,2,8,44,1,32,5]"
   ]
  },
  {
   "cell_type": "code",
   "execution_count": 91,
   "id": "a5d848c0",
   "metadata": {},
   "outputs": [],
   "source": [
    "l.sort()"
   ]
  },
  {
   "cell_type": "code",
   "execution_count": 92,
   "id": "fbf50a24",
   "metadata": {},
   "outputs": [
    {
     "data": {
      "text/plain": [
       "[1, 2, 5, 5, 8, 32, 44, 72]"
      ]
     },
     "execution_count": 92,
     "metadata": {},
     "output_type": "execute_result"
    }
   ],
   "source": [
    "l"
   ]
  },
  {
   "cell_type": "code",
   "execution_count": 93,
   "id": "30c8f95c",
   "metadata": {},
   "outputs": [],
   "source": [
    "l.sort(reverse=True)"
   ]
  },
  {
   "cell_type": "code",
   "execution_count": 94,
   "id": "f91e7223",
   "metadata": {},
   "outputs": [
    {
     "data": {
      "text/plain": [
       "[72, 44, 32, 8, 5, 5, 2, 1]"
      ]
     },
     "execution_count": 94,
     "metadata": {},
     "output_type": "execute_result"
    }
   ],
   "source": [
    "l"
   ]
  }
 ],
 "metadata": {
  "kernelspec": {
   "display_name": "Python 3 (ipykernel)",
   "language": "python",
   "name": "python3"
  },
  "language_info": {
   "codemirror_mode": {
    "name": "ipython",
    "version": 3
   },
   "file_extension": ".py",
   "mimetype": "text/x-python",
   "name": "python",
   "nbconvert_exporter": "python",
   "pygments_lexer": "ipython3",
   "version": "3.11.4"
  }
 },
 "nbformat": 4,
 "nbformat_minor": 5
}
