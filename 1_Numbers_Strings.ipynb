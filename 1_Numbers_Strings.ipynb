{
 "cells": [
  {
   "cell_type": "markdown",
   "id": "f754e05f",
   "metadata": {},
   "source": [
    "# Numbers"
   ]
  },
  {
   "cell_type": "markdown",
   "id": "2b5d80b8",
   "metadata": {},
   "source": [
    "## To find the type of data type we use -> type()"
   ]
  },
  {
   "cell_type": "code",
   "execution_count": 1,
   "id": "0daadc7f",
   "metadata": {},
   "outputs": [
    {
     "data": {
      "text/plain": [
       "int"
      ]
     },
     "execution_count": 1,
     "metadata": {},
     "output_type": "execute_result"
    }
   ],
   "source": [
    "type(1)"
   ]
  },
  {
   "cell_type": "code",
   "execution_count": 2,
   "id": "b022626f",
   "metadata": {},
   "outputs": [
    {
     "data": {
      "text/plain": [
       "float"
      ]
     },
     "execution_count": 2,
     "metadata": {},
     "output_type": "execute_result"
    }
   ],
   "source": [
    "type(1.4444)"
   ]
  },
  {
   "cell_type": "code",
   "execution_count": 3,
   "id": "69104722",
   "metadata": {},
   "outputs": [
    {
     "data": {
      "text/plain": [
       "str"
      ]
     },
     "execution_count": 3,
     "metadata": {},
     "output_type": "execute_result"
    }
   ],
   "source": [
    "type('')"
   ]
  },
  {
   "cell_type": "code",
   "execution_count": 4,
   "id": "fce34a4d",
   "metadata": {},
   "outputs": [
    {
     "data": {
      "text/plain": [
       "tuple"
      ]
     },
     "execution_count": 4,
     "metadata": {},
     "output_type": "execute_result"
    }
   ],
   "source": [
    "type((1,))"
   ]
  },
  {
   "cell_type": "code",
   "execution_count": 5,
   "id": "be2f365d",
   "metadata": {},
   "outputs": [
    {
     "data": {
      "text/plain": [
       "int"
      ]
     },
     "execution_count": 5,
     "metadata": {},
     "output_type": "execute_result"
    }
   ],
   "source": [
    "type((1))"
   ]
  },
  {
   "cell_type": "code",
   "execution_count": 6,
   "id": "97e3967c",
   "metadata": {},
   "outputs": [
    {
     "data": {
      "text/plain": [
       "list"
      ]
     },
     "execution_count": 6,
     "metadata": {},
     "output_type": "execute_result"
    }
   ],
   "source": [
    "type([])"
   ]
  },
  {
   "cell_type": "code",
   "execution_count": 7,
   "id": "81f05b43",
   "metadata": {},
   "outputs": [
    {
     "data": {
      "text/plain": [
       "dict"
      ]
     },
     "execution_count": 7,
     "metadata": {},
     "output_type": "execute_result"
    }
   ],
   "source": [
    "type({})"
   ]
  },
  {
   "cell_type": "code",
   "execution_count": 8,
   "id": "32fb1246",
   "metadata": {},
   "outputs": [
    {
     "data": {
      "text/plain": [
       "float"
      ]
     },
     "execution_count": 8,
     "metadata": {},
     "output_type": "execute_result"
    }
   ],
   "source": [
    "type(3+5.0)"
   ]
  },
  {
   "cell_type": "code",
   "execution_count": 9,
   "id": "8d6170d2",
   "metadata": {},
   "outputs": [
    {
     "data": {
      "text/plain": [
       "9.0"
      ]
     },
     "execution_count": 9,
     "metadata": {},
     "output_type": "execute_result"
    }
   ],
   "source": [
    "3+6*2/2"
   ]
  },
  {
   "cell_type": "code",
   "execution_count": 10,
   "id": "8393ee11",
   "metadata": {},
   "outputs": [
    {
     "data": {
      "text/plain": [
       "-2"
      ]
     },
     "execution_count": 10,
     "metadata": {},
     "output_type": "execute_result"
    }
   ],
   "source": [
    "5-7"
   ]
  },
  {
   "cell_type": "code",
   "execution_count": 11,
   "id": "05b44ef0",
   "metadata": {},
   "outputs": [
    {
     "data": {
      "text/plain": [
       "4.5"
      ]
     },
     "execution_count": 11,
     "metadata": {},
     "output_type": "execute_result"
    }
   ],
   "source": [
    "9/2  # division with point"
   ]
  },
  {
   "cell_type": "code",
   "execution_count": 12,
   "id": "97ed7d77",
   "metadata": {},
   "outputs": [
    {
     "data": {
      "text/plain": [
       "4"
      ]
     },
     "execution_count": 12,
     "metadata": {},
     "output_type": "execute_result"
    }
   ],
   "source": [
    "9//2  # floor division"
   ]
  },
  {
   "cell_type": "code",
   "execution_count": 13,
   "id": "b0f28489",
   "metadata": {},
   "outputs": [
    {
     "data": {
      "text/plain": [
       "1"
      ]
     },
     "execution_count": 13,
     "metadata": {},
     "output_type": "execute_result"
    }
   ],
   "source": [
    "9%2 # reminder"
   ]
  },
  {
   "cell_type": "code",
   "execution_count": 14,
   "id": "0fc21ecf",
   "metadata": {},
   "outputs": [
    {
     "data": {
      "text/plain": [
       "32"
      ]
     },
     "execution_count": 14,
     "metadata": {},
     "output_type": "execute_result"
    }
   ],
   "source": [
    "2**5   ## power "
   ]
  },
  {
   "cell_type": "code",
   "execution_count": 15,
   "id": "eac1fcc4",
   "metadata": {},
   "outputs": [
    {
     "data": {
      "text/plain": [
       "8.0"
      ]
     },
     "execution_count": 15,
     "metadata": {},
     "output_type": "execute_result"
    }
   ],
   "source": [
    "64 ** 0.5  # square root "
   ]
  },
  {
   "cell_type": "code",
   "execution_count": 17,
   "id": "7ba0bcda",
   "metadata": {},
   "outputs": [
    {
     "data": {
      "text/plain": [
       "3.0"
      ]
     },
     "execution_count": 17,
     "metadata": {},
     "output_type": "execute_result"
    }
   ],
   "source": [
    "27 ** (1/3)"
   ]
  },
  {
   "cell_type": "code",
   "execution_count": 18,
   "id": "3509b444",
   "metadata": {},
   "outputs": [
    {
     "data": {
      "text/plain": [
       "3.9999999999999996"
      ]
     },
     "execution_count": 18,
     "metadata": {},
     "output_type": "execute_result"
    }
   ],
   "source": [
    "64**(1/3)       ## actually it should be 4 "
   ]
  },
  {
   "cell_type": "markdown",
   "id": "8ef159f7",
   "metadata": {},
   "source": [
    "## Type Casting - Changing data type \n",
    "\n",
    "- int\n",
    "- float\n",
    "- str"
   ]
  },
  {
   "cell_type": "code",
   "execution_count": 19,
   "id": "0c23669a",
   "metadata": {},
   "outputs": [
    {
     "data": {
      "text/plain": [
       "3"
      ]
     },
     "execution_count": 19,
     "metadata": {},
     "output_type": "execute_result"
    }
   ],
   "source": [
    "int(3.9)"
   ]
  },
  {
   "cell_type": "code",
   "execution_count": 22,
   "id": "1ba97fab",
   "metadata": {},
   "outputs": [
    {
     "data": {
      "text/plain": [
       "3.0"
      ]
     },
     "execution_count": 22,
     "metadata": {},
     "output_type": "execute_result"
    }
   ],
   "source": [
    "float(3)"
   ]
  },
  {
   "cell_type": "code",
   "execution_count": 23,
   "id": "f2bdd9a7",
   "metadata": {},
   "outputs": [
    {
     "data": {
      "text/plain": [
       "'5'"
      ]
     },
     "execution_count": 23,
     "metadata": {},
     "output_type": "execute_result"
    }
   ],
   "source": [
    "str(5)"
   ]
  },
  {
   "cell_type": "markdown",
   "id": "4f1477cb",
   "metadata": {},
   "source": [
    "## Variables declaration & assignment & case sensitive\n",
    "\n",
    "- Variable cannot start with the numbers \n",
    "- cannot use space in name \n",
    "- can use _\n",
    "- cannot use spacial case \n",
    "- case sensitive\n",
    "- cannot use built in names i.e **keywords** like int , float , type , print,  ..."
   ]
  },
  {
   "cell_type": "code",
   "execution_count": 26,
   "id": "aad29e93",
   "metadata": {},
   "outputs": [],
   "source": [
    "a = 4 \n",
    "b = 1.6\n",
    "c = 'c'"
   ]
  },
  {
   "cell_type": "code",
   "execution_count": 27,
   "id": "e6e100fe",
   "metadata": {},
   "outputs": [
    {
     "data": {
      "text/plain": [
       "4"
      ]
     },
     "execution_count": 27,
     "metadata": {},
     "output_type": "execute_result"
    }
   ],
   "source": [
    "a"
   ]
  },
  {
   "cell_type": "code",
   "execution_count": 28,
   "id": "7d0d197c",
   "metadata": {},
   "outputs": [
    {
     "data": {
      "text/plain": [
       "1.6"
      ]
     },
     "execution_count": 28,
     "metadata": {},
     "output_type": "execute_result"
    }
   ],
   "source": [
    "b"
   ]
  },
  {
   "cell_type": "code",
   "execution_count": 29,
   "id": "f383f059",
   "metadata": {},
   "outputs": [
    {
     "data": {
      "text/plain": [
       "str"
      ]
     },
     "execution_count": 29,
     "metadata": {},
     "output_type": "execute_result"
    }
   ],
   "source": [
    "type(c)"
   ]
  },
  {
   "cell_type": "code",
   "execution_count": 30,
   "id": "4bc329ed",
   "metadata": {},
   "outputs": [],
   "source": [
    "d,e = 5,6"
   ]
  },
  {
   "cell_type": "code",
   "execution_count": 31,
   "id": "d6bc8e8e",
   "metadata": {},
   "outputs": [
    {
     "name": "stdout",
     "output_type": "stream",
     "text": [
      "11\n"
     ]
    }
   ],
   "source": [
    "k = d+e\n",
    "print(k)"
   ]
  },
  {
   "cell_type": "code",
   "execution_count": 34,
   "id": "1a69e945",
   "metadata": {},
   "outputs": [],
   "source": [
    "bina = 10110110"
   ]
  },
  {
   "cell_type": "code",
   "execution_count": 35,
   "id": "5cf5e7b1",
   "metadata": {},
   "outputs": [],
   "source": [
    "bina = 9.3"
   ]
  },
  {
   "cell_type": "code",
   "execution_count": 36,
   "id": "9dd7d773",
   "metadata": {
    "scrolled": true
   },
   "outputs": [
    {
     "data": {
      "text/plain": [
       "9.3"
      ]
     },
     "execution_count": 36,
     "metadata": {},
     "output_type": "execute_result"
    }
   ],
   "source": [
    "bina"
   ]
  },
  {
   "cell_type": "code",
   "execution_count": 40,
   "id": "c469f6d3",
   "metadata": {},
   "outputs": [],
   "source": [
    "A = 10"
   ]
  },
  {
   "cell_type": "code",
   "execution_count": 41,
   "id": "0dff8574",
   "metadata": {},
   "outputs": [],
   "source": [
    "a = 20"
   ]
  },
  {
   "cell_type": "code",
   "execution_count": 42,
   "id": "d36f714a",
   "metadata": {},
   "outputs": [
    {
     "data": {
      "text/plain": [
       "10"
      ]
     },
     "execution_count": 42,
     "metadata": {},
     "output_type": "execute_result"
    }
   ],
   "source": [
    "A"
   ]
  },
  {
   "cell_type": "code",
   "execution_count": 43,
   "id": "320bee9d",
   "metadata": {},
   "outputs": [
    {
     "data": {
      "text/plain": [
       "20"
      ]
     },
     "execution_count": 43,
     "metadata": {},
     "output_type": "execute_result"
    }
   ],
   "source": [
    "a"
   ]
  },
  {
   "cell_type": "markdown",
   "id": "e20a48f7",
   "metadata": {},
   "source": [
    "## Rouding of the values "
   ]
  },
  {
   "cell_type": "code",
   "execution_count": 44,
   "id": "295332ec",
   "metadata": {},
   "outputs": [
    {
     "data": {
      "text/plain": [
       "6"
      ]
     },
     "execution_count": 44,
     "metadata": {},
     "output_type": "execute_result"
    }
   ],
   "source": [
    "round(5.6)"
   ]
  },
  {
   "cell_type": "code",
   "execution_count": 45,
   "id": "78af3203",
   "metadata": {},
   "outputs": [
    {
     "data": {
      "text/plain": [
       "4"
      ]
     },
     "execution_count": 45,
     "metadata": {},
     "output_type": "execute_result"
    }
   ],
   "source": [
    "round(4.3)"
   ]
  },
  {
   "cell_type": "markdown",
   "id": "0d646af9",
   "metadata": {},
   "source": [
    "\n",
    "# Strings \n",
    "\n",
    "sequece of charecter i.e positioning <br>\n",
    "no difference in '' or \"\"\n",
    "\n",
    "- \\ (backslash) is skip sequence"
   ]
  },
  {
   "cell_type": "code",
   "execution_count": 46,
   "id": "c79986c6",
   "metadata": {},
   "outputs": [
    {
     "data": {
      "text/plain": [
       "'hello'"
      ]
     },
     "execution_count": 46,
     "metadata": {},
     "output_type": "execute_result"
    }
   ],
   "source": [
    "'hello'"
   ]
  },
  {
   "cell_type": "code",
   "execution_count": 47,
   "id": "7bc4fba4",
   "metadata": {},
   "outputs": [
    {
     "data": {
      "text/plain": [
       "'helol'"
      ]
     },
     "execution_count": 47,
     "metadata": {},
     "output_type": "execute_result"
    }
   ],
   "source": [
    "'helol'  # change in position i.e index at rach index there is a value charecter"
   ]
  },
  {
   "cell_type": "code",
   "execution_count": 48,
   "id": "f10ec432",
   "metadata": {},
   "outputs": [
    {
     "data": {
      "text/plain": [
       "'ok'"
      ]
     },
     "execution_count": 48,
     "metadata": {},
     "output_type": "execute_result"
    }
   ],
   "source": [
    "\"ok\""
   ]
  },
  {
   "cell_type": "code",
   "execution_count": 55,
   "id": "61b172d6",
   "metadata": {},
   "outputs": [
    {
     "data": {
      "text/plain": [
       "' \\nmultiline\\nstring\\ndocument\\n'"
      ]
     },
     "execution_count": 55,
     "metadata": {},
     "output_type": "execute_result"
    }
   ],
   "source": [
    "# \\n is new line that vanished when printed\n",
    "''' \n",
    "multiline\n",
    "string\n",
    "document\n",
    "'''"
   ]
  },
  {
   "cell_type": "code",
   "execution_count": 50,
   "id": "3f37aea6",
   "metadata": {},
   "outputs": [
    {
     "data": {
      "text/plain": [
       "\"i don't know him\""
      ]
     },
     "execution_count": 50,
     "metadata": {},
     "output_type": "execute_result"
    }
   ],
   "source": [
    "\"i don't know him\""
   ]
  },
  {
   "cell_type": "code",
   "execution_count": 51,
   "id": "1344107f",
   "metadata": {},
   "outputs": [
    {
     "data": {
      "text/plain": [
       "\"i don't know him\""
      ]
     },
     "execution_count": 51,
     "metadata": {},
     "output_type": "execute_result"
    }
   ],
   "source": [
    "'i don\\'t know him'"
   ]
  },
  {
   "cell_type": "markdown",
   "id": "5fe9e3de",
   "metadata": {},
   "source": [
    "## measure length of string"
   ]
  },
  {
   "cell_type": "code",
   "execution_count": 56,
   "id": "41e14507",
   "metadata": {},
   "outputs": [
    {
     "data": {
      "text/plain": [
       "8"
      ]
     },
     "execution_count": 56,
     "metadata": {},
     "output_type": "execute_result"
    }
   ],
   "source": [
    "s = \"Shreesha\"\n",
    "len(s)"
   ]
  },
  {
   "cell_type": "code",
   "execution_count": 57,
   "id": "78971cae",
   "metadata": {},
   "outputs": [
    {
     "data": {
      "text/plain": [
       "2"
      ]
     },
     "execution_count": 57,
     "metadata": {},
     "output_type": "execute_result"
    }
   ],
   "source": [
    "k = '  '\n",
    "len(k)"
   ]
  },
  {
   "cell_type": "markdown",
   "id": "22da5418",
   "metadata": {},
   "source": [
    "### indexing starts from 0"
   ]
  },
  {
   "cell_type": "code",
   "execution_count": 58,
   "id": "9ae05de5",
   "metadata": {},
   "outputs": [
    {
     "data": {
      "text/plain": [
       "'S'"
      ]
     },
     "execution_count": 58,
     "metadata": {},
     "output_type": "execute_result"
    }
   ],
   "source": [
    "s[0]"
   ]
  },
  {
   "cell_type": "code",
   "execution_count": 59,
   "id": "7daf844b",
   "metadata": {},
   "outputs": [
    {
     "data": {
      "text/plain": [
       "'h'"
      ]
     },
     "execution_count": 59,
     "metadata": {},
     "output_type": "execute_result"
    }
   ],
   "source": [
    "s[1]"
   ]
  },
  {
   "cell_type": "code",
   "execution_count": 60,
   "id": "97892414",
   "metadata": {},
   "outputs": [
    {
     "data": {
      "text/plain": [
       "'s'"
      ]
     },
     "execution_count": 60,
     "metadata": {},
     "output_type": "execute_result"
    }
   ],
   "source": [
    "s[5]"
   ]
  },
  {
   "cell_type": "code",
   "execution_count": 61,
   "id": "cce00155",
   "metadata": {},
   "outputs": [
    {
     "data": {
      "text/plain": [
       "'a'"
      ]
     },
     "execution_count": 61,
     "metadata": {},
     "output_type": "execute_result"
    }
   ],
   "source": [
    "s[-1]"
   ]
  },
  {
   "cell_type": "code",
   "execution_count": 65,
   "id": "a97a012f",
   "metadata": {},
   "outputs": [
    {
     "ename": "IndexError",
     "evalue": "string index out of range",
     "output_type": "error",
     "traceback": [
      "\u001b[1;31m---------------------------------------------------------------------------\u001b[0m",
      "\u001b[1;31mIndexError\u001b[0m                                Traceback (most recent call last)",
      "Cell \u001b[1;32mIn[65], line 1\u001b[0m\n\u001b[1;32m----> 1\u001b[0m s[\u001b[38;5;241m10\u001b[39m]\n",
      "\u001b[1;31mIndexError\u001b[0m: string index out of range"
     ]
    }
   ],
   "source": [
    "s[10]      # greater than length of string"
   ]
  },
  {
   "cell_type": "code",
   "execution_count": 66,
   "id": "608c6651",
   "metadata": {},
   "outputs": [
    {
     "data": {
      "text/plain": [
       "'hello\\x00'"
      ]
     },
     "execution_count": 66,
     "metadata": {},
     "output_type": "execute_result"
    }
   ],
   "source": [
    "\"hello\\0\"         # null charecter introducced"
   ]
  },
  {
   "cell_type": "code",
   "execution_count": 68,
   "id": "46f85f7f",
   "metadata": {},
   "outputs": [
    {
     "ename": "TypeError",
     "evalue": "string indices must be integers, not 'str'",
     "output_type": "error",
     "traceback": [
      "\u001b[1;31m---------------------------------------------------------------------------\u001b[0m",
      "\u001b[1;31mTypeError\u001b[0m                                 Traceback (most recent call last)",
      "Cell \u001b[1;32mIn[68], line 1\u001b[0m\n\u001b[1;32m----> 1\u001b[0m s[\u001b[38;5;124m'\u001b[39m\u001b[38;5;124m3\u001b[39m\u001b[38;5;124m'\u001b[39m]\n",
      "\u001b[1;31mTypeError\u001b[0m: string indices must be integers, not 'str'"
     ]
    }
   ],
   "source": [
    "s['3']     # indeces must be interger"
   ]
  },
  {
   "cell_type": "markdown",
   "id": "0b6e92ce",
   "metadata": {},
   "source": [
    "## Slicing of string \n",
    "\n",
    "- from where : till needs to be known - 1   values will be there "
   ]
  },
  {
   "cell_type": "code",
   "execution_count": 69,
   "id": "b2906834",
   "metadata": {},
   "outputs": [],
   "source": [
    "s = 'i love python'"
   ]
  },
  {
   "cell_type": "code",
   "execution_count": 76,
   "id": "3dfd7a64",
   "metadata": {},
   "outputs": [
    {
     "data": {
      "text/plain": [
       "'lov'"
      ]
     },
     "execution_count": 76,
     "metadata": {},
     "output_type": "execute_result"
    }
   ],
   "source": [
    "s[2:5]         # from 2 to 4 . 5 is not considered"
   ]
  },
  {
   "cell_type": "code",
   "execution_count": 73,
   "id": "93adb31f",
   "metadata": {},
   "outputs": [
    {
     "data": {
      "text/plain": [
       "'lo'"
      ]
     },
     "execution_count": 73,
     "metadata": {},
     "output_type": "execute_result"
    }
   ],
   "source": [
    "s[2:4]"
   ]
  },
  {
   "cell_type": "code",
   "execution_count": 74,
   "id": "faedefca",
   "metadata": {},
   "outputs": [
    {
     "data": {
      "text/plain": [
       "''"
      ]
     },
     "execution_count": 74,
     "metadata": {},
     "output_type": "execute_result"
    }
   ],
   "source": [
    "s[4:2]"
   ]
  },
  {
   "cell_type": "code",
   "execution_count": 77,
   "id": "5ae2e53f",
   "metadata": {},
   "outputs": [
    {
     "data": {
      "text/plain": [
       "'i love pytho'"
      ]
     },
     "execution_count": 77,
     "metadata": {},
     "output_type": "execute_result"
    }
   ],
   "source": [
    "s[:-1]             # here -1 i.e laste element is left "
   ]
  },
  {
   "cell_type": "code",
   "execution_count": 78,
   "id": "6ccc1034",
   "metadata": {},
   "outputs": [
    {
     "data": {
      "text/plain": [
       "'ve python'"
      ]
     },
     "execution_count": 78,
     "metadata": {},
     "output_type": "execute_result"
    }
   ],
   "source": [
    "s[4:]       # till the end"
   ]
  },
  {
   "cell_type": "markdown",
   "id": "de276b1e",
   "metadata": {},
   "source": [
    "### [ start_index : end_index : step_size ]"
   ]
  },
  {
   "cell_type": "code",
   "execution_count": 79,
   "id": "90b82d29",
   "metadata": {},
   "outputs": [],
   "source": [
    "k = \"hwllo 123 mike testing @34$$\""
   ]
  },
  {
   "cell_type": "code",
   "execution_count": 81,
   "id": "c8129bd1",
   "metadata": {},
   "outputs": [
    {
     "data": {
      "text/plain": [
       "'hwllo 123 mike testing @34$$'"
      ]
     },
     "execution_count": 81,
     "metadata": {},
     "output_type": "execute_result"
    }
   ],
   "source": [
    "k[::]"
   ]
  },
  {
   "cell_type": "code",
   "execution_count": 83,
   "id": "82aa5074",
   "metadata": {},
   "outputs": [
    {
     "data": {
      "text/plain": [
       "'hwllo 123 mike testing @34$$'"
      ]
     },
     "execution_count": 83,
     "metadata": {},
     "output_type": "execute_result"
    }
   ],
   "source": [
    "k[::1]                      # strp-size-1 i.e step of one same "
   ]
  },
  {
   "cell_type": "code",
   "execution_count": 84,
   "id": "bc623f47",
   "metadata": {},
   "outputs": [
    {
     "data": {
      "text/plain": [
       "'hlo13mk etn 3$'"
      ]
     },
     "execution_count": 84,
     "metadata": {},
     "output_type": "execute_result"
    }
   ],
   "source": [
    "k[::2]"
   ]
  },
  {
   "cell_type": "code",
   "execution_count": 85,
   "id": "8ac68882",
   "metadata": {},
   "outputs": [
    {
     "data": {
      "text/plain": [
       "'$$43@ gnitset ekim 321 ollwh'"
      ]
     },
     "execution_count": 85,
     "metadata": {},
     "output_type": "execute_result"
    }
   ],
   "source": [
    "k[::-1]"
   ]
  },
  {
   "cell_type": "markdown",
   "id": "8043a6d9",
   "metadata": {},
   "source": [
    "## Reverse a string"
   ]
  },
  {
   "cell_type": "code",
   "execution_count": 86,
   "id": "e0fb3b17",
   "metadata": {},
   "outputs": [
    {
     "data": {
      "text/plain": [
       "'olleh'"
      ]
     },
     "execution_count": 86,
     "metadata": {},
     "output_type": "execute_result"
    }
   ],
   "source": [
    "s = 'hello'\n",
    "s[::-1]"
   ]
  },
  {
   "cell_type": "markdown",
   "id": "edef628f",
   "metadata": {},
   "source": [
    "## String properties\n",
    "\n",
    "- can add 2 strings \n",
    "- are immutable"
   ]
  },
  {
   "cell_type": "code",
   "execution_count": 89,
   "id": "a032ad7c",
   "metadata": {},
   "outputs": [
    {
     "data": {
      "text/plain": [
       "'hello'"
      ]
     },
     "execution_count": 89,
     "metadata": {},
     "output_type": "execute_result"
    }
   ],
   "source": [
    "'he' + 'llo'"
   ]
  },
  {
   "cell_type": "code",
   "execution_count": 90,
   "id": "def65d1d",
   "metadata": {},
   "outputs": [],
   "source": [
    "s = 'hello'"
   ]
  },
  {
   "cell_type": "code",
   "execution_count": 91,
   "id": "f36127f0",
   "metadata": {},
   "outputs": [
    {
     "data": {
      "text/plain": [
       "'hello world'"
      ]
     },
     "execution_count": 91,
     "metadata": {},
     "output_type": "execute_result"
    }
   ],
   "source": [
    "s + ' world'"
   ]
  },
  {
   "cell_type": "code",
   "execution_count": 92,
   "id": "02fded73",
   "metadata": {},
   "outputs": [],
   "source": [
    "s = s + ' Shreesha'"
   ]
  },
  {
   "cell_type": "code",
   "execution_count": 93,
   "id": "d461be47",
   "metadata": {},
   "outputs": [
    {
     "data": {
      "text/plain": [
       "'hello Shreesha'"
      ]
     },
     "execution_count": 93,
     "metadata": {},
     "output_type": "execute_result"
    }
   ],
   "source": [
    "s"
   ]
  },
  {
   "cell_type": "code",
   "execution_count": 4,
   "id": "d36ee7a8",
   "metadata": {},
   "outputs": [],
   "source": [
    "s = 'hello world shreesha'"
   ]
  },
  {
   "cell_type": "code",
   "execution_count": 5,
   "id": "98c31276",
   "metadata": {},
   "outputs": [
    {
     "data": {
      "text/plain": [
       "'h'"
      ]
     },
     "execution_count": 5,
     "metadata": {},
     "output_type": "execute_result"
    }
   ],
   "source": [
    "s[0]"
   ]
  },
  {
   "cell_type": "code",
   "execution_count": 6,
   "id": "70d06257",
   "metadata": {},
   "outputs": [
    {
     "ename": "TypeError",
     "evalue": "'str' object does not support item assignment",
     "output_type": "error",
     "traceback": [
      "\u001b[1;31m---------------------------------------------------------------------------\u001b[0m",
      "\u001b[1;31mTypeError\u001b[0m                                 Traceback (most recent call last)",
      "Cell \u001b[1;32mIn[6], line 1\u001b[0m\n\u001b[1;32m----> 1\u001b[0m s[\u001b[38;5;241m0\u001b[39m] \u001b[38;5;241m=\u001b[39m \u001b[38;5;124m'\u001b[39m\u001b[38;5;124mx\u001b[39m\u001b[38;5;124m'\u001b[39m\n",
      "\u001b[1;31mTypeError\u001b[0m: 'str' object does not support item assignment"
     ]
    }
   ],
   "source": [
    "s[0] = 'x'   # Strings are immutable  # cannot modify string "
   ]
  },
  {
   "cell_type": "code",
   "execution_count": 7,
   "id": "6e45310d",
   "metadata": {},
   "outputs": [],
   "source": [
    "s = 'ok'    #can be reassigned but imuutable (not change the string charecters by modify charecters in string)"
   ]
  },
  {
   "cell_type": "markdown",
   "id": "cdad27fb",
   "metadata": {},
   "source": [
    "## string operations "
   ]
  },
  {
   "cell_type": "code",
   "execution_count": 8,
   "id": "ff6ab7b7",
   "metadata": {},
   "outputs": [],
   "source": [
    "s = 'hello'"
   ]
  },
  {
   "cell_type": "code",
   "execution_count": 95,
   "id": "6df7ef81",
   "metadata": {},
   "outputs": [
    {
     "data": {
      "text/plain": [
       "'Hello'"
      ]
     },
     "execution_count": 95,
     "metadata": {},
     "output_type": "execute_result"
    }
   ],
   "source": [
    "s.capitalize()"
   ]
  },
  {
   "cell_type": "code",
   "execution_count": 96,
   "id": "e55a0879",
   "metadata": {},
   "outputs": [
    {
     "data": {
      "text/plain": [
       "'HELLO'"
      ]
     },
     "execution_count": 96,
     "metadata": {},
     "output_type": "execute_result"
    }
   ],
   "source": [
    "s.upper()"
   ]
  },
  {
   "cell_type": "code",
   "execution_count": 97,
   "id": "9ebb6c30",
   "metadata": {},
   "outputs": [
    {
     "data": {
      "text/plain": [
       "'hello'"
      ]
     },
     "execution_count": 97,
     "metadata": {},
     "output_type": "execute_result"
    }
   ],
   "source": [
    "s.lower()"
   ]
  },
  {
   "cell_type": "code",
   "execution_count": 99,
   "id": "d76b896d",
   "metadata": {},
   "outputs": [
    {
     "data": {
      "text/plain": [
       "2"
      ]
     },
     "execution_count": 99,
     "metadata": {},
     "output_type": "execute_result"
    }
   ],
   "source": [
    "s.count('l')"
   ]
  },
  {
   "cell_type": "code",
   "execution_count": 100,
   "id": "c41a5149",
   "metadata": {},
   "outputs": [
    {
     "data": {
      "text/plain": [
       "0"
      ]
     },
     "execution_count": 100,
     "metadata": {},
     "output_type": "execute_result"
    }
   ],
   "source": [
    "s.count('k')"
   ]
  },
  {
   "cell_type": "code",
   "execution_count": 101,
   "id": "e893252d",
   "metadata": {
    "scrolled": true
   },
   "outputs": [
    {
     "data": {
      "text/plain": [
       "4"
      ]
     },
     "execution_count": 101,
     "metadata": {},
     "output_type": "execute_result"
    }
   ],
   "source": [
    "s.index('o')"
   ]
  },
  {
   "cell_type": "code",
   "execution_count": 9,
   "id": "1690ab81",
   "metadata": {},
   "outputs": [
    {
     "data": {
      "text/plain": [
       "False"
      ]
     },
     "execution_count": 9,
     "metadata": {},
     "output_type": "execute_result"
    }
   ],
   "source": [
    "s.isdigit() # to check if its a digit or not"
   ]
  },
  {
   "cell_type": "code",
   "execution_count": 10,
   "id": "a9dbc058",
   "metadata": {
    "collapsed": true
   },
   "outputs": [
    {
     "data": {
      "text/plain": [
       "['__add__',\n",
       " '__class__',\n",
       " '__contains__',\n",
       " '__delattr__',\n",
       " '__dir__',\n",
       " '__doc__',\n",
       " '__eq__',\n",
       " '__format__',\n",
       " '__ge__',\n",
       " '__getattribute__',\n",
       " '__getitem__',\n",
       " '__getnewargs__',\n",
       " '__getstate__',\n",
       " '__gt__',\n",
       " '__hash__',\n",
       " '__init__',\n",
       " '__init_subclass__',\n",
       " '__iter__',\n",
       " '__le__',\n",
       " '__len__',\n",
       " '__lt__',\n",
       " '__mod__',\n",
       " '__mul__',\n",
       " '__ne__',\n",
       " '__new__',\n",
       " '__reduce__',\n",
       " '__reduce_ex__',\n",
       " '__repr__',\n",
       " '__rmod__',\n",
       " '__rmul__',\n",
       " '__setattr__',\n",
       " '__sizeof__',\n",
       " '__str__',\n",
       " '__subclasshook__',\n",
       " 'capitalize',\n",
       " 'casefold',\n",
       " 'center',\n",
       " 'count',\n",
       " 'encode',\n",
       " 'endswith',\n",
       " 'expandtabs',\n",
       " 'find',\n",
       " 'format',\n",
       " 'format_map',\n",
       " 'index',\n",
       " 'isalnum',\n",
       " 'isalpha',\n",
       " 'isascii',\n",
       " 'isdecimal',\n",
       " 'isdigit',\n",
       " 'isidentifier',\n",
       " 'islower',\n",
       " 'isnumeric',\n",
       " 'isprintable',\n",
       " 'isspace',\n",
       " 'istitle',\n",
       " 'isupper',\n",
       " 'join',\n",
       " 'ljust',\n",
       " 'lower',\n",
       " 'lstrip',\n",
       " 'maketrans',\n",
       " 'partition',\n",
       " 'removeprefix',\n",
       " 'removesuffix',\n",
       " 'replace',\n",
       " 'rfind',\n",
       " 'rindex',\n",
       " 'rjust',\n",
       " 'rpartition',\n",
       " 'rsplit',\n",
       " 'rstrip',\n",
       " 'split',\n",
       " 'splitlines',\n",
       " 'startswith',\n",
       " 'strip',\n",
       " 'swapcase',\n",
       " 'title',\n",
       " 'translate',\n",
       " 'upper',\n",
       " 'zfill']"
      ]
     },
     "execution_count": 10,
     "metadata": {},
     "output_type": "execute_result"
    }
   ],
   "source": [
    "# press s. and tab button\n",
    "s. <tab> get all methods "
   ]
  },
  {
   "cell_type": "code",
   "execution_count": 11,
   "id": "88891416",
   "metadata": {},
   "outputs": [
    {
     "data": {
      "text/plain": [
       "True"
      ]
     },
     "execution_count": 11,
     "metadata": {},
     "output_type": "execute_result"
    }
   ],
   "source": [
    "'4'.isdigit()"
   ]
  },
  {
   "cell_type": "code",
   "execution_count": 12,
   "id": "dc9d8647",
   "metadata": {},
   "outputs": [
    {
     "data": {
      "text/plain": [
       "False"
      ]
     },
     "execution_count": 12,
     "metadata": {},
     "output_type": "execute_result"
    }
   ],
   "source": [
    "'4a5'.isalpha()"
   ]
  },
  {
   "cell_type": "code",
   "execution_count": 13,
   "id": "40c02ea4",
   "metadata": {},
   "outputs": [
    {
     "data": {
      "text/plain": [
       "True"
      ]
     },
     "execution_count": 13,
     "metadata": {},
     "output_type": "execute_result"
    }
   ],
   "source": [
    "'abfs'.isalpha()"
   ]
  },
  {
   "cell_type": "code",
   "execution_count": 14,
   "id": "f1f71aa4",
   "metadata": {},
   "outputs": [
    {
     "data": {
      "text/plain": [
       "True"
      ]
     },
     "execution_count": 14,
     "metadata": {},
     "output_type": "execute_result"
    }
   ],
   "source": [
    "'45sa'.isalnum()"
   ]
  },
  {
   "cell_type": "markdown",
   "id": "763dc3ea",
   "metadata": {},
   "source": [
    "# String Printing Formating"
   ]
  },
  {
   "cell_type": "markdown",
   "id": "065dabcd",
   "metadata": {},
   "source": [
    "### f string - replace the values in the string if we put f before the ' or \" and we should use {}"
   ]
  },
  {
   "cell_type": "code",
   "execution_count": 15,
   "id": "1f61f9b1",
   "metadata": {},
   "outputs": [
    {
     "data": {
      "text/plain": [
       "'the value of string is 10 and 20'"
      ]
     },
     "execution_count": 15,
     "metadata": {},
     "output_type": "execute_result"
    }
   ],
   "source": [
    "x = 10\n",
    "y = 20\n",
    "\n",
    "f'the value of string is {x} and {y}'"
   ]
  },
  {
   "cell_type": "markdown",
   "id": "fb106599",
   "metadata": {},
   "source": [
    "### format method "
   ]
  },
  {
   "cell_type": "code",
   "execution_count": 23,
   "id": "31193dcd",
   "metadata": {},
   "outputs": [],
   "source": [
    "name = 'shreesha'"
   ]
  },
  {
   "cell_type": "code",
   "execution_count": 25,
   "id": "dec26dee",
   "metadata": {},
   "outputs": [
    {
     "name": "stdout",
     "output_type": "stream",
     "text": [
      "my name is shreesha\n"
     ]
    }
   ],
   "source": [
    "print('my name is {}'.format(name))"
   ]
  },
  {
   "cell_type": "code",
   "execution_count": 26,
   "id": "4cf0d1b0",
   "metadata": {},
   "outputs": [],
   "source": [
    "a,b,c = 1,2,3"
   ]
  },
  {
   "cell_type": "code",
   "execution_count": 27,
   "id": "88e29bf1",
   "metadata": {},
   "outputs": [
    {
     "data": {
      "text/plain": [
       "'2 and 3 and 1'"
      ]
     },
     "execution_count": 27,
     "metadata": {},
     "output_type": "execute_result"
    }
   ],
   "source": [
    "'{1} and {2} and {0}'.format(a,b,c)"
   ]
  },
  {
   "cell_type": "markdown",
   "id": "be653369",
   "metadata": {},
   "source": [
    "### place holder %d %f %c %s .... "
   ]
  },
  {
   "cell_type": "code",
   "execution_count": 29,
   "id": "3e6c3175",
   "metadata": {},
   "outputs": [],
   "source": [
    "age = 5"
   ]
  },
  {
   "cell_type": "code",
   "execution_count": 41,
   "id": "9e0ed62a",
   "metadata": {},
   "outputs": [
    {
     "name": "stdout",
     "output_type": "stream",
     "text": [
      "my name is 5\n"
     ]
    }
   ],
   "source": [
    "print('my name is %d'%age)"
   ]
  },
  {
   "cell_type": "code",
   "execution_count": 42,
   "id": "ab8b5a0d",
   "metadata": {},
   "outputs": [],
   "source": [
    "# all 5 methods to print "
   ]
  },
  {
   "cell_type": "code",
   "execution_count": 32,
   "id": "6b40d63f",
   "metadata": {},
   "outputs": [],
   "source": [
    "s = 'shreesha'"
   ]
  },
  {
   "cell_type": "code",
   "execution_count": 36,
   "id": "a4da9396",
   "metadata": {},
   "outputs": [
    {
     "name": "stdout",
     "output_type": "stream",
     "text": [
      "my name is shreesha\n"
     ]
    }
   ],
   "source": [
    "print('my name is ' + s)"
   ]
  },
  {
   "cell_type": "code",
   "execution_count": 37,
   "id": "ad1d8057",
   "metadata": {},
   "outputs": [
    {
     "name": "stdout",
     "output_type": "stream",
     "text": [
      "my name is shreesha\n"
     ]
    }
   ],
   "source": [
    "print('my name is',s)"
   ]
  },
  {
   "cell_type": "code",
   "execution_count": 38,
   "id": "9fad7c26",
   "metadata": {},
   "outputs": [
    {
     "name": "stdout",
     "output_type": "stream",
     "text": [
      "my name is shreesha\n"
     ]
    }
   ],
   "source": [
    "print('my name is {}'.format(s))"
   ]
  },
  {
   "cell_type": "code",
   "execution_count": 39,
   "id": "b063a075",
   "metadata": {},
   "outputs": [
    {
     "name": "stdout",
     "output_type": "stream",
     "text": [
      "my name is shreesha\n"
     ]
    }
   ],
   "source": [
    "print(f'my name is {s}')"
   ]
  },
  {
   "cell_type": "code",
   "execution_count": 40,
   "id": "271c974b",
   "metadata": {},
   "outputs": [
    {
     "name": "stdout",
     "output_type": "stream",
     "text": [
      "my name is shreesha\n"
     ]
    }
   ],
   "source": [
    "print('my name is %s'%s)"
   ]
  }
 ],
 "metadata": {
  "kernelspec": {
   "display_name": "Python 3 (ipykernel)",
   "language": "python",
   "name": "python3"
  },
  "language_info": {
   "codemirror_mode": {
    "name": "ipython",
    "version": 3
   },
   "file_extension": ".py",
   "mimetype": "text/x-python",
   "name": "python",
   "nbconvert_exporter": "python",
   "pygments_lexer": "ipython3",
   "version": "3.11.4"
  }
 },
 "nbformat": 4,
 "nbformat_minor": 5
}
