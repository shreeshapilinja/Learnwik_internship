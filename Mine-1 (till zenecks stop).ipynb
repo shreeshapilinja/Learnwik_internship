{
 "cells": [
  {
   "cell_type": "markdown",
   "id": "6f3a138d",
   "metadata": {},
   "source": [
    "# Zenecks Artificial Intelligence and Machine Learining Internship\n",
    "- Mentor is Siddhi Vinayak -> +919028965955  - https://wa.me/919028965955\n",
    "\n",
    "- recordings -> https://docs.google.com/spreadsheets/d/1YFFreW14ozUmPPGNfVO_jSZnF6UaTovM0ECmNGIkvwY/edit?usp=sharing\n",
    "- Datasets -> https://drive.google.com/drive/folders/1vanwR7rht3asH7UH33ZXjFgPYPxaDXQo?usp=sharing\n",
    "- Youtue Channel : https://www.youtube.com/channel/UCsEuzXtC9O77NyQH2HjQj2A\n",
    "- Telegram -> https://t.me/+oE4XKjol-Es3OGI1 \n",
    "- whatsapp -> https://chat.whatsapp.com/FEQIHRQpJSNH01SHjOaudB\n"
   ]
  },
  {
   "cell_type": "markdown",
   "id": "8412aa80",
   "metadata": {},
   "source": [
    "##  October batch session 1 (refer: https://www.youtube.com/watch?v=KvGpi4eOFGc)"
   ]
  },
  {
   "cell_type": "markdown",
   "id": "00379a9e",
   "metadata": {},
   "source": [
    "- Data -> Raw format of values -> anything that is used for commnication -> eg : alpha numerical values , time 7pm to 8pm\n",
    "- Information -> processed format of data-> give some look or draw a graph or chart or formating for data (segemnt sort ..)\n",
    "- Knowledge -> identify some pattern and digging from information (imp for taking decisions) (information used for something)\n",
    "- Observations -> Data analysis -> for decision making  (eg: place where no sales - need of markeing)\n",
    "- Visualization -> converting data to pictorial format -> pie chart , bar chart ..   \n",
    "- Interpretations -> meaning full sentences about data -> For understating the graph for new people we should describe it (data analyist to manager) Data analysist collecting and analysing the data is Data Science \n",
    "- Insights ->(eg: manager to senior due to admision our sales are more it may not be like this after some days this is insight)\n",
    "- Machine learning -> Do this collection and analysis repititive task are automatically done by machine (data needed to give)\n",
    "- Data mining -> analyse the pattern in data\n",
    "- Artificial Inteligence -> no need of data they are all collected by itself and analysis and all done by itself (its own intelligence)"
   ]
  },
  {
   "cell_type": "markdown",
   "id": "0e446ded",
   "metadata": {},
   "source": [
    "## October batch session 2 (refer: https://www.youtube.com/watch?v=0nnpwKO8NyA)\n",
    "\n",
    "### Data Analysis (analysing the data)\n",
    "\n",
    "#### Data Cycle \n",
    "Data -> analysis -> Decisions \n",
    "\n",
    "- Data -> alpha , numeric , images, audio , video.....\n",
    "\n",
    "#### Data Analysis (6 stages)\n",
    "\n",
    "1. Data Collection -> online or offline , collect details data using various tools like google form , ....\n",
    "2. Data Interation -> data collected from various places or same data needs to combined or integrate it according to need\n",
    "3. Relavent Data Retreval ->There are many data that is repeated and not needed so from those data take data that is only needed\n",
    "4. Data Preprocessing -> Handel the values thats is missing or blank values or some errors \n",
    "5. Data Analysis and Data Visualization -> Analyiss of data and draw the graph and charts \n",
    "6. Insights and Descision making -> Conclutions and what should be done using that i,e descision\n",
    "\n",
    "- Eg: for above (from yesterday how much more or less orders are there) - observe - > exploratory analysis -> insights \n",
    "<br>\n",
    "- few data - > less accuracy\n",
    "- more data or days teaching -> more accuracy\n",
    "<br>\n",
    "- Primary data -> Data is collected by me \n",
    "- Secondary data -> Data is collected by someone else (for whom its Primary data) is taken by me for me data is secondary\n",
    "\n",
    "###  Type of Data \n",
    "\n",
    "1. Stuctured Data -> Table format -> organized \n",
    "2. Semi-Stuctured Data -> json , music , Email \n",
    "3. Unstructured Data -> Text , Articles , Images \n",
    "\n",
    "#### In preprocesing we can replace Null values with mean , median , 0 , random values \n",
    "\n",
    "###  Categories of Machine Learnning \n",
    "- Supervised -> Labeled data\n",
    "- Unsupervisied -> Unlabeled data\n",
    "- Reinforement Learning : Where we do not know anything but learn from experience and getting points like eg: + point when good  and - point when bad happend -> child walking , robot example hot and cold "
   ]
  },
  {
   "cell_type": "markdown",
   "id": "4df6ac88",
   "metadata": {},
   "source": [
    "## October batch session 3 (refer: https://www.youtube.com/watch?v=woqUbweeokE)\n",
    "\n",
    "- comments in python i.e # is used for comments to tell about the code and why we have written this code \n",
    "- Simple Mathametical Calculations \n",
    "- Shift + enter for running the code \n",
    "- Anaconda Install and Jupyter notebook"
   ]
  },
  {
   "cell_type": "code",
   "execution_count": 1,
   "id": "bc48a4eb",
   "metadata": {},
   "outputs": [
    {
     "data": {
      "text/plain": [
       "4"
      ]
     },
     "execution_count": 1,
     "metadata": {},
     "output_type": "execute_result"
    }
   ],
   "source": [
    "2+2 # example for addition "
   ]
  },
  {
   "cell_type": "code",
   "execution_count": 2,
   "id": "2509f532",
   "metadata": {},
   "outputs": [
    {
     "data": {
      "text/plain": [
       "1"
      ]
     },
     "execution_count": 2,
     "metadata": {},
     "output_type": "execute_result"
    }
   ],
   "source": [
    "5%2  # get the reminder"
   ]
  },
  {
   "cell_type": "code",
   "execution_count": 3,
   "id": "547215cd",
   "metadata": {},
   "outputs": [
    {
     "data": {
      "text/plain": [
       "8"
      ]
     },
     "execution_count": 3,
     "metadata": {},
     "output_type": "execute_result"
    }
   ],
   "source": [
    "2*4 # Multiplication"
   ]
  },
  {
   "cell_type": "code",
   "execution_count": 4,
   "id": "2c233131",
   "metadata": {},
   "outputs": [
    {
     "data": {
      "text/plain": [
       "25"
      ]
     },
     "execution_count": 4,
     "metadata": {},
     "output_type": "execute_result"
    }
   ],
   "source": [
    "5 ** 2  # power funtions "
   ]
  },
  {
   "cell_type": "code",
   "execution_count": 5,
   "id": "4eff6c0a",
   "metadata": {},
   "outputs": [
    {
     "data": {
      "text/plain": [
       "22.5"
      ]
     },
     "execution_count": 5,
     "metadata": {},
     "output_type": "execute_result"
    }
   ],
   "source": [
    "45/2   # division"
   ]
  },
  {
   "cell_type": "markdown",
   "id": "737f2ed2",
   "metadata": {},
   "source": [
    "Data is Raw kind of informations \n",
    "\n",
    "### Analysis\n",
    "(based on Intentions of analysis)\n",
    "\n",
    "1. Descriptive Analysis -> Describe what ever is written or there in the dataset. Given file what is there in that file \n",
    "2. Predictive Analysis -> Based on that data you want to predict some thing.\n",
    "3. Diagnosis Analysis -> If we want to diagnois some thing \n",
    "4. Prescriptive Analysis -> \n",
    "5. Exploratory Analysis -> \n",
    "<br>\n",
    "eg: Big basket vegitable -> ordered time and delevered time .... and many details "
   ]
  },
  {
   "cell_type": "markdown",
   "id": "59d7740d",
   "metadata": {},
   "source": [
    "## October batch session 4 (refer: https://www.youtube.com/watch?v=OMLfnUb8I10 )\n",
    "\n",
    "### Dataset from Kaggle ( advertising.csv )\n",
    "- 5 columns [Region,TV,Radio,Newspaper,Sales]\n",
    "- Region is like Serial Numer \n",
    "- TV,Radio,Newspaper Marketing channels (some values are NaN or not there)\n",
    "- Learn About Data importing , Data Overview and Basic Descriptive analysis"
   ]
  },
  {
   "cell_type": "code",
   "execution_count": 16,
   "id": "5d14ea86",
   "metadata": {},
   "outputs": [
    {
     "data": {
      "text/html": [
       "<div>\n",
       "<style scoped>\n",
       "    .dataframe tbody tr th:only-of-type {\n",
       "        vertical-align: middle;\n",
       "    }\n",
       "\n",
       "    .dataframe tbody tr th {\n",
       "        vertical-align: top;\n",
       "    }\n",
       "\n",
       "    .dataframe thead th {\n",
       "        text-align: right;\n",
       "    }\n",
       "</style>\n",
       "<table border=\"1\" class=\"dataframe\">\n",
       "  <thead>\n",
       "    <tr style=\"text-align: right;\">\n",
       "      <th></th>\n",
       "      <th>Region</th>\n",
       "      <th>TV</th>\n",
       "      <th>Radio</th>\n",
       "      <th>Newspaper</th>\n",
       "      <th>Sales</th>\n",
       "    </tr>\n",
       "  </thead>\n",
       "  <tbody>\n",
       "    <tr>\n",
       "      <th>0</th>\n",
       "      <td>1</td>\n",
       "      <td>230.1</td>\n",
       "      <td>37.8</td>\n",
       "      <td>69.2</td>\n",
       "      <td>22.1</td>\n",
       "    </tr>\n",
       "    <tr>\n",
       "      <th>1</th>\n",
       "      <td>2</td>\n",
       "      <td>44.5</td>\n",
       "      <td>39.3</td>\n",
       "      <td>45.1</td>\n",
       "      <td>10.4</td>\n",
       "    </tr>\n",
       "    <tr>\n",
       "      <th>2</th>\n",
       "      <td>3</td>\n",
       "      <td>17.2</td>\n",
       "      <td>45.9</td>\n",
       "      <td>69.3</td>\n",
       "      <td>9.3</td>\n",
       "    </tr>\n",
       "    <tr>\n",
       "      <th>3</th>\n",
       "      <td>4</td>\n",
       "      <td>151.5</td>\n",
       "      <td>41.3</td>\n",
       "      <td>58.5</td>\n",
       "      <td>18.5</td>\n",
       "    </tr>\n",
       "    <tr>\n",
       "      <th>4</th>\n",
       "      <td>5</td>\n",
       "      <td>180.8</td>\n",
       "      <td>10.8</td>\n",
       "      <td>58.4</td>\n",
       "      <td>12.9</td>\n",
       "    </tr>\n",
       "  </tbody>\n",
       "</table>\n",
       "</div>"
      ],
      "text/plain": [
       "   Region     TV  Radio  Newspaper  Sales\n",
       "0       1  230.1   37.8       69.2   22.1\n",
       "1       2   44.5   39.3       45.1   10.4\n",
       "2       3   17.2   45.9       69.3    9.3\n",
       "3       4  151.5   41.3       58.5   18.5\n",
       "4       5  180.8   10.8       58.4   12.9"
      ]
     },
     "execution_count": 16,
     "metadata": {},
     "output_type": "execute_result"
    }
   ],
   "source": [
    "# import Libraries \n",
    "import pandas as pd   #  deals with alpha numerial calculations or values \n",
    "import numpy as np   # deals with maths operation and stats \n",
    "\n",
    "# import datasets \n",
    "# convert this \"D:\\Zenecks_Internship\\datasets\\\" to \"D:/Zenecks_Internship/datasets/\"  by absolute path\n",
    "\n",
    "file = pd.read_csv('./datasets/advertising.csv')\n",
    "file.head()      # head to see 1st 5 rows by default"
   ]
  },
  {
   "cell_type": "code",
   "execution_count": 17,
   "id": "cf2a5d9e",
   "metadata": {},
   "outputs": [
    {
     "data": {
      "text/html": [
       "<div>\n",
       "<style scoped>\n",
       "    .dataframe tbody tr th:only-of-type {\n",
       "        vertical-align: middle;\n",
       "    }\n",
       "\n",
       "    .dataframe tbody tr th {\n",
       "        vertical-align: top;\n",
       "    }\n",
       "\n",
       "    .dataframe thead th {\n",
       "        text-align: right;\n",
       "    }\n",
       "</style>\n",
       "<table border=\"1\" class=\"dataframe\">\n",
       "  <thead>\n",
       "    <tr style=\"text-align: right;\">\n",
       "      <th></th>\n",
       "      <th>Region</th>\n",
       "      <th>TV</th>\n",
       "      <th>Radio</th>\n",
       "      <th>Newspaper</th>\n",
       "      <th>Sales</th>\n",
       "    </tr>\n",
       "  </thead>\n",
       "  <tbody>\n",
       "    <tr>\n",
       "      <th>0</th>\n",
       "      <td>1</td>\n",
       "      <td>230.1</td>\n",
       "      <td>37.8</td>\n",
       "      <td>69.2</td>\n",
       "      <td>22.1</td>\n",
       "    </tr>\n",
       "    <tr>\n",
       "      <th>1</th>\n",
       "      <td>2</td>\n",
       "      <td>44.5</td>\n",
       "      <td>39.3</td>\n",
       "      <td>45.1</td>\n",
       "      <td>10.4</td>\n",
       "    </tr>\n",
       "    <tr>\n",
       "      <th>2</th>\n",
       "      <td>3</td>\n",
       "      <td>17.2</td>\n",
       "      <td>45.9</td>\n",
       "      <td>69.3</td>\n",
       "      <td>9.3</td>\n",
       "    </tr>\n",
       "    <tr>\n",
       "      <th>3</th>\n",
       "      <td>4</td>\n",
       "      <td>151.5</td>\n",
       "      <td>41.3</td>\n",
       "      <td>58.5</td>\n",
       "      <td>18.5</td>\n",
       "    </tr>\n",
       "    <tr>\n",
       "      <th>4</th>\n",
       "      <td>5</td>\n",
       "      <td>180.8</td>\n",
       "      <td>10.8</td>\n",
       "      <td>58.4</td>\n",
       "      <td>12.9</td>\n",
       "    </tr>\n",
       "    <tr>\n",
       "      <th>5</th>\n",
       "      <td>6</td>\n",
       "      <td>8.7</td>\n",
       "      <td>48.9</td>\n",
       "      <td>75.0</td>\n",
       "      <td>7.2</td>\n",
       "    </tr>\n",
       "    <tr>\n",
       "      <th>6</th>\n",
       "      <td>7</td>\n",
       "      <td>57.5</td>\n",
       "      <td>32.8</td>\n",
       "      <td>23.5</td>\n",
       "      <td>11.8</td>\n",
       "    </tr>\n",
       "    <tr>\n",
       "      <th>7</th>\n",
       "      <td>8</td>\n",
       "      <td>120.2</td>\n",
       "      <td>19.6</td>\n",
       "      <td>11.6</td>\n",
       "      <td>13.2</td>\n",
       "    </tr>\n",
       "    <tr>\n",
       "      <th>8</th>\n",
       "      <td>9</td>\n",
       "      <td>8.6</td>\n",
       "      <td>NaN</td>\n",
       "      <td>1.0</td>\n",
       "      <td>4.8</td>\n",
       "    </tr>\n",
       "    <tr>\n",
       "      <th>9</th>\n",
       "      <td>10</td>\n",
       "      <td>199.8</td>\n",
       "      <td>2.6</td>\n",
       "      <td>21.2</td>\n",
       "      <td>10.6</td>\n",
       "    </tr>\n",
       "  </tbody>\n",
       "</table>\n",
       "</div>"
      ],
      "text/plain": [
       "   Region     TV  Radio  Newspaper  Sales\n",
       "0       1  230.1   37.8       69.2   22.1\n",
       "1       2   44.5   39.3       45.1   10.4\n",
       "2       3   17.2   45.9       69.3    9.3\n",
       "3       4  151.5   41.3       58.5   18.5\n",
       "4       5  180.8   10.8       58.4   12.9\n",
       "5       6    8.7   48.9       75.0    7.2\n",
       "6       7   57.5   32.8       23.5   11.8\n",
       "7       8  120.2   19.6       11.6   13.2\n",
       "8       9    8.6    NaN        1.0    4.8\n",
       "9      10  199.8    2.6       21.2   10.6"
      ]
     },
     "execution_count": 17,
     "metadata": {},
     "output_type": "execute_result"
    }
   ],
   "source": [
    "# to see 10 rows \n",
    "file.head(10)"
   ]
  },
  {
   "cell_type": "code",
   "execution_count": 18,
   "id": "e96d325f",
   "metadata": {},
   "outputs": [],
   "source": [
    "# do the analysis on some path of the data and then do the same on remaing data this may be intention some time "
   ]
  },
  {
   "cell_type": "code",
   "execution_count": 19,
   "id": "ce4d6849",
   "metadata": {},
   "outputs": [
    {
     "data": {
      "text/plain": [
       "(200, 5)"
      ]
     },
     "execution_count": 19,
     "metadata": {},
     "output_type": "execute_result"
    }
   ],
   "source": [
    "file.shape  # shape of my dataset (rows , columns )"
   ]
  },
  {
   "cell_type": "markdown",
   "id": "5cc1d75b",
   "metadata": {},
   "source": [
    "- The given data is about sample advertising in different locations using TV, radio and newspaper channels \n",
    "- In this dataset our target variable is sales column\n",
    "- There are independent variable and dependent variable \n",
    "- independent variable -> there is no other variable that are effecting the values of the variabble [TV,Radio,Newspaper]\n",
    "- dependent variable -> based on TV,Radio,Newspaper these values [Sales] variable or value will be effected \n",
    "\n",
    "### Problem Statement\n",
    "- In this project we have to analyse dependency of sales on TV, radio and newspaper channel\n",
    "\n",
    "####  Data preperation process\n",
    "- In Preprocessing (cleaning our dataset)\n",
    "1. identify and remove irrelevant dataset (here region column is not required)\n",
    "2. Dealing with missing values (NaN values needs to be filled with values -> mean , median , 0 , random beased on usecase)"
   ]
  },
  {
   "cell_type": "code",
   "execution_count": 20,
   "id": "53141197",
   "metadata": {},
   "outputs": [
    {
     "data": {
      "text/html": [
       "<div>\n",
       "<style scoped>\n",
       "    .dataframe tbody tr th:only-of-type {\n",
       "        vertical-align: middle;\n",
       "    }\n",
       "\n",
       "    .dataframe tbody tr th {\n",
       "        vertical-align: top;\n",
       "    }\n",
       "\n",
       "    .dataframe thead th {\n",
       "        text-align: right;\n",
       "    }\n",
       "</style>\n",
       "<table border=\"1\" class=\"dataframe\">\n",
       "  <thead>\n",
       "    <tr style=\"text-align: right;\">\n",
       "      <th></th>\n",
       "      <th>TV</th>\n",
       "      <th>Radio</th>\n",
       "      <th>Newspaper</th>\n",
       "      <th>Sales</th>\n",
       "    </tr>\n",
       "  </thead>\n",
       "  <tbody>\n",
       "    <tr>\n",
       "      <th>0</th>\n",
       "      <td>230.1</td>\n",
       "      <td>37.8</td>\n",
       "      <td>69.2</td>\n",
       "      <td>22.1</td>\n",
       "    </tr>\n",
       "    <tr>\n",
       "      <th>1</th>\n",
       "      <td>44.5</td>\n",
       "      <td>39.3</td>\n",
       "      <td>45.1</td>\n",
       "      <td>10.4</td>\n",
       "    </tr>\n",
       "    <tr>\n",
       "      <th>2</th>\n",
       "      <td>17.2</td>\n",
       "      <td>45.9</td>\n",
       "      <td>69.3</td>\n",
       "      <td>9.3</td>\n",
       "    </tr>\n",
       "    <tr>\n",
       "      <th>3</th>\n",
       "      <td>151.5</td>\n",
       "      <td>41.3</td>\n",
       "      <td>58.5</td>\n",
       "      <td>18.5</td>\n",
       "    </tr>\n",
       "    <tr>\n",
       "      <th>4</th>\n",
       "      <td>180.8</td>\n",
       "      <td>10.8</td>\n",
       "      <td>58.4</td>\n",
       "      <td>12.9</td>\n",
       "    </tr>\n",
       "    <tr>\n",
       "      <th>...</th>\n",
       "      <td>...</td>\n",
       "      <td>...</td>\n",
       "      <td>...</td>\n",
       "      <td>...</td>\n",
       "    </tr>\n",
       "    <tr>\n",
       "      <th>195</th>\n",
       "      <td>38.2</td>\n",
       "      <td>3.7</td>\n",
       "      <td>13.8</td>\n",
       "      <td>7.6</td>\n",
       "    </tr>\n",
       "    <tr>\n",
       "      <th>196</th>\n",
       "      <td>94.2</td>\n",
       "      <td>4.9</td>\n",
       "      <td>8.1</td>\n",
       "      <td>9.7</td>\n",
       "    </tr>\n",
       "    <tr>\n",
       "      <th>197</th>\n",
       "      <td>177.0</td>\n",
       "      <td>9.3</td>\n",
       "      <td>6.4</td>\n",
       "      <td>12.8</td>\n",
       "    </tr>\n",
       "    <tr>\n",
       "      <th>198</th>\n",
       "      <td>283.6</td>\n",
       "      <td>42.0</td>\n",
       "      <td>66.2</td>\n",
       "      <td>25.5</td>\n",
       "    </tr>\n",
       "    <tr>\n",
       "      <th>199</th>\n",
       "      <td>232.1</td>\n",
       "      <td>8.6</td>\n",
       "      <td>8.7</td>\n",
       "      <td>13.4</td>\n",
       "    </tr>\n",
       "  </tbody>\n",
       "</table>\n",
       "<p>200 rows × 4 columns</p>\n",
       "</div>"
      ],
      "text/plain": [
       "        TV  Radio  Newspaper  Sales\n",
       "0    230.1   37.8       69.2   22.1\n",
       "1     44.5   39.3       45.1   10.4\n",
       "2     17.2   45.9       69.3    9.3\n",
       "3    151.5   41.3       58.5   18.5\n",
       "4    180.8   10.8       58.4   12.9\n",
       "..     ...    ...        ...    ...\n",
       "195   38.2    3.7       13.8    7.6\n",
       "196   94.2    4.9        8.1    9.7\n",
       "197  177.0    9.3        6.4   12.8\n",
       "198  283.6   42.0       66.2   25.5\n",
       "199  232.1    8.6        8.7   13.4\n",
       "\n",
       "[200 rows x 4 columns]"
      ]
     },
     "execution_count": 20,
     "metadata": {},
     "output_type": "execute_result"
    }
   ],
   "source": [
    "# identify and remove irrelevant dataset  (remove the region column so axis - 1)\n",
    "\n",
    "file.drop(\"Region\", axis = 1)      # axis = 1 is indicating y axis (verticle axis)   axis = 0 indicates x-axis (horizontal axis)"
   ]
  },
  {
   "cell_type": "code",
   "execution_count": 22,
   "id": "50fae83f",
   "metadata": {},
   "outputs": [
    {
     "data": {
      "text/html": [
       "<div>\n",
       "<style scoped>\n",
       "    .dataframe tbody tr th:only-of-type {\n",
       "        vertical-align: middle;\n",
       "    }\n",
       "\n",
       "    .dataframe tbody tr th {\n",
       "        vertical-align: top;\n",
       "    }\n",
       "\n",
       "    .dataframe thead th {\n",
       "        text-align: right;\n",
       "    }\n",
       "</style>\n",
       "<table border=\"1\" class=\"dataframe\">\n",
       "  <thead>\n",
       "    <tr style=\"text-align: right;\">\n",
       "      <th></th>\n",
       "      <th>Region</th>\n",
       "      <th>TV</th>\n",
       "      <th>Radio</th>\n",
       "      <th>Newspaper</th>\n",
       "      <th>Sales</th>\n",
       "    </tr>\n",
       "  </thead>\n",
       "  <tbody>\n",
       "    <tr>\n",
       "      <th>0</th>\n",
       "      <td>1</td>\n",
       "      <td>230.1</td>\n",
       "      <td>37.8</td>\n",
       "      <td>69.2</td>\n",
       "      <td>22.1</td>\n",
       "    </tr>\n",
       "    <tr>\n",
       "      <th>1</th>\n",
       "      <td>2</td>\n",
       "      <td>44.5</td>\n",
       "      <td>39.3</td>\n",
       "      <td>45.1</td>\n",
       "      <td>10.4</td>\n",
       "    </tr>\n",
       "    <tr>\n",
       "      <th>2</th>\n",
       "      <td>3</td>\n",
       "      <td>17.2</td>\n",
       "      <td>45.9</td>\n",
       "      <td>69.3</td>\n",
       "      <td>9.3</td>\n",
       "    </tr>\n",
       "    <tr>\n",
       "      <th>3</th>\n",
       "      <td>4</td>\n",
       "      <td>151.5</td>\n",
       "      <td>41.3</td>\n",
       "      <td>58.5</td>\n",
       "      <td>18.5</td>\n",
       "    </tr>\n",
       "    <tr>\n",
       "      <th>4</th>\n",
       "      <td>5</td>\n",
       "      <td>180.8</td>\n",
       "      <td>10.8</td>\n",
       "      <td>58.4</td>\n",
       "      <td>12.9</td>\n",
       "    </tr>\n",
       "    <tr>\n",
       "      <th>...</th>\n",
       "      <td>...</td>\n",
       "      <td>...</td>\n",
       "      <td>...</td>\n",
       "      <td>...</td>\n",
       "      <td>...</td>\n",
       "    </tr>\n",
       "    <tr>\n",
       "      <th>195</th>\n",
       "      <td>196</td>\n",
       "      <td>38.2</td>\n",
       "      <td>3.7</td>\n",
       "      <td>13.8</td>\n",
       "      <td>7.6</td>\n",
       "    </tr>\n",
       "    <tr>\n",
       "      <th>196</th>\n",
       "      <td>197</td>\n",
       "      <td>94.2</td>\n",
       "      <td>4.9</td>\n",
       "      <td>8.1</td>\n",
       "      <td>9.7</td>\n",
       "    </tr>\n",
       "    <tr>\n",
       "      <th>197</th>\n",
       "      <td>198</td>\n",
       "      <td>177.0</td>\n",
       "      <td>9.3</td>\n",
       "      <td>6.4</td>\n",
       "      <td>12.8</td>\n",
       "    </tr>\n",
       "    <tr>\n",
       "      <th>198</th>\n",
       "      <td>199</td>\n",
       "      <td>283.6</td>\n",
       "      <td>42.0</td>\n",
       "      <td>66.2</td>\n",
       "      <td>25.5</td>\n",
       "    </tr>\n",
       "    <tr>\n",
       "      <th>199</th>\n",
       "      <td>200</td>\n",
       "      <td>232.1</td>\n",
       "      <td>8.6</td>\n",
       "      <td>8.7</td>\n",
       "      <td>13.4</td>\n",
       "    </tr>\n",
       "  </tbody>\n",
       "</table>\n",
       "<p>200 rows × 5 columns</p>\n",
       "</div>"
      ],
      "text/plain": [
       "     Region     TV  Radio  Newspaper  Sales\n",
       "0         1  230.1   37.8       69.2   22.1\n",
       "1         2   44.5   39.3       45.1   10.4\n",
       "2         3   17.2   45.9       69.3    9.3\n",
       "3         4  151.5   41.3       58.5   18.5\n",
       "4         5  180.8   10.8       58.4   12.9\n",
       "..      ...    ...    ...        ...    ...\n",
       "195     196   38.2    3.7       13.8    7.6\n",
       "196     197   94.2    4.9        8.1    9.7\n",
       "197     198  177.0    9.3        6.4   12.8\n",
       "198     199  283.6   42.0       66.2   25.5\n",
       "199     200  232.1    8.6        8.7   13.4\n",
       "\n",
       "[200 rows x 5 columns]"
      ]
     },
     "execution_count": 22,
     "metadata": {},
     "output_type": "execute_result"
    }
   ],
   "source": [
    "file   # here from the main data the Region is not deleted "
   ]
  },
  {
   "cell_type": "code",
   "execution_count": 23,
   "id": "7bec8102",
   "metadata": {},
   "outputs": [
    {
     "data": {
      "text/html": [
       "<div>\n",
       "<style scoped>\n",
       "    .dataframe tbody tr th:only-of-type {\n",
       "        vertical-align: middle;\n",
       "    }\n",
       "\n",
       "    .dataframe tbody tr th {\n",
       "        vertical-align: top;\n",
       "    }\n",
       "\n",
       "    .dataframe thead th {\n",
       "        text-align: right;\n",
       "    }\n",
       "</style>\n",
       "<table border=\"1\" class=\"dataframe\">\n",
       "  <thead>\n",
       "    <tr style=\"text-align: right;\">\n",
       "      <th></th>\n",
       "      <th>Region</th>\n",
       "      <th>TV</th>\n",
       "      <th>Radio</th>\n",
       "      <th>Newspaper</th>\n",
       "      <th>Sales</th>\n",
       "    </tr>\n",
       "  </thead>\n",
       "  <tbody>\n",
       "    <tr>\n",
       "      <th>1</th>\n",
       "      <td>2</td>\n",
       "      <td>44.5</td>\n",
       "      <td>39.3</td>\n",
       "      <td>45.1</td>\n",
       "      <td>10.4</td>\n",
       "    </tr>\n",
       "    <tr>\n",
       "      <th>2</th>\n",
       "      <td>3</td>\n",
       "      <td>17.2</td>\n",
       "      <td>45.9</td>\n",
       "      <td>69.3</td>\n",
       "      <td>9.3</td>\n",
       "    </tr>\n",
       "    <tr>\n",
       "      <th>3</th>\n",
       "      <td>4</td>\n",
       "      <td>151.5</td>\n",
       "      <td>41.3</td>\n",
       "      <td>58.5</td>\n",
       "      <td>18.5</td>\n",
       "    </tr>\n",
       "    <tr>\n",
       "      <th>4</th>\n",
       "      <td>5</td>\n",
       "      <td>180.8</td>\n",
       "      <td>10.8</td>\n",
       "      <td>58.4</td>\n",
       "      <td>12.9</td>\n",
       "    </tr>\n",
       "    <tr>\n",
       "      <th>5</th>\n",
       "      <td>6</td>\n",
       "      <td>8.7</td>\n",
       "      <td>48.9</td>\n",
       "      <td>75.0</td>\n",
       "      <td>7.2</td>\n",
       "    </tr>\n",
       "    <tr>\n",
       "      <th>...</th>\n",
       "      <td>...</td>\n",
       "      <td>...</td>\n",
       "      <td>...</td>\n",
       "      <td>...</td>\n",
       "      <td>...</td>\n",
       "    </tr>\n",
       "    <tr>\n",
       "      <th>195</th>\n",
       "      <td>196</td>\n",
       "      <td>38.2</td>\n",
       "      <td>3.7</td>\n",
       "      <td>13.8</td>\n",
       "      <td>7.6</td>\n",
       "    </tr>\n",
       "    <tr>\n",
       "      <th>196</th>\n",
       "      <td>197</td>\n",
       "      <td>94.2</td>\n",
       "      <td>4.9</td>\n",
       "      <td>8.1</td>\n",
       "      <td>9.7</td>\n",
       "    </tr>\n",
       "    <tr>\n",
       "      <th>197</th>\n",
       "      <td>198</td>\n",
       "      <td>177.0</td>\n",
       "      <td>9.3</td>\n",
       "      <td>6.4</td>\n",
       "      <td>12.8</td>\n",
       "    </tr>\n",
       "    <tr>\n",
       "      <th>198</th>\n",
       "      <td>199</td>\n",
       "      <td>283.6</td>\n",
       "      <td>42.0</td>\n",
       "      <td>66.2</td>\n",
       "      <td>25.5</td>\n",
       "    </tr>\n",
       "    <tr>\n",
       "      <th>199</th>\n",
       "      <td>200</td>\n",
       "      <td>232.1</td>\n",
       "      <td>8.6</td>\n",
       "      <td>8.7</td>\n",
       "      <td>13.4</td>\n",
       "    </tr>\n",
       "  </tbody>\n",
       "</table>\n",
       "<p>199 rows × 5 columns</p>\n",
       "</div>"
      ],
      "text/plain": [
       "     Region     TV  Radio  Newspaper  Sales\n",
       "1         2   44.5   39.3       45.1   10.4\n",
       "2         3   17.2   45.9       69.3    9.3\n",
       "3         4  151.5   41.3       58.5   18.5\n",
       "4         5  180.8   10.8       58.4   12.9\n",
       "5         6    8.7   48.9       75.0    7.2\n",
       "..      ...    ...    ...        ...    ...\n",
       "195     196   38.2    3.7       13.8    7.6\n",
       "196     197   94.2    4.9        8.1    9.7\n",
       "197     198  177.0    9.3        6.4   12.8\n",
       "198     199  283.6   42.0       66.2   25.5\n",
       "199     200  232.1    8.6        8.7   13.4\n",
       "\n",
       "[199 rows x 5 columns]"
      ]
     },
     "execution_count": 23,
     "metadata": {},
     "output_type": "execute_result"
    }
   ],
   "source": [
    "# EG: remove 0th row\n",
    "file.drop(0 , axis = 0)   # axis = 1 is indicating y axis (verticle axis)   axis = 0 indicates x-axis (horizontal axis)"
   ]
  },
  {
   "cell_type": "code",
   "execution_count": 25,
   "id": "f65582bb",
   "metadata": {},
   "outputs": [
    {
     "data": {
      "text/html": [
       "<div>\n",
       "<style scoped>\n",
       "    .dataframe tbody tr th:only-of-type {\n",
       "        vertical-align: middle;\n",
       "    }\n",
       "\n",
       "    .dataframe tbody tr th {\n",
       "        vertical-align: top;\n",
       "    }\n",
       "\n",
       "    .dataframe thead th {\n",
       "        text-align: right;\n",
       "    }\n",
       "</style>\n",
       "<table border=\"1\" class=\"dataframe\">\n",
       "  <thead>\n",
       "    <tr style=\"text-align: right;\">\n",
       "      <th></th>\n",
       "      <th>Region</th>\n",
       "      <th>TV</th>\n",
       "      <th>Radio</th>\n",
       "      <th>Newspaper</th>\n",
       "      <th>Sales</th>\n",
       "    </tr>\n",
       "  </thead>\n",
       "  <tbody>\n",
       "    <tr>\n",
       "      <th>1</th>\n",
       "      <td>2</td>\n",
       "      <td>44.5</td>\n",
       "      <td>39.3</td>\n",
       "      <td>45.1</td>\n",
       "      <td>10.4</td>\n",
       "    </tr>\n",
       "    <tr>\n",
       "      <th>2</th>\n",
       "      <td>3</td>\n",
       "      <td>17.2</td>\n",
       "      <td>45.9</td>\n",
       "      <td>69.3</td>\n",
       "      <td>9.3</td>\n",
       "    </tr>\n",
       "    <tr>\n",
       "      <th>4</th>\n",
       "      <td>5</td>\n",
       "      <td>180.8</td>\n",
       "      <td>10.8</td>\n",
       "      <td>58.4</td>\n",
       "      <td>12.9</td>\n",
       "    </tr>\n",
       "    <tr>\n",
       "      <th>5</th>\n",
       "      <td>6</td>\n",
       "      <td>8.7</td>\n",
       "      <td>48.9</td>\n",
       "      <td>75.0</td>\n",
       "      <td>7.2</td>\n",
       "    </tr>\n",
       "    <tr>\n",
       "      <th>6</th>\n",
       "      <td>7</td>\n",
       "      <td>57.5</td>\n",
       "      <td>32.8</td>\n",
       "      <td>23.5</td>\n",
       "      <td>11.8</td>\n",
       "    </tr>\n",
       "    <tr>\n",
       "      <th>...</th>\n",
       "      <td>...</td>\n",
       "      <td>...</td>\n",
       "      <td>...</td>\n",
       "      <td>...</td>\n",
       "      <td>...</td>\n",
       "    </tr>\n",
       "    <tr>\n",
       "      <th>194</th>\n",
       "      <td>195</td>\n",
       "      <td>149.7</td>\n",
       "      <td>35.6</td>\n",
       "      <td>6.0</td>\n",
       "      <td>17.3</td>\n",
       "    </tr>\n",
       "    <tr>\n",
       "      <th>195</th>\n",
       "      <td>196</td>\n",
       "      <td>38.2</td>\n",
       "      <td>3.7</td>\n",
       "      <td>13.8</td>\n",
       "      <td>7.6</td>\n",
       "    </tr>\n",
       "    <tr>\n",
       "      <th>196</th>\n",
       "      <td>197</td>\n",
       "      <td>94.2</td>\n",
       "      <td>4.9</td>\n",
       "      <td>8.1</td>\n",
       "      <td>9.7</td>\n",
       "    </tr>\n",
       "    <tr>\n",
       "      <th>197</th>\n",
       "      <td>198</td>\n",
       "      <td>177.0</td>\n",
       "      <td>9.3</td>\n",
       "      <td>6.4</td>\n",
       "      <td>12.8</td>\n",
       "    </tr>\n",
       "    <tr>\n",
       "      <th>199</th>\n",
       "      <td>200</td>\n",
       "      <td>232.1</td>\n",
       "      <td>8.6</td>\n",
       "      <td>8.7</td>\n",
       "      <td>13.4</td>\n",
       "    </tr>\n",
       "  </tbody>\n",
       "</table>\n",
       "<p>197 rows × 5 columns</p>\n",
       "</div>"
      ],
      "text/plain": [
       "     Region     TV  Radio  Newspaper  Sales\n",
       "1         2   44.5   39.3       45.1   10.4\n",
       "2         3   17.2   45.9       69.3    9.3\n",
       "4         5  180.8   10.8       58.4   12.9\n",
       "5         6    8.7   48.9       75.0    7.2\n",
       "6         7   57.5   32.8       23.5   11.8\n",
       "..      ...    ...    ...        ...    ...\n",
       "194     195  149.7   35.6        6.0   17.3\n",
       "195     196   38.2    3.7       13.8    7.6\n",
       "196     197   94.2    4.9        8.1    9.7\n",
       "197     198  177.0    9.3        6.4   12.8\n",
       "199     200  232.1    8.6        8.7   13.4\n",
       "\n",
       "[197 rows x 5 columns]"
      ]
     },
     "execution_count": 25,
     "metadata": {},
     "output_type": "execute_result"
    }
   ],
   "source": [
    "# EG: no need of 0,2,199 column so delete it\n",
    "file.drop([0,3,198] , axis = 0)  "
   ]
  },
  {
   "cell_type": "markdown",
   "id": "73f8abe7",
   "metadata": {},
   "source": [
    "- dealing with missing values\n",
    "\n",
    "- (Do analysis based on categories )\n",
    "- Eg : avg weights of girls and boys in a classes are different \n",
    "    "
   ]
  },
  {
   "cell_type": "code",
   "execution_count": 26,
   "id": "8e50c520",
   "metadata": {},
   "outputs": [
    {
     "data": {
      "text/html": [
       "<div>\n",
       "<style scoped>\n",
       "    .dataframe tbody tr th:only-of-type {\n",
       "        vertical-align: middle;\n",
       "    }\n",
       "\n",
       "    .dataframe tbody tr th {\n",
       "        vertical-align: top;\n",
       "    }\n",
       "\n",
       "    .dataframe thead th {\n",
       "        text-align: right;\n",
       "    }\n",
       "</style>\n",
       "<table border=\"1\" class=\"dataframe\">\n",
       "  <thead>\n",
       "    <tr style=\"text-align: right;\">\n",
       "      <th></th>\n",
       "      <th>Region</th>\n",
       "      <th>TV</th>\n",
       "      <th>Radio</th>\n",
       "      <th>Newspaper</th>\n",
       "      <th>Sales</th>\n",
       "    </tr>\n",
       "  </thead>\n",
       "  <tbody>\n",
       "    <tr>\n",
       "      <th>0</th>\n",
       "      <td>False</td>\n",
       "      <td>False</td>\n",
       "      <td>False</td>\n",
       "      <td>False</td>\n",
       "      <td>False</td>\n",
       "    </tr>\n",
       "    <tr>\n",
       "      <th>1</th>\n",
       "      <td>False</td>\n",
       "      <td>False</td>\n",
       "      <td>False</td>\n",
       "      <td>False</td>\n",
       "      <td>False</td>\n",
       "    </tr>\n",
       "    <tr>\n",
       "      <th>2</th>\n",
       "      <td>False</td>\n",
       "      <td>False</td>\n",
       "      <td>False</td>\n",
       "      <td>False</td>\n",
       "      <td>False</td>\n",
       "    </tr>\n",
       "    <tr>\n",
       "      <th>3</th>\n",
       "      <td>False</td>\n",
       "      <td>False</td>\n",
       "      <td>False</td>\n",
       "      <td>False</td>\n",
       "      <td>False</td>\n",
       "    </tr>\n",
       "    <tr>\n",
       "      <th>4</th>\n",
       "      <td>False</td>\n",
       "      <td>False</td>\n",
       "      <td>False</td>\n",
       "      <td>False</td>\n",
       "      <td>False</td>\n",
       "    </tr>\n",
       "    <tr>\n",
       "      <th>...</th>\n",
       "      <td>...</td>\n",
       "      <td>...</td>\n",
       "      <td>...</td>\n",
       "      <td>...</td>\n",
       "      <td>...</td>\n",
       "    </tr>\n",
       "    <tr>\n",
       "      <th>195</th>\n",
       "      <td>False</td>\n",
       "      <td>False</td>\n",
       "      <td>False</td>\n",
       "      <td>False</td>\n",
       "      <td>False</td>\n",
       "    </tr>\n",
       "    <tr>\n",
       "      <th>196</th>\n",
       "      <td>False</td>\n",
       "      <td>False</td>\n",
       "      <td>False</td>\n",
       "      <td>False</td>\n",
       "      <td>False</td>\n",
       "    </tr>\n",
       "    <tr>\n",
       "      <th>197</th>\n",
       "      <td>False</td>\n",
       "      <td>False</td>\n",
       "      <td>False</td>\n",
       "      <td>False</td>\n",
       "      <td>False</td>\n",
       "    </tr>\n",
       "    <tr>\n",
       "      <th>198</th>\n",
       "      <td>False</td>\n",
       "      <td>False</td>\n",
       "      <td>False</td>\n",
       "      <td>False</td>\n",
       "      <td>False</td>\n",
       "    </tr>\n",
       "    <tr>\n",
       "      <th>199</th>\n",
       "      <td>False</td>\n",
       "      <td>False</td>\n",
       "      <td>False</td>\n",
       "      <td>False</td>\n",
       "      <td>False</td>\n",
       "    </tr>\n",
       "  </tbody>\n",
       "</table>\n",
       "<p>200 rows × 5 columns</p>\n",
       "</div>"
      ],
      "text/plain": [
       "     Region     TV  Radio  Newspaper  Sales\n",
       "0     False  False  False      False  False\n",
       "1     False  False  False      False  False\n",
       "2     False  False  False      False  False\n",
       "3     False  False  False      False  False\n",
       "4     False  False  False      False  False\n",
       "..      ...    ...    ...        ...    ...\n",
       "195   False  False  False      False  False\n",
       "196   False  False  False      False  False\n",
       "197   False  False  False      False  False\n",
       "198   False  False  False      False  False\n",
       "199   False  False  False      False  False\n",
       "\n",
       "[200 rows x 5 columns]"
      ]
     },
     "execution_count": 26,
     "metadata": {},
     "output_type": "execute_result"
    }
   ],
   "source": [
    "file.isnull()  # will get a boolean chart (asking is there any null value for that its saying no io.e False )"
   ]
  },
  {
   "cell_type": "code",
   "execution_count": null,
   "id": "6011b6e9",
   "metadata": {},
   "outputs": [],
   "source": [
    "# so to calculate in numbers we can calcuate the sum of columns values "
   ]
  },
  {
   "cell_type": "code",
   "execution_count": 27,
   "id": "71c09ee9",
   "metadata": {},
   "outputs": [
    {
     "data": {
      "text/plain": [
       "Region       0\n",
       "TV           0\n",
       "Radio        1\n",
       "Newspaper    2\n",
       "Sales        0\n",
       "dtype: int64"
      ]
     },
     "execution_count": 27,
     "metadata": {},
     "output_type": "execute_result"
    }
   ],
   "source": [
    "file.isnull().sum()"
   ]
  },
  {
   "cell_type": "markdown",
   "id": "f0cda56d",
   "metadata": {},
   "source": [
    "In Region  there are       0   missing values <br>\n",
    "In TV    there are          0   missing values <br>\n",
    "In Radio    there are       1  missing values <br>\n",
    "In Newspaper  there are     2 missing values <br>\n",
    "In Sales there are    0   missing values <br>"
   ]
  },
  {
   "cell_type": "markdown",
   "id": "1be5a2e5",
   "metadata": {},
   "source": [
    "## October batch session 5 (refer: https://www.youtube.com/watch?v=XRD3xG7TJl8)\n",
    "\n",
    "Day 6 video <br>\n",
    "revision up"
   ]
  },
  {
   "cell_type": "code",
   "execution_count": 5,
   "id": "f96d8b07",
   "metadata": {},
   "outputs": [
    {
     "data": {
      "text/html": [
       "<div>\n",
       "<style scoped>\n",
       "    .dataframe tbody tr th:only-of-type {\n",
       "        vertical-align: middle;\n",
       "    }\n",
       "\n",
       "    .dataframe tbody tr th {\n",
       "        vertical-align: top;\n",
       "    }\n",
       "\n",
       "    .dataframe thead th {\n",
       "        text-align: right;\n",
       "    }\n",
       "</style>\n",
       "<table border=\"1\" class=\"dataframe\">\n",
       "  <thead>\n",
       "    <tr style=\"text-align: right;\">\n",
       "      <th></th>\n",
       "      <th>Region</th>\n",
       "      <th>TV</th>\n",
       "      <th>Radio</th>\n",
       "      <th>Newspaper</th>\n",
       "      <th>Sales</th>\n",
       "    </tr>\n",
       "  </thead>\n",
       "  <tbody>\n",
       "    <tr>\n",
       "      <th>0</th>\n",
       "      <td>1</td>\n",
       "      <td>230.1</td>\n",
       "      <td>37.8</td>\n",
       "      <td>69.2</td>\n",
       "      <td>22.1</td>\n",
       "    </tr>\n",
       "    <tr>\n",
       "      <th>1</th>\n",
       "      <td>2</td>\n",
       "      <td>44.5</td>\n",
       "      <td>39.3</td>\n",
       "      <td>45.1</td>\n",
       "      <td>10.4</td>\n",
       "    </tr>\n",
       "    <tr>\n",
       "      <th>2</th>\n",
       "      <td>3</td>\n",
       "      <td>17.2</td>\n",
       "      <td>45.9</td>\n",
       "      <td>69.3</td>\n",
       "      <td>9.3</td>\n",
       "    </tr>\n",
       "    <tr>\n",
       "      <th>3</th>\n",
       "      <td>4</td>\n",
       "      <td>151.5</td>\n",
       "      <td>41.3</td>\n",
       "      <td>58.5</td>\n",
       "      <td>18.5</td>\n",
       "    </tr>\n",
       "    <tr>\n",
       "      <th>4</th>\n",
       "      <td>5</td>\n",
       "      <td>180.8</td>\n",
       "      <td>10.8</td>\n",
       "      <td>58.4</td>\n",
       "      <td>12.9</td>\n",
       "    </tr>\n",
       "    <tr>\n",
       "      <th>...</th>\n",
       "      <td>...</td>\n",
       "      <td>...</td>\n",
       "      <td>...</td>\n",
       "      <td>...</td>\n",
       "      <td>...</td>\n",
       "    </tr>\n",
       "    <tr>\n",
       "      <th>195</th>\n",
       "      <td>196</td>\n",
       "      <td>38.2</td>\n",
       "      <td>3.7</td>\n",
       "      <td>13.8</td>\n",
       "      <td>7.6</td>\n",
       "    </tr>\n",
       "    <tr>\n",
       "      <th>196</th>\n",
       "      <td>197</td>\n",
       "      <td>94.2</td>\n",
       "      <td>4.9</td>\n",
       "      <td>8.1</td>\n",
       "      <td>9.7</td>\n",
       "    </tr>\n",
       "    <tr>\n",
       "      <th>197</th>\n",
       "      <td>198</td>\n",
       "      <td>177.0</td>\n",
       "      <td>9.3</td>\n",
       "      <td>6.4</td>\n",
       "      <td>12.8</td>\n",
       "    </tr>\n",
       "    <tr>\n",
       "      <th>198</th>\n",
       "      <td>199</td>\n",
       "      <td>283.6</td>\n",
       "      <td>42.0</td>\n",
       "      <td>66.2</td>\n",
       "      <td>25.5</td>\n",
       "    </tr>\n",
       "    <tr>\n",
       "      <th>199</th>\n",
       "      <td>200</td>\n",
       "      <td>232.1</td>\n",
       "      <td>8.6</td>\n",
       "      <td>8.7</td>\n",
       "      <td>13.4</td>\n",
       "    </tr>\n",
       "  </tbody>\n",
       "</table>\n",
       "<p>200 rows × 5 columns</p>\n",
       "</div>"
      ],
      "text/plain": [
       "     Region     TV  Radio  Newspaper  Sales\n",
       "0         1  230.1   37.8       69.2   22.1\n",
       "1         2   44.5   39.3       45.1   10.4\n",
       "2         3   17.2   45.9       69.3    9.3\n",
       "3         4  151.5   41.3       58.5   18.5\n",
       "4         5  180.8   10.8       58.4   12.9\n",
       "..      ...    ...    ...        ...    ...\n",
       "195     196   38.2    3.7       13.8    7.6\n",
       "196     197   94.2    4.9        8.1    9.7\n",
       "197     198  177.0    9.3        6.4   12.8\n",
       "198     199  283.6   42.0       66.2   25.5\n",
       "199     200  232.1    8.6        8.7   13.4\n",
       "\n",
       "[200 rows x 5 columns]"
      ]
     },
     "execution_count": 5,
     "metadata": {},
     "output_type": "execute_result"
    }
   ],
   "source": [
    "import pandas as pd\n",
    "import numpy as np\n",
    "file = pd.read_csv('./datasets/advertising.csv')\n",
    "file"
   ]
  },
  {
   "cell_type": "code",
   "execution_count": 7,
   "id": "67f342c9",
   "metadata": {},
   "outputs": [
    {
     "data": {
      "text/html": [
       "<div>\n",
       "<style scoped>\n",
       "    .dataframe tbody tr th:only-of-type {\n",
       "        vertical-align: middle;\n",
       "    }\n",
       "\n",
       "    .dataframe tbody tr th {\n",
       "        vertical-align: top;\n",
       "    }\n",
       "\n",
       "    .dataframe thead th {\n",
       "        text-align: right;\n",
       "    }\n",
       "</style>\n",
       "<table border=\"1\" class=\"dataframe\">\n",
       "  <thead>\n",
       "    <tr style=\"text-align: right;\">\n",
       "      <th></th>\n",
       "      <th>TV</th>\n",
       "      <th>Radio</th>\n",
       "      <th>Newspaper</th>\n",
       "      <th>Sales</th>\n",
       "    </tr>\n",
       "  </thead>\n",
       "  <tbody>\n",
       "    <tr>\n",
       "      <th>0</th>\n",
       "      <td>230.1</td>\n",
       "      <td>37.8</td>\n",
       "      <td>69.2</td>\n",
       "      <td>22.1</td>\n",
       "    </tr>\n",
       "    <tr>\n",
       "      <th>1</th>\n",
       "      <td>44.5</td>\n",
       "      <td>39.3</td>\n",
       "      <td>45.1</td>\n",
       "      <td>10.4</td>\n",
       "    </tr>\n",
       "    <tr>\n",
       "      <th>2</th>\n",
       "      <td>17.2</td>\n",
       "      <td>45.9</td>\n",
       "      <td>69.3</td>\n",
       "      <td>9.3</td>\n",
       "    </tr>\n",
       "    <tr>\n",
       "      <th>3</th>\n",
       "      <td>151.5</td>\n",
       "      <td>41.3</td>\n",
       "      <td>58.5</td>\n",
       "      <td>18.5</td>\n",
       "    </tr>\n",
       "    <tr>\n",
       "      <th>4</th>\n",
       "      <td>180.8</td>\n",
       "      <td>10.8</td>\n",
       "      <td>58.4</td>\n",
       "      <td>12.9</td>\n",
       "    </tr>\n",
       "    <tr>\n",
       "      <th>...</th>\n",
       "      <td>...</td>\n",
       "      <td>...</td>\n",
       "      <td>...</td>\n",
       "      <td>...</td>\n",
       "    </tr>\n",
       "    <tr>\n",
       "      <th>195</th>\n",
       "      <td>38.2</td>\n",
       "      <td>3.7</td>\n",
       "      <td>13.8</td>\n",
       "      <td>7.6</td>\n",
       "    </tr>\n",
       "    <tr>\n",
       "      <th>196</th>\n",
       "      <td>94.2</td>\n",
       "      <td>4.9</td>\n",
       "      <td>8.1</td>\n",
       "      <td>9.7</td>\n",
       "    </tr>\n",
       "    <tr>\n",
       "      <th>197</th>\n",
       "      <td>177.0</td>\n",
       "      <td>9.3</td>\n",
       "      <td>6.4</td>\n",
       "      <td>12.8</td>\n",
       "    </tr>\n",
       "    <tr>\n",
       "      <th>198</th>\n",
       "      <td>283.6</td>\n",
       "      <td>42.0</td>\n",
       "      <td>66.2</td>\n",
       "      <td>25.5</td>\n",
       "    </tr>\n",
       "    <tr>\n",
       "      <th>199</th>\n",
       "      <td>232.1</td>\n",
       "      <td>8.6</td>\n",
       "      <td>8.7</td>\n",
       "      <td>13.4</td>\n",
       "    </tr>\n",
       "  </tbody>\n",
       "</table>\n",
       "<p>200 rows × 4 columns</p>\n",
       "</div>"
      ],
      "text/plain": [
       "        TV  Radio  Newspaper  Sales\n",
       "0    230.1   37.8       69.2   22.1\n",
       "1     44.5   39.3       45.1   10.4\n",
       "2     17.2   45.9       69.3    9.3\n",
       "3    151.5   41.3       58.5   18.5\n",
       "4    180.8   10.8       58.4   12.9\n",
       "..     ...    ...        ...    ...\n",
       "195   38.2    3.7       13.8    7.6\n",
       "196   94.2    4.9        8.1    9.7\n",
       "197  177.0    9.3        6.4   12.8\n",
       "198  283.6   42.0       66.2   25.5\n",
       "199  232.1    8.6        8.7   13.4\n",
       "\n",
       "[200 rows x 4 columns]"
      ]
     },
     "execution_count": 7,
     "metadata": {},
     "output_type": "execute_result"
    }
   ],
   "source": [
    "file.drop(\"Region\", axis = 1) "
   ]
  },
  {
   "cell_type": "code",
   "execution_count": 8,
   "id": "9d3b562a",
   "metadata": {},
   "outputs": [
    {
     "data": {
      "text/html": [
       "<div>\n",
       "<style scoped>\n",
       "    .dataframe tbody tr th:only-of-type {\n",
       "        vertical-align: middle;\n",
       "    }\n",
       "\n",
       "    .dataframe tbody tr th {\n",
       "        vertical-align: top;\n",
       "    }\n",
       "\n",
       "    .dataframe thead th {\n",
       "        text-align: right;\n",
       "    }\n",
       "</style>\n",
       "<table border=\"1\" class=\"dataframe\">\n",
       "  <thead>\n",
       "    <tr style=\"text-align: right;\">\n",
       "      <th></th>\n",
       "      <th>Region</th>\n",
       "      <th>TV</th>\n",
       "      <th>Radio</th>\n",
       "      <th>Newspaper</th>\n",
       "      <th>Sales</th>\n",
       "    </tr>\n",
       "  </thead>\n",
       "  <tbody>\n",
       "    <tr>\n",
       "      <th>0</th>\n",
       "      <td>1</td>\n",
       "      <td>230.1</td>\n",
       "      <td>37.8</td>\n",
       "      <td>69.2</td>\n",
       "      <td>22.1</td>\n",
       "    </tr>\n",
       "    <tr>\n",
       "      <th>1</th>\n",
       "      <td>2</td>\n",
       "      <td>44.5</td>\n",
       "      <td>39.3</td>\n",
       "      <td>45.1</td>\n",
       "      <td>10.4</td>\n",
       "    </tr>\n",
       "    <tr>\n",
       "      <th>2</th>\n",
       "      <td>3</td>\n",
       "      <td>17.2</td>\n",
       "      <td>45.9</td>\n",
       "      <td>69.3</td>\n",
       "      <td>9.3</td>\n",
       "    </tr>\n",
       "    <tr>\n",
       "      <th>3</th>\n",
       "      <td>4</td>\n",
       "      <td>151.5</td>\n",
       "      <td>41.3</td>\n",
       "      <td>58.5</td>\n",
       "      <td>18.5</td>\n",
       "    </tr>\n",
       "    <tr>\n",
       "      <th>4</th>\n",
       "      <td>5</td>\n",
       "      <td>180.8</td>\n",
       "      <td>10.8</td>\n",
       "      <td>58.4</td>\n",
       "      <td>12.9</td>\n",
       "    </tr>\n",
       "    <tr>\n",
       "      <th>...</th>\n",
       "      <td>...</td>\n",
       "      <td>...</td>\n",
       "      <td>...</td>\n",
       "      <td>...</td>\n",
       "      <td>...</td>\n",
       "    </tr>\n",
       "    <tr>\n",
       "      <th>195</th>\n",
       "      <td>196</td>\n",
       "      <td>38.2</td>\n",
       "      <td>3.7</td>\n",
       "      <td>13.8</td>\n",
       "      <td>7.6</td>\n",
       "    </tr>\n",
       "    <tr>\n",
       "      <th>196</th>\n",
       "      <td>197</td>\n",
       "      <td>94.2</td>\n",
       "      <td>4.9</td>\n",
       "      <td>8.1</td>\n",
       "      <td>9.7</td>\n",
       "    </tr>\n",
       "    <tr>\n",
       "      <th>197</th>\n",
       "      <td>198</td>\n",
       "      <td>177.0</td>\n",
       "      <td>9.3</td>\n",
       "      <td>6.4</td>\n",
       "      <td>12.8</td>\n",
       "    </tr>\n",
       "    <tr>\n",
       "      <th>198</th>\n",
       "      <td>199</td>\n",
       "      <td>283.6</td>\n",
       "      <td>42.0</td>\n",
       "      <td>66.2</td>\n",
       "      <td>25.5</td>\n",
       "    </tr>\n",
       "    <tr>\n",
       "      <th>199</th>\n",
       "      <td>200</td>\n",
       "      <td>232.1</td>\n",
       "      <td>8.6</td>\n",
       "      <td>8.7</td>\n",
       "      <td>13.4</td>\n",
       "    </tr>\n",
       "  </tbody>\n",
       "</table>\n",
       "<p>200 rows × 5 columns</p>\n",
       "</div>"
      ],
      "text/plain": [
       "     Region     TV  Radio  Newspaper  Sales\n",
       "0         1  230.1   37.8       69.2   22.1\n",
       "1         2   44.5   39.3       45.1   10.4\n",
       "2         3   17.2   45.9       69.3    9.3\n",
       "3         4  151.5   41.3       58.5   18.5\n",
       "4         5  180.8   10.8       58.4   12.9\n",
       "..      ...    ...    ...        ...    ...\n",
       "195     196   38.2    3.7       13.8    7.6\n",
       "196     197   94.2    4.9        8.1    9.7\n",
       "197     198  177.0    9.3        6.4   12.8\n",
       "198     199  283.6   42.0       66.2   25.5\n",
       "199     200  232.1    8.6        8.7   13.4\n",
       "\n",
       "[200 rows x 5 columns]"
      ]
     },
     "execution_count": 8,
     "metadata": {},
     "output_type": "execute_result"
    }
   ],
   "source": [
    "file   # still the file region is not removed because not used inplace or not saved to variale"
   ]
  },
  {
   "cell_type": "code",
   "execution_count": 9,
   "id": "3be7e0af",
   "metadata": {},
   "outputs": [],
   "source": [
    "dataset = file.drop(\"Region\", axis = 1) # or inplace = True"
   ]
  },
  {
   "cell_type": "code",
   "execution_count": 10,
   "id": "8ef66210",
   "metadata": {},
   "outputs": [
    {
     "data": {
      "text/plain": [
       "TV           0\n",
       "Radio        1\n",
       "Newspaper    2\n",
       "Sales        0\n",
       "dtype: int64"
      ]
     },
     "execution_count": 10,
     "metadata": {},
     "output_type": "execute_result"
    }
   ],
   "source": [
    "dataset.isnull().sum() "
   ]
  },
  {
   "cell_type": "markdown",
   "id": "7b2ca12f",
   "metadata": {},
   "source": [
    "### What to do with the missing values data \n",
    "\n",
    "here out of 200 rows only 2 rows have null in newspaper and 1 in radio so its less compared to availabe rows so can remove rows. <br> If more values where there then we need to remove the column(axis=1) <br> If more than or less than 3% and less than 40% then fill the missing values "
   ]
  },
  {
   "cell_type": "markdown",
   "id": "e24227e4",
   "metadata": {},
   "source": [
    "### Can fill the values here as only less than 3% so mean,median,mode and 0  can be filled \n",
    "What are the are shown below"
   ]
  },
  {
   "cell_type": "code",
   "execution_count": 11,
   "id": "675b8961",
   "metadata": {},
   "outputs": [
    {
     "data": {
      "text/plain": [
       "TV           29408.5\n",
       "Radio         4650.7\n",
       "Newspaper     6039.6\n",
       "Sales         2804.5\n",
       "dtype: float64"
      ]
     },
     "execution_count": 11,
     "metadata": {},
     "output_type": "execute_result"
    }
   ],
   "source": [
    "dataset.sum()"
   ]
  },
  {
   "cell_type": "code",
   "execution_count": 12,
   "id": "2a555027",
   "metadata": {},
   "outputs": [
    {
     "data": {
      "text/plain": [
       "TV           147.042500\n",
       "Radio         23.370352\n",
       "Newspaper     30.503030\n",
       "Sales         14.022500\n",
       "dtype: float64"
      ]
     },
     "execution_count": 12,
     "metadata": {},
     "output_type": "execute_result"
    }
   ],
   "source": [
    "dataset.mean()"
   ]
  },
  {
   "cell_type": "code",
   "execution_count": 13,
   "id": "e721c983",
   "metadata": {},
   "outputs": [
    {
     "data": {
      "text/plain": [
       "TV           0.7\n",
       "Radio        0.0\n",
       "Newspaper    0.3\n",
       "Sales        1.6\n",
       "dtype: float64"
      ]
     },
     "execution_count": 13,
     "metadata": {},
     "output_type": "execute_result"
    }
   ],
   "source": [
    "dataset.min()"
   ]
  },
  {
   "cell_type": "code",
   "execution_count": 14,
   "id": "94259cc1",
   "metadata": {},
   "outputs": [
    {
     "data": {
      "text/plain": [
       "TV           296.4\n",
       "Radio         49.6\n",
       "Newspaper    114.0\n",
       "Sales         27.0\n",
       "dtype: float64"
      ]
     },
     "execution_count": 14,
     "metadata": {},
     "output_type": "execute_result"
    }
   ],
   "source": [
    "dataset.max()"
   ]
  },
  {
   "cell_type": "code",
   "execution_count": 15,
   "id": "33a3cd11",
   "metadata": {},
   "outputs": [
    {
     "data": {
      "text/plain": [
       "TV           149.75\n",
       "Radio         23.30\n",
       "Newspaper     25.75\n",
       "Sales         12.90\n",
       "dtype: float64"
      ]
     },
     "execution_count": 15,
     "metadata": {},
     "output_type": "execute_result"
    }
   ],
   "source": [
    "dataset.median()       # for numerariacal data"
   ]
  },
  {
   "cell_type": "code",
   "execution_count": 16,
   "id": "e2ca06a3",
   "metadata": {},
   "outputs": [
    {
     "data": {
      "text/html": [
       "<div>\n",
       "<style scoped>\n",
       "    .dataframe tbody tr th:only-of-type {\n",
       "        vertical-align: middle;\n",
       "    }\n",
       "\n",
       "    .dataframe tbody tr th {\n",
       "        vertical-align: top;\n",
       "    }\n",
       "\n",
       "    .dataframe thead th {\n",
       "        text-align: right;\n",
       "    }\n",
       "</style>\n",
       "<table border=\"1\" class=\"dataframe\">\n",
       "  <thead>\n",
       "    <tr style=\"text-align: right;\">\n",
       "      <th></th>\n",
       "      <th>TV</th>\n",
       "      <th>Radio</th>\n",
       "      <th>Newspaper</th>\n",
       "      <th>Sales</th>\n",
       "    </tr>\n",
       "  </thead>\n",
       "  <tbody>\n",
       "    <tr>\n",
       "      <th>0</th>\n",
       "      <td>17.2</td>\n",
       "      <td>4.1</td>\n",
       "      <td>8.7</td>\n",
       "      <td>9.7</td>\n",
       "    </tr>\n",
       "    <tr>\n",
       "      <th>1</th>\n",
       "      <td>76.4</td>\n",
       "      <td>5.7</td>\n",
       "      <td>9.3</td>\n",
       "      <td>NaN</td>\n",
       "    </tr>\n",
       "    <tr>\n",
       "      <th>2</th>\n",
       "      <td>109.8</td>\n",
       "      <td>NaN</td>\n",
       "      <td>25.6</td>\n",
       "      <td>NaN</td>\n",
       "    </tr>\n",
       "    <tr>\n",
       "      <th>3</th>\n",
       "      <td>177.0</td>\n",
       "      <td>NaN</td>\n",
       "      <td>NaN</td>\n",
       "      <td>NaN</td>\n",
       "    </tr>\n",
       "    <tr>\n",
       "      <th>4</th>\n",
       "      <td>184.9</td>\n",
       "      <td>NaN</td>\n",
       "      <td>NaN</td>\n",
       "      <td>NaN</td>\n",
       "    </tr>\n",
       "    <tr>\n",
       "      <th>5</th>\n",
       "      <td>197.6</td>\n",
       "      <td>NaN</td>\n",
       "      <td>NaN</td>\n",
       "      <td>NaN</td>\n",
       "    </tr>\n",
       "    <tr>\n",
       "      <th>6</th>\n",
       "      <td>199.8</td>\n",
       "      <td>NaN</td>\n",
       "      <td>NaN</td>\n",
       "      <td>NaN</td>\n",
       "    </tr>\n",
       "    <tr>\n",
       "      <th>7</th>\n",
       "      <td>222.4</td>\n",
       "      <td>NaN</td>\n",
       "      <td>NaN</td>\n",
       "      <td>NaN</td>\n",
       "    </tr>\n",
       "    <tr>\n",
       "      <th>8</th>\n",
       "      <td>237.4</td>\n",
       "      <td>NaN</td>\n",
       "      <td>NaN</td>\n",
       "      <td>NaN</td>\n",
       "    </tr>\n",
       "    <tr>\n",
       "      <th>9</th>\n",
       "      <td>240.1</td>\n",
       "      <td>NaN</td>\n",
       "      <td>NaN</td>\n",
       "      <td>NaN</td>\n",
       "    </tr>\n",
       "  </tbody>\n",
       "</table>\n",
       "</div>"
      ],
      "text/plain": [
       "      TV  Radio  Newspaper  Sales\n",
       "0   17.2    4.1        8.7    9.7\n",
       "1   76.4    5.7        9.3    NaN\n",
       "2  109.8    NaN       25.6    NaN\n",
       "3  177.0    NaN        NaN    NaN\n",
       "4  184.9    NaN        NaN    NaN\n",
       "5  197.6    NaN        NaN    NaN\n",
       "6  199.8    NaN        NaN    NaN\n",
       "7  222.4    NaN        NaN    NaN\n",
       "8  237.4    NaN        NaN    NaN\n",
       "9  240.1    NaN        NaN    NaN"
      ]
     },
     "execution_count": 16,
     "metadata": {},
     "output_type": "execute_result"
    }
   ],
   "source": [
    "# mode for text data \n",
    "dataset.mode()  # mode will be relavently calculated for the string value of data"
   ]
  },
  {
   "cell_type": "markdown",
   "id": "3c123a31",
   "metadata": {},
   "source": [
    "### we have to fill the missing values with mean"
   ]
  },
  {
   "cell_type": "code",
   "execution_count": 20,
   "id": "171f2b93",
   "metadata": {},
   "outputs": [],
   "source": [
    "dataset = dataset.fillna(dataset.mean())    # i.e dataset.fillna(value)    # we have to reassign value\n",
    "#i.e fillna(0) for fill with 0"
   ]
  },
  {
   "cell_type": "code",
   "execution_count": 23,
   "id": "55acbda1",
   "metadata": {},
   "outputs": [
    {
     "data": {
      "text/plain": [
       "TV           0\n",
       "Radio        0\n",
       "Newspaper    0\n",
       "Sales        0\n",
       "dtype: int64"
      ]
     },
     "execution_count": 23,
     "metadata": {},
     "output_type": "execute_result"
    }
   ],
   "source": [
    "dataset.isnull().sum() "
   ]
  },
  {
   "cell_type": "code",
   "execution_count": null,
   "id": "b118e6b8",
   "metadata": {},
   "outputs": [],
   "source": [
    "# till here basic data prerpocessing is done next prepare the data for analysis"
   ]
  },
  {
   "cell_type": "markdown",
   "id": "7842c822",
   "metadata": {},
   "source": [
    "### Basic Descriptive analysis"
   ]
  },
  {
   "cell_type": "code",
   "execution_count": 24,
   "id": "7b1ff962",
   "metadata": {},
   "outputs": [
    {
     "data": {
      "text/html": [
       "<div>\n",
       "<style scoped>\n",
       "    .dataframe tbody tr th:only-of-type {\n",
       "        vertical-align: middle;\n",
       "    }\n",
       "\n",
       "    .dataframe tbody tr th {\n",
       "        vertical-align: top;\n",
       "    }\n",
       "\n",
       "    .dataframe thead th {\n",
       "        text-align: right;\n",
       "    }\n",
       "</style>\n",
       "<table border=\"1\" class=\"dataframe\">\n",
       "  <thead>\n",
       "    <tr style=\"text-align: right;\">\n",
       "      <th></th>\n",
       "      <th>TV</th>\n",
       "      <th>Radio</th>\n",
       "      <th>Newspaper</th>\n",
       "      <th>Sales</th>\n",
       "    </tr>\n",
       "  </thead>\n",
       "  <tbody>\n",
       "    <tr>\n",
       "      <th>count</th>\n",
       "      <td>200.000000</td>\n",
       "      <td>200.000000</td>\n",
       "      <td>200.00000</td>\n",
       "      <td>200.000000</td>\n",
       "    </tr>\n",
       "    <tr>\n",
       "      <th>mean</th>\n",
       "      <td>147.042500</td>\n",
       "      <td>23.370352</td>\n",
       "      <td>30.50303</td>\n",
       "      <td>14.022500</td>\n",
       "    </tr>\n",
       "    <tr>\n",
       "      <th>std</th>\n",
       "      <td>85.854236</td>\n",
       "      <td>14.770430</td>\n",
       "      <td>21.70350</td>\n",
       "      <td>5.217457</td>\n",
       "    </tr>\n",
       "    <tr>\n",
       "      <th>min</th>\n",
       "      <td>0.700000</td>\n",
       "      <td>0.000000</td>\n",
       "      <td>0.30000</td>\n",
       "      <td>1.600000</td>\n",
       "    </tr>\n",
       "    <tr>\n",
       "      <th>25%</th>\n",
       "      <td>74.375000</td>\n",
       "      <td>10.075000</td>\n",
       "      <td>12.75000</td>\n",
       "      <td>10.375000</td>\n",
       "    </tr>\n",
       "    <tr>\n",
       "      <th>50%</th>\n",
       "      <td>149.750000</td>\n",
       "      <td>23.335176</td>\n",
       "      <td>26.05000</td>\n",
       "      <td>12.900000</td>\n",
       "    </tr>\n",
       "    <tr>\n",
       "      <th>75%</th>\n",
       "      <td>218.825000</td>\n",
       "      <td>36.525000</td>\n",
       "      <td>44.50000</td>\n",
       "      <td>17.400000</td>\n",
       "    </tr>\n",
       "    <tr>\n",
       "      <th>max</th>\n",
       "      <td>296.400000</td>\n",
       "      <td>49.600000</td>\n",
       "      <td>114.00000</td>\n",
       "      <td>27.000000</td>\n",
       "    </tr>\n",
       "  </tbody>\n",
       "</table>\n",
       "</div>"
      ],
      "text/plain": [
       "               TV       Radio  Newspaper       Sales\n",
       "count  200.000000  200.000000  200.00000  200.000000\n",
       "mean   147.042500   23.370352   30.50303   14.022500\n",
       "std     85.854236   14.770430   21.70350    5.217457\n",
       "min      0.700000    0.000000    0.30000    1.600000\n",
       "25%     74.375000   10.075000   12.75000   10.375000\n",
       "50%    149.750000   23.335176   26.05000   12.900000\n",
       "75%    218.825000   36.525000   44.50000   17.400000\n",
       "max    296.400000   49.600000  114.00000   27.000000"
      ]
     },
     "execution_count": 24,
     "metadata": {},
     "output_type": "execute_result"
    }
   ],
   "source": [
    "dataset.describe()    # gives basic stats "
   ]
  },
  {
   "cell_type": "markdown",
   "id": "3f0b613d",
   "metadata": {},
   "source": [
    "We are spending average budget of 147.042500  on TV  <br>\n",
    "We are spending average budget of 23.370352  on Radio<br>\n",
    "We are spending average budget of 30.50303  on Newspaper<br>\n",
    "<br>\n",
    "### Decrease the Standard Deviation to increase the accuracy \n",
    "Standard Deviation shows Randomness of data -> more diverse <br>\n",
    "We have much value differernce i.e very much different values is 85.854236 \ti.e for TV i.e we are spending more Randomly lesss or more \n",
    "\n",
    "\n",
    "\n",
    "### Preprocessing assignment - 1 -> All the datasets with comments"
   ]
  },
  {
   "cell_type": "markdown",
   "id": "fa199847",
   "metadata": {},
   "source": [
    "## October batch session 6 (refer: Day-7 Ondrive Video)\n",
    "Day - 7 video assignment 1-> 25th Oct : https://www.youtube.com/watch?v=mGK35RhYaoc"
   ]
  },
  {
   "cell_type": "markdown",
   "id": "9ba04589",
   "metadata": {},
   "source": [
    "### Descriptive analysis\n",
    "\n",
    "Feedback -> opinion directly -> describe what ever is present in the dataset \n",
    "<br>\n",
    "dataset.describe()\n",
    "<br> better to do in graphical way "
   ]
  },
  {
   "cell_type": "code",
   "execution_count": 25,
   "id": "a5bd0db6",
   "metadata": {},
   "outputs": [],
   "source": [
    "import matplotlib.pyplot as plt   # used for data visualization "
   ]
  },
  {
   "cell_type": "markdown",
   "id": "04780d57",
   "metadata": {},
   "source": [
    "### bins = tells how much **vertical columns** or bars are needed  (default - 10) - how much bars i want to show in the diagram\n",
    "### alpha = color intensity \n",
    "### figure(figsize=(width,height))   - windows size"
   ]
  },
  {
   "cell_type": "code",
   "execution_count": 45,
   "id": "f014eaed",
   "metadata": {},
   "outputs": [
    {
     "data": {
      "text/plain": [
       "(array([26., 15., 21., 18., 19., 17., 22., 26., 20., 16.]),\n",
       " array([  0.7 ,  30.27,  59.84,  89.41, 118.98, 148.55, 178.12, 207.69,\n",
       "        237.26, 266.83, 296.4 ]),\n",
       " <BarContainer object of 10 artists>)"
      ]
     },
     "execution_count": 45,
     "metadata": {},
     "output_type": "execute_result"
    },
    {
     "data": {
      "image/png": "[encoded data removed]",
      "text/plain": [
       "<Figure size 600x400 with 1 Axes>"
      ]
     },
     "metadata": {},
     "output_type": "display_data"
    }
   ],
   "source": [
    "plt.figure(figsize=(6,4))\n",
    "plt.title(\"Histogram for TV\")\n",
    "plt.xlabel(\"Ads spent on TV\")\n",
    "plt.ylabel(\"frequency of regions or amount\")\n",
    "plt.hist(dataset[\"TV\"],bins=10,color=\"red\",alpha=0.7)  #  how much bars i want to show in the diagram"
   ]
  },
  {
   "cell_type": "code",
   "execution_count": 43,
   "id": "637235f6",
   "metadata": {},
   "outputs": [
    {
     "data": {
      "text/plain": [
       "(array([14., 15.,  9., 11., 12.,  9., 10.,  7., 11.,  8., 10., 13.,  4.,\n",
       "        10., 11., 10., 10., 11.,  6.,  9.]),\n",
       " array([ 0.  ,  2.48,  4.96,  7.44,  9.92, 12.4 , 14.88, 17.36, 19.84,\n",
       "        22.32, 24.8 , 27.28, 29.76, 32.24, 34.72, 37.2 , 39.68, 42.16,\n",
       "        44.64, 47.12, 49.6 ]),\n",
       " <BarContainer object of 20 artists>)"
      ]
     },
     "execution_count": 43,
     "metadata": {},
     "output_type": "execute_result"
    },
    {
     "data": {
      "image/png": "[encoded data removed]",
      "text/plain": [
       "<Figure size 500x500 with 1 Axes>"
      ]
     },
     "metadata": {},
     "output_type": "display_data"
    }
   ],
   "source": [
    "plt.figure(figsize=(5,5))\n",
    "plt.title(\"Histogram for Radio\")\n",
    "plt.hist(dataset[\"Radio\"],bins=20,color=\"green\",alpha=0.7)  #  how much bars i want to show in the diagram"
   ]
  },
  {
   "cell_type": "code",
   "execution_count": 35,
   "id": "2bff390a",
   "metadata": {},
   "outputs": [
    {
     "data": {
      "text/plain": [
       "(array([20., 27., 16., 24., 19., 18., 18., 12., 14.,  6.,  8.,  5.,  6.,\n",
       "         3.,  1.,  1.,  0.,  1.,  0.,  1.]),\n",
       " array([  0.3  ,   5.985,  11.67 ,  17.355,  23.04 ,  28.725,  34.41 ,\n",
       "         40.095,  45.78 ,  51.465,  57.15 ,  62.835,  68.52 ,  74.205,\n",
       "         79.89 ,  85.575,  91.26 ,  96.945, 102.63 , 108.315, 114.   ]),\n",
       " <BarContainer object of 20 artists>)"
      ]
     },
     "execution_count": 35,
     "metadata": {},
     "output_type": "execute_result"
    },
    {
     "data": {
      "image/png": "[encoded data removed]",
      "text/plain": [
       "<Figure size 500x500 with 1 Axes>"
      ]
     },
     "metadata": {},
     "output_type": "display_data"
    }
   ],
   "source": [
    "plt.figure(figsize=(5,5))\n",
    "plt.title(\"Histogram for Newspaper\")\n",
    "# plt.xlabel()\n",
    "# plt.ylabel()\n",
    "plt.hist(dataset[\"Newspaper\"],bins=20,color=\"blue\",alpha=0.7)  "
   ]
  },
  {
   "cell_type": "code",
   "execution_count": 54,
   "id": "959ce688",
   "metadata": {},
   "outputs": [
    {
     "data": {
      "image/png": "[encoded data removed]",
      "text/plain": [
       "<Figure size 600x400 with 1 Axes>"
      ]
     },
     "metadata": {},
     "output_type": "display_data"
    }
   ],
   "source": [
    "plt.figure(figsize=(6,4))\n",
    "plt.boxplot(dataset)     # for all the 4 columns    \n",
    "plt.show()"
   ]
  },
  {
   "cell_type": "code",
   "execution_count": 57,
   "id": "d0d253be",
   "metadata": {},
   "outputs": [
    {
     "data": {
      "text/plain": [
       "{'whiskers': [<matplotlib.lines.Line2D at 0x1c419a729d0>,\n",
       "  <matplotlib.lines.Line2D at 0x1c419a733d0>],\n",
       " 'caps': [<matplotlib.lines.Line2D at 0x1c419a73310>,\n",
       "  <matplotlib.lines.Line2D at 0x1c419a70510>],\n",
       " 'boxes': [<matplotlib.lines.Line2D at 0x1c41a121550>],\n",
       " 'medians': [<matplotlib.lines.Line2D at 0x1c41a091610>],\n",
       " 'fliers': [<matplotlib.lines.Line2D at 0x1c419a73dd0>],\n",
       " 'means': []}"
      ]
     },
     "execution_count": 57,
     "metadata": {},
     "output_type": "execute_result"
    },
    {
     "data": {
      "image/png": "[encoded data removed]",
      "text/plain": [
       "<Figure size 600x400 with 1 Axes>"
      ]
     },
     "metadata": {},
     "output_type": "display_data"
    }
   ],
   "source": [
    "plt.figure(figsize=(6,4))\n",
    "plt.boxplot(dataset[\"Sales\"])            # for only TV column"
   ]
  },
  {
   "cell_type": "markdown",
   "id": "952044a2",
   "metadata": {},
   "source": [
    "#### Box Plot \n",
    "down line shows minimum value of sales (outlier)\n",
    "<br> Box where max points are there\n",
    "<br> up line shows max value   (outlier)\n",
    "<br>  red line is mean value or average value where entire dataset is lying or  can be taken as **median** i.e cental value"
   ]
  },
  {
   "cell_type": "code",
   "execution_count": 56,
   "id": "4a2bacfb",
   "metadata": {},
   "outputs": [
    {
     "data": {
      "image/png": "[encoded data removed]",
      "text/plain": [
       "<Figure size 600x400 with 1 Axes>"
      ]
     },
     "metadata": {},
     "output_type": "display_data"
    }
   ],
   "source": [
    "plt.figure(figsize=(6,4))\n",
    "plt.scatter(dataset[\"Sales\"],dataset[\"TV\"])      # need 2 columns for ploting \n",
    "plt.show()    # for each and every value we plot the point in scatter plot "
   ]
  },
  {
   "cell_type": "markdown",
   "id": "4f4c2089",
   "metadata": {},
   "source": [
    "-  normal Distribution Chart \n",
    "\n",
    "- after drawing scatter plot we get a curve like ^ where central is mean value and near that is SD"
   ]
  },
  {
   "cell_type": "markdown",
   "id": "c3cda148",
   "metadata": {},
   "source": [
    "### Sample excel solution for 25th Oct Assignment - 1 -> https://www.youtube.com/watch?v=mGK35RhYaoc\n",
    "\n",
    "Google Ads data\n",
    "\n",
    "*1. Impressions:* Impressions are the number of times your ad is displayed to a user. It's like your ad's visibility score. The more impressions, the more people see your ad.\n",
    "\n",
    "*2. Clicks:* Clicks represent the number of times users have clicked on your ad. It's a direct measure of engagement and interest.\n",
    "\n",
    "*3. CTR (Click-Through Rate):* CTR is a crucial metric. It's the ratio of clicks to impressions. A higher CTR indicates that your ad is compelling and relevant.\n",
    "\n",
    "*4. Conversions:* Conversions are the actions you want users to take after clicking your ad. It could be signing up, purchasing, or any other goal. Tracking conversions helps measure ROI.\n",
    "\n",
    "*5. CPC (Cost Per Click):* CPC is how much you pay each time someone clicks on your ad. It's essential for budget management.\n",
    "\n",
    "*6. Quality Score:* Google assigns a Quality Score to your ads. It's based on relevance, CTR, and landing page quality. Higher scores lead to better ad placement and lower CPC.\n",
    "\n",
    "*7. Ad Position:* This shows where your ad appears on the search results page. Aim for top positions for more visibility.\n",
    "\n",
    "*8. Ad Extensions:* These are additional pieces of information that enhance your ad, like site links, phone numbers, and reviews.\n",
    "\n",
    "*9. Ad Scheduling:* Control when your ads appear to target your audience at the right time.\n",
    "\n",
    "*10. Geographic Targeting:* Show your ads to users in specific locations to reach your ideal customers.\n",
    "\n",
    "*11. Remarketing:* Target users who've previously visited your site but didn't convert. It's a powerful way to re-engage potential customers.\n",
    "\n",
    "*12. Ad Groups:* Organize your ads into groups based on keywords or themes for better management.\n",
    "\n",
    "*13. Budget Management:* Set daily or monthly budgets to control your ad spend.\n",
    "\n",
    "*14. Ad Auction:* Understand how Google determines which ads to display for a given search query.\n",
    "\n",
    "*15. A/B Testing:* Continuously test different ad elements to optimize performance."
   ]
  },
  {
   "cell_type": "code",
   "execution_count": 61,
   "id": "2aa155ea",
   "metadata": {
    "scrolled": true
   },
   "outputs": [
    {
     "data": {
      "text/html": [
       "<div>\n",
       "<style scoped>\n",
       "    .dataframe tbody tr th:only-of-type {\n",
       "        vertical-align: middle;\n",
       "    }\n",
       "\n",
       "    .dataframe tbody tr th {\n",
       "        vertical-align: top;\n",
       "    }\n",
       "\n",
       "    .dataframe thead th {\n",
       "        text-align: right;\n",
       "    }\n",
       "</style>\n",
       "<table border=\"1\" class=\"dataframe\">\n",
       "  <thead>\n",
       "    <tr style=\"text-align: right;\">\n",
       "      <th></th>\n",
       "      <th>Sr no</th>\n",
       "      <th>Impressions</th>\n",
       "      <th>Clicks</th>\n",
       "      <th>Cost</th>\n",
       "      <th>CTR</th>\n",
       "      <th>CPC</th>\n",
       "      <th>Cold Leads</th>\n",
       "      <th>Warm Leads</th>\n",
       "      <th>Hot Leads</th>\n",
       "    </tr>\n",
       "  </thead>\n",
       "  <tbody>\n",
       "    <tr>\n",
       "      <th>0</th>\n",
       "      <td>00:00:00</td>\n",
       "      <td>9241</td>\n",
       "      <td>554</td>\n",
       "      <td>577</td>\n",
       "      <td>0.06</td>\n",
       "      <td>1.041516</td>\n",
       "      <td>22</td>\n",
       "      <td>11</td>\n",
       "      <td>2</td>\n",
       "    </tr>\n",
       "    <tr>\n",
       "      <th>1</th>\n",
       "      <td>00:30:00</td>\n",
       "      <td>8873</td>\n",
       "      <td>355</td>\n",
       "      <td>498</td>\n",
       "      <td>0.04</td>\n",
       "      <td>1.402817</td>\n",
       "      <td>14</td>\n",
       "      <td>7</td>\n",
       "      <td>1</td>\n",
       "    </tr>\n",
       "    <tr>\n",
       "      <th>2</th>\n",
       "      <td>01:00:00</td>\n",
       "      <td>3956</td>\n",
       "      <td>119</td>\n",
       "      <td>396</td>\n",
       "      <td>0.03</td>\n",
       "      <td>3.327731</td>\n",
       "      <td>5</td>\n",
       "      <td>3</td>\n",
       "      <td>1</td>\n",
       "    </tr>\n",
       "    <tr>\n",
       "      <th>3</th>\n",
       "      <td>01:30:00</td>\n",
       "      <td>956</td>\n",
       "      <td>38</td>\n",
       "      <td>95</td>\n",
       "      <td>0.04</td>\n",
       "      <td>2.500000</td>\n",
       "      <td>2</td>\n",
       "      <td>1</td>\n",
       "      <td>0</td>\n",
       "    </tr>\n",
       "    <tr>\n",
       "      <th>4</th>\n",
       "      <td>02:00:00</td>\n",
       "      <td>548</td>\n",
       "      <td>11</td>\n",
       "      <td>41</td>\n",
       "      <td>0.02</td>\n",
       "      <td>3.727273</td>\n",
       "      <td>0</td>\n",
       "      <td>0</td>\n",
       "      <td>0</td>\n",
       "    </tr>\n",
       "  </tbody>\n",
       "</table>\n",
       "</div>"
      ],
      "text/plain": [
       "      Sr no  Impressions   Clicks  Cost    CTR       CPC  Cold Leads   \\\n",
       "0  00:00:00          9241     554    577  0.06  1.041516           22   \n",
       "1  00:30:00          8873     355    498  0.04  1.402817           14   \n",
       "2  01:00:00          3956     119    396  0.03  3.327731            5   \n",
       "3  01:30:00           956      38     95  0.04  2.500000            2   \n",
       "4  02:00:00           548      11     41  0.02  3.727273            0   \n",
       "\n",
       "   Warm Leads  Hot Leads  \n",
       "0          11          2  \n",
       "1           7          1  \n",
       "2           3          1  \n",
       "3           1          0  \n",
       "4           0          0  "
      ]
     },
     "execution_count": 61,
     "metadata": {},
     "output_type": "execute_result"
    }
   ],
   "source": [
    "import pandas as pd\n",
    "dataset = pd.read_excel(\"./datasets/Google ads 20th june data swachanda.xlsx\")\n",
    "dataset.head(5)"
   ]
  },
  {
   "cell_type": "code",
   "execution_count": 73,
   "id": "ba7c804e",
   "metadata": {},
   "outputs": [],
   "source": [
    "dataset = dataset.drop(\"Sr no\",axis=1)"
   ]
  },
  {
   "cell_type": "code",
   "execution_count": 74,
   "id": "401c1104",
   "metadata": {},
   "outputs": [
    {
     "data": {
      "text/plain": [
       "Impressions     206998.000000\n",
       "Clicks           31993.000000\n",
       "Cost             16405.000000\n",
       "CTR                  5.206900\n",
       "CPC                 98.146437\n",
       "Cold Leads        1279.000000\n",
       "Warm Leads         649.000000\n",
       "Hot Leads          135.000000\n",
       "dtype: float64"
      ]
     },
     "execution_count": 74,
     "metadata": {},
     "output_type": "execute_result"
    }
   ],
   "source": [
    "dataset.sum()"
   ]
  },
  {
   "cell_type": "code",
   "execution_count": 77,
   "id": "0b76ad58",
   "metadata": {},
   "outputs": [
    {
     "data": {
      "text/plain": [
       "Impressions     4312.458333\n",
       "Clicks           666.520833\n",
       "Cost             341.770833\n",
       "CTR                0.108477\n",
       "CPC                2.230601\n",
       "Cold Leads        26.645833\n",
       "Warm Leads        13.520833\n",
       "Hot Leads          2.812500\n",
       "dtype: float64"
      ]
     },
     "execution_count": 77,
     "metadata": {},
     "output_type": "execute_result"
    }
   ],
   "source": [
    "dataset.mean()"
   ]
  },
  {
   "cell_type": "code",
   "execution_count": 78,
   "id": "d2f79935",
   "metadata": {},
   "outputs": [
    {
     "data": {
      "text/plain": [
       "Impressions     4045.0000\n",
       "Clicks           449.0000\n",
       "Cost             287.0000\n",
       "CTR                0.1300\n",
       "CPC                0.6322\n",
       "Cold Leads        18.0000\n",
       "Warm Leads         9.5000\n",
       "Hot Leads          2.0000\n",
       "dtype: float64"
      ]
     },
     "execution_count": 78,
     "metadata": {},
     "output_type": "execute_result"
    }
   ],
   "source": [
    "dataset.median()"
   ]
  },
  {
   "cell_type": "markdown",
   "id": "a5501983",
   "metadata": {},
   "source": [
    "#### About Creating data bars in the excel \n",
    "- Vlookup -> For Random values get the the value from the column"
   ]
  },
  {
   "cell_type": "markdown",
   "id": "1cce0f6e",
   "metadata": {},
   "source": [
    "## October batch session 7 (refer: https://www.youtube.com/watch?v=bX8lh_PU2V4)\n",
    "Day - 8 video -> 26th Oct DSMLAI October Batch -> https://youtu.be/bX8lh_PU2V4"
   ]
  },
  {
   "cell_type": "markdown",
   "id": "d295273a",
   "metadata": {},
   "source": [
    "### simple linear regression\n",
    "-> apply linear regression on revenue column to predict next value\n",
    "\n",
    "### problem statement -- Here we are interested to know if we can apply linear regression on revenue column to predict next values"
   ]
  },
  {
   "cell_type": "code",
   "execution_count": 62,
   "id": "6ddd6841",
   "metadata": {},
   "outputs": [],
   "source": [
    "import pandas as pd\n",
    "import numpy as np\n",
    "import matplotlib.pyplot as plt\n",
    "from sklearn.preprocessing import LabelEncoder"
   ]
  },
  {
   "cell_type": "code",
   "execution_count": 38,
   "id": "0ee0b0c7",
   "metadata": {},
   "outputs": [
    {
     "data": {
      "text/html": [
       "<div>\n",
       "<style scoped>\n",
       "    .dataframe tbody tr th:only-of-type {\n",
       "        vertical-align: middle;\n",
       "    }\n",
       "\n",
       "    .dataframe tbody tr th {\n",
       "        vertical-align: top;\n",
       "    }\n",
       "\n",
       "    .dataframe thead th {\n",
       "        text-align: right;\n",
       "    }\n",
       "</style>\n",
       "<table border=\"1\" class=\"dataframe\">\n",
       "  <thead>\n",
       "    <tr style=\"text-align: right;\">\n",
       "      <th></th>\n",
       "      <th>Attributed Touch Type</th>\n",
       "      <th>Attributed Touch Time</th>\n",
       "      <th>Install Time</th>\n",
       "      <th>Event Time</th>\n",
       "      <th>Event Name</th>\n",
       "      <th>Event Value</th>\n",
       "      <th>Event Revenue</th>\n",
       "      <th>Event Revenue Currency</th>\n",
       "      <th>Event Revenue INR</th>\n",
       "      <th>Cost Model</th>\n",
       "      <th>...</th>\n",
       "      <th>Is Retargeting</th>\n",
       "      <th>Retargeting Conversion Type</th>\n",
       "      <th>Is Primary Attribution</th>\n",
       "      <th>Attribution Lookback</th>\n",
       "      <th>Reengagement Window</th>\n",
       "      <th>Match Type</th>\n",
       "      <th>User Agent</th>\n",
       "      <th>HTTP Referrer</th>\n",
       "      <th>Original URL</th>\n",
       "      <th>Store Product Page</th>\n",
       "    </tr>\n",
       "  </thead>\n",
       "  <tbody>\n",
       "    <tr>\n",
       "      <th>0</th>\n",
       "      <td>click</td>\n",
       "      <td>2021-10-20 23:37:09</td>\n",
       "      <td>2021-10-20 23:52:09</td>\n",
       "      <td>2021-10-20 23:58:59</td>\n",
       "      <td>af_address_add</td>\n",
       "      <td>{\"af_city\":\"Pune\",\"af_content\":\"Godrej Infinit...</td>\n",
       "      <td>NaN</td>\n",
       "      <td>USD</td>\n",
       "      <td>NaN</td>\n",
       "      <td>NaN</td>\n",
       "      <td>...</td>\n",
       "      <td>False</td>\n",
       "      <td>NaN</td>\n",
       "      <td>True</td>\n",
       "      <td>30d</td>\n",
       "      <td>NaN</td>\n",
       "      <td>srn</td>\n",
       "      <td>Dalvik/2.1.0 (Linux; U; Android 10; SM-A750F B...</td>\n",
       "      <td>NaN</td>\n",
       "      <td>NaN</td>\n",
       "      <td>NaN</td>\n",
       "    </tr>\n",
       "    <tr>\n",
       "      <th>1</th>\n",
       "      <td>click</td>\n",
       "      <td>2021-10-14 20:15:35</td>\n",
       "      <td>2021-10-14 20:16:10</td>\n",
       "      <td>2021-10-20 23:51:36</td>\n",
       "      <td>af_address_add</td>\n",
       "      <td>{\"af_city\":\"Gurgaon-Faridabad\",\"af_content\":\"B...</td>\n",
       "      <td>NaN</td>\n",
       "      <td>USD</td>\n",
       "      <td>NaN</td>\n",
       "      <td>NaN</td>\n",
       "      <td>...</td>\n",
       "      <td>False</td>\n",
       "      <td>NaN</td>\n",
       "      <td>True</td>\n",
       "      <td>30d</td>\n",
       "      <td>NaN</td>\n",
       "      <td>srn</td>\n",
       "      <td>Dalvik/2.1.0 (Linux; U; Android 11; RMX3381 Bu...</td>\n",
       "      <td>NaN</td>\n",
       "      <td>NaN</td>\n",
       "      <td>NaN</td>\n",
       "    </tr>\n",
       "    <tr>\n",
       "      <th>2</th>\n",
       "      <td>click</td>\n",
       "      <td>2021-10-20 23:36:18</td>\n",
       "      <td>2021-10-20 23:36:42</td>\n",
       "      <td>2021-10-20 23:40:17</td>\n",
       "      <td>af_first_subscription</td>\n",
       "      <td>{\"af_currency\":\"INR\",\"af_revenue\":24,\"af_order...</td>\n",
       "      <td>24.0</td>\n",
       "      <td>INR</td>\n",
       "      <td>24.0</td>\n",
       "      <td>NaN</td>\n",
       "      <td>...</td>\n",
       "      <td>False</td>\n",
       "      <td>NaN</td>\n",
       "      <td>True</td>\n",
       "      <td>30d</td>\n",
       "      <td>NaN</td>\n",
       "      <td>srn</td>\n",
       "      <td>Dalvik/2.1.0 (Linux; U; Android 11; M2101K6I B...</td>\n",
       "      <td>NaN</td>\n",
       "      <td>NaN</td>\n",
       "      <td>NaN</td>\n",
       "    </tr>\n",
       "  </tbody>\n",
       "</table>\n",
       "<p>3 rows × 59 columns</p>\n",
       "</div>"
      ],
      "text/plain": [
       "  Attributed Touch Type Attributed Touch Time         Install Time  \\\n",
       "0                 click   2021-10-20 23:37:09  2021-10-20 23:52:09   \n",
       "1                 click   2021-10-14 20:15:35  2021-10-14 20:16:10   \n",
       "2                 click   2021-10-20 23:36:18  2021-10-20 23:36:42   \n",
       "\n",
       "            Event Time             Event Name  \\\n",
       "0  2021-10-20 23:58:59         af_address_add   \n",
       "1  2021-10-20 23:51:36         af_address_add   \n",
       "2  2021-10-20 23:40:17  af_first_subscription   \n",
       "\n",
       "                                         Event Value  Event Revenue  \\\n",
       "0  {\"af_city\":\"Pune\",\"af_content\":\"Godrej Infinit...            NaN   \n",
       "1  {\"af_city\":\"Gurgaon-Faridabad\",\"af_content\":\"B...            NaN   \n",
       "2  {\"af_currency\":\"INR\",\"af_revenue\":24,\"af_order...           24.0   \n",
       "\n",
       "  Event Revenue Currency  Event Revenue INR  Cost Model  ...  Is Retargeting  \\\n",
       "0                    USD                NaN         NaN  ...           False   \n",
       "1                    USD                NaN         NaN  ...           False   \n",
       "2                    INR               24.0         NaN  ...           False   \n",
       "\n",
       "   Retargeting Conversion Type Is Primary Attribution  Attribution Lookback  \\\n",
       "0                          NaN                   True                   30d   \n",
       "1                          NaN                   True                   30d   \n",
       "2                          NaN                   True                   30d   \n",
       "\n",
       "  Reengagement Window Match Type  \\\n",
       "0                 NaN        srn   \n",
       "1                 NaN        srn   \n",
       "2                 NaN        srn   \n",
       "\n",
       "                                          User Agent  HTTP Referrer  \\\n",
       "0  Dalvik/2.1.0 (Linux; U; Android 10; SM-A750F B...            NaN   \n",
       "1  Dalvik/2.1.0 (Linux; U; Android 11; RMX3381 Bu...            NaN   \n",
       "2  Dalvik/2.1.0 (Linux; U; Android 11; M2101K6I B...            NaN   \n",
       "\n",
       "  Original URL  Store Product Page  \n",
       "0          NaN                 NaN  \n",
       "1          NaN                 NaN  \n",
       "2          NaN                 NaN  \n",
       "\n",
       "[3 rows x 59 columns]"
      ]
     },
     "execution_count": 38,
     "metadata": {},
     "output_type": "execute_result"
    }
   ],
   "source": [
    "file = pd.read_csv(\"./datasets/1 to 20 oct in app bbdaily.csv\")\n",
    "file.head(3)"
   ]
  },
  {
   "cell_type": "markdown",
   "id": "c5036308",
   "metadata": {},
   "source": [
    "#### data overview "
   ]
  },
  {
   "cell_type": "code",
   "execution_count": 39,
   "id": "4936d1ef",
   "metadata": {},
   "outputs": [
    {
     "data": {
      "text/plain": [
       "(13302, 59)"
      ]
     },
     "execution_count": 39,
     "metadata": {},
     "output_type": "execute_result"
    }
   ],
   "source": [
    "file.shape   # 13302 rows and 59 columns are presented in the dataset"
   ]
  },
  {
   "cell_type": "markdown",
   "id": "40ea54d0",
   "metadata": {},
   "source": [
    "#### Descriptive Analysis "
   ]
  },
  {
   "cell_type": "code",
   "execution_count": 40,
   "id": "5b7cc79b",
   "metadata": {},
   "outputs": [
    {
     "data": {
      "text/html": [
       "<div>\n",
       "<style scoped>\n",
       "    .dataframe tbody tr th:only-of-type {\n",
       "        vertical-align: middle;\n",
       "    }\n",
       "\n",
       "    .dataframe tbody tr th {\n",
       "        vertical-align: top;\n",
       "    }\n",
       "\n",
       "    .dataframe thead th {\n",
       "        text-align: right;\n",
       "    }\n",
       "</style>\n",
       "<table border=\"1\" class=\"dataframe\">\n",
       "  <thead>\n",
       "    <tr style=\"text-align: right;\">\n",
       "      <th></th>\n",
       "      <th>Event Revenue</th>\n",
       "      <th>Event Revenue INR</th>\n",
       "      <th>Cost Model</th>\n",
       "      <th>Cost Value</th>\n",
       "      <th>Cost Currency</th>\n",
       "      <th>Partner</th>\n",
       "      <th>Campaign ID</th>\n",
       "      <th>Adset ID</th>\n",
       "      <th>Ad</th>\n",
       "      <th>Ad ID</th>\n",
       "      <th>...</th>\n",
       "      <th>Customer User ID</th>\n",
       "      <th>Android ID</th>\n",
       "      <th>IMEI</th>\n",
       "      <th>IDFA</th>\n",
       "      <th>IDFV</th>\n",
       "      <th>Retargeting Conversion Type</th>\n",
       "      <th>Reengagement Window</th>\n",
       "      <th>HTTP Referrer</th>\n",
       "      <th>Original URL</th>\n",
       "      <th>Store Product Page</th>\n",
       "    </tr>\n",
       "  </thead>\n",
       "  <tbody>\n",
       "    <tr>\n",
       "      <th>count</th>\n",
       "      <td>6865.000000</td>\n",
       "      <td>6865.000000</td>\n",
       "      <td>0.0</td>\n",
       "      <td>0.0</td>\n",
       "      <td>0.0</td>\n",
       "      <td>0.0</td>\n",
       "      <td>1.330200e+04</td>\n",
       "      <td>1.330200e+04</td>\n",
       "      <td>3.430000e+02</td>\n",
       "      <td>3.430000e+02</td>\n",
       "      <td>...</td>\n",
       "      <td>0.0</td>\n",
       "      <td>0.0</td>\n",
       "      <td>0.0</td>\n",
       "      <td>0.0</td>\n",
       "      <td>0.0</td>\n",
       "      <td>0.0</td>\n",
       "      <td>0.0</td>\n",
       "      <td>0.0</td>\n",
       "      <td>0.0</td>\n",
       "      <td>0.0</td>\n",
       "    </tr>\n",
       "    <tr>\n",
       "      <th>mean</th>\n",
       "      <td>439.280774</td>\n",
       "      <td>439.280774</td>\n",
       "      <td>NaN</td>\n",
       "      <td>NaN</td>\n",
       "      <td>NaN</td>\n",
       "      <td>NaN</td>\n",
       "      <td>1.060031e+10</td>\n",
       "      <td>1.096819e+11</td>\n",
       "      <td>4.814073e+11</td>\n",
       "      <td>4.814073e+11</td>\n",
       "      <td>...</td>\n",
       "      <td>NaN</td>\n",
       "      <td>NaN</td>\n",
       "      <td>NaN</td>\n",
       "      <td>NaN</td>\n",
       "      <td>NaN</td>\n",
       "      <td>NaN</td>\n",
       "      <td>NaN</td>\n",
       "      <td>NaN</td>\n",
       "      <td>NaN</td>\n",
       "      <td>NaN</td>\n",
       "    </tr>\n",
       "    <tr>\n",
       "      <th>std</th>\n",
       "      <td>704.729281</td>\n",
       "      <td>704.729281</td>\n",
       "      <td>NaN</td>\n",
       "      <td>NaN</td>\n",
       "      <td>NaN</td>\n",
       "      <td>NaN</td>\n",
       "      <td>1.264224e+09</td>\n",
       "      <td>8.186245e+09</td>\n",
       "      <td>4.372491e+09</td>\n",
       "      <td>4.372491e+09</td>\n",
       "      <td>...</td>\n",
       "      <td>NaN</td>\n",
       "      <td>NaN</td>\n",
       "      <td>NaN</td>\n",
       "      <td>NaN</td>\n",
       "      <td>NaN</td>\n",
       "      <td>NaN</td>\n",
       "      <td>NaN</td>\n",
       "      <td>NaN</td>\n",
       "      <td>NaN</td>\n",
       "      <td>NaN</td>\n",
       "    </tr>\n",
       "    <tr>\n",
       "      <th>min</th>\n",
       "      <td>0.000000</td>\n",
       "      <td>0.000000</td>\n",
       "      <td>NaN</td>\n",
       "      <td>NaN</td>\n",
       "      <td>NaN</td>\n",
       "      <td>NaN</td>\n",
       "      <td>1.003993e+10</td>\n",
       "      <td>9.785093e+10</td>\n",
       "      <td>4.797275e+11</td>\n",
       "      <td>4.797275e+11</td>\n",
       "      <td>...</td>\n",
       "      <td>NaN</td>\n",
       "      <td>NaN</td>\n",
       "      <td>NaN</td>\n",
       "      <td>NaN</td>\n",
       "      <td>NaN</td>\n",
       "      <td>NaN</td>\n",
       "      <td>NaN</td>\n",
       "      <td>NaN</td>\n",
       "      <td>NaN</td>\n",
       "      <td>NaN</td>\n",
       "    </tr>\n",
       "    <tr>\n",
       "      <th>25%</th>\n",
       "      <td>25.000000</td>\n",
       "      <td>25.000000</td>\n",
       "      <td>NaN</td>\n",
       "      <td>NaN</td>\n",
       "      <td>NaN</td>\n",
       "      <td>NaN</td>\n",
       "      <td>1.004679e+10</td>\n",
       "      <td>1.019315e+11</td>\n",
       "      <td>4.797275e+11</td>\n",
       "      <td>4.797275e+11</td>\n",
       "      <td>...</td>\n",
       "      <td>NaN</td>\n",
       "      <td>NaN</td>\n",
       "      <td>NaN</td>\n",
       "      <td>NaN</td>\n",
       "      <td>NaN</td>\n",
       "      <td>NaN</td>\n",
       "      <td>NaN</td>\n",
       "      <td>NaN</td>\n",
       "      <td>NaN</td>\n",
       "      <td>NaN</td>\n",
       "    </tr>\n",
       "    <tr>\n",
       "      <th>50%</th>\n",
       "      <td>80.000000</td>\n",
       "      <td>80.000000</td>\n",
       "      <td>NaN</td>\n",
       "      <td>NaN</td>\n",
       "      <td>NaN</td>\n",
       "      <td>NaN</td>\n",
       "      <td>1.005038e+10</td>\n",
       "      <td>1.136281e+11</td>\n",
       "      <td>4.797275e+11</td>\n",
       "      <td>4.797275e+11</td>\n",
       "      <td>...</td>\n",
       "      <td>NaN</td>\n",
       "      <td>NaN</td>\n",
       "      <td>NaN</td>\n",
       "      <td>NaN</td>\n",
       "      <td>NaN</td>\n",
       "      <td>NaN</td>\n",
       "      <td>NaN</td>\n",
       "      <td>NaN</td>\n",
       "      <td>NaN</td>\n",
       "      <td>NaN</td>\n",
       "    </tr>\n",
       "    <tr>\n",
       "      <th>75%</th>\n",
       "      <td>500.000000</td>\n",
       "      <td>500.000000</td>\n",
       "      <td>NaN</td>\n",
       "      <td>NaN</td>\n",
       "      <td>NaN</td>\n",
       "      <td>NaN</td>\n",
       "      <td>1.005040e+10</td>\n",
       "      <td>1.136281e+11</td>\n",
       "      <td>4.797275e+11</td>\n",
       "      <td>4.797275e+11</td>\n",
       "      <td>...</td>\n",
       "      <td>NaN</td>\n",
       "      <td>NaN</td>\n",
       "      <td>NaN</td>\n",
       "      <td>NaN</td>\n",
       "      <td>NaN</td>\n",
       "      <td>NaN</td>\n",
       "      <td>NaN</td>\n",
       "      <td>NaN</td>\n",
       "      <td>NaN</td>\n",
       "      <td>NaN</td>\n",
       "    </tr>\n",
       "    <tr>\n",
       "      <th>max</th>\n",
       "      <td>12000.000000</td>\n",
       "      <td>12000.000000</td>\n",
       "      <td>NaN</td>\n",
       "      <td>NaN</td>\n",
       "      <td>NaN</td>\n",
       "      <td>NaN</td>\n",
       "      <td>1.482331e+10</td>\n",
       "      <td>1.281670e+11</td>\n",
       "      <td>4.995395e+11</td>\n",
       "      <td>4.995395e+11</td>\n",
       "      <td>...</td>\n",
       "      <td>NaN</td>\n",
       "      <td>NaN</td>\n",
       "      <td>NaN</td>\n",
       "      <td>NaN</td>\n",
       "      <td>NaN</td>\n",
       "      <td>NaN</td>\n",
       "      <td>NaN</td>\n",
       "      <td>NaN</td>\n",
       "      <td>NaN</td>\n",
       "      <td>NaN</td>\n",
       "    </tr>\n",
       "  </tbody>\n",
       "</table>\n",
       "<p>8 rows × 22 columns</p>\n",
       "</div>"
      ],
      "text/plain": [
       "       Event Revenue  Event Revenue INR  Cost Model  Cost Value  \\\n",
       "count    6865.000000        6865.000000         0.0         0.0   \n",
       "mean      439.280774         439.280774         NaN         NaN   \n",
       "std       704.729281         704.729281         NaN         NaN   \n",
       "min         0.000000           0.000000         NaN         NaN   \n",
       "25%        25.000000          25.000000         NaN         NaN   \n",
       "50%        80.000000          80.000000         NaN         NaN   \n",
       "75%       500.000000         500.000000         NaN         NaN   \n",
       "max     12000.000000       12000.000000         NaN         NaN   \n",
       "\n",
       "       Cost Currency  Partner   Campaign ID      Adset ID            Ad  \\\n",
       "count            0.0      0.0  1.330200e+04  1.330200e+04  3.430000e+02   \n",
       "mean             NaN      NaN  1.060031e+10  1.096819e+11  4.814073e+11   \n",
       "std              NaN      NaN  1.264224e+09  8.186245e+09  4.372491e+09   \n",
       "min              NaN      NaN  1.003993e+10  9.785093e+10  4.797275e+11   \n",
       "25%              NaN      NaN  1.004679e+10  1.019315e+11  4.797275e+11   \n",
       "50%              NaN      NaN  1.005038e+10  1.136281e+11  4.797275e+11   \n",
       "75%              NaN      NaN  1.005040e+10  1.136281e+11  4.797275e+11   \n",
       "max              NaN      NaN  1.482331e+10  1.281670e+11  4.995395e+11   \n",
       "\n",
       "              Ad ID  ...  Customer User ID  Android ID  IMEI  IDFA  IDFV  \\\n",
       "count  3.430000e+02  ...               0.0         0.0   0.0   0.0   0.0   \n",
       "mean   4.814073e+11  ...               NaN         NaN   NaN   NaN   NaN   \n",
       "std    4.372491e+09  ...               NaN         NaN   NaN   NaN   NaN   \n",
       "min    4.797275e+11  ...               NaN         NaN   NaN   NaN   NaN   \n",
       "25%    4.797275e+11  ...               NaN         NaN   NaN   NaN   NaN   \n",
       "50%    4.797275e+11  ...               NaN         NaN   NaN   NaN   NaN   \n",
       "75%    4.797275e+11  ...               NaN         NaN   NaN   NaN   NaN   \n",
       "max    4.995395e+11  ...               NaN         NaN   NaN   NaN   NaN   \n",
       "\n",
       "       Retargeting Conversion Type  Reengagement Window  HTTP Referrer  \\\n",
       "count                          0.0                  0.0            0.0   \n",
       "mean                           NaN                  NaN            NaN   \n",
       "std                            NaN                  NaN            NaN   \n",
       "min                            NaN                  NaN            NaN   \n",
       "25%                            NaN                  NaN            NaN   \n",
       "50%                            NaN                  NaN            NaN   \n",
       "75%                            NaN                  NaN            NaN   \n",
       "max                            NaN                  NaN            NaN   \n",
       "\n",
       "       Original URL  Store Product Page  \n",
       "count           0.0                 0.0  \n",
       "mean            NaN                 NaN  \n",
       "std             NaN                 NaN  \n",
       "min             NaN                 NaN  \n",
       "25%             NaN                 NaN  \n",
       "50%             NaN                 NaN  \n",
       "75%             NaN                 NaN  \n",
       "max             NaN                 NaN  \n",
       "\n",
       "[8 rows x 22 columns]"
      ]
     },
     "execution_count": 40,
     "metadata": {},
     "output_type": "execute_result"
    }
   ],
   "source": [
    "file.describe()"
   ]
  },
  {
   "cell_type": "markdown",
   "id": "124641ef",
   "metadata": {},
   "source": [
    "#### Data visulization for basic descriptive analysis can be done for selected columns only\n",
    "\n",
    "commnets written are the **insights** "
   ]
  },
  {
   "cell_type": "code",
   "execution_count": 53,
   "id": "f8657f58",
   "metadata": {},
   "outputs": [
    {
     "data": {
      "image/png": "[encoded data removed]",
      "text/plain": [
       "<Figure size 600x400 with 1 Axes>"
      ]
     },
     "metadata": {},
     "output_type": "display_data"
    }
   ],
   "source": [
    "plt.figure(figsize=(6,4))\n",
    "plt.hist(file[\"Event Name\"])\n",
    "plt.show()\n",
    "# this chart is showing us how many people have perfomed which kind of event in the application after installing "
   ]
  },
  {
   "cell_type": "code",
   "execution_count": 59,
   "id": "f611c211",
   "metadata": {},
   "outputs": [
    {
     "data": {
      "text/plain": [
       "0                  af_address_add\n",
       "1                  af_address_add\n",
       "2           af_first_subscription\n",
       "3                  af_address_add\n",
       "4           af_first_subscription\n",
       "                   ...           \n",
       "13297              af_address_add\n",
       "13298              af_first_topup\n",
       "13299       af_first_subscription\n",
       "13300              af_address_add\n",
       "13301    af_first_wallet_recharge\n",
       "Name: Event Name, Length: 13302, dtype: object"
      ]
     },
     "execution_count": 59,
     "metadata": {},
     "output_type": "execute_result"
    }
   ],
   "source": [
    "file[\"Event Name\"]     # in this way the column is visible from the dataset"
   ]
  },
  {
   "cell_type": "code",
   "execution_count": 54,
   "id": "652db4b6",
   "metadata": {},
   "outputs": [
    {
     "data": {
      "text/plain": [
       "Event Name\n",
       "af_address_add              6437\n",
       "af_first_wallet_recharge    2876\n",
       "af_first_subscription       2712\n",
       "af_first_topup              1277\n",
       "Name: count, dtype: int64"
      ]
     },
     "execution_count": 54,
     "metadata": {},
     "output_type": "execute_result"
    }
   ],
   "source": [
    "file[\"Event Name\"].value_counts()"
   ]
  },
  {
   "cell_type": "code",
   "execution_count": 57,
   "id": "f2475647",
   "metadata": {},
   "outputs": [
    {
     "data": {
      "text/plain": [
       "City\n",
       "Bangalore         1860\n",
       "Delhi             1492\n",
       "Mumbai            1458\n",
       "Pune              1193\n",
       "Thane              783\n",
       "                  ... \n",
       "Ananandapuram        1\n",
       "Karnamadhabpur       1\n",
       "Gandepalli           1\n",
       "Aizawl               1\n",
       "Mancherial           1\n",
       "Name: count, Length: 568, dtype: int64"
      ]
     },
     "execution_count": 57,
     "metadata": {},
     "output_type": "execute_result"
    },
    {
     "data": {
      "image/png": "[encoded data removed]",
      "text/plain": [
       "<Figure size 600x400 with 1 Axes>"
      ]
     },
     "metadata": {},
     "output_type": "display_data"
    }
   ],
   "source": [
    "plt.figure(figsize=(6,4))           ## similarly for the city\n",
    "plt.hist(file[\"City\"])\n",
    "file[\"City\"].value_counts()"
   ]
  },
  {
   "cell_type": "markdown",
   "id": "bd03816d",
   "metadata": {},
   "source": [
    "#### Data Preprocessing ->  many columns are there which are irrelevant. So instead of removing irrelevant data I will take only which is needed.  <br> Event Revenue is in the (6th) 7th column "
   ]
  },
  {
   "cell_type": "code",
   "execution_count": 41,
   "id": "30f04d83",
   "metadata": {},
   "outputs": [
    {
     "data": {
      "text/plain": [
       "'click'"
      ]
     },
     "execution_count": 41,
     "metadata": {},
     "output_type": "execute_result"
    }
   ],
   "source": [
    "file.iloc[0,0]      # [row , column ]"
   ]
  },
  {
   "cell_type": "code",
   "execution_count": 42,
   "id": "3338814c",
   "metadata": {},
   "outputs": [
    {
     "data": {
      "text/html": [
       "<div>\n",
       "<style scoped>\n",
       "    .dataframe tbody tr th:only-of-type {\n",
       "        vertical-align: middle;\n",
       "    }\n",
       "\n",
       "    .dataframe tbody tr th {\n",
       "        vertical-align: top;\n",
       "    }\n",
       "\n",
       "    .dataframe thead th {\n",
       "        text-align: right;\n",
       "    }\n",
       "</style>\n",
       "<table border=\"1\" class=\"dataframe\">\n",
       "  <thead>\n",
       "    <tr style=\"text-align: right;\">\n",
       "      <th></th>\n",
       "      <th>Attributed Touch Type</th>\n",
       "      <th>Attributed Touch Time</th>\n",
       "      <th>Install Time</th>\n",
       "      <th>Event Time</th>\n",
       "      <th>Event Name</th>\n",
       "      <th>Event Value</th>\n",
       "    </tr>\n",
       "  </thead>\n",
       "  <tbody>\n",
       "    <tr>\n",
       "      <th>0</th>\n",
       "      <td>click</td>\n",
       "      <td>2021-10-20 23:37:09</td>\n",
       "      <td>2021-10-20 23:52:09</td>\n",
       "      <td>2021-10-20 23:58:59</td>\n",
       "      <td>af_address_add</td>\n",
       "      <td>{\"af_city\":\"Pune\",\"af_content\":\"Godrej Infinit...</td>\n",
       "    </tr>\n",
       "    <tr>\n",
       "      <th>1</th>\n",
       "      <td>click</td>\n",
       "      <td>2021-10-14 20:15:35</td>\n",
       "      <td>2021-10-14 20:16:10</td>\n",
       "      <td>2021-10-20 23:51:36</td>\n",
       "      <td>af_address_add</td>\n",
       "      <td>{\"af_city\":\"Gurgaon-Faridabad\",\"af_content\":\"B...</td>\n",
       "    </tr>\n",
       "    <tr>\n",
       "      <th>2</th>\n",
       "      <td>click</td>\n",
       "      <td>2021-10-20 23:36:18</td>\n",
       "      <td>2021-10-20 23:36:42</td>\n",
       "      <td>2021-10-20 23:40:17</td>\n",
       "      <td>af_first_subscription</td>\n",
       "      <td>{\"af_currency\":\"INR\",\"af_revenue\":24,\"af_order...</td>\n",
       "    </tr>\n",
       "    <tr>\n",
       "      <th>3</th>\n",
       "      <td>click</td>\n",
       "      <td>2021-10-20 23:36:18</td>\n",
       "      <td>2021-10-20 23:36:42</td>\n",
       "      <td>2021-10-20 23:40:15</td>\n",
       "      <td>af_address_add</td>\n",
       "      <td>{\"af_city\":\"Mumbai\",\"af_content\":\"DAULAT NAGAR...</td>\n",
       "    </tr>\n",
       "    <tr>\n",
       "      <th>4</th>\n",
       "      <td>click</td>\n",
       "      <td>2021-10-04 19:36:29</td>\n",
       "      <td>2021-10-04 20:32:59</td>\n",
       "      <td>2021-10-20 23:27:58</td>\n",
       "      <td>af_first_subscription</td>\n",
       "      <td>{\"af_currency\":\"INR\",\"af_revenue\":55,\"af_order...</td>\n",
       "    </tr>\n",
       "    <tr>\n",
       "      <th>...</th>\n",
       "      <td>...</td>\n",
       "      <td>...</td>\n",
       "      <td>...</td>\n",
       "      <td>...</td>\n",
       "      <td>...</td>\n",
       "      <td>...</td>\n",
       "    </tr>\n",
       "    <tr>\n",
       "      <th>13297</th>\n",
       "      <td>click</td>\n",
       "      <td>2021-10-01 00:10:21</td>\n",
       "      <td>2021-10-01 00:11:20</td>\n",
       "      <td>2021-10-01 00:15:43</td>\n",
       "      <td>af_address_add</td>\n",
       "      <td>{\"af_city\":\"Chennai\",\"af_content\":\"VNR Milford...</td>\n",
       "    </tr>\n",
       "    <tr>\n",
       "      <th>13298</th>\n",
       "      <td>click</td>\n",
       "      <td>2021-09-18 19:09:25</td>\n",
       "      <td>2021-09-18 19:10:24</td>\n",
       "      <td>2021-10-01 00:12:46</td>\n",
       "      <td>af_first_topup</td>\n",
       "      <td>{\"af_currency\":\"INR\",\"af_content\":[\"Chocolate ...</td>\n",
       "    </tr>\n",
       "    <tr>\n",
       "      <th>13299</th>\n",
       "      <td>click</td>\n",
       "      <td>2021-10-01 00:00:24</td>\n",
       "      <td>2021-10-01 00:02:24</td>\n",
       "      <td>2021-10-01 00:08:21</td>\n",
       "      <td>af_first_subscription</td>\n",
       "      <td>{\"af_currency\":\"INR\",\"af_revenue\":25,\"af_order...</td>\n",
       "    </tr>\n",
       "    <tr>\n",
       "      <th>13300</th>\n",
       "      <td>click</td>\n",
       "      <td>2021-10-01 00:00:24</td>\n",
       "      <td>2021-10-01 00:02:24</td>\n",
       "      <td>2021-10-01 00:08:15</td>\n",
       "      <td>af_address_add</td>\n",
       "      <td>{\"af_city\":\"Mumbai\",\"af_content\":\"Vitthal Plaz...</td>\n",
       "    </tr>\n",
       "    <tr>\n",
       "      <th>13301</th>\n",
       "      <td>click</td>\n",
       "      <td>2021-09-30 23:46:17</td>\n",
       "      <td>2021-09-30 23:47:39</td>\n",
       "      <td>2021-10-01 00:00:25</td>\n",
       "      <td>af_first_wallet_recharge</td>\n",
       "      <td>{\"af_currency\":\"INR\",\"af_revenue\":20}</td>\n",
       "    </tr>\n",
       "  </tbody>\n",
       "</table>\n",
       "<p>13302 rows × 6 columns</p>\n",
       "</div>"
      ],
      "text/plain": [
       "      Attributed Touch Type Attributed Touch Time         Install Time  \\\n",
       "0                     click   2021-10-20 23:37:09  2021-10-20 23:52:09   \n",
       "1                     click   2021-10-14 20:15:35  2021-10-14 20:16:10   \n",
       "2                     click   2021-10-20 23:36:18  2021-10-20 23:36:42   \n",
       "3                     click   2021-10-20 23:36:18  2021-10-20 23:36:42   \n",
       "4                     click   2021-10-04 19:36:29  2021-10-04 20:32:59   \n",
       "...                     ...                   ...                  ...   \n",
       "13297                 click   2021-10-01 00:10:21  2021-10-01 00:11:20   \n",
       "13298                 click   2021-09-18 19:09:25  2021-09-18 19:10:24   \n",
       "13299                 click   2021-10-01 00:00:24  2021-10-01 00:02:24   \n",
       "13300                 click   2021-10-01 00:00:24  2021-10-01 00:02:24   \n",
       "13301                 click   2021-09-30 23:46:17  2021-09-30 23:47:39   \n",
       "\n",
       "                Event Time                Event Name  \\\n",
       "0      2021-10-20 23:58:59            af_address_add   \n",
       "1      2021-10-20 23:51:36            af_address_add   \n",
       "2      2021-10-20 23:40:17     af_first_subscription   \n",
       "3      2021-10-20 23:40:15            af_address_add   \n",
       "4      2021-10-20 23:27:58     af_first_subscription   \n",
       "...                    ...                       ...   \n",
       "13297  2021-10-01 00:15:43            af_address_add   \n",
       "13298  2021-10-01 00:12:46            af_first_topup   \n",
       "13299  2021-10-01 00:08:21     af_first_subscription   \n",
       "13300  2021-10-01 00:08:15            af_address_add   \n",
       "13301  2021-10-01 00:00:25  af_first_wallet_recharge   \n",
       "\n",
       "                                             Event Value  \n",
       "0      {\"af_city\":\"Pune\",\"af_content\":\"Godrej Infinit...  \n",
       "1      {\"af_city\":\"Gurgaon-Faridabad\",\"af_content\":\"B...  \n",
       "2      {\"af_currency\":\"INR\",\"af_revenue\":24,\"af_order...  \n",
       "3      {\"af_city\":\"Mumbai\",\"af_content\":\"DAULAT NAGAR...  \n",
       "4      {\"af_currency\":\"INR\",\"af_revenue\":55,\"af_order...  \n",
       "...                                                  ...  \n",
       "13297  {\"af_city\":\"Chennai\",\"af_content\":\"VNR Milford...  \n",
       "13298  {\"af_currency\":\"INR\",\"af_content\":[\"Chocolate ...  \n",
       "13299  {\"af_currency\":\"INR\",\"af_revenue\":25,\"af_order...  \n",
       "13300  {\"af_city\":\"Mumbai\",\"af_content\":\"Vitthal Plaz...  \n",
       "13301              {\"af_currency\":\"INR\",\"af_revenue\":20}  \n",
       "\n",
       "[13302 rows x 6 columns]"
      ]
     },
     "execution_count": 42,
     "metadata": {},
     "output_type": "execute_result"
    }
   ],
   "source": [
    "# iloc[row_start_index : row_end_index+1 , column_start_index : column_end_index ]\n",
    "# Eg\n",
    "file.iloc[:,:6]  # this means 0 to end rows and 0 to 5 columns needs to be printed or copied"
   ]
  },
  {
   "cell_type": "code",
   "execution_count": 43,
   "id": "d20f891e",
   "metadata": {},
   "outputs": [
    {
     "data": {
      "text/html": [
       "<div>\n",
       "<style scoped>\n",
       "    .dataframe tbody tr th:only-of-type {\n",
       "        vertical-align: middle;\n",
       "    }\n",
       "\n",
       "    .dataframe tbody tr th {\n",
       "        vertical-align: top;\n",
       "    }\n",
       "\n",
       "    .dataframe thead th {\n",
       "        text-align: right;\n",
       "    }\n",
       "</style>\n",
       "<table border=\"1\" class=\"dataframe\">\n",
       "  <thead>\n",
       "    <tr style=\"text-align: right;\">\n",
       "      <th></th>\n",
       "      <th>Event Revenue</th>\n",
       "      <th>Event Revenue Currency</th>\n",
       "      <th>Event Revenue INR</th>\n",
       "    </tr>\n",
       "  </thead>\n",
       "  <tbody>\n",
       "    <tr>\n",
       "      <th>0</th>\n",
       "      <td>NaN</td>\n",
       "      <td>USD</td>\n",
       "      <td>NaN</td>\n",
       "    </tr>\n",
       "    <tr>\n",
       "      <th>1</th>\n",
       "      <td>NaN</td>\n",
       "      <td>USD</td>\n",
       "      <td>NaN</td>\n",
       "    </tr>\n",
       "  </tbody>\n",
       "</table>\n",
       "</div>"
      ],
      "text/plain": [
       "   Event Revenue Event Revenue Currency  Event Revenue INR\n",
       "0            NaN                    USD                NaN\n",
       "1            NaN                    USD                NaN"
      ]
     },
     "execution_count": 43,
     "metadata": {},
     "output_type": "execute_result"
    }
   ],
   "source": [
    "file.iloc[0:2,[6,7,8]]  # 0 to 2 rows and 6th,7th,8th columns"
   ]
  },
  {
   "cell_type": "code",
   "execution_count": 95,
   "id": "2c8fece1",
   "metadata": {},
   "outputs": [
    {
     "data": {
      "text/plain": [
       "0          NaN\n",
       "1          NaN\n",
       "2         24.0\n",
       "3          NaN\n",
       "4         55.0\n",
       "         ...  \n",
       "13297      NaN\n",
       "13298    321.0\n",
       "13299     25.0\n",
       "13300      NaN\n",
       "13301     20.0\n",
       "Name: Event Revenue, Length: 13302, dtype: float64"
      ]
     },
     "execution_count": 95,
     "metadata": {},
     "output_type": "execute_result"
    }
   ],
   "source": [
    "# iloc[ row , column ]\n",
    "\n",
    "dataset = file.iloc[:,6]  # this means 0 to end rows and 5th column needs to be printed or copied\n",
    "dataset # Event Revenue"
   ]
  },
  {
   "cell_type": "markdown",
   "id": "0f52e132",
   "metadata": {},
   "source": [
    "- iloc[ row , column ]\n",
    "\n",
    "- range -> \"from : to\"\n",
    "- certain -> [index1 , index2 , .....]"
   ]
  },
  {
   "cell_type": "code",
   "execution_count": 96,
   "id": "9b442b12",
   "metadata": {},
   "outputs": [
    {
     "data": {
      "text/plain": [
       "0         True\n",
       "1         True\n",
       "2        False\n",
       "3         True\n",
       "4        False\n",
       "         ...  \n",
       "13297     True\n",
       "13298    False\n",
       "13299    False\n",
       "13300     True\n",
       "13301    False\n",
       "Name: Event Revenue, Length: 13302, dtype: bool"
      ]
     },
     "execution_count": 96,
     "metadata": {},
     "output_type": "execute_result"
    }
   ],
   "source": [
    "dataset.isnull()"
   ]
  },
  {
   "cell_type": "code",
   "execution_count": 97,
   "id": "aa16788b",
   "metadata": {},
   "outputs": [
    {
     "data": {
      "text/plain": [
       "6437"
      ]
     },
     "execution_count": 97,
     "metadata": {},
     "output_type": "execute_result"
    }
   ],
   "source": [
    "dataset.isnull().sum()"
   ]
  },
  {
   "cell_type": "markdown",
   "id": "6623f54b",
   "metadata": {},
   "source": [
    "- 13302 is total nos of rows or values \n",
    "- 6437 is null values "
   ]
  },
  {
   "cell_type": "code",
   "execution_count": 98,
   "id": "0cbb08da",
   "metadata": {},
   "outputs": [
    {
     "data": {
      "text/plain": [
       "48.391219365508945"
      ]
     },
     "execution_count": 98,
     "metadata": {},
     "output_type": "execute_result"
    }
   ],
   "source": [
    "6437/13302 * 100"
   ]
  },
  {
   "cell_type": "markdown",
   "id": "4642e2f7",
   "metadata": {},
   "source": [
    "### so this much percent is null values < 50 <br> but this we are applying for the revenue columns  <br> so for revenue generated we cannot use or put mean,median,mode  instead we need to put \"0\" here "
   ]
  },
  {
   "cell_type": "code",
   "execution_count": 99,
   "id": "0b9df0d6",
   "metadata": {
    "scrolled": true
   },
   "outputs": [
    {
     "data": {
      "text/plain": [
       "0          0.0\n",
       "1          0.0\n",
       "2         24.0\n",
       "3          0.0\n",
       "4         55.0\n",
       "         ...  \n",
       "13297      0.0\n",
       "13298    321.0\n",
       "13299     25.0\n",
       "13300      0.0\n",
       "13301     20.0\n",
       "Name: Event Revenue, Length: 13302, dtype: float64"
      ]
     },
     "execution_count": 99,
     "metadata": {},
     "output_type": "execute_result"
    }
   ],
   "source": [
    "dataset.fillna(0)"
   ]
  },
  {
   "cell_type": "code",
   "execution_count": 100,
   "id": "3b66d51d",
   "metadata": {},
   "outputs": [
    {
     "data": {
      "text/plain": [
       "6437"
      ]
     },
     "execution_count": 100,
     "metadata": {},
     "output_type": "execute_result"
    }
   ],
   "source": [
    "dataset.isnull().sum()"
   ]
  },
  {
   "cell_type": "code",
   "execution_count": 101,
   "id": "5d2375ab",
   "metadata": {},
   "outputs": [],
   "source": [
    "# but we need to reassign\n",
    "dataset = dataset.fillna(0)"
   ]
  },
  {
   "cell_type": "code",
   "execution_count": 102,
   "id": "f8ba0fea",
   "metadata": {},
   "outputs": [
    {
     "data": {
      "text/plain": [
       "0"
      ]
     },
     "execution_count": 102,
     "metadata": {},
     "output_type": "execute_result"
    }
   ],
   "source": [
    "dataset.isnull().sum()"
   ]
  },
  {
   "cell_type": "markdown",
   "id": "5245d743",
   "metadata": {},
   "source": [
    "## October batch session 8 (refer: https://www.youtube.com/watch?v=Yal3yLsnfBI)\n",
    "Day - 9 video -> 27th Oct -> https://youtu.be/Yal3yLsnfBI\n",
    "\n",
    "#### Assignment - 2 -> insights from basic descriptive analysis various visualizations based on data"
   ]
  },
  {
   "cell_type": "markdown",
   "id": "338bf5bf",
   "metadata": {},
   "source": [
    "### Regression is the algorithm in which you will predict near future values\n",
    "#### 1st type -> linear regression is type of regression algorithm"
   ]
  },
  {
   "cell_type": "code",
   "execution_count": 103,
   "id": "13bec1eb",
   "metadata": {},
   "outputs": [
    {
     "data": {
      "text/plain": [
       "0          0.0\n",
       "1          0.0\n",
       "2         24.0\n",
       "3          0.0\n",
       "4         55.0\n",
       "         ...  \n",
       "13297      0.0\n",
       "13298    321.0\n",
       "13299     25.0\n",
       "13300      0.0\n",
       "13301     20.0\n",
       "Name: Event Revenue, Length: 13302, dtype: float64"
      ]
     },
     "execution_count": 103,
     "metadata": {},
     "output_type": "execute_result"
    }
   ],
   "source": [
    "dataset"
   ]
  },
  {
   "cell_type": "markdown",
   "id": "fd95589b",
   "metadata": {},
   "source": [
    "### Predictive Analysis \n",
    "    -> using regression \n",
    "    -> how to predict the near future\n",
    "    -> here using linear regression\n",
    "    \n",
    "- Time series analysis is used to predict based on time -> its used for like stock market prediction"
   ]
  },
  {
   "cell_type": "code",
   "execution_count": 104,
   "id": "dba2468e",
   "metadata": {},
   "outputs": [
    {
     "data": {
      "text/plain": [
       "0            1\n",
       "1            2\n",
       "2            3\n",
       "3            4\n",
       "4            5\n",
       "         ...  \n",
       "13297    13298\n",
       "13298    13299\n",
       "13299    13300\n",
       "13300    13301\n",
       "13301    13302\n",
       "Name: Sl_no, Length: 13302, dtype: int64"
      ]
     },
     "execution_count": 104,
     "metadata": {},
     "output_type": "execute_result"
    }
   ],
   "source": [
    "# here use serial number and event revenue for the further analysis\n",
    "# now dataset has only event revenue need to add serial number \n",
    "\n",
    "# this is to generate serial number as dataset does not have this we are adding \n",
    "ser = pd.Series([i+1 for i in range(len(dataset))],name=\"Sl_no\")\n",
    "ser"
   ]
  },
  {
   "cell_type": "code",
   "execution_count": 105,
   "id": "e0c009e0",
   "metadata": {},
   "outputs": [
    {
     "data": {
      "text/plain": [
       "0          0.0\n",
       "1          0.0\n",
       "2         24.0\n",
       "3          0.0\n",
       "4         55.0\n",
       "         ...  \n",
       "13297      0.0\n",
       "13298    321.0\n",
       "13299     25.0\n",
       "13300      0.0\n",
       "13301     20.0\n",
       "Name: Event Revenue, Length: 13302, dtype: float64"
      ]
     },
     "execution_count": 105,
     "metadata": {},
     "output_type": "execute_result"
    }
   ],
   "source": [
    "dataset"
   ]
  },
  {
   "cell_type": "code",
   "execution_count": 106,
   "id": "3e227062",
   "metadata": {},
   "outputs": [
    {
     "data": {
      "text/html": [
       "<div>\n",
       "<style scoped>\n",
       "    .dataframe tbody tr th:only-of-type {\n",
       "        vertical-align: middle;\n",
       "    }\n",
       "\n",
       "    .dataframe tbody tr th {\n",
       "        vertical-align: top;\n",
       "    }\n",
       "\n",
       "    .dataframe thead th {\n",
       "        text-align: right;\n",
       "    }\n",
       "</style>\n",
       "<table border=\"1\" class=\"dataframe\">\n",
       "  <thead>\n",
       "    <tr style=\"text-align: right;\">\n",
       "      <th></th>\n",
       "      <th>Sl_no</th>\n",
       "      <th>Event Revenue</th>\n",
       "    </tr>\n",
       "  </thead>\n",
       "  <tbody>\n",
       "    <tr>\n",
       "      <th>0</th>\n",
       "      <td>1</td>\n",
       "      <td>0.0</td>\n",
       "    </tr>\n",
       "    <tr>\n",
       "      <th>1</th>\n",
       "      <td>2</td>\n",
       "      <td>0.0</td>\n",
       "    </tr>\n",
       "    <tr>\n",
       "      <th>2</th>\n",
       "      <td>3</td>\n",
       "      <td>24.0</td>\n",
       "    </tr>\n",
       "    <tr>\n",
       "      <th>3</th>\n",
       "      <td>4</td>\n",
       "      <td>0.0</td>\n",
       "    </tr>\n",
       "    <tr>\n",
       "      <th>4</th>\n",
       "      <td>5</td>\n",
       "      <td>55.0</td>\n",
       "    </tr>\n",
       "    <tr>\n",
       "      <th>...</th>\n",
       "      <td>...</td>\n",
       "      <td>...</td>\n",
       "    </tr>\n",
       "    <tr>\n",
       "      <th>13297</th>\n",
       "      <td>13298</td>\n",
       "      <td>0.0</td>\n",
       "    </tr>\n",
       "    <tr>\n",
       "      <th>13298</th>\n",
       "      <td>13299</td>\n",
       "      <td>321.0</td>\n",
       "    </tr>\n",
       "    <tr>\n",
       "      <th>13299</th>\n",
       "      <td>13300</td>\n",
       "      <td>25.0</td>\n",
       "    </tr>\n",
       "    <tr>\n",
       "      <th>13300</th>\n",
       "      <td>13301</td>\n",
       "      <td>0.0</td>\n",
       "    </tr>\n",
       "    <tr>\n",
       "      <th>13301</th>\n",
       "      <td>13302</td>\n",
       "      <td>20.0</td>\n",
       "    </tr>\n",
       "  </tbody>\n",
       "</table>\n",
       "<p>13302 rows × 2 columns</p>\n",
       "</div>"
      ],
      "text/plain": [
       "       Sl_no  Event Revenue\n",
       "0          1            0.0\n",
       "1          2            0.0\n",
       "2          3           24.0\n",
       "3          4            0.0\n",
       "4          5           55.0\n",
       "...      ...            ...\n",
       "13297  13298            0.0\n",
       "13298  13299          321.0\n",
       "13299  13300           25.0\n",
       "13300  13301            0.0\n",
       "13301  13302           20.0\n",
       "\n",
       "[13302 rows x 2 columns]"
      ]
     },
     "execution_count": 106,
     "metadata": {},
     "output_type": "execute_result"
    }
   ],
   "source": [
    "dataset_merged = pd.merge(ser, dataset, left_index=True, right_index=True)\n",
    "dataset = pd.DataFrame(dataset_merged)\n",
    "dataset"
   ]
  },
  {
   "cell_type": "markdown",
   "id": "aa7b9b9b",
   "metadata": {},
   "source": [
    "### Divide my Dataset into variables \n",
    "- independent\n",
    "- dependent \n",
    "\n",
    "from table format to get in array format we can use the .values "
   ]
  },
  {
   "cell_type": "code",
   "execution_count": 109,
   "id": "1cfd6532",
   "metadata": {},
   "outputs": [
    {
     "data": {
      "text/plain": [
       "array([    1,     2,     3, ..., 13300, 13301, 13302], dtype=int64)"
      ]
     },
     "execution_count": 109,
     "metadata": {},
     "output_type": "execute_result"
    }
   ],
   "source": [
    "x = dataset.iloc[:,0].values   # serial number  independent variable\n",
    "x"
   ]
  },
  {
   "cell_type": "code",
   "execution_count": 110,
   "id": "aa48c718",
   "metadata": {},
   "outputs": [
    {
     "data": {
      "text/plain": [
       "array([ 0.,  0., 24., ..., 25.,  0., 20.])"
      ]
     },
     "execution_count": 110,
     "metadata": {},
     "output_type": "execute_result"
    }
   ],
   "source": [
    "y = dataset.iloc[:,1].values   # target variable -> always dependent variable\n",
    "y "
   ]
  },
  {
   "cell_type": "markdown",
   "id": "0b8a000a",
   "metadata": {},
   "source": [
    "#### sklearn -> for machine learning algorithm  "
   ]
  },
  {
   "cell_type": "code",
   "execution_count": 111,
   "id": "eab2a640",
   "metadata": {},
   "outputs": [],
   "source": [
    "from sklearn.model_selection import train_test_split"
   ]
  },
  {
   "cell_type": "code",
   "execution_count": 114,
   "id": "56db3794",
   "metadata": {},
   "outputs": [],
   "source": [
    "x_train,x_test,y_train,y_test = train_test_split(x,y, test_size=0.2,random_state=50)  # 20% is test data"
   ]
  },
  {
   "cell_type": "code",
   "execution_count": 115,
   "id": "585be478",
   "metadata": {},
   "outputs": [
    {
     "data": {
      "text/plain": [
       "13302"
      ]
     },
     "execution_count": 115,
     "metadata": {},
     "output_type": "execute_result"
    }
   ],
   "source": [
    "len(x)"
   ]
  },
  {
   "cell_type": "code",
   "execution_count": 116,
   "id": "b2ebac8d",
   "metadata": {},
   "outputs": [
    {
     "data": {
      "text/plain": [
       "10641"
      ]
     },
     "execution_count": 116,
     "metadata": {},
     "output_type": "execute_result"
    }
   ],
   "source": [
    "len(x_train)"
   ]
  },
  {
   "cell_type": "code",
   "execution_count": 117,
   "id": "14f25b57",
   "metadata": {},
   "outputs": [
    {
     "data": {
      "text/plain": [
       "2661"
      ]
     },
     "execution_count": 117,
     "metadata": {},
     "output_type": "execute_result"
    }
   ],
   "source": [
    "len(x_test)"
   ]
  },
  {
   "cell_type": "code",
   "execution_count": 119,
   "id": "66014151",
   "metadata": {},
   "outputs": [
    {
     "data": {
      "text/plain": [
       "20.00451059990979"
      ]
     },
     "execution_count": 119,
     "metadata": {},
     "output_type": "execute_result"
    }
   ],
   "source": [
    "len(x_test)/len(x) * 100"
   ]
  },
  {
   "cell_type": "markdown",
   "id": "1bda652e",
   "metadata": {},
   "source": [
    "#### LinearRegression"
   ]
  },
  {
   "cell_type": "code",
   "execution_count": 120,
   "id": "48fe141f",
   "metadata": {},
   "outputs": [],
   "source": [
    "from sklearn.linear_model import LinearRegression"
   ]
  },
  {
   "cell_type": "code",
   "execution_count": 121,
   "id": "589e06ba",
   "metadata": {},
   "outputs": [],
   "source": [
    "lr = LinearRegression()"
   ]
  },
  {
   "cell_type": "code",
   "execution_count": 122,
   "id": "7e6f5e1a",
   "metadata": {
    "collapsed": true
   },
   "outputs": [
    {
     "ename": "ValueError",
     "evalue": "Expected 2D array, got 1D array instead:\narray=[ 8456 10839  3089 ...  6254 10124  5601].\nReshape your data either using array.reshape(-1, 1) if your data has a single feature or array.reshape(1, -1) if it contains a single sample.",
     "output_type": "error",
     "traceback": [
      "\u001b[1;31m---------------------------------------------------------------------------\u001b[0m",
      "\u001b[1;31mValueError\u001b[0m                                Traceback (most recent call last)",
      "Cell \u001b[1;32mIn[122], line 1\u001b[0m\n\u001b[1;32m----> 1\u001b[0m lr\u001b[38;5;241m.\u001b[39mfit(x_train,y_train)\n",
      "File \u001b[1;32mD:\\softwares\\anaconda3\\Lib\\site-packages\\sklearn\\base.py:1151\u001b[0m, in \u001b[0;36m_fit_context.<locals>.decorator.<locals>.wrapper\u001b[1;34m(estimator, *args, **kwargs)\u001b[0m\n\u001b[0;32m   1144\u001b[0m     estimator\u001b[38;5;241m.\u001b[39m_validate_params()\n\u001b[0;32m   1146\u001b[0m \u001b[38;5;28;01mwith\u001b[39;00m config_context(\n\u001b[0;32m   1147\u001b[0m     skip_parameter_validation\u001b[38;5;241m=\u001b[39m(\n\u001b[0;32m   1148\u001b[0m         prefer_skip_nested_validation \u001b[38;5;129;01mor\u001b[39;00m global_skip_validation\n\u001b[0;32m   1149\u001b[0m     )\n\u001b[0;32m   1150\u001b[0m ):\n\u001b[1;32m-> 1151\u001b[0m     \u001b[38;5;28;01mreturn\u001b[39;00m fit_method(estimator, \u001b[38;5;241m*\u001b[39margs, \u001b[38;5;241m*\u001b[39m\u001b[38;5;241m*\u001b[39mkwargs)\n",
      "File \u001b[1;32mD:\\softwares\\anaconda3\\Lib\\site-packages\\sklearn\\linear_model\\_base.py:678\u001b[0m, in \u001b[0;36mLinearRegression.fit\u001b[1;34m(self, X, y, sample_weight)\u001b[0m\n\u001b[0;32m    674\u001b[0m n_jobs_ \u001b[38;5;241m=\u001b[39m \u001b[38;5;28mself\u001b[39m\u001b[38;5;241m.\u001b[39mn_jobs\n\u001b[0;32m    676\u001b[0m accept_sparse \u001b[38;5;241m=\u001b[39m \u001b[38;5;28;01mFalse\u001b[39;00m \u001b[38;5;28;01mif\u001b[39;00m \u001b[38;5;28mself\u001b[39m\u001b[38;5;241m.\u001b[39mpositive \u001b[38;5;28;01melse\u001b[39;00m [\u001b[38;5;124m\"\u001b[39m\u001b[38;5;124mcsr\u001b[39m\u001b[38;5;124m\"\u001b[39m, \u001b[38;5;124m\"\u001b[39m\u001b[38;5;124mcsc\u001b[39m\u001b[38;5;124m\"\u001b[39m, \u001b[38;5;124m\"\u001b[39m\u001b[38;5;124mcoo\u001b[39m\u001b[38;5;124m\"\u001b[39m]\n\u001b[1;32m--> 678\u001b[0m X, y \u001b[38;5;241m=\u001b[39m \u001b[38;5;28mself\u001b[39m\u001b[38;5;241m.\u001b[39m_validate_data(\n\u001b[0;32m    679\u001b[0m     X, y, accept_sparse\u001b[38;5;241m=\u001b[39maccept_sparse, y_numeric\u001b[38;5;241m=\u001b[39m\u001b[38;5;28;01mTrue\u001b[39;00m, multi_output\u001b[38;5;241m=\u001b[39m\u001b[38;5;28;01mTrue\u001b[39;00m\n\u001b[0;32m    680\u001b[0m )\n\u001b[0;32m    682\u001b[0m has_sw \u001b[38;5;241m=\u001b[39m sample_weight \u001b[38;5;129;01mis\u001b[39;00m \u001b[38;5;129;01mnot\u001b[39;00m \u001b[38;5;28;01mNone\u001b[39;00m\n\u001b[0;32m    683\u001b[0m \u001b[38;5;28;01mif\u001b[39;00m has_sw:\n",
      "File \u001b[1;32mD:\\softwares\\anaconda3\\Lib\\site-packages\\sklearn\\base.py:621\u001b[0m, in \u001b[0;36mBaseEstimator._validate_data\u001b[1;34m(self, X, y, reset, validate_separately, cast_to_ndarray, **check_params)\u001b[0m\n\u001b[0;32m    619\u001b[0m         y \u001b[38;5;241m=\u001b[39m check_array(y, input_name\u001b[38;5;241m=\u001b[39m\u001b[38;5;124m\"\u001b[39m\u001b[38;5;124my\u001b[39m\u001b[38;5;124m\"\u001b[39m, \u001b[38;5;241m*\u001b[39m\u001b[38;5;241m*\u001b[39mcheck_y_params)\n\u001b[0;32m    620\u001b[0m     \u001b[38;5;28;01melse\u001b[39;00m:\n\u001b[1;32m--> 621\u001b[0m         X, y \u001b[38;5;241m=\u001b[39m check_X_y(X, y, \u001b[38;5;241m*\u001b[39m\u001b[38;5;241m*\u001b[39mcheck_params)\n\u001b[0;32m    622\u001b[0m     out \u001b[38;5;241m=\u001b[39m X, y\n\u001b[0;32m    624\u001b[0m \u001b[38;5;28;01mif\u001b[39;00m \u001b[38;5;129;01mnot\u001b[39;00m no_val_X \u001b[38;5;129;01mand\u001b[39;00m check_params\u001b[38;5;241m.\u001b[39mget(\u001b[38;5;124m\"\u001b[39m\u001b[38;5;124mensure_2d\u001b[39m\u001b[38;5;124m\"\u001b[39m, \u001b[38;5;28;01mTrue\u001b[39;00m):\n",
      "File \u001b[1;32mD:\\softwares\\anaconda3\\Lib\\site-packages\\sklearn\\utils\\validation.py:1147\u001b[0m, in \u001b[0;36mcheck_X_y\u001b[1;34m(X, y, accept_sparse, accept_large_sparse, dtype, order, copy, force_all_finite, ensure_2d, allow_nd, multi_output, ensure_min_samples, ensure_min_features, y_numeric, estimator)\u001b[0m\n\u001b[0;32m   1142\u001b[0m         estimator_name \u001b[38;5;241m=\u001b[39m _check_estimator_name(estimator)\n\u001b[0;32m   1143\u001b[0m     \u001b[38;5;28;01mraise\u001b[39;00m \u001b[38;5;167;01mValueError\u001b[39;00m(\n\u001b[0;32m   1144\u001b[0m         \u001b[38;5;124mf\u001b[39m\u001b[38;5;124m\"\u001b[39m\u001b[38;5;132;01m{\u001b[39;00mestimator_name\u001b[38;5;132;01m}\u001b[39;00m\u001b[38;5;124m requires y to be passed, but the target y is None\u001b[39m\u001b[38;5;124m\"\u001b[39m\n\u001b[0;32m   1145\u001b[0m     )\n\u001b[1;32m-> 1147\u001b[0m X \u001b[38;5;241m=\u001b[39m check_array(\n\u001b[0;32m   1148\u001b[0m     X,\n\u001b[0;32m   1149\u001b[0m     accept_sparse\u001b[38;5;241m=\u001b[39maccept_sparse,\n\u001b[0;32m   1150\u001b[0m     accept_large_sparse\u001b[38;5;241m=\u001b[39maccept_large_sparse,\n\u001b[0;32m   1151\u001b[0m     dtype\u001b[38;5;241m=\u001b[39mdtype,\n\u001b[0;32m   1152\u001b[0m     order\u001b[38;5;241m=\u001b[39morder,\n\u001b[0;32m   1153\u001b[0m     copy\u001b[38;5;241m=\u001b[39mcopy,\n\u001b[0;32m   1154\u001b[0m     force_all_finite\u001b[38;5;241m=\u001b[39mforce_all_finite,\n\u001b[0;32m   1155\u001b[0m     ensure_2d\u001b[38;5;241m=\u001b[39mensure_2d,\n\u001b[0;32m   1156\u001b[0m     allow_nd\u001b[38;5;241m=\u001b[39mallow_nd,\n\u001b[0;32m   1157\u001b[0m     ensure_min_samples\u001b[38;5;241m=\u001b[39mensure_min_samples,\n\u001b[0;32m   1158\u001b[0m     ensure_min_features\u001b[38;5;241m=\u001b[39mensure_min_features,\n\u001b[0;32m   1159\u001b[0m     estimator\u001b[38;5;241m=\u001b[39mestimator,\n\u001b[0;32m   1160\u001b[0m     input_name\u001b[38;5;241m=\u001b[39m\u001b[38;5;124m\"\u001b[39m\u001b[38;5;124mX\u001b[39m\u001b[38;5;124m\"\u001b[39m,\n\u001b[0;32m   1161\u001b[0m )\n\u001b[0;32m   1163\u001b[0m y \u001b[38;5;241m=\u001b[39m _check_y(y, multi_output\u001b[38;5;241m=\u001b[39mmulti_output, y_numeric\u001b[38;5;241m=\u001b[39my_numeric, estimator\u001b[38;5;241m=\u001b[39mestimator)\n\u001b[0;32m   1165\u001b[0m check_consistent_length(X, y)\n",
      "File \u001b[1;32mD:\\softwares\\anaconda3\\Lib\\site-packages\\sklearn\\utils\\validation.py:940\u001b[0m, in \u001b[0;36mcheck_array\u001b[1;34m(array, accept_sparse, accept_large_sparse, dtype, order, copy, force_all_finite, ensure_2d, allow_nd, ensure_min_samples, ensure_min_features, estimator, input_name)\u001b[0m\n\u001b[0;32m    938\u001b[0m     \u001b[38;5;66;03m# If input is 1D raise error\u001b[39;00m\n\u001b[0;32m    939\u001b[0m     \u001b[38;5;28;01mif\u001b[39;00m array\u001b[38;5;241m.\u001b[39mndim \u001b[38;5;241m==\u001b[39m \u001b[38;5;241m1\u001b[39m:\n\u001b[1;32m--> 940\u001b[0m         \u001b[38;5;28;01mraise\u001b[39;00m \u001b[38;5;167;01mValueError\u001b[39;00m(\n\u001b[0;32m    941\u001b[0m             \u001b[38;5;124m\"\u001b[39m\u001b[38;5;124mExpected 2D array, got 1D array instead:\u001b[39m\u001b[38;5;130;01m\\n\u001b[39;00m\u001b[38;5;124marray=\u001b[39m\u001b[38;5;132;01m{}\u001b[39;00m\u001b[38;5;124m.\u001b[39m\u001b[38;5;130;01m\\n\u001b[39;00m\u001b[38;5;124m\"\u001b[39m\n\u001b[0;32m    942\u001b[0m             \u001b[38;5;124m\"\u001b[39m\u001b[38;5;124mReshape your data either using array.reshape(-1, 1) if \u001b[39m\u001b[38;5;124m\"\u001b[39m\n\u001b[0;32m    943\u001b[0m             \u001b[38;5;124m\"\u001b[39m\u001b[38;5;124myour data has a single feature or array.reshape(1, -1) \u001b[39m\u001b[38;5;124m\"\u001b[39m\n\u001b[0;32m    944\u001b[0m             \u001b[38;5;124m\"\u001b[39m\u001b[38;5;124mif it contains a single sample.\u001b[39m\u001b[38;5;124m\"\u001b[39m\u001b[38;5;241m.\u001b[39mformat(array)\n\u001b[0;32m    945\u001b[0m         )\n\u001b[0;32m    947\u001b[0m \u001b[38;5;28;01mif\u001b[39;00m dtype_numeric \u001b[38;5;129;01mand\u001b[39;00m \u001b[38;5;28mhasattr\u001b[39m(array\u001b[38;5;241m.\u001b[39mdtype, \u001b[38;5;124m\"\u001b[39m\u001b[38;5;124mkind\u001b[39m\u001b[38;5;124m\"\u001b[39m) \u001b[38;5;129;01mand\u001b[39;00m array\u001b[38;5;241m.\u001b[39mdtype\u001b[38;5;241m.\u001b[39mkind \u001b[38;5;129;01min\u001b[39;00m \u001b[38;5;124m\"\u001b[39m\u001b[38;5;124mUSV\u001b[39m\u001b[38;5;124m\"\u001b[39m:\n\u001b[0;32m    948\u001b[0m     \u001b[38;5;28;01mraise\u001b[39;00m \u001b[38;5;167;01mValueError\u001b[39;00m(\n\u001b[0;32m    949\u001b[0m         \u001b[38;5;124m\"\u001b[39m\u001b[38;5;124mdtype=\u001b[39m\u001b[38;5;124m'\u001b[39m\u001b[38;5;124mnumeric\u001b[39m\u001b[38;5;124m'\u001b[39m\u001b[38;5;124m is not compatible with arrays of bytes/strings.\u001b[39m\u001b[38;5;124m\"\u001b[39m\n\u001b[0;32m    950\u001b[0m         \u001b[38;5;124m\"\u001b[39m\u001b[38;5;124mConvert your data to numeric values explicitly instead.\u001b[39m\u001b[38;5;124m\"\u001b[39m\n\u001b[0;32m    951\u001b[0m     )\n",
      "\u001b[1;31mValueError\u001b[0m: Expected 2D array, got 1D array instead:\narray=[ 8456 10839  3089 ...  6254 10124  5601].\nReshape your data either using array.reshape(-1, 1) if your data has a single feature or array.reshape(1, -1) if it contains a single sample."
     ]
    }
   ],
   "source": [
    "lr.fit(x_train,y_train)      # ValueError: Expected 2D array, got 1D array instead:"
   ]
  },
  {
   "cell_type": "markdown",
   "id": "ced2a8e5",
   "metadata": {},
   "source": [
    "####  So need to resize the array -> for multiplication we cannot multiple  2  vertical matrix ->  i.e matix multiplication "
   ]
  },
  {
   "cell_type": "code",
   "execution_count": 129,
   "id": "4481fccb",
   "metadata": {},
   "outputs": [
    {
     "data": {
      "text/plain": [
       "array([[    1],\n",
       "       [    2],\n",
       "       [    3],\n",
       "       ...,\n",
       "       [13300],\n",
       "       [13301],\n",
       "       [13302]], dtype=int64)"
      ]
     },
     "execution_count": 129,
     "metadata": {},
     "output_type": "execute_result"
    }
   ],
   "source": [
    "x = x.reshape(-1,1)    # vertical array \n",
    "x"
   ]
  },
  {
   "cell_type": "code",
   "execution_count": 130,
   "id": "8c0c141b",
   "metadata": {},
   "outputs": [
    {
     "data": {
      "text/plain": [
       "array([ 0.,  0., 24., ..., 25.,  0., 20.])"
      ]
     },
     "execution_count": 130,
     "metadata": {},
     "output_type": "execute_result"
    }
   ],
   "source": [
    "y      # horizontal array "
   ]
  },
  {
   "cell_type": "code",
   "execution_count": 131,
   "id": "4a25cf51",
   "metadata": {},
   "outputs": [],
   "source": [
    "x_train,x_test,y_train,y_test = train_test_split(x,y, test_size=0.2,random_state=50)"
   ]
  },
  {
   "cell_type": "code",
   "execution_count": 132,
   "id": "2d677256",
   "metadata": {},
   "outputs": [
    {
     "data": {
      "text/html": [
       "<style>#sk-container-id-1 {color: black;}#sk-container-id-1 pre{padding: 0;}#sk-container-id-1 div.sk-toggleable {background-color: white;}#sk-container-id-1 label.sk-toggleable__label {cursor: pointer;display: block;width: 100%;margin-bottom: 0;padding: 0.3em;box-sizing: border-box;text-align: center;}#sk-container-id-1 label.sk-toggleable__label-arrow:before {content: \"▸\";float: left;margin-right: 0.25em;color: #696969;}#sk-container-id-1 label.sk-toggleable__label-arrow:hover:before {color: black;}#sk-container-id-1 div.sk-estimator:hover label.sk-toggleable__label-arrow:before {color: black;}#sk-container-id-1 div.sk-toggleable__content {max-height: 0;max-width: 0;overflow: hidden;text-align: left;background-color: #f0f8ff;}#sk-container-id-1 div.sk-toggleable__content pre {margin: 0.2em;color: black;border-radius: 0.25em;background-color: #f0f8ff;}#sk-container-id-1 input.sk-toggleable__control:checked~div.sk-toggleable__content {max-height: 200px;max-width: 100%;overflow: auto;}#sk-container-id-1 input.sk-toggleable__control:checked~label.sk-toggleable__label-arrow:before {content: \"▾\";}#sk-container-id-1 div.sk-estimator input.sk-toggleable__control:checked~label.sk-toggleable__label {background-color: #d4ebff;}#sk-container-id-1 div.sk-label input.sk-toggleable__control:checked~label.sk-toggleable__label {background-color: #d4ebff;}#sk-container-id-1 input.sk-hidden--visually {border: 0;clip: rect(1px 1px 1px 1px);clip: rect(1px, 1px, 1px, 1px);height: 1px;margin: -1px;overflow: hidden;padding: 0;position: absolute;width: 1px;}#sk-container-id-1 div.sk-estimator {font-family: monospace;background-color: #f0f8ff;border: 1px dotted black;border-radius: 0.25em;box-sizing: border-box;margin-bottom: 0.5em;}#sk-container-id-1 div.sk-estimator:hover {background-color: #d4ebff;}#sk-container-id-1 div.sk-parallel-item::after {content: \"\";width: 100%;border-bottom: 1px solid gray;flex-grow: 1;}#sk-container-id-1 div.sk-label:hover label.sk-toggleable__label {background-color: #d4ebff;}#sk-container-id-1 div.sk-serial::before {content: \"\";position: absolute;border-left: 1px solid gray;box-sizing: border-box;top: 0;bottom: 0;left: 50%;z-index: 0;}#sk-container-id-1 div.sk-serial {display: flex;flex-direction: column;align-items: center;background-color: white;padding-right: 0.2em;padding-left: 0.2em;position: relative;}#sk-container-id-1 div.sk-item {position: relative;z-index: 1;}#sk-container-id-1 div.sk-parallel {display: flex;align-items: stretch;justify-content: center;background-color: white;position: relative;}#sk-container-id-1 div.sk-item::before, #sk-container-id-1 div.sk-parallel-item::before {content: \"\";position: absolute;border-left: 1px solid gray;box-sizing: border-box;top: 0;bottom: 0;left: 50%;z-index: -1;}#sk-container-id-1 div.sk-parallel-item {display: flex;flex-direction: column;z-index: 1;position: relative;background-color: white;}#sk-container-id-1 div.sk-parallel-item:first-child::after {align-self: flex-end;width: 50%;}#sk-container-id-1 div.sk-parallel-item:last-child::after {align-self: flex-start;width: 50%;}#sk-container-id-1 div.sk-parallel-item:only-child::after {width: 0;}#sk-container-id-1 div.sk-dashed-wrapped {border: 1px dashed gray;margin: 0 0.4em 0.5em 0.4em;box-sizing: border-box;padding-bottom: 0.4em;background-color: white;}#sk-container-id-1 div.sk-label label {font-family: monospace;font-weight: bold;display: inline-block;line-height: 1.2em;}#sk-container-id-1 div.sk-label-container {text-align: center;}#sk-container-id-1 div.sk-container {/* jupyter's `normalize.less` sets `[hidden] { display: none; }` but bootstrap.min.css set `[hidden] { display: none !important; }` so we also need the `!important` here to be able to override the default hidden behavior on the sphinx rendered scikit-learn.org. See: https://github.com/scikit-learn/scikit-learn/issues/21755 */display: inline-block !important;position: relative;}#sk-container-id-1 div.sk-text-repr-fallback {display: none;}</style><div id=\"sk-container-id-1\" class=\"sk-top-container\"><div class=\"sk-text-repr-fallback\"><pre>LinearRegression()</pre><b>In a Jupyter environment, please rerun this cell to show the HTML representation or trust the notebook. <br />On GitHub, the HTML representation is unable to render, please try loading this page with nbviewer.org.</b></div><div class=\"sk-container\" hidden><div class=\"sk-item\"><div class=\"sk-estimator sk-toggleable\"><input class=\"sk-toggleable__control sk-hidden--visually\" id=\"sk-estimator-id-1\" type=\"checkbox\" checked><label for=\"sk-estimator-id-1\" class=\"sk-toggleable__label sk-toggleable__label-arrow\">LinearRegression</label><div class=\"sk-toggleable__content\"><pre>LinearRegression()</pre></div></div></div></div></div>"
      ],
      "text/plain": [
       "LinearRegression()"
      ]
     },
     "execution_count": 132,
     "metadata": {},
     "output_type": "execute_result"
    }
   ],
   "source": [
    "lr = LinearRegression()\n",
    "lr.fit(x_train,y_train)  # this is line where model is trained "
   ]
  },
  {
   "cell_type": "code",
   "execution_count": 134,
   "id": "81930d8b",
   "metadata": {},
   "outputs": [
    {
     "data": {
      "text/plain": [
       "array([227.94752878, 255.96844885, 203.87853876, ..., 217.60307104,\n",
       "       250.63283269, 193.60045711])"
      ]
     },
     "execution_count": 134,
     "metadata": {},
     "output_type": "execute_result"
    }
   ],
   "source": [
    "y_pred = lr.predict(x_test)   # pass the sl_no test data to predict \n",
    "y_pred"
   ]
  },
  {
   "cell_type": "code",
   "execution_count": 135,
   "id": "cf0784d3",
   "metadata": {},
   "outputs": [
    {
     "data": {
      "text/plain": [
       "array([   0.,    0.,   10., ...,    0.,    0., 1000.])"
      ]
     },
     "execution_count": 135,
     "metadata": {},
     "output_type": "execute_result"
    }
   ],
   "source": [
    "y_test  # actual target data "
   ]
  },
  {
   "cell_type": "code",
   "execution_count": 141,
   "id": "60b1ee12",
   "metadata": {},
   "outputs": [
    {
     "data": {
      "text/plain": [
       "(array([193.1256128]), array([0.]))"
      ]
     },
     "execution_count": 141,
     "metadata": {},
     "output_type": "execute_result"
    }
   ],
   "source": [
    "lr.predict([[0]])  ,  y_test[[0]]               # much difference in the value predctied i.e low accuracy "
   ]
  },
  {
   "cell_type": "code",
   "execution_count": null,
   "id": "43f1f325",
   "metadata": {},
   "outputs": [],
   "source": [
    "# attribute touch column cannot be used for prediction alone\n",
    "# Event Name column cannot be used for prediction alone"
   ]
  },
  {
   "cell_type": "markdown",
   "id": "60c27858",
   "metadata": {},
   "source": [
    "#### this above model cannot be accepted due to very much low accuracy \n",
    "\n",
    "### So next time we will take Touch Type column instead of sl_no column"
   ]
  },
  {
   "cell_type": "markdown",
   "id": "700287a5",
   "metadata": {},
   "source": [
    "## October batch session 9 (refer: )https://www.youtube.com/watch?v=dCMuKJOYb1c)\n",
    "Day - 10 video -> 30th Oct -> https://youtu.be/dCMuKJOYb1c"
   ]
  },
  {
   "cell_type": "markdown",
   "id": "d26ef05d",
   "metadata": {},
   "source": [
    "### Apply Linear Regression (Reference of previous batch)"
   ]
  },
  {
   "cell_type": "code",
   "execution_count": 143,
   "id": "0aff33c5",
   "metadata": {},
   "outputs": [
    {
     "data": {
      "text/html": [
       "<div>\n",
       "<style scoped>\n",
       "    .dataframe tbody tr th:only-of-type {\n",
       "        vertical-align: middle;\n",
       "    }\n",
       "\n",
       "    .dataframe tbody tr th {\n",
       "        vertical-align: top;\n",
       "    }\n",
       "\n",
       "    .dataframe thead th {\n",
       "        text-align: right;\n",
       "    }\n",
       "</style>\n",
       "<table border=\"1\" class=\"dataframe\">\n",
       "  <thead>\n",
       "    <tr style=\"text-align: right;\">\n",
       "      <th></th>\n",
       "      <th>YearsExperience</th>\n",
       "      <th>Salary</th>\n",
       "    </tr>\n",
       "  </thead>\n",
       "  <tbody>\n",
       "    <tr>\n",
       "      <th>0</th>\n",
       "      <td>1.1</td>\n",
       "      <td>39343.0</td>\n",
       "    </tr>\n",
       "    <tr>\n",
       "      <th>1</th>\n",
       "      <td>1.3</td>\n",
       "      <td>46205.0</td>\n",
       "    </tr>\n",
       "    <tr>\n",
       "      <th>2</th>\n",
       "      <td>1.5</td>\n",
       "      <td>37731.0</td>\n",
       "    </tr>\n",
       "    <tr>\n",
       "      <th>3</th>\n",
       "      <td>2.0</td>\n",
       "      <td>43525.0</td>\n",
       "    </tr>\n",
       "    <tr>\n",
       "      <th>4</th>\n",
       "      <td>2.2</td>\n",
       "      <td>39891.0</td>\n",
       "    </tr>\n",
       "  </tbody>\n",
       "</table>\n",
       "</div>"
      ],
      "text/plain": [
       "   YearsExperience   Salary\n",
       "0              1.1  39343.0\n",
       "1              1.3  46205.0\n",
       "2              1.5  37731.0\n",
       "3              2.0  43525.0\n",
       "4              2.2  39891.0"
      ]
     },
     "execution_count": 143,
     "metadata": {},
     "output_type": "execute_result"
    }
   ],
   "source": [
    "import pandas as pd\n",
    "file = pd.read_csv(\"./datasets/Salary_Data.csv\")\n",
    "file.head(5)"
   ]
  },
  {
   "cell_type": "code",
   "execution_count": 144,
   "id": "9cd79173",
   "metadata": {},
   "outputs": [
    {
     "data": {
      "text/plain": [
       "(30, 2)"
      ]
     },
     "execution_count": 144,
     "metadata": {},
     "output_type": "execute_result"
    }
   ],
   "source": [
    "file.shape"
   ]
  },
  {
   "cell_type": "code",
   "execution_count": 145,
   "id": "98cb9e1d",
   "metadata": {},
   "outputs": [
    {
     "data": {
      "text/plain": [
       "YearsExperience    0\n",
       "Salary             0\n",
       "dtype: int64"
      ]
     },
     "execution_count": 145,
     "metadata": {},
     "output_type": "execute_result"
    }
   ],
   "source": [
    "file.isnull().sum()"
   ]
  },
  {
   "cell_type": "markdown",
   "id": "49007e0c",
   "metadata": {},
   "source": [
    "-  there are no any missing values \n",
    "-  hence we can proceed with the data analysis\n",
    "-  in any machine learning algorithm we divide our data into two parts (training dataset and test dataset)\n",
    "- there are total 30 rows. From this 30 rows I will divide 80% of data into training data and remaining 20% data into test data.\n",
    "-  training dataset is given to machine for understaning data behavior and test data is given to machine after training to validate the understanding "
   ]
  },
  {
   "cell_type": "markdown",
   "id": "f2e2ca09",
   "metadata": {},
   "source": [
    "#### Reshape the data for training "
   ]
  },
  {
   "cell_type": "code",
   "execution_count": 149,
   "id": "44b5b08f",
   "metadata": {},
   "outputs": [
    {
     "data": {
      "text/plain": [
       "array([[1.1],\n",
       "       [1.3],\n",
       "       [1.5],\n",
       "       [2. ],\n",
       "       [2.2]])"
      ]
     },
     "execution_count": 149,
     "metadata": {},
     "output_type": "execute_result"
    }
   ],
   "source": [
    "x = file.iloc[:,:-1].values     # except the last column(target)  i.e Year of Experience \n",
    "x[:5]      # vertical "
   ]
  },
  {
   "cell_type": "code",
   "execution_count": 151,
   "id": "d3c55e68",
   "metadata": {},
   "outputs": [
    {
     "data": {
      "text/plain": [
       "array([39343., 46205., 37731., 43525., 39891.])"
      ]
     },
     "execution_count": 151,
     "metadata": {},
     "output_type": "execute_result"
    }
   ],
   "source": [
    "y = file.iloc[:,-1].values         # target -> Salary \n",
    "y[:5]     # horizontal"
   ]
  },
  {
   "cell_type": "code",
   "execution_count": 152,
   "id": "58b2099b",
   "metadata": {},
   "outputs": [],
   "source": [
    "# here let us divide our data into training data and test data \n",
    "\n",
    "from sklearn.model_selection import train_test_split\n",
    "x_train, x_test, y_train, y_test= train_test_split(x, y, test_size = 0.2, random_state=0 )"
   ]
  },
  {
   "cell_type": "code",
   "execution_count": 153,
   "id": "9f82be33",
   "metadata": {},
   "outputs": [
    {
     "data": {
      "text/html": [
       "<style>#sk-container-id-2 {color: black;}#sk-container-id-2 pre{padding: 0;}#sk-container-id-2 div.sk-toggleable {background-color: white;}#sk-container-id-2 label.sk-toggleable__label {cursor: pointer;display: block;width: 100%;margin-bottom: 0;padding: 0.3em;box-sizing: border-box;text-align: center;}#sk-container-id-2 label.sk-toggleable__label-arrow:before {content: \"▸\";float: left;margin-right: 0.25em;color: #696969;}#sk-container-id-2 label.sk-toggleable__label-arrow:hover:before {color: black;}#sk-container-id-2 div.sk-estimator:hover label.sk-toggleable__label-arrow:before {color: black;}#sk-container-id-2 div.sk-toggleable__content {max-height: 0;max-width: 0;overflow: hidden;text-align: left;background-color: #f0f8ff;}#sk-container-id-2 div.sk-toggleable__content pre {margin: 0.2em;color: black;border-radius: 0.25em;background-color: #f0f8ff;}#sk-container-id-2 input.sk-toggleable__control:checked~div.sk-toggleable__content {max-height: 200px;max-width: 100%;overflow: auto;}#sk-container-id-2 input.sk-toggleable__control:checked~label.sk-toggleable__label-arrow:before {content: \"▾\";}#sk-container-id-2 div.sk-estimator input.sk-toggleable__control:checked~label.sk-toggleable__label {background-color: #d4ebff;}#sk-container-id-2 div.sk-label input.sk-toggleable__control:checked~label.sk-toggleable__label {background-color: #d4ebff;}#sk-container-id-2 input.sk-hidden--visually {border: 0;clip: rect(1px 1px 1px 1px);clip: rect(1px, 1px, 1px, 1px);height: 1px;margin: -1px;overflow: hidden;padding: 0;position: absolute;width: 1px;}#sk-container-id-2 div.sk-estimator {font-family: monospace;background-color: #f0f8ff;border: 1px dotted black;border-radius: 0.25em;box-sizing: border-box;margin-bottom: 0.5em;}#sk-container-id-2 div.sk-estimator:hover {background-color: #d4ebff;}#sk-container-id-2 div.sk-parallel-item::after {content: \"\";width: 100%;border-bottom: 1px solid gray;flex-grow: 1;}#sk-container-id-2 div.sk-label:hover label.sk-toggleable__label {background-color: #d4ebff;}#sk-container-id-2 div.sk-serial::before {content: \"\";position: absolute;border-left: 1px solid gray;box-sizing: border-box;top: 0;bottom: 0;left: 50%;z-index: 0;}#sk-container-id-2 div.sk-serial {display: flex;flex-direction: column;align-items: center;background-color: white;padding-right: 0.2em;padding-left: 0.2em;position: relative;}#sk-container-id-2 div.sk-item {position: relative;z-index: 1;}#sk-container-id-2 div.sk-parallel {display: flex;align-items: stretch;justify-content: center;background-color: white;position: relative;}#sk-container-id-2 div.sk-item::before, #sk-container-id-2 div.sk-parallel-item::before {content: \"\";position: absolute;border-left: 1px solid gray;box-sizing: border-box;top: 0;bottom: 0;left: 50%;z-index: -1;}#sk-container-id-2 div.sk-parallel-item {display: flex;flex-direction: column;z-index: 1;position: relative;background-color: white;}#sk-container-id-2 div.sk-parallel-item:first-child::after {align-self: flex-end;width: 50%;}#sk-container-id-2 div.sk-parallel-item:last-child::after {align-self: flex-start;width: 50%;}#sk-container-id-2 div.sk-parallel-item:only-child::after {width: 0;}#sk-container-id-2 div.sk-dashed-wrapped {border: 1px dashed gray;margin: 0 0.4em 0.5em 0.4em;box-sizing: border-box;padding-bottom: 0.4em;background-color: white;}#sk-container-id-2 div.sk-label label {font-family: monospace;font-weight: bold;display: inline-block;line-height: 1.2em;}#sk-container-id-2 div.sk-label-container {text-align: center;}#sk-container-id-2 div.sk-container {/* jupyter's `normalize.less` sets `[hidden] { display: none; }` but bootstrap.min.css set `[hidden] { display: none !important; }` so we also need the `!important` here to be able to override the default hidden behavior on the sphinx rendered scikit-learn.org. See: https://github.com/scikit-learn/scikit-learn/issues/21755 */display: inline-block !important;position: relative;}#sk-container-id-2 div.sk-text-repr-fallback {display: none;}</style><div id=\"sk-container-id-2\" class=\"sk-top-container\"><div class=\"sk-text-repr-fallback\"><pre>LinearRegression()</pre><b>In a Jupyter environment, please rerun this cell to show the HTML representation or trust the notebook. <br />On GitHub, the HTML representation is unable to render, please try loading this page with nbviewer.org.</b></div><div class=\"sk-container\" hidden><div class=\"sk-item\"><div class=\"sk-estimator sk-toggleable\"><input class=\"sk-toggleable__control sk-hidden--visually\" id=\"sk-estimator-id-2\" type=\"checkbox\" checked><label for=\"sk-estimator-id-2\" class=\"sk-toggleable__label sk-toggleable__label-arrow\">LinearRegression</label><div class=\"sk-toggleable__content\"><pre>LinearRegression()</pre></div></div></div></div></div>"
      ],
      "text/plain": [
       "LinearRegression()"
      ]
     },
     "execution_count": 153,
     "metadata": {},
     "output_type": "execute_result"
    }
   ],
   "source": [
    "from sklearn.linear_model import LinearRegression\n",
    "reg = LinearRegression()\n",
    "reg.fit(x_train, y_train) # the model is under training "
   ]
  },
  {
   "cell_type": "code",
   "execution_count": 154,
   "id": "74b0b4cc",
   "metadata": {},
   "outputs": [
    {
     "data": {
      "text/plain": [
       "array([[ 1.5],\n",
       "       [10.3],\n",
       "       [ 4.1],\n",
       "       [ 3.9],\n",
       "       [ 9.5],\n",
       "       [ 8.7]])"
      ]
     },
     "execution_count": 154,
     "metadata": {},
     "output_type": "execute_result"
    }
   ],
   "source": [
    "x_test"
   ]
  },
  {
   "cell_type": "code",
   "execution_count": 155,
   "id": "a85c594d",
   "metadata": {},
   "outputs": [],
   "source": [
    "prediction = reg.predict(x_test)"
   ]
  },
  {
   "cell_type": "code",
   "execution_count": 156,
   "id": "a6f8aa0f",
   "metadata": {},
   "outputs": [
    {
     "data": {
      "text/plain": [
       "array([ 40748.96184072, 122699.62295594,  64961.65717022,  63099.14214487,\n",
       "       115249.56285456, 107799.50275317])"
      ]
     },
     "execution_count": 156,
     "metadata": {},
     "output_type": "execute_result"
    }
   ],
   "source": [
    "prediction"
   ]
  },
  {
   "cell_type": "code",
   "execution_count": 157,
   "id": "46347a32",
   "metadata": {},
   "outputs": [
    {
     "data": {
      "text/plain": [
       "array([ 37731., 122391.,  57081.,  63218., 116969., 109431.])"
      ]
     },
     "execution_count": 157,
     "metadata": {},
     "output_type": "execute_result"
    }
   ],
   "source": [
    "y_test"
   ]
  },
  {
   "cell_type": "code",
   "execution_count": 161,
   "id": "e497d906",
   "metadata": {},
   "outputs": [
    {
     "data": {
      "text/plain": [
       "2446.1723690465064"
      ]
     },
     "execution_count": 161,
     "metadata": {},
     "output_type": "execute_result"
    }
   ],
   "source": [
    "from sklearn.metrics import mean_absolute_error\n",
    "mean_absolute_error(prediction,y_test)"
   ]
  },
  {
   "cell_type": "code",
   "execution_count": 163,
   "id": "81828b3e",
   "metadata": {},
   "outputs": [
    {
     "data": {
      "text/plain": [
       "array([62167.8846322])"
      ]
     },
     "execution_count": 163,
     "metadata": {},
     "output_type": "execute_result"
    }
   ],
   "source": [
    "predt = reg.predict([[3.8]])  # 3.8 year experience \n",
    "predt  # salary getting is 62,167  per month"
   ]
  },
  {
   "cell_type": "code",
   "execution_count": 164,
   "id": "f897447f",
   "metadata": {},
   "outputs": [
    {
     "data": {
      "text/plain": [
       "array([26780.09915063])"
      ]
     },
     "execution_count": 164,
     "metadata": {},
     "output_type": "execute_result"
    }
   ],
   "source": [
    "predt = reg.predict([[0.0]])   # zero(0) experience \n",
    "predt    # salary is 26,780 per month"
   ]
  },
  {
   "cell_type": "markdown",
   "id": "dbb1d5a2",
   "metadata": {},
   "source": [
    "## Continue of the previous dataset  (here done from starting)"
   ]
  },
  {
   "cell_type": "code",
   "execution_count": 215,
   "id": "65854a59",
   "metadata": {},
   "outputs": [],
   "source": [
    "import pandas as pd\n",
    "import numpy\n",
    "import matplotlib.pyplot as plt\n",
    "from sklearn.preprocessing import LabelEncoder\n",
    "\n",
    "file = pd.read_csv(\"./datasets/1 to 20 oct in app bbdaily.csv\")"
   ]
  },
  {
   "cell_type": "code",
   "execution_count": 216,
   "id": "43f2b58e",
   "metadata": {},
   "outputs": [
    {
     "data": {
      "text/html": [
       "<div>\n",
       "<style scoped>\n",
       "    .dataframe tbody tr th:only-of-type {\n",
       "        vertical-align: middle;\n",
       "    }\n",
       "\n",
       "    .dataframe tbody tr th {\n",
       "        vertical-align: top;\n",
       "    }\n",
       "\n",
       "    .dataframe thead th {\n",
       "        text-align: right;\n",
       "    }\n",
       "</style>\n",
       "<table border=\"1\" class=\"dataframe\">\n",
       "  <thead>\n",
       "    <tr style=\"text-align: right;\">\n",
       "      <th></th>\n",
       "      <th>Sl_no</th>\n",
       "      <th>Attributed Touch Type</th>\n",
       "      <th>Attributed Touch Time</th>\n",
       "      <th>Install Time</th>\n",
       "      <th>Event Time</th>\n",
       "      <th>Event Name</th>\n",
       "      <th>Event Value</th>\n",
       "      <th>Event Revenue</th>\n",
       "      <th>Event Revenue Currency</th>\n",
       "      <th>Event Revenue INR</th>\n",
       "      <th>...</th>\n",
       "      <th>Is Retargeting</th>\n",
       "      <th>Retargeting Conversion Type</th>\n",
       "      <th>Is Primary Attribution</th>\n",
       "      <th>Attribution Lookback</th>\n",
       "      <th>Reengagement Window</th>\n",
       "      <th>Match Type</th>\n",
       "      <th>User Agent</th>\n",
       "      <th>HTTP Referrer</th>\n",
       "      <th>Original URL</th>\n",
       "      <th>Store Product Page</th>\n",
       "    </tr>\n",
       "  </thead>\n",
       "  <tbody>\n",
       "    <tr>\n",
       "      <th>0</th>\n",
       "      <td>1</td>\n",
       "      <td>click</td>\n",
       "      <td>2021-10-20 23:37:09</td>\n",
       "      <td>2021-10-20 23:52:09</td>\n",
       "      <td>2021-10-20 23:58:59</td>\n",
       "      <td>af_address_add</td>\n",
       "      <td>{\"af_city\":\"Pune\",\"af_content\":\"Godrej Infinit...</td>\n",
       "      <td>NaN</td>\n",
       "      <td>USD</td>\n",
       "      <td>NaN</td>\n",
       "      <td>...</td>\n",
       "      <td>False</td>\n",
       "      <td>NaN</td>\n",
       "      <td>True</td>\n",
       "      <td>30d</td>\n",
       "      <td>NaN</td>\n",
       "      <td>srn</td>\n",
       "      <td>Dalvik/2.1.0 (Linux; U; Android 10; SM-A750F B...</td>\n",
       "      <td>NaN</td>\n",
       "      <td>NaN</td>\n",
       "      <td>NaN</td>\n",
       "    </tr>\n",
       "    <tr>\n",
       "      <th>1</th>\n",
       "      <td>2</td>\n",
       "      <td>click</td>\n",
       "      <td>2021-10-14 20:15:35</td>\n",
       "      <td>2021-10-14 20:16:10</td>\n",
       "      <td>2021-10-20 23:51:36</td>\n",
       "      <td>af_address_add</td>\n",
       "      <td>{\"af_city\":\"Gurgaon-Faridabad\",\"af_content\":\"B...</td>\n",
       "      <td>NaN</td>\n",
       "      <td>USD</td>\n",
       "      <td>NaN</td>\n",
       "      <td>...</td>\n",
       "      <td>False</td>\n",
       "      <td>NaN</td>\n",
       "      <td>True</td>\n",
       "      <td>30d</td>\n",
       "      <td>NaN</td>\n",
       "      <td>srn</td>\n",
       "      <td>Dalvik/2.1.0 (Linux; U; Android 11; RMX3381 Bu...</td>\n",
       "      <td>NaN</td>\n",
       "      <td>NaN</td>\n",
       "      <td>NaN</td>\n",
       "    </tr>\n",
       "  </tbody>\n",
       "</table>\n",
       "<p>2 rows × 60 columns</p>\n",
       "</div>"
      ],
      "text/plain": [
       "   Sl_no Attributed Touch Type Attributed Touch Time         Install Time  \\\n",
       "0      1                 click   2021-10-20 23:37:09  2021-10-20 23:52:09   \n",
       "1      2                 click   2021-10-14 20:15:35  2021-10-14 20:16:10   \n",
       "\n",
       "            Event Time      Event Name  \\\n",
       "0  2021-10-20 23:58:59  af_address_add   \n",
       "1  2021-10-20 23:51:36  af_address_add   \n",
       "\n",
       "                                         Event Value  Event Revenue  \\\n",
       "0  {\"af_city\":\"Pune\",\"af_content\":\"Godrej Infinit...            NaN   \n",
       "1  {\"af_city\":\"Gurgaon-Faridabad\",\"af_content\":\"B...            NaN   \n",
       "\n",
       "  Event Revenue Currency  Event Revenue INR  ...  Is Retargeting  \\\n",
       "0                    USD                NaN  ...           False   \n",
       "1                    USD                NaN  ...           False   \n",
       "\n",
       "   Retargeting Conversion Type  Is Primary Attribution Attribution Lookback  \\\n",
       "0                          NaN                    True                  30d   \n",
       "1                          NaN                    True                  30d   \n",
       "\n",
       "   Reengagement Window Match Type  \\\n",
       "0                  NaN        srn   \n",
       "1                  NaN        srn   \n",
       "\n",
       "                                          User Agent HTTP Referrer  \\\n",
       "0  Dalvik/2.1.0 (Linux; U; Android 10; SM-A750F B...           NaN   \n",
       "1  Dalvik/2.1.0 (Linux; U; Android 11; RMX3381 Bu...           NaN   \n",
       "\n",
       "   Original URL Store Product Page  \n",
       "0           NaN                NaN  \n",
       "1           NaN                NaN  \n",
       "\n",
       "[2 rows x 60 columns]"
      ]
     },
     "execution_count": 216,
     "metadata": {},
     "output_type": "execute_result"
    }
   ],
   "source": [
    "# this is to generate serial number as dataset does not have this we are adding \n",
    "ser = pd.Series([i+1 for i in range(len(dataset))],name=\"Sl_no\")\n",
    "dataset_merged = pd.merge(ser, file, left_index=True, right_index=True)\n",
    "dataset = pd.DataFrame(dataset_merged)\n",
    "dataset.head(2)"
   ]
  },
  {
   "cell_type": "code",
   "execution_count": 217,
   "id": "46dd81ae",
   "metadata": {},
   "outputs": [
    {
     "data": {
      "text/plain": [
       "(13302, 60)"
      ]
     },
     "execution_count": 217,
     "metadata": {},
     "output_type": "execute_result"
    }
   ],
   "source": [
    "# data overview\n",
    "dataset.shape"
   ]
  },
  {
   "cell_type": "code",
   "execution_count": 218,
   "id": "72d80098",
   "metadata": {},
   "outputs": [
    {
     "data": {
      "text/html": [
       "<div>\n",
       "<style scoped>\n",
       "    .dataframe tbody tr th:only-of-type {\n",
       "        vertical-align: middle;\n",
       "    }\n",
       "\n",
       "    .dataframe tbody tr th {\n",
       "        vertical-align: top;\n",
       "    }\n",
       "\n",
       "    .dataframe thead th {\n",
       "        text-align: right;\n",
       "    }\n",
       "</style>\n",
       "<table border=\"1\" class=\"dataframe\">\n",
       "  <thead>\n",
       "    <tr style=\"text-align: right;\">\n",
       "      <th></th>\n",
       "      <th>Sl_no</th>\n",
       "      <th>Event Revenue</th>\n",
       "      <th>Event Revenue INR</th>\n",
       "      <th>Cost Model</th>\n",
       "      <th>Cost Value</th>\n",
       "      <th>Cost Currency</th>\n",
       "      <th>Partner</th>\n",
       "      <th>Campaign ID</th>\n",
       "      <th>Adset ID</th>\n",
       "      <th>Ad</th>\n",
       "      <th>...</th>\n",
       "      <th>Customer User ID</th>\n",
       "      <th>Android ID</th>\n",
       "      <th>IMEI</th>\n",
       "      <th>IDFA</th>\n",
       "      <th>IDFV</th>\n",
       "      <th>Retargeting Conversion Type</th>\n",
       "      <th>Reengagement Window</th>\n",
       "      <th>HTTP Referrer</th>\n",
       "      <th>Original URL</th>\n",
       "      <th>Store Product Page</th>\n",
       "    </tr>\n",
       "  </thead>\n",
       "  <tbody>\n",
       "    <tr>\n",
       "      <th>count</th>\n",
       "      <td>13302.000000</td>\n",
       "      <td>6865.000000</td>\n",
       "      <td>6865.000000</td>\n",
       "      <td>0.0</td>\n",
       "      <td>0.0</td>\n",
       "      <td>0.0</td>\n",
       "      <td>0.0</td>\n",
       "      <td>1.330200e+04</td>\n",
       "      <td>1.330200e+04</td>\n",
       "      <td>3.430000e+02</td>\n",
       "      <td>...</td>\n",
       "      <td>0.0</td>\n",
       "      <td>0.0</td>\n",
       "      <td>0.0</td>\n",
       "      <td>0.0</td>\n",
       "      <td>0.0</td>\n",
       "      <td>0.0</td>\n",
       "      <td>0.0</td>\n",
       "      <td>0.0</td>\n",
       "      <td>0.0</td>\n",
       "      <td>0.0</td>\n",
       "    </tr>\n",
       "    <tr>\n",
       "      <th>mean</th>\n",
       "      <td>6651.500000</td>\n",
       "      <td>439.280774</td>\n",
       "      <td>439.280774</td>\n",
       "      <td>NaN</td>\n",
       "      <td>NaN</td>\n",
       "      <td>NaN</td>\n",
       "      <td>NaN</td>\n",
       "      <td>1.060031e+10</td>\n",
       "      <td>1.096819e+11</td>\n",
       "      <td>4.814073e+11</td>\n",
       "      <td>...</td>\n",
       "      <td>NaN</td>\n",
       "      <td>NaN</td>\n",
       "      <td>NaN</td>\n",
       "      <td>NaN</td>\n",
       "      <td>NaN</td>\n",
       "      <td>NaN</td>\n",
       "      <td>NaN</td>\n",
       "      <td>NaN</td>\n",
       "      <td>NaN</td>\n",
       "      <td>NaN</td>\n",
       "    </tr>\n",
       "    <tr>\n",
       "      <th>std</th>\n",
       "      <td>3840.100975</td>\n",
       "      <td>704.729281</td>\n",
       "      <td>704.729281</td>\n",
       "      <td>NaN</td>\n",
       "      <td>NaN</td>\n",
       "      <td>NaN</td>\n",
       "      <td>NaN</td>\n",
       "      <td>1.264224e+09</td>\n",
       "      <td>8.186245e+09</td>\n",
       "      <td>4.372491e+09</td>\n",
       "      <td>...</td>\n",
       "      <td>NaN</td>\n",
       "      <td>NaN</td>\n",
       "      <td>NaN</td>\n",
       "      <td>NaN</td>\n",
       "      <td>NaN</td>\n",
       "      <td>NaN</td>\n",
       "      <td>NaN</td>\n",
       "      <td>NaN</td>\n",
       "      <td>NaN</td>\n",
       "      <td>NaN</td>\n",
       "    </tr>\n",
       "    <tr>\n",
       "      <th>min</th>\n",
       "      <td>1.000000</td>\n",
       "      <td>0.000000</td>\n",
       "      <td>0.000000</td>\n",
       "      <td>NaN</td>\n",
       "      <td>NaN</td>\n",
       "      <td>NaN</td>\n",
       "      <td>NaN</td>\n",
       "      <td>1.003993e+10</td>\n",
       "      <td>9.785093e+10</td>\n",
       "      <td>4.797275e+11</td>\n",
       "      <td>...</td>\n",
       "      <td>NaN</td>\n",
       "      <td>NaN</td>\n",
       "      <td>NaN</td>\n",
       "      <td>NaN</td>\n",
       "      <td>NaN</td>\n",
       "      <td>NaN</td>\n",
       "      <td>NaN</td>\n",
       "      <td>NaN</td>\n",
       "      <td>NaN</td>\n",
       "      <td>NaN</td>\n",
       "    </tr>\n",
       "    <tr>\n",
       "      <th>25%</th>\n",
       "      <td>3326.250000</td>\n",
       "      <td>25.000000</td>\n",
       "      <td>25.000000</td>\n",
       "      <td>NaN</td>\n",
       "      <td>NaN</td>\n",
       "      <td>NaN</td>\n",
       "      <td>NaN</td>\n",
       "      <td>1.004679e+10</td>\n",
       "      <td>1.019315e+11</td>\n",
       "      <td>4.797275e+11</td>\n",
       "      <td>...</td>\n",
       "      <td>NaN</td>\n",
       "      <td>NaN</td>\n",
       "      <td>NaN</td>\n",
       "      <td>NaN</td>\n",
       "      <td>NaN</td>\n",
       "      <td>NaN</td>\n",
       "      <td>NaN</td>\n",
       "      <td>NaN</td>\n",
       "      <td>NaN</td>\n",
       "      <td>NaN</td>\n",
       "    </tr>\n",
       "    <tr>\n",
       "      <th>50%</th>\n",
       "      <td>6651.500000</td>\n",
       "      <td>80.000000</td>\n",
       "      <td>80.000000</td>\n",
       "      <td>NaN</td>\n",
       "      <td>NaN</td>\n",
       "      <td>NaN</td>\n",
       "      <td>NaN</td>\n",
       "      <td>1.005038e+10</td>\n",
       "      <td>1.136281e+11</td>\n",
       "      <td>4.797275e+11</td>\n",
       "      <td>...</td>\n",
       "      <td>NaN</td>\n",
       "      <td>NaN</td>\n",
       "      <td>NaN</td>\n",
       "      <td>NaN</td>\n",
       "      <td>NaN</td>\n",
       "      <td>NaN</td>\n",
       "      <td>NaN</td>\n",
       "      <td>NaN</td>\n",
       "      <td>NaN</td>\n",
       "      <td>NaN</td>\n",
       "    </tr>\n",
       "    <tr>\n",
       "      <th>75%</th>\n",
       "      <td>9976.750000</td>\n",
       "      <td>500.000000</td>\n",
       "      <td>500.000000</td>\n",
       "      <td>NaN</td>\n",
       "      <td>NaN</td>\n",
       "      <td>NaN</td>\n",
       "      <td>NaN</td>\n",
       "      <td>1.005040e+10</td>\n",
       "      <td>1.136281e+11</td>\n",
       "      <td>4.797275e+11</td>\n",
       "      <td>...</td>\n",
       "      <td>NaN</td>\n",
       "      <td>NaN</td>\n",
       "      <td>NaN</td>\n",
       "      <td>NaN</td>\n",
       "      <td>NaN</td>\n",
       "      <td>NaN</td>\n",
       "      <td>NaN</td>\n",
       "      <td>NaN</td>\n",
       "      <td>NaN</td>\n",
       "      <td>NaN</td>\n",
       "    </tr>\n",
       "    <tr>\n",
       "      <th>max</th>\n",
       "      <td>13302.000000</td>\n",
       "      <td>12000.000000</td>\n",
       "      <td>12000.000000</td>\n",
       "      <td>NaN</td>\n",
       "      <td>NaN</td>\n",
       "      <td>NaN</td>\n",
       "      <td>NaN</td>\n",
       "      <td>1.482331e+10</td>\n",
       "      <td>1.281670e+11</td>\n",
       "      <td>4.995395e+11</td>\n",
       "      <td>...</td>\n",
       "      <td>NaN</td>\n",
       "      <td>NaN</td>\n",
       "      <td>NaN</td>\n",
       "      <td>NaN</td>\n",
       "      <td>NaN</td>\n",
       "      <td>NaN</td>\n",
       "      <td>NaN</td>\n",
       "      <td>NaN</td>\n",
       "      <td>NaN</td>\n",
       "      <td>NaN</td>\n",
       "    </tr>\n",
       "  </tbody>\n",
       "</table>\n",
       "<p>8 rows × 23 columns</p>\n",
       "</div>"
      ],
      "text/plain": [
       "              Sl_no  Event Revenue  Event Revenue INR  Cost Model  Cost Value  \\\n",
       "count  13302.000000    6865.000000        6865.000000         0.0         0.0   \n",
       "mean    6651.500000     439.280774         439.280774         NaN         NaN   \n",
       "std     3840.100975     704.729281         704.729281         NaN         NaN   \n",
       "min        1.000000       0.000000           0.000000         NaN         NaN   \n",
       "25%     3326.250000      25.000000          25.000000         NaN         NaN   \n",
       "50%     6651.500000      80.000000          80.000000         NaN         NaN   \n",
       "75%     9976.750000     500.000000         500.000000         NaN         NaN   \n",
       "max    13302.000000   12000.000000       12000.000000         NaN         NaN   \n",
       "\n",
       "       Cost Currency  Partner   Campaign ID      Adset ID            Ad  ...  \\\n",
       "count            0.0      0.0  1.330200e+04  1.330200e+04  3.430000e+02  ...   \n",
       "mean             NaN      NaN  1.060031e+10  1.096819e+11  4.814073e+11  ...   \n",
       "std              NaN      NaN  1.264224e+09  8.186245e+09  4.372491e+09  ...   \n",
       "min              NaN      NaN  1.003993e+10  9.785093e+10  4.797275e+11  ...   \n",
       "25%              NaN      NaN  1.004679e+10  1.019315e+11  4.797275e+11  ...   \n",
       "50%              NaN      NaN  1.005038e+10  1.136281e+11  4.797275e+11  ...   \n",
       "75%              NaN      NaN  1.005040e+10  1.136281e+11  4.797275e+11  ...   \n",
       "max              NaN      NaN  1.482331e+10  1.281670e+11  4.995395e+11  ...   \n",
       "\n",
       "       Customer User ID  Android ID  IMEI  IDFA  IDFV  \\\n",
       "count               0.0         0.0   0.0   0.0   0.0   \n",
       "mean                NaN         NaN   NaN   NaN   NaN   \n",
       "std                 NaN         NaN   NaN   NaN   NaN   \n",
       "min                 NaN         NaN   NaN   NaN   NaN   \n",
       "25%                 NaN         NaN   NaN   NaN   NaN   \n",
       "50%                 NaN         NaN   NaN   NaN   NaN   \n",
       "75%                 NaN         NaN   NaN   NaN   NaN   \n",
       "max                 NaN         NaN   NaN   NaN   NaN   \n",
       "\n",
       "       Retargeting Conversion Type  Reengagement Window  HTTP Referrer  \\\n",
       "count                          0.0                  0.0            0.0   \n",
       "mean                           NaN                  NaN            NaN   \n",
       "std                            NaN                  NaN            NaN   \n",
       "min                            NaN                  NaN            NaN   \n",
       "25%                            NaN                  NaN            NaN   \n",
       "50%                            NaN                  NaN            NaN   \n",
       "75%                            NaN                  NaN            NaN   \n",
       "max                            NaN                  NaN            NaN   \n",
       "\n",
       "       Original URL  Store Product Page  \n",
       "count           0.0                 0.0  \n",
       "mean            NaN                 NaN  \n",
       "std             NaN                 NaN  \n",
       "min             NaN                 NaN  \n",
       "25%             NaN                 NaN  \n",
       "50%             NaN                 NaN  \n",
       "75%             NaN                 NaN  \n",
       "max             NaN                 NaN  \n",
       "\n",
       "[8 rows x 23 columns]"
      ]
     },
     "execution_count": 218,
     "metadata": {},
     "output_type": "execute_result"
    }
   ],
   "source": [
    "# Descriptive Analysis \n",
    "dataset.describe()"
   ]
  },
  {
   "cell_type": "code",
   "execution_count": 219,
   "id": "7328f463",
   "metadata": {
    "scrolled": false
   },
   "outputs": [
    {
     "data": {
      "text/plain": [
       "(array([12679.,     0.,     0.,     0.,     0.,     0.,     0.,     0.,\n",
       "            0.,   623.]),\n",
       " array([0. , 0.1, 0.2, 0.3, 0.4, 0.5, 0.6, 0.7, 0.8, 0.9, 1. ]),\n",
       " <BarContainer object of 10 artists>)"
      ]
     },
     "execution_count": 219,
     "metadata": {},
     "output_type": "execute_result"
    },
    {
     "data": {
      "image/png": "[encoded data removed]",
      "text/plain": [
       "<Figure size 600x400 with 1 Axes>"
      ]
     },
     "metadata": {},
     "output_type": "display_data"
    }
   ],
   "source": [
    "# Data visulization for basic descriptive analysis can be done for selected columns only\n",
    "\n",
    "# previously done for sl_no and Event Revenue\n",
    "# now doing for the Attributed Touch Type  and Event Revenue\n",
    "\n",
    "dataset = dataset.iloc[:,[1,7]]\n",
    "\n",
    "\n",
    "plt.figure(figsize=(6,4))\n",
    "plt.hist(dataset[\"Attributed Touch Type\"])\n",
    "# this chart is showing us how many people have perfomed which kind of event in the application after installing "
   ]
  },
  {
   "cell_type": "code",
   "execution_count": 220,
   "id": "411b363b",
   "metadata": {},
   "outputs": [
    {
     "data": {
      "text/html": [
       "<div>\n",
       "<style scoped>\n",
       "    .dataframe tbody tr th:only-of-type {\n",
       "        vertical-align: middle;\n",
       "    }\n",
       "\n",
       "    .dataframe tbody tr th {\n",
       "        vertical-align: top;\n",
       "    }\n",
       "\n",
       "    .dataframe thead th {\n",
       "        text-align: right;\n",
       "    }\n",
       "</style>\n",
       "<table border=\"1\" class=\"dataframe\">\n",
       "  <thead>\n",
       "    <tr style=\"text-align: right;\">\n",
       "      <th></th>\n",
       "      <th>Attributed Touch Type</th>\n",
       "      <th>Event Revenue</th>\n",
       "    </tr>\n",
       "  </thead>\n",
       "  <tbody>\n",
       "    <tr>\n",
       "      <th>0</th>\n",
       "      <td>click</td>\n",
       "      <td>NaN</td>\n",
       "    </tr>\n",
       "    <tr>\n",
       "      <th>1</th>\n",
       "      <td>click</td>\n",
       "      <td>NaN</td>\n",
       "    </tr>\n",
       "  </tbody>\n",
       "</table>\n",
       "</div>"
      ],
      "text/plain": [
       "  Attributed Touch Type  Event Revenue\n",
       "0                 click            NaN\n",
       "1                 click            NaN"
      ]
     },
     "execution_count": 220,
     "metadata": {},
     "output_type": "execute_result"
    }
   ],
   "source": [
    "dataset.head(2)"
   ]
  },
  {
   "cell_type": "code",
   "execution_count": 221,
   "id": "d89259f8",
   "metadata": {},
   "outputs": [
    {
     "data": {
      "text/plain": [
       "Attributed Touch Type\n",
       "click         12679\n",
       "impression      623\n",
       "Name: count, dtype: int64"
      ]
     },
     "execution_count": 221,
     "metadata": {},
     "output_type": "execute_result"
    }
   ],
   "source": [
    "dataset[\"Attributed Touch Type\"].value_counts()\n",
    "\n",
    "# there are 2 types of string i.e \n",
    "# click         12679\n",
    "# impression      623"
   ]
  },
  {
   "cell_type": "code",
   "execution_count": 222,
   "id": "97ee1da2",
   "metadata": {},
   "outputs": [],
   "source": [
    "# This needs convertion from text data into numeriacal data i.e labeling \n",
    "\n",
    "from sklearn.preprocessing import LabelEncoder\n",
    "le = LabelEncoder()\n",
    "dataset[\"Attributed Touch Type\"] = le.fit_transform(dataset[\"Attributed Touch Type\"])"
   ]
  },
  {
   "cell_type": "code",
   "execution_count": 223,
   "id": "8da9954f",
   "metadata": {},
   "outputs": [
    {
     "data": {
      "text/plain": [
       "Attributed Touch Type       0\n",
       "Event Revenue            6437\n",
       "dtype: int64"
      ]
     },
     "execution_count": 223,
     "metadata": {},
     "output_type": "execute_result"
    }
   ],
   "source": [
    "dataset.isnull().sum()"
   ]
  },
  {
   "cell_type": "code",
   "execution_count": 224,
   "id": "853db81e",
   "metadata": {},
   "outputs": [
    {
     "data": {
      "text/html": [
       "<div>\n",
       "<style scoped>\n",
       "    .dataframe tbody tr th:only-of-type {\n",
       "        vertical-align: middle;\n",
       "    }\n",
       "\n",
       "    .dataframe tbody tr th {\n",
       "        vertical-align: top;\n",
       "    }\n",
       "\n",
       "    .dataframe thead th {\n",
       "        text-align: right;\n",
       "    }\n",
       "</style>\n",
       "<table border=\"1\" class=\"dataframe\">\n",
       "  <thead>\n",
       "    <tr style=\"text-align: right;\">\n",
       "      <th></th>\n",
       "      <th>Attributed Touch Type</th>\n",
       "      <th>Event Revenue</th>\n",
       "    </tr>\n",
       "  </thead>\n",
       "  <tbody>\n",
       "    <tr>\n",
       "      <th>0</th>\n",
       "      <td>0</td>\n",
       "      <td>0.0</td>\n",
       "    </tr>\n",
       "    <tr>\n",
       "      <th>1</th>\n",
       "      <td>0</td>\n",
       "      <td>0.0</td>\n",
       "    </tr>\n",
       "  </tbody>\n",
       "</table>\n",
       "</div>"
      ],
      "text/plain": [
       "   Attributed Touch Type  Event Revenue\n",
       "0                      0            0.0\n",
       "1                      0            0.0"
      ]
     },
     "execution_count": 224,
     "metadata": {},
     "output_type": "execute_result"
    }
   ],
   "source": [
    "dataset = dataset.fillna(0)  # Fill the revenue with 0 \n",
    "dataset.head(2)"
   ]
  },
  {
   "cell_type": "code",
   "execution_count": 226,
   "id": "8072fd85",
   "metadata": {},
   "outputs": [
    {
     "data": {
      "text/plain": [
       "Attributed Touch Type    0\n",
       "Event Revenue            0\n",
       "dtype: int64"
      ]
     },
     "execution_count": 226,
     "metadata": {},
     "output_type": "execute_result"
    }
   ],
   "source": [
    "dataset.isnull().sum()"
   ]
  },
  {
   "cell_type": "code",
   "execution_count": 227,
   "id": "8848f3c5",
   "metadata": {
    "scrolled": true
   },
   "outputs": [
    {
     "data": {
      "text/plain": [
       "Attributed Touch Type\n",
       "0    12679\n",
       "1      623\n",
       "Name: count, dtype: int64"
      ]
     },
     "execution_count": 227,
     "metadata": {},
     "output_type": "execute_result"
    }
   ],
   "source": [
    "dataset[\"Attributed Touch Type\"].value_counts()  # labeled number "
   ]
  },
  {
   "cell_type": "code",
   "execution_count": 230,
   "id": "ee0ba8ef",
   "metadata": {},
   "outputs": [
    {
     "data": {
      "text/html": [
       "<div>\n",
       "<style scoped>\n",
       "    .dataframe tbody tr th:only-of-type {\n",
       "        vertical-align: middle;\n",
       "    }\n",
       "\n",
       "    .dataframe tbody tr th {\n",
       "        vertical-align: top;\n",
       "    }\n",
       "\n",
       "    .dataframe thead th {\n",
       "        text-align: right;\n",
       "    }\n",
       "</style>\n",
       "<table border=\"1\" class=\"dataframe\">\n",
       "  <thead>\n",
       "    <tr style=\"text-align: right;\">\n",
       "      <th></th>\n",
       "      <th>Attributed Touch Type</th>\n",
       "      <th>Event Revenue</th>\n",
       "    </tr>\n",
       "  </thead>\n",
       "  <tbody>\n",
       "    <tr>\n",
       "      <th>0</th>\n",
       "      <td>0</td>\n",
       "      <td>0.0</td>\n",
       "    </tr>\n",
       "    <tr>\n",
       "      <th>1</th>\n",
       "      <td>0</td>\n",
       "      <td>0.0</td>\n",
       "    </tr>\n",
       "    <tr>\n",
       "      <th>2</th>\n",
       "      <td>0</td>\n",
       "      <td>24.0</td>\n",
       "    </tr>\n",
       "    <tr>\n",
       "      <th>3</th>\n",
       "      <td>0</td>\n",
       "      <td>0.0</td>\n",
       "    </tr>\n",
       "    <tr>\n",
       "      <th>4</th>\n",
       "      <td>0</td>\n",
       "      <td>55.0</td>\n",
       "    </tr>\n",
       "  </tbody>\n",
       "</table>\n",
       "</div>"
      ],
      "text/plain": [
       "   Attributed Touch Type  Event Revenue\n",
       "0                      0            0.0\n",
       "1                      0            0.0\n",
       "2                      0           24.0\n",
       "3                      0            0.0\n",
       "4                      0           55.0"
      ]
     },
     "execution_count": 230,
     "metadata": {},
     "output_type": "execute_result"
    }
   ],
   "source": [
    "dataset.head()"
   ]
  },
  {
   "cell_type": "code",
   "execution_count": 228,
   "id": "cedee43a",
   "metadata": {},
   "outputs": [
    {
     "data": {
      "text/plain": [
       "array([[0],\n",
       "       [0],\n",
       "       [0],\n",
       "       ...,\n",
       "       [0],\n",
       "       [0],\n",
       "       [0]])"
      ]
     },
     "execution_count": 228,
     "metadata": {},
     "output_type": "execute_result"
    }
   ],
   "source": [
    "x = dataset.iloc[:,0].values   # Touch Type is  independent variable\n",
    "x = x.reshape(-1,1)    # vertical array \n",
    "x"
   ]
  },
  {
   "cell_type": "code",
   "execution_count": 231,
   "id": "8086d294",
   "metadata": {},
   "outputs": [
    {
     "data": {
      "text/plain": [
       "array([ 0.,  0., 24., ..., 25.,  0., 20.])"
      ]
     },
     "execution_count": 231,
     "metadata": {},
     "output_type": "execute_result"
    }
   ],
   "source": [
    "y = dataset.iloc[:,1].values   # target variable  -> Event Revenue -> always dependent variable\n",
    "y      # horizontal array "
   ]
  },
  {
   "cell_type": "code",
   "execution_count": 232,
   "id": "3e15177e",
   "metadata": {},
   "outputs": [],
   "source": [
    "from sklearn.model_selection import train_test_split\n",
    "x_train,x_test,y_train,y_test = train_test_split(x,y, test_size=0.2,random_state=50)  # 20% is test data"
   ]
  },
  {
   "cell_type": "code",
   "execution_count": 233,
   "id": "10f4cd84",
   "metadata": {},
   "outputs": [
    {
     "data": {
      "text/html": [
       "<style>#sk-container-id-3 {color: black;}#sk-container-id-3 pre{padding: 0;}#sk-container-id-3 div.sk-toggleable {background-color: white;}#sk-container-id-3 label.sk-toggleable__label {cursor: pointer;display: block;width: 100%;margin-bottom: 0;padding: 0.3em;box-sizing: border-box;text-align: center;}#sk-container-id-3 label.sk-toggleable__label-arrow:before {content: \"▸\";float: left;margin-right: 0.25em;color: #696969;}#sk-container-id-3 label.sk-toggleable__label-arrow:hover:before {color: black;}#sk-container-id-3 div.sk-estimator:hover label.sk-toggleable__label-arrow:before {color: black;}#sk-container-id-3 div.sk-toggleable__content {max-height: 0;max-width: 0;overflow: hidden;text-align: left;background-color: #f0f8ff;}#sk-container-id-3 div.sk-toggleable__content pre {margin: 0.2em;color: black;border-radius: 0.25em;background-color: #f0f8ff;}#sk-container-id-3 input.sk-toggleable__control:checked~div.sk-toggleable__content {max-height: 200px;max-width: 100%;overflow: auto;}#sk-container-id-3 input.sk-toggleable__control:checked~label.sk-toggleable__label-arrow:before {content: \"▾\";}#sk-container-id-3 div.sk-estimator input.sk-toggleable__control:checked~label.sk-toggleable__label {background-color: #d4ebff;}#sk-container-id-3 div.sk-label input.sk-toggleable__control:checked~label.sk-toggleable__label {background-color: #d4ebff;}#sk-container-id-3 input.sk-hidden--visually {border: 0;clip: rect(1px 1px 1px 1px);clip: rect(1px, 1px, 1px, 1px);height: 1px;margin: -1px;overflow: hidden;padding: 0;position: absolute;width: 1px;}#sk-container-id-3 div.sk-estimator {font-family: monospace;background-color: #f0f8ff;border: 1px dotted black;border-radius: 0.25em;box-sizing: border-box;margin-bottom: 0.5em;}#sk-container-id-3 div.sk-estimator:hover {background-color: #d4ebff;}#sk-container-id-3 div.sk-parallel-item::after {content: \"\";width: 100%;border-bottom: 1px solid gray;flex-grow: 1;}#sk-container-id-3 div.sk-label:hover label.sk-toggleable__label {background-color: #d4ebff;}#sk-container-id-3 div.sk-serial::before {content: \"\";position: absolute;border-left: 1px solid gray;box-sizing: border-box;top: 0;bottom: 0;left: 50%;z-index: 0;}#sk-container-id-3 div.sk-serial {display: flex;flex-direction: column;align-items: center;background-color: white;padding-right: 0.2em;padding-left: 0.2em;position: relative;}#sk-container-id-3 div.sk-item {position: relative;z-index: 1;}#sk-container-id-3 div.sk-parallel {display: flex;align-items: stretch;justify-content: center;background-color: white;position: relative;}#sk-container-id-3 div.sk-item::before, #sk-container-id-3 div.sk-parallel-item::before {content: \"\";position: absolute;border-left: 1px solid gray;box-sizing: border-box;top: 0;bottom: 0;left: 50%;z-index: -1;}#sk-container-id-3 div.sk-parallel-item {display: flex;flex-direction: column;z-index: 1;position: relative;background-color: white;}#sk-container-id-3 div.sk-parallel-item:first-child::after {align-self: flex-end;width: 50%;}#sk-container-id-3 div.sk-parallel-item:last-child::after {align-self: flex-start;width: 50%;}#sk-container-id-3 div.sk-parallel-item:only-child::after {width: 0;}#sk-container-id-3 div.sk-dashed-wrapped {border: 1px dashed gray;margin: 0 0.4em 0.5em 0.4em;box-sizing: border-box;padding-bottom: 0.4em;background-color: white;}#sk-container-id-3 div.sk-label label {font-family: monospace;font-weight: bold;display: inline-block;line-height: 1.2em;}#sk-container-id-3 div.sk-label-container {text-align: center;}#sk-container-id-3 div.sk-container {/* jupyter's `normalize.less` sets `[hidden] { display: none; }` but bootstrap.min.css set `[hidden] { display: none !important; }` so we also need the `!important` here to be able to override the default hidden behavior on the sphinx rendered scikit-learn.org. See: https://github.com/scikit-learn/scikit-learn/issues/21755 */display: inline-block !important;position: relative;}#sk-container-id-3 div.sk-text-repr-fallback {display: none;}</style><div id=\"sk-container-id-3\" class=\"sk-top-container\"><div class=\"sk-text-repr-fallback\"><pre>LinearRegression()</pre><b>In a Jupyter environment, please rerun this cell to show the HTML representation or trust the notebook. <br />On GitHub, the HTML representation is unable to render, please try loading this page with nbviewer.org.</b></div><div class=\"sk-container\" hidden><div class=\"sk-item\"><div class=\"sk-estimator sk-toggleable\"><input class=\"sk-toggleable__control sk-hidden--visually\" id=\"sk-estimator-id-3\" type=\"checkbox\" checked><label for=\"sk-estimator-id-3\" class=\"sk-toggleable__label sk-toggleable__label-arrow\">LinearRegression</label><div class=\"sk-toggleable__content\"><pre>LinearRegression()</pre></div></div></div></div></div>"
      ],
      "text/plain": [
       "LinearRegression()"
      ]
     },
     "execution_count": 233,
     "metadata": {},
     "output_type": "execute_result"
    }
   ],
   "source": [
    "from sklearn.linear_model import LinearRegression\n",
    "lr = LinearRegression()\n",
    "lr.fit(x_train,y_train)   "
   ]
  },
  {
   "cell_type": "code",
   "execution_count": 234,
   "id": "a012905d",
   "metadata": {},
   "outputs": [
    {
     "data": {
      "text/plain": [
       "array([228.45224966, 228.45224966, 228.45224966, ..., 228.45224966,\n",
       "       228.45224966, 228.45224966])"
      ]
     },
     "execution_count": 234,
     "metadata": {},
     "output_type": "execute_result"
    }
   ],
   "source": [
    "y_pred = lr.predict(x_test)   # pass the \"Touch Type\" test data to predict \n",
    "y_pred"
   ]
  },
  {
   "cell_type": "code",
   "execution_count": 235,
   "id": "5ed0e148",
   "metadata": {},
   "outputs": [
    {
     "data": {
      "text/plain": [
       "array([   0.,    0.,   10., ...,    0.,    0., 1000.])"
      ]
     },
     "execution_count": 235,
     "metadata": {},
     "output_type": "execute_result"
    }
   ],
   "source": [
    "y_test      "
   ]
  },
  {
   "cell_type": "code",
   "execution_count": 236,
   "id": "6240b9bd",
   "metadata": {},
   "outputs": [
    {
     "data": {
      "text/plain": [
       "(array([228.45224966]), array([0.]))"
      ]
     },
     "execution_count": 236,
     "metadata": {},
     "output_type": "execute_result"
    }
   ],
   "source": [
    "y_pred[[0]] , y_test[[0]]      # much difference in the value predctied i.e low accuracy "
   ]
  },
  {
   "cell_type": "markdown",
   "id": "041e4f87",
   "metadata": {},
   "source": [
    "### So Neithwer Attribute  Sl_No nor Attribute Touch Type can be used for predcition alone \n",
    "\n",
    "As its difficult with time and date lets take Event Name\n",
    "### So try with Event Name  -> Again same with other attribute"
   ]
  },
  {
   "cell_type": "code",
   "execution_count": 239,
   "id": "bec216ce",
   "metadata": {},
   "outputs": [],
   "source": [
    "import pandas as pd\n",
    "import numpy\n",
    "import matplotlib.pyplot as plt\n",
    "from sklearn.preprocessing import LabelEncoder\n",
    "\n",
    "file = pd.read_csv(\"./datasets/1 to 20 oct in app bbdaily.csv\")"
   ]
  },
  {
   "cell_type": "code",
   "execution_count": 240,
   "id": "99a1bdaf",
   "metadata": {},
   "outputs": [
    {
     "data": {
      "text/html": [
       "<div>\n",
       "<style scoped>\n",
       "    .dataframe tbody tr th:only-of-type {\n",
       "        vertical-align: middle;\n",
       "    }\n",
       "\n",
       "    .dataframe tbody tr th {\n",
       "        vertical-align: top;\n",
       "    }\n",
       "\n",
       "    .dataframe thead th {\n",
       "        text-align: right;\n",
       "    }\n",
       "</style>\n",
       "<table border=\"1\" class=\"dataframe\">\n",
       "  <thead>\n",
       "    <tr style=\"text-align: right;\">\n",
       "      <th></th>\n",
       "      <th>Sl_no</th>\n",
       "      <th>Attributed Touch Type</th>\n",
       "      <th>Attributed Touch Time</th>\n",
       "      <th>Install Time</th>\n",
       "      <th>Event Time</th>\n",
       "      <th>Event Name</th>\n",
       "      <th>Event Value</th>\n",
       "      <th>Event Revenue</th>\n",
       "      <th>Event Revenue Currency</th>\n",
       "      <th>Event Revenue INR</th>\n",
       "      <th>...</th>\n",
       "      <th>Is Retargeting</th>\n",
       "      <th>Retargeting Conversion Type</th>\n",
       "      <th>Is Primary Attribution</th>\n",
       "      <th>Attribution Lookback</th>\n",
       "      <th>Reengagement Window</th>\n",
       "      <th>Match Type</th>\n",
       "      <th>User Agent</th>\n",
       "      <th>HTTP Referrer</th>\n",
       "      <th>Original URL</th>\n",
       "      <th>Store Product Page</th>\n",
       "    </tr>\n",
       "  </thead>\n",
       "  <tbody>\n",
       "    <tr>\n",
       "      <th>0</th>\n",
       "      <td>1</td>\n",
       "      <td>click</td>\n",
       "      <td>2021-10-20 23:37:09</td>\n",
       "      <td>2021-10-20 23:52:09</td>\n",
       "      <td>2021-10-20 23:58:59</td>\n",
       "      <td>af_address_add</td>\n",
       "      <td>{\"af_city\":\"Pune\",\"af_content\":\"Godrej Infinit...</td>\n",
       "      <td>NaN</td>\n",
       "      <td>USD</td>\n",
       "      <td>NaN</td>\n",
       "      <td>...</td>\n",
       "      <td>False</td>\n",
       "      <td>NaN</td>\n",
       "      <td>True</td>\n",
       "      <td>30d</td>\n",
       "      <td>NaN</td>\n",
       "      <td>srn</td>\n",
       "      <td>Dalvik/2.1.0 (Linux; U; Android 10; SM-A750F B...</td>\n",
       "      <td>NaN</td>\n",
       "      <td>NaN</td>\n",
       "      <td>NaN</td>\n",
       "    </tr>\n",
       "    <tr>\n",
       "      <th>1</th>\n",
       "      <td>2</td>\n",
       "      <td>click</td>\n",
       "      <td>2021-10-14 20:15:35</td>\n",
       "      <td>2021-10-14 20:16:10</td>\n",
       "      <td>2021-10-20 23:51:36</td>\n",
       "      <td>af_address_add</td>\n",
       "      <td>{\"af_city\":\"Gurgaon-Faridabad\",\"af_content\":\"B...</td>\n",
       "      <td>NaN</td>\n",
       "      <td>USD</td>\n",
       "      <td>NaN</td>\n",
       "      <td>...</td>\n",
       "      <td>False</td>\n",
       "      <td>NaN</td>\n",
       "      <td>True</td>\n",
       "      <td>30d</td>\n",
       "      <td>NaN</td>\n",
       "      <td>srn</td>\n",
       "      <td>Dalvik/2.1.0 (Linux; U; Android 11; RMX3381 Bu...</td>\n",
       "      <td>NaN</td>\n",
       "      <td>NaN</td>\n",
       "      <td>NaN</td>\n",
       "    </tr>\n",
       "  </tbody>\n",
       "</table>\n",
       "<p>2 rows × 60 columns</p>\n",
       "</div>"
      ],
      "text/plain": [
       "   Sl_no Attributed Touch Type Attributed Touch Time         Install Time  \\\n",
       "0      1                 click   2021-10-20 23:37:09  2021-10-20 23:52:09   \n",
       "1      2                 click   2021-10-14 20:15:35  2021-10-14 20:16:10   \n",
       "\n",
       "            Event Time      Event Name  \\\n",
       "0  2021-10-20 23:58:59  af_address_add   \n",
       "1  2021-10-20 23:51:36  af_address_add   \n",
       "\n",
       "                                         Event Value  Event Revenue  \\\n",
       "0  {\"af_city\":\"Pune\",\"af_content\":\"Godrej Infinit...            NaN   \n",
       "1  {\"af_city\":\"Gurgaon-Faridabad\",\"af_content\":\"B...            NaN   \n",
       "\n",
       "  Event Revenue Currency  Event Revenue INR  ...  Is Retargeting  \\\n",
       "0                    USD                NaN  ...           False   \n",
       "1                    USD                NaN  ...           False   \n",
       "\n",
       "   Retargeting Conversion Type  Is Primary Attribution Attribution Lookback  \\\n",
       "0                          NaN                    True                  30d   \n",
       "1                          NaN                    True                  30d   \n",
       "\n",
       "   Reengagement Window Match Type  \\\n",
       "0                  NaN        srn   \n",
       "1                  NaN        srn   \n",
       "\n",
       "                                          User Agent HTTP Referrer  \\\n",
       "0  Dalvik/2.1.0 (Linux; U; Android 10; SM-A750F B...           NaN   \n",
       "1  Dalvik/2.1.0 (Linux; U; Android 11; RMX3381 Bu...           NaN   \n",
       "\n",
       "   Original URL Store Product Page  \n",
       "0           NaN                NaN  \n",
       "1           NaN                NaN  \n",
       "\n",
       "[2 rows x 60 columns]"
      ]
     },
     "execution_count": 240,
     "metadata": {},
     "output_type": "execute_result"
    }
   ],
   "source": [
    "# this is to generate serial number as dataset does not have this we are adding \n",
    "ser = pd.Series([i+1 for i in range(len(dataset))],name=\"Sl_no\")\n",
    "dataset_merged = pd.merge(ser, file, left_index=True, right_index=True)\n",
    "dataset = pd.DataFrame(dataset_merged)\n",
    "dataset.head(2)"
   ]
  },
  {
   "cell_type": "code",
   "execution_count": 241,
   "id": "7fbab6a1",
   "metadata": {},
   "outputs": [
    {
     "data": {
      "text/plain": [
       "(13302, 60)"
      ]
     },
     "execution_count": 241,
     "metadata": {},
     "output_type": "execute_result"
    }
   ],
   "source": [
    "# data overview\n",
    "dataset.shape\n",
    "\n",
    "# Descriptive Analysis \n",
    "dataset.describe()"
   ]
  },
  {
   "cell_type": "code",
   "execution_count": 243,
   "id": "81950ec2",
   "metadata": {
    "scrolled": false
   },
   "outputs": [
    {
     "data": {
      "text/plain": [
       "(array([6437.,    0.,    0., 2712.,    0.,    0., 1277.,    0.,    0.,\n",
       "        2876.]),\n",
       " array([0. , 0.3, 0.6, 0.9, 1.2, 1.5, 1.8, 2.1, 2.4, 2.7, 3. ]),\n",
       " <BarContainer object of 10 artists>)"
      ]
     },
     "execution_count": 243,
     "metadata": {},
     "output_type": "execute_result"
    },
    {
     "data": {
      "image/png": "[encoded data removed]",
      "text/plain": [
       "<Figure size 600x400 with 1 Axes>"
      ]
     },
     "metadata": {},
     "output_type": "display_data"
    }
   ],
   "source": [
    "# previously done for sl_no and Touch Type and  target as Event Revenue\n",
    "# now doing for the Attributed Event Name and Event Revenue\n",
    "dataset = dataset.iloc[:,[5,7]]\n",
    "\n",
    "plt.figure(figsize=(6,4))\n",
    "plt.hist(dataset[\"Event Name\"])"
   ]
  },
  {
   "cell_type": "code",
   "execution_count": 245,
   "id": "0d68607d",
   "metadata": {},
   "outputs": [
    {
     "data": {
      "text/html": [
       "<div>\n",
       "<style scoped>\n",
       "    .dataframe tbody tr th:only-of-type {\n",
       "        vertical-align: middle;\n",
       "    }\n",
       "\n",
       "    .dataframe tbody tr th {\n",
       "        vertical-align: top;\n",
       "    }\n",
       "\n",
       "    .dataframe thead th {\n",
       "        text-align: right;\n",
       "    }\n",
       "</style>\n",
       "<table border=\"1\" class=\"dataframe\">\n",
       "  <thead>\n",
       "    <tr style=\"text-align: right;\">\n",
       "      <th></th>\n",
       "      <th>Event Name</th>\n",
       "      <th>Event Revenue</th>\n",
       "    </tr>\n",
       "  </thead>\n",
       "  <tbody>\n",
       "    <tr>\n",
       "      <th>0</th>\n",
       "      <td>af_address_add</td>\n",
       "      <td>NaN</td>\n",
       "    </tr>\n",
       "    <tr>\n",
       "      <th>1</th>\n",
       "      <td>af_address_add</td>\n",
       "      <td>NaN</td>\n",
       "    </tr>\n",
       "    <tr>\n",
       "      <th>2</th>\n",
       "      <td>af_first_subscription</td>\n",
       "      <td>24.0</td>\n",
       "    </tr>\n",
       "    <tr>\n",
       "      <th>3</th>\n",
       "      <td>af_address_add</td>\n",
       "      <td>NaN</td>\n",
       "    </tr>\n",
       "    <tr>\n",
       "      <th>4</th>\n",
       "      <td>af_first_subscription</td>\n",
       "      <td>55.0</td>\n",
       "    </tr>\n",
       "  </tbody>\n",
       "</table>\n",
       "</div>"
      ],
      "text/plain": [
       "              Event Name  Event Revenue\n",
       "0         af_address_add            NaN\n",
       "1         af_address_add            NaN\n",
       "2  af_first_subscription           24.0\n",
       "3         af_address_add            NaN\n",
       "4  af_first_subscription           55.0"
      ]
     },
     "execution_count": 245,
     "metadata": {},
     "output_type": "execute_result"
    }
   ],
   "source": [
    "dataset.head()"
   ]
  },
  {
   "cell_type": "code",
   "execution_count": 244,
   "id": "0600983a",
   "metadata": {},
   "outputs": [
    {
     "data": {
      "text/plain": [
       "Event Name\n",
       "af_address_add              6437\n",
       "af_first_wallet_recharge    2876\n",
       "af_first_subscription       2712\n",
       "af_first_topup              1277\n",
       "Name: count, dtype: int64"
      ]
     },
     "execution_count": 244,
     "metadata": {},
     "output_type": "execute_result"
    }
   ],
   "source": [
    "dataset[\"Event Name\"].value_counts()"
   ]
  },
  {
   "cell_type": "code",
   "execution_count": 247,
   "id": "22867c77",
   "metadata": {},
   "outputs": [],
   "source": [
    "# here all are the strings so need to convert to integer "
   ]
  },
  {
   "cell_type": "code",
   "execution_count": 248,
   "id": "e9226a38",
   "metadata": {},
   "outputs": [],
   "source": [
    "from sklearn.preprocessing import LabelEncoder\n",
    "le = LabelEncoder()\n",
    "dataset[\"Event Name\"] = le.fit_transform(dataset[\"Event Name\"])"
   ]
  },
  {
   "cell_type": "code",
   "execution_count": 250,
   "id": "0baee6cc",
   "metadata": {},
   "outputs": [
    {
     "data": {
      "text/html": [
       "<div>\n",
       "<style scoped>\n",
       "    .dataframe tbody tr th:only-of-type {\n",
       "        vertical-align: middle;\n",
       "    }\n",
       "\n",
       "    .dataframe tbody tr th {\n",
       "        vertical-align: top;\n",
       "    }\n",
       "\n",
       "    .dataframe thead th {\n",
       "        text-align: right;\n",
       "    }\n",
       "</style>\n",
       "<table border=\"1\" class=\"dataframe\">\n",
       "  <thead>\n",
       "    <tr style=\"text-align: right;\">\n",
       "      <th></th>\n",
       "      <th>Event Name</th>\n",
       "      <th>Event Revenue</th>\n",
       "    </tr>\n",
       "  </thead>\n",
       "  <tbody>\n",
       "    <tr>\n",
       "      <th>0</th>\n",
       "      <td>0</td>\n",
       "      <td>NaN</td>\n",
       "    </tr>\n",
       "    <tr>\n",
       "      <th>1</th>\n",
       "      <td>0</td>\n",
       "      <td>NaN</td>\n",
       "    </tr>\n",
       "    <tr>\n",
       "      <th>2</th>\n",
       "      <td>1</td>\n",
       "      <td>24.0</td>\n",
       "    </tr>\n",
       "    <tr>\n",
       "      <th>3</th>\n",
       "      <td>0</td>\n",
       "      <td>NaN</td>\n",
       "    </tr>\n",
       "    <tr>\n",
       "      <th>4</th>\n",
       "      <td>1</td>\n",
       "      <td>55.0</td>\n",
       "    </tr>\n",
       "  </tbody>\n",
       "</table>\n",
       "</div>"
      ],
      "text/plain": [
       "   Event Name  Event Revenue\n",
       "0           0            NaN\n",
       "1           0            NaN\n",
       "2           1           24.0\n",
       "3           0            NaN\n",
       "4           1           55.0"
      ]
     },
     "execution_count": 250,
     "metadata": {},
     "output_type": "execute_result"
    }
   ],
   "source": [
    "dataset.head()"
   ]
  },
  {
   "cell_type": "code",
   "execution_count": 251,
   "id": "4cb9c0c6",
   "metadata": {},
   "outputs": [
    {
     "data": {
      "text/plain": [
       "Event Name          0\n",
       "Event Revenue    6437\n",
       "dtype: int64"
      ]
     },
     "execution_count": 251,
     "metadata": {},
     "output_type": "execute_result"
    }
   ],
   "source": [
    "dataset.isnull().sum()"
   ]
  },
  {
   "cell_type": "code",
   "execution_count": 252,
   "id": "10628ef0",
   "metadata": {},
   "outputs": [
    {
     "data": {
      "text/html": [
       "<div>\n",
       "<style scoped>\n",
       "    .dataframe tbody tr th:only-of-type {\n",
       "        vertical-align: middle;\n",
       "    }\n",
       "\n",
       "    .dataframe tbody tr th {\n",
       "        vertical-align: top;\n",
       "    }\n",
       "\n",
       "    .dataframe thead th {\n",
       "        text-align: right;\n",
       "    }\n",
       "</style>\n",
       "<table border=\"1\" class=\"dataframe\">\n",
       "  <thead>\n",
       "    <tr style=\"text-align: right;\">\n",
       "      <th></th>\n",
       "      <th>Event Name</th>\n",
       "      <th>Event Revenue</th>\n",
       "    </tr>\n",
       "  </thead>\n",
       "  <tbody>\n",
       "    <tr>\n",
       "      <th>0</th>\n",
       "      <td>0</td>\n",
       "      <td>0.0</td>\n",
       "    </tr>\n",
       "    <tr>\n",
       "      <th>1</th>\n",
       "      <td>0</td>\n",
       "      <td>0.0</td>\n",
       "    </tr>\n",
       "  </tbody>\n",
       "</table>\n",
       "</div>"
      ],
      "text/plain": [
       "   Event Name  Event Revenue\n",
       "0           0            0.0\n",
       "1           0            0.0"
      ]
     },
     "execution_count": 252,
     "metadata": {},
     "output_type": "execute_result"
    }
   ],
   "source": [
    "dataset = dataset.fillna(0)  # Fill the revenue with 0 \n",
    "dataset.head(2)"
   ]
  },
  {
   "cell_type": "code",
   "execution_count": 253,
   "id": "5da3f1de",
   "metadata": {},
   "outputs": [
    {
     "data": {
      "text/plain": [
       "Event Name\n",
       "0    6437\n",
       "3    2876\n",
       "1    2712\n",
       "2    1277\n",
       "Name: count, dtype: int64"
      ]
     },
     "execution_count": 253,
     "metadata": {},
     "output_type": "execute_result"
    }
   ],
   "source": [
    "dataset[\"Event Name\"].value_counts()  # labeled number "
   ]
  },
  {
   "cell_type": "code",
   "execution_count": 254,
   "id": "81211e41",
   "metadata": {},
   "outputs": [
    {
     "data": {
      "text/plain": [
       "array([ 0.,  0., 24., ..., 25.,  0., 20.])"
      ]
     },
     "execution_count": 254,
     "metadata": {},
     "output_type": "execute_result"
    }
   ],
   "source": [
    "x = dataset.iloc[:,0].values   # Event Name is independent variable\n",
    "x = x.reshape(-1,1)    # vertical array \n",
    "\n",
    "y = dataset.iloc[:,1].values   # target variable  -> Event Revenue -> always dependent variable\n",
    "y # horizontal array "
   ]
  },
  {
   "cell_type": "code",
   "execution_count": 255,
   "id": "d84b8861",
   "metadata": {},
   "outputs": [
    {
     "data": {
      "text/html": [
       "<style>#sk-container-id-4 {color: black;}#sk-container-id-4 pre{padding: 0;}#sk-container-id-4 div.sk-toggleable {background-color: white;}#sk-container-id-4 label.sk-toggleable__label {cursor: pointer;display: block;width: 100%;margin-bottom: 0;padding: 0.3em;box-sizing: border-box;text-align: center;}#sk-container-id-4 label.sk-toggleable__label-arrow:before {content: \"▸\";float: left;margin-right: 0.25em;color: #696969;}#sk-container-id-4 label.sk-toggleable__label-arrow:hover:before {color: black;}#sk-container-id-4 div.sk-estimator:hover label.sk-toggleable__label-arrow:before {color: black;}#sk-container-id-4 div.sk-toggleable__content {max-height: 0;max-width: 0;overflow: hidden;text-align: left;background-color: #f0f8ff;}#sk-container-id-4 div.sk-toggleable__content pre {margin: 0.2em;color: black;border-radius: 0.25em;background-color: #f0f8ff;}#sk-container-id-4 input.sk-toggleable__control:checked~div.sk-toggleable__content {max-height: 200px;max-width: 100%;overflow: auto;}#sk-container-id-4 input.sk-toggleable__control:checked~label.sk-toggleable__label-arrow:before {content: \"▾\";}#sk-container-id-4 div.sk-estimator input.sk-toggleable__control:checked~label.sk-toggleable__label {background-color: #d4ebff;}#sk-container-id-4 div.sk-label input.sk-toggleable__control:checked~label.sk-toggleable__label {background-color: #d4ebff;}#sk-container-id-4 input.sk-hidden--visually {border: 0;clip: rect(1px 1px 1px 1px);clip: rect(1px, 1px, 1px, 1px);height: 1px;margin: -1px;overflow: hidden;padding: 0;position: absolute;width: 1px;}#sk-container-id-4 div.sk-estimator {font-family: monospace;background-color: #f0f8ff;border: 1px dotted black;border-radius: 0.25em;box-sizing: border-box;margin-bottom: 0.5em;}#sk-container-id-4 div.sk-estimator:hover {background-color: #d4ebff;}#sk-container-id-4 div.sk-parallel-item::after {content: \"\";width: 100%;border-bottom: 1px solid gray;flex-grow: 1;}#sk-container-id-4 div.sk-label:hover label.sk-toggleable__label {background-color: #d4ebff;}#sk-container-id-4 div.sk-serial::before {content: \"\";position: absolute;border-left: 1px solid gray;box-sizing: border-box;top: 0;bottom: 0;left: 50%;z-index: 0;}#sk-container-id-4 div.sk-serial {display: flex;flex-direction: column;align-items: center;background-color: white;padding-right: 0.2em;padding-left: 0.2em;position: relative;}#sk-container-id-4 div.sk-item {position: relative;z-index: 1;}#sk-container-id-4 div.sk-parallel {display: flex;align-items: stretch;justify-content: center;background-color: white;position: relative;}#sk-container-id-4 div.sk-item::before, #sk-container-id-4 div.sk-parallel-item::before {content: \"\";position: absolute;border-left: 1px solid gray;box-sizing: border-box;top: 0;bottom: 0;left: 50%;z-index: -1;}#sk-container-id-4 div.sk-parallel-item {display: flex;flex-direction: column;z-index: 1;position: relative;background-color: white;}#sk-container-id-4 div.sk-parallel-item:first-child::after {align-self: flex-end;width: 50%;}#sk-container-id-4 div.sk-parallel-item:last-child::after {align-self: flex-start;width: 50%;}#sk-container-id-4 div.sk-parallel-item:only-child::after {width: 0;}#sk-container-id-4 div.sk-dashed-wrapped {border: 1px dashed gray;margin: 0 0.4em 0.5em 0.4em;box-sizing: border-box;padding-bottom: 0.4em;background-color: white;}#sk-container-id-4 div.sk-label label {font-family: monospace;font-weight: bold;display: inline-block;line-height: 1.2em;}#sk-container-id-4 div.sk-label-container {text-align: center;}#sk-container-id-4 div.sk-container {/* jupyter's `normalize.less` sets `[hidden] { display: none; }` but bootstrap.min.css set `[hidden] { display: none !important; }` so we also need the `!important` here to be able to override the default hidden behavior on the sphinx rendered scikit-learn.org. See: https://github.com/scikit-learn/scikit-learn/issues/21755 */display: inline-block !important;position: relative;}#sk-container-id-4 div.sk-text-repr-fallback {display: none;}</style><div id=\"sk-container-id-4\" class=\"sk-top-container\"><div class=\"sk-text-repr-fallback\"><pre>LinearRegression()</pre><b>In a Jupyter environment, please rerun this cell to show the HTML representation or trust the notebook. <br />On GitHub, the HTML representation is unable to render, please try loading this page with nbviewer.org.</b></div><div class=\"sk-container\" hidden><div class=\"sk-item\"><div class=\"sk-estimator sk-toggleable\"><input class=\"sk-toggleable__control sk-hidden--visually\" id=\"sk-estimator-id-4\" type=\"checkbox\" checked><label for=\"sk-estimator-id-4\" class=\"sk-toggleable__label sk-toggleable__label-arrow\">LinearRegression</label><div class=\"sk-toggleable__content\"><pre>LinearRegression()</pre></div></div></div></div></div>"
      ],
      "text/plain": [
       "LinearRegression()"
      ]
     },
     "execution_count": 255,
     "metadata": {},
     "output_type": "execute_result"
    }
   ],
   "source": [
    "from sklearn.model_selection import train_test_split\n",
    "x_train,x_test,y_train,y_test = train_test_split(x,y, test_size=0.2,random_state=50)  # 20% is test data\n",
    "\n",
    "from sklearn.linear_model import LinearRegression\n",
    "lr = LinearRegression()\n",
    "lr.fit(x_train,y_train)   "
   ]
  },
  {
   "cell_type": "code",
   "execution_count": 256,
   "id": "65e20b7a",
   "metadata": {},
   "outputs": [
    {
     "data": {
      "text/plain": [
       "array([-69.80960553, -69.80960553, 777.86087483, ..., -69.80960553,\n",
       "       -69.80960553, 777.86087483])"
      ]
     },
     "execution_count": 256,
     "metadata": {},
     "output_type": "execute_result"
    }
   ],
   "source": [
    "y_pred = lr.predict(x_test)\n",
    "y_pred"
   ]
  },
  {
   "cell_type": "code",
   "execution_count": 257,
   "id": "329c480c",
   "metadata": {},
   "outputs": [
    {
     "data": {
      "text/plain": [
       "array([   0.,    0.,   10., ...,    0.,    0., 1000.])"
      ]
     },
     "execution_count": 257,
     "metadata": {},
     "output_type": "execute_result"
    }
   ],
   "source": [
    "y_test"
   ]
  },
  {
   "cell_type": "code",
   "execution_count": 260,
   "id": "8dd82f33",
   "metadata": {},
   "outputs": [
    {
     "data": {
      "text/plain": [
       "array([-69.80960553])"
      ]
     },
     "execution_count": 260,
     "metadata": {},
     "output_type": "execute_result"
    }
   ],
   "source": [
    "lr.predict([[0]])"
   ]
  },
  {
   "cell_type": "markdown",
   "id": "b2166015",
   "metadata": {},
   "source": [
    "###  Conclusion\n",
    "\n",
    "- **Sl_no Column** cannot be used for prediction alone\n",
    "- **Attribute touch column** cannot be used for prediction alone\n",
    "- **Event Name column** cannot be used for prediction alone\n",
    "<br><br>\n",
    "- but the accuracy was increasing the for the columns\n",
    "\n",
    "### So we need to take multiple columns for the prediction next onwords i.e combinations \n",
    "\n",
    "#### Assignmnet - 3 -> find which columns gives be some better accuracy \n",
    "\n",
    "like in dataset take <br> \n",
    "dataset = file.iloc[:,[0,5,7]]  # this is to take sl_no and Event Name  and target "
   ]
  },
  {
   "cell_type": "code",
   "execution_count": 5,
   "id": "b13e269c",
   "metadata": {},
   "outputs": [
    {
     "data": {
      "text/html": [
       "<div>\n",
       "<style scoped>\n",
       "    .dataframe tbody tr th:only-of-type {\n",
       "        vertical-align: middle;\n",
       "    }\n",
       "\n",
       "    .dataframe tbody tr th {\n",
       "        vertical-align: top;\n",
       "    }\n",
       "\n",
       "    .dataframe thead th {\n",
       "        text-align: right;\n",
       "    }\n",
       "</style>\n",
       "<table border=\"1\" class=\"dataframe\">\n",
       "  <thead>\n",
       "    <tr style=\"text-align: right;\">\n",
       "      <th></th>\n",
       "      <th>Sl_no</th>\n",
       "      <th>Attributed Touch Type</th>\n",
       "      <th>Attributed Touch Time</th>\n",
       "      <th>Install Time</th>\n",
       "      <th>Event Time</th>\n",
       "      <th>Event Name</th>\n",
       "      <th>Event Value</th>\n",
       "      <th>Event Revenue</th>\n",
       "      <th>Event Revenue Currency</th>\n",
       "      <th>Event Revenue INR</th>\n",
       "      <th>...</th>\n",
       "      <th>Is Retargeting</th>\n",
       "      <th>Retargeting Conversion Type</th>\n",
       "      <th>Is Primary Attribution</th>\n",
       "      <th>Attribution Lookback</th>\n",
       "      <th>Reengagement Window</th>\n",
       "      <th>Match Type</th>\n",
       "      <th>User Agent</th>\n",
       "      <th>HTTP Referrer</th>\n",
       "      <th>Original URL</th>\n",
       "      <th>Store Product Page</th>\n",
       "    </tr>\n",
       "  </thead>\n",
       "  <tbody>\n",
       "    <tr>\n",
       "      <th>0</th>\n",
       "      <td>1</td>\n",
       "      <td>click</td>\n",
       "      <td>2021-10-20 23:37:09</td>\n",
       "      <td>2021-10-20 23:52:09</td>\n",
       "      <td>2021-10-20 23:58:59</td>\n",
       "      <td>af_address_add</td>\n",
       "      <td>{\"af_city\":\"Pune\",\"af_content\":\"Godrej Infinit...</td>\n",
       "      <td>NaN</td>\n",
       "      <td>USD</td>\n",
       "      <td>NaN</td>\n",
       "      <td>...</td>\n",
       "      <td>False</td>\n",
       "      <td>NaN</td>\n",
       "      <td>True</td>\n",
       "      <td>30d</td>\n",
       "      <td>NaN</td>\n",
       "      <td>srn</td>\n",
       "      <td>Dalvik/2.1.0 (Linux; U; Android 10; SM-A750F B...</td>\n",
       "      <td>NaN</td>\n",
       "      <td>NaN</td>\n",
       "      <td>NaN</td>\n",
       "    </tr>\n",
       "    <tr>\n",
       "      <th>1</th>\n",
       "      <td>2</td>\n",
       "      <td>click</td>\n",
       "      <td>2021-10-14 20:15:35</td>\n",
       "      <td>2021-10-14 20:16:10</td>\n",
       "      <td>2021-10-20 23:51:36</td>\n",
       "      <td>af_address_add</td>\n",
       "      <td>{\"af_city\":\"Gurgaon-Faridabad\",\"af_content\":\"B...</td>\n",
       "      <td>NaN</td>\n",
       "      <td>USD</td>\n",
       "      <td>NaN</td>\n",
       "      <td>...</td>\n",
       "      <td>False</td>\n",
       "      <td>NaN</td>\n",
       "      <td>True</td>\n",
       "      <td>30d</td>\n",
       "      <td>NaN</td>\n",
       "      <td>srn</td>\n",
       "      <td>Dalvik/2.1.0 (Linux; U; Android 11; RMX3381 Bu...</td>\n",
       "      <td>NaN</td>\n",
       "      <td>NaN</td>\n",
       "      <td>NaN</td>\n",
       "    </tr>\n",
       "  </tbody>\n",
       "</table>\n",
       "<p>2 rows × 60 columns</p>\n",
       "</div>"
      ],
      "text/plain": [
       "   Sl_no Attributed Touch Type Attributed Touch Time         Install Time  \\\n",
       "0      1                 click   2021-10-20 23:37:09  2021-10-20 23:52:09   \n",
       "1      2                 click   2021-10-14 20:15:35  2021-10-14 20:16:10   \n",
       "\n",
       "            Event Time      Event Name  \\\n",
       "0  2021-10-20 23:58:59  af_address_add   \n",
       "1  2021-10-20 23:51:36  af_address_add   \n",
       "\n",
       "                                         Event Value  Event Revenue  \\\n",
       "0  {\"af_city\":\"Pune\",\"af_content\":\"Godrej Infinit...            NaN   \n",
       "1  {\"af_city\":\"Gurgaon-Faridabad\",\"af_content\":\"B...            NaN   \n",
       "\n",
       "  Event Revenue Currency  Event Revenue INR  ...  Is Retargeting  \\\n",
       "0                    USD                NaN  ...           False   \n",
       "1                    USD                NaN  ...           False   \n",
       "\n",
       "   Retargeting Conversion Type  Is Primary Attribution Attribution Lookback  \\\n",
       "0                          NaN                    True                  30d   \n",
       "1                          NaN                    True                  30d   \n",
       "\n",
       "   Reengagement Window Match Type  \\\n",
       "0                  NaN        srn   \n",
       "1                  NaN        srn   \n",
       "\n",
       "                                          User Agent HTTP Referrer  \\\n",
       "0  Dalvik/2.1.0 (Linux; U; Android 10; SM-A750F B...           NaN   \n",
       "1  Dalvik/2.1.0 (Linux; U; Android 11; RMX3381 Bu...           NaN   \n",
       "\n",
       "   Original URL Store Product Page  \n",
       "0           NaN                NaN  \n",
       "1           NaN                NaN  \n",
       "\n",
       "[2 rows x 60 columns]"
      ]
     },
     "execution_count": 5,
     "metadata": {},
     "output_type": "execute_result"
    }
   ],
   "source": [
    "import pandas as pd\n",
    "import numpy\n",
    "import matplotlib.pyplot as plt\n",
    "from sklearn.preprocessing import LabelEncoder\n",
    "\n",
    "file = pd.read_csv(\"./datasets/1 to 20 oct in app bbdaily.csv\")\n",
    "# this is to generate serial number as dataset does not have this we are adding \n",
    "ser = pd.Series([i+1 for i in range(len(file))],name=\"Sl_no\")\n",
    "dataset_merged = pd.merge(ser, file, left_index=True, right_index=True)\n",
    "dataset = pd.DataFrame(dataset_merged)\n",
    "dataset.head(2)"
   ]
  },
  {
   "cell_type": "code",
   "execution_count": 6,
   "id": "0cfcc730",
   "metadata": {},
   "outputs": [
    {
     "data": {
      "text/html": [
       "<div>\n",
       "<style scoped>\n",
       "    .dataframe tbody tr th:only-of-type {\n",
       "        vertical-align: middle;\n",
       "    }\n",
       "\n",
       "    .dataframe tbody tr th {\n",
       "        vertical-align: top;\n",
       "    }\n",
       "\n",
       "    .dataframe thead th {\n",
       "        text-align: right;\n",
       "    }\n",
       "</style>\n",
       "<table border=\"1\" class=\"dataframe\">\n",
       "  <thead>\n",
       "    <tr style=\"text-align: right;\">\n",
       "      <th></th>\n",
       "      <th>Sl_no</th>\n",
       "      <th>Event Name</th>\n",
       "      <th>Event Revenue</th>\n",
       "    </tr>\n",
       "  </thead>\n",
       "  <tbody>\n",
       "    <tr>\n",
       "      <th>0</th>\n",
       "      <td>1</td>\n",
       "      <td>af_address_add</td>\n",
       "      <td>NaN</td>\n",
       "    </tr>\n",
       "    <tr>\n",
       "      <th>1</th>\n",
       "      <td>2</td>\n",
       "      <td>af_address_add</td>\n",
       "      <td>NaN</td>\n",
       "    </tr>\n",
       "    <tr>\n",
       "      <th>2</th>\n",
       "      <td>3</td>\n",
       "      <td>af_first_subscription</td>\n",
       "      <td>24.0</td>\n",
       "    </tr>\n",
       "    <tr>\n",
       "      <th>3</th>\n",
       "      <td>4</td>\n",
       "      <td>af_address_add</td>\n",
       "      <td>NaN</td>\n",
       "    </tr>\n",
       "    <tr>\n",
       "      <th>4</th>\n",
       "      <td>5</td>\n",
       "      <td>af_first_subscription</td>\n",
       "      <td>55.0</td>\n",
       "    </tr>\n",
       "  </tbody>\n",
       "</table>\n",
       "</div>"
      ],
      "text/plain": [
       "   Sl_no             Event Name  Event Revenue\n",
       "0      1         af_address_add            NaN\n",
       "1      2         af_address_add            NaN\n",
       "2      3  af_first_subscription           24.0\n",
       "3      4         af_address_add            NaN\n",
       "4      5  af_first_subscription           55.0"
      ]
     },
     "execution_count": 6,
     "metadata": {},
     "output_type": "execute_result"
    }
   ],
   "source": [
    "dataset = dataset.iloc[:,[0,5,7]]  # # now doing for the Sl_no and Event Name and Event Revenue\n",
    "dataset.head()"
   ]
  },
  {
   "cell_type": "code",
   "execution_count": 7,
   "id": "b266f211",
   "metadata": {},
   "outputs": [
    {
     "data": {
      "text/plain": [
       "Event Name\n",
       "af_address_add              6437\n",
       "af_first_wallet_recharge    2876\n",
       "af_first_subscription       2712\n",
       "af_first_topup              1277\n",
       "Name: count, dtype: int64"
      ]
     },
     "execution_count": 7,
     "metadata": {},
     "output_type": "execute_result"
    }
   ],
   "source": [
    "dataset[\"Event Name\"].value_counts()"
   ]
  },
  {
   "cell_type": "code",
   "execution_count": 8,
   "id": "71710b68",
   "metadata": {},
   "outputs": [],
   "source": [
    "from sklearn.preprocessing import LabelEncoder\n",
    "le = LabelEncoder()\n",
    "dataset[\"Event Name\"] = le.fit_transform(dataset[\"Event Name\"])"
   ]
  },
  {
   "cell_type": "code",
   "execution_count": 9,
   "id": "63b4a667",
   "metadata": {},
   "outputs": [
    {
     "data": {
      "text/html": [
       "<div>\n",
       "<style scoped>\n",
       "    .dataframe tbody tr th:only-of-type {\n",
       "        vertical-align: middle;\n",
       "    }\n",
       "\n",
       "    .dataframe tbody tr th {\n",
       "        vertical-align: top;\n",
       "    }\n",
       "\n",
       "    .dataframe thead th {\n",
       "        text-align: right;\n",
       "    }\n",
       "</style>\n",
       "<table border=\"1\" class=\"dataframe\">\n",
       "  <thead>\n",
       "    <tr style=\"text-align: right;\">\n",
       "      <th></th>\n",
       "      <th>Sl_no</th>\n",
       "      <th>Event Name</th>\n",
       "      <th>Event Revenue</th>\n",
       "    </tr>\n",
       "  </thead>\n",
       "  <tbody>\n",
       "    <tr>\n",
       "      <th>0</th>\n",
       "      <td>1</td>\n",
       "      <td>0</td>\n",
       "      <td>NaN</td>\n",
       "    </tr>\n",
       "    <tr>\n",
       "      <th>1</th>\n",
       "      <td>2</td>\n",
       "      <td>0</td>\n",
       "      <td>NaN</td>\n",
       "    </tr>\n",
       "    <tr>\n",
       "      <th>2</th>\n",
       "      <td>3</td>\n",
       "      <td>1</td>\n",
       "      <td>24.0</td>\n",
       "    </tr>\n",
       "    <tr>\n",
       "      <th>3</th>\n",
       "      <td>4</td>\n",
       "      <td>0</td>\n",
       "      <td>NaN</td>\n",
       "    </tr>\n",
       "    <tr>\n",
       "      <th>4</th>\n",
       "      <td>5</td>\n",
       "      <td>1</td>\n",
       "      <td>55.0</td>\n",
       "    </tr>\n",
       "  </tbody>\n",
       "</table>\n",
       "</div>"
      ],
      "text/plain": [
       "   Sl_no  Event Name  Event Revenue\n",
       "0      1           0            NaN\n",
       "1      2           0            NaN\n",
       "2      3           1           24.0\n",
       "3      4           0            NaN\n",
       "4      5           1           55.0"
      ]
     },
     "execution_count": 9,
     "metadata": {},
     "output_type": "execute_result"
    }
   ],
   "source": [
    "dataset.head()"
   ]
  },
  {
   "cell_type": "code",
   "execution_count": 10,
   "id": "d4a22aca",
   "metadata": {},
   "outputs": [
    {
     "data": {
      "text/plain": [
       "Sl_no               0\n",
       "Event Name          0\n",
       "Event Revenue    6437\n",
       "dtype: int64"
      ]
     },
     "execution_count": 10,
     "metadata": {},
     "output_type": "execute_result"
    }
   ],
   "source": [
    "dataset.isnull().sum()"
   ]
  },
  {
   "cell_type": "code",
   "execution_count": 11,
   "id": "65dabd34",
   "metadata": {},
   "outputs": [
    {
     "data": {
      "text/html": [
       "<div>\n",
       "<style scoped>\n",
       "    .dataframe tbody tr th:only-of-type {\n",
       "        vertical-align: middle;\n",
       "    }\n",
       "\n",
       "    .dataframe tbody tr th {\n",
       "        vertical-align: top;\n",
       "    }\n",
       "\n",
       "    .dataframe thead th {\n",
       "        text-align: right;\n",
       "    }\n",
       "</style>\n",
       "<table border=\"1\" class=\"dataframe\">\n",
       "  <thead>\n",
       "    <tr style=\"text-align: right;\">\n",
       "      <th></th>\n",
       "      <th>Sl_no</th>\n",
       "      <th>Event Name</th>\n",
       "      <th>Event Revenue</th>\n",
       "    </tr>\n",
       "  </thead>\n",
       "  <tbody>\n",
       "    <tr>\n",
       "      <th>0</th>\n",
       "      <td>1</td>\n",
       "      <td>0</td>\n",
       "      <td>0.0</td>\n",
       "    </tr>\n",
       "    <tr>\n",
       "      <th>1</th>\n",
       "      <td>2</td>\n",
       "      <td>0</td>\n",
       "      <td>0.0</td>\n",
       "    </tr>\n",
       "  </tbody>\n",
       "</table>\n",
       "</div>"
      ],
      "text/plain": [
       "   Sl_no  Event Name  Event Revenue\n",
       "0      1           0            0.0\n",
       "1      2           0            0.0"
      ]
     },
     "execution_count": 11,
     "metadata": {},
     "output_type": "execute_result"
    }
   ],
   "source": [
    "dataset = dataset.fillna(0)  # Fill the revenue with 0 \n",
    "dataset.head(2)"
   ]
  },
  {
   "cell_type": "code",
   "execution_count": 12,
   "id": "609d05a0",
   "metadata": {},
   "outputs": [
    {
     "data": {
      "text/html": [
       "<style>#sk-container-id-1 {color: black;}#sk-container-id-1 pre{padding: 0;}#sk-container-id-1 div.sk-toggleable {background-color: white;}#sk-container-id-1 label.sk-toggleable__label {cursor: pointer;display: block;width: 100%;margin-bottom: 0;padding: 0.3em;box-sizing: border-box;text-align: center;}#sk-container-id-1 label.sk-toggleable__label-arrow:before {content: \"▸\";float: left;margin-right: 0.25em;color: #696969;}#sk-container-id-1 label.sk-toggleable__label-arrow:hover:before {color: black;}#sk-container-id-1 div.sk-estimator:hover label.sk-toggleable__label-arrow:before {color: black;}#sk-container-id-1 div.sk-toggleable__content {max-height: 0;max-width: 0;overflow: hidden;text-align: left;background-color: #f0f8ff;}#sk-container-id-1 div.sk-toggleable__content pre {margin: 0.2em;color: black;border-radius: 0.25em;background-color: #f0f8ff;}#sk-container-id-1 input.sk-toggleable__control:checked~div.sk-toggleable__content {max-height: 200px;max-width: 100%;overflow: auto;}#sk-container-id-1 input.sk-toggleable__control:checked~label.sk-toggleable__label-arrow:before {content: \"▾\";}#sk-container-id-1 div.sk-estimator input.sk-toggleable__control:checked~label.sk-toggleable__label {background-color: #d4ebff;}#sk-container-id-1 div.sk-label input.sk-toggleable__control:checked~label.sk-toggleable__label {background-color: #d4ebff;}#sk-container-id-1 input.sk-hidden--visually {border: 0;clip: rect(1px 1px 1px 1px);clip: rect(1px, 1px, 1px, 1px);height: 1px;margin: -1px;overflow: hidden;padding: 0;position: absolute;width: 1px;}#sk-container-id-1 div.sk-estimator {font-family: monospace;background-color: #f0f8ff;border: 1px dotted black;border-radius: 0.25em;box-sizing: border-box;margin-bottom: 0.5em;}#sk-container-id-1 div.sk-estimator:hover {background-color: #d4ebff;}#sk-container-id-1 div.sk-parallel-item::after {content: \"\";width: 100%;border-bottom: 1px solid gray;flex-grow: 1;}#sk-container-id-1 div.sk-label:hover label.sk-toggleable__label {background-color: #d4ebff;}#sk-container-id-1 div.sk-serial::before {content: \"\";position: absolute;border-left: 1px solid gray;box-sizing: border-box;top: 0;bottom: 0;left: 50%;z-index: 0;}#sk-container-id-1 div.sk-serial {display: flex;flex-direction: column;align-items: center;background-color: white;padding-right: 0.2em;padding-left: 0.2em;position: relative;}#sk-container-id-1 div.sk-item {position: relative;z-index: 1;}#sk-container-id-1 div.sk-parallel {display: flex;align-items: stretch;justify-content: center;background-color: white;position: relative;}#sk-container-id-1 div.sk-item::before, #sk-container-id-1 div.sk-parallel-item::before {content: \"\";position: absolute;border-left: 1px solid gray;box-sizing: border-box;top: 0;bottom: 0;left: 50%;z-index: -1;}#sk-container-id-1 div.sk-parallel-item {display: flex;flex-direction: column;z-index: 1;position: relative;background-color: white;}#sk-container-id-1 div.sk-parallel-item:first-child::after {align-self: flex-end;width: 50%;}#sk-container-id-1 div.sk-parallel-item:last-child::after {align-self: flex-start;width: 50%;}#sk-container-id-1 div.sk-parallel-item:only-child::after {width: 0;}#sk-container-id-1 div.sk-dashed-wrapped {border: 1px dashed gray;margin: 0 0.4em 0.5em 0.4em;box-sizing: border-box;padding-bottom: 0.4em;background-color: white;}#sk-container-id-1 div.sk-label label {font-family: monospace;font-weight: bold;display: inline-block;line-height: 1.2em;}#sk-container-id-1 div.sk-label-container {text-align: center;}#sk-container-id-1 div.sk-container {/* jupyter's `normalize.less` sets `[hidden] { display: none; }` but bootstrap.min.css set `[hidden] { display: none !important; }` so we also need the `!important` here to be able to override the default hidden behavior on the sphinx rendered scikit-learn.org. See: https://github.com/scikit-learn/scikit-learn/issues/21755 */display: inline-block !important;position: relative;}#sk-container-id-1 div.sk-text-repr-fallback {display: none;}</style><div id=\"sk-container-id-1\" class=\"sk-top-container\"><div class=\"sk-text-repr-fallback\"><pre>LinearRegression()</pre><b>In a Jupyter environment, please rerun this cell to show the HTML representation or trust the notebook. <br />On GitHub, the HTML representation is unable to render, please try loading this page with nbviewer.org.</b></div><div class=\"sk-container\" hidden><div class=\"sk-item\"><div class=\"sk-estimator sk-toggleable\"><input class=\"sk-toggleable__control sk-hidden--visually\" id=\"sk-estimator-id-1\" type=\"checkbox\" checked><label for=\"sk-estimator-id-1\" class=\"sk-toggleable__label sk-toggleable__label-arrow\">LinearRegression</label><div class=\"sk-toggleable__content\"><pre>LinearRegression()</pre></div></div></div></div></div>"
      ],
      "text/plain": [
       "LinearRegression()"
      ]
     },
     "execution_count": 12,
     "metadata": {},
     "output_type": "execute_result"
    }
   ],
   "source": [
    "x = dataset.iloc[:,:-1].values   # Sl_No and Event Name is independent variable\n",
    "# x = x.reshape(-1,1)    # vertical array \n",
    "\n",
    "y = dataset.iloc[:,-1].values   # target variable  -> Event Revenue -> always dependent variable    # horizontal array \n",
    "\n",
    "from sklearn.model_selection import train_test_split\n",
    "x_train,x_test,y_train,y_test = train_test_split(x,y, test_size=0.2,random_state=50)  # 20% is test data\n",
    "\n",
    "from sklearn.linear_model import LinearRegression\n",
    "lr = LinearRegression()\n",
    "lr.fit(x_train,y_train)   "
   ]
  },
  {
   "cell_type": "code",
   "execution_count": 13,
   "id": "66a47174",
   "metadata": {},
   "outputs": [
    {
     "data": {
      "text/plain": [
       "array([-68.97311363, -44.99194186, 757.74998864, ..., -77.82622113,\n",
       "       -49.55832752, 748.95368785])"
      ]
     },
     "execution_count": 13,
     "metadata": {},
     "output_type": "execute_result"
    }
   ],
   "source": [
    "y_pred = lr.predict(x_test)\n",
    "y_pred"
   ]
  },
  {
   "cell_type": "code",
   "execution_count": 14,
   "id": "bc4967a8",
   "metadata": {},
   "outputs": [
    {
     "data": {
      "text/plain": [
       "array([   0.,    0.,   10., ...,    0.,    0., 1000.])"
      ]
     },
     "execution_count": 14,
     "metadata": {},
     "output_type": "execute_result"
    }
   ],
   "source": [
    "y_test"
   ]
  },
  {
   "cell_type": "code",
   "execution_count": 15,
   "id": "77d01955",
   "metadata": {},
   "outputs": [
    {
     "data": {
      "text/plain": [
       "array([183.6702779])"
      ]
     },
     "execution_count": 15,
     "metadata": {},
     "output_type": "execute_result"
    }
   ],
   "source": [
    "lr.predict([[1,1]])"
   ]
  },
  {
   "cell_type": "markdown",
   "id": "49ee3108",
   "metadata": {},
   "source": [
    "### So the acccuracy has increased some compared to single attribute (linear regression)  or  combination attribute (multi-linear regression)  taken previously But still Worst Accuracy  <br> Because got liner regression as the data is not linear  \n",
    "### This is due to choice of wrong machine learning algorithm\n",
    "\n",
    "### So solution of this is Polynomial Regression"
   ]
  },
  {
   "cell_type": "markdown",
   "id": "1900c204",
   "metadata": {},
   "source": [
    "## October batch session 10 (refer: https://www.youtube.com/watch?v=mcnC18m2Xv0)\n",
    "#### Complete till now revision also in 1st **15 mins** Day - 11 video -> 31st Oct -> https://youtu.be/mcnC18m2Xv0"
   ]
  },
  {
   "cell_type": "markdown",
   "id": "b349f2ed",
   "metadata": {},
   "source": [
    "## Linear Regression VS Polynomial Regression on simple small dataset"
   ]
  },
  {
   "cell_type": "code",
   "execution_count": 1,
   "id": "a8f1c33d",
   "metadata": {},
   "outputs": [],
   "source": [
    "# Importing the libraries\n",
    "\n",
    "import numpy as np\n",
    "import matplotlib.pyplot as plt\n",
    "import pandas as pd"
   ]
  },
  {
   "cell_type": "code",
   "execution_count": 2,
   "id": "10812456",
   "metadata": {},
   "outputs": [],
   "source": [
    "# Importing the dataset\n",
    "\n",
    "dataset = pd.read_csv('./datasets/Position_Salaries.csv')\n",
    "X = dataset.iloc[:, 1:-1].values        # Taking Level \n",
    "y = dataset.iloc[:, -1].values          # Taking Salary "
   ]
  },
  {
   "cell_type": "code",
   "execution_count": 11,
   "id": "42a7983c",
   "metadata": {},
   "outputs": [
    {
     "data": {
      "text/html": [
       "<div>\n",
       "<style scoped>\n",
       "    .dataframe tbody tr th:only-of-type {\n",
       "        vertical-align: middle;\n",
       "    }\n",
       "\n",
       "    .dataframe tbody tr th {\n",
       "        vertical-align: top;\n",
       "    }\n",
       "\n",
       "    .dataframe thead th {\n",
       "        text-align: right;\n",
       "    }\n",
       "</style>\n",
       "<table border=\"1\" class=\"dataframe\">\n",
       "  <thead>\n",
       "    <tr style=\"text-align: right;\">\n",
       "      <th></th>\n",
       "      <th>Position</th>\n",
       "      <th>Level</th>\n",
       "      <th>Salary</th>\n",
       "    </tr>\n",
       "  </thead>\n",
       "  <tbody>\n",
       "    <tr>\n",
       "      <th>0</th>\n",
       "      <td>Business Analyst</td>\n",
       "      <td>1</td>\n",
       "      <td>45000</td>\n",
       "    </tr>\n",
       "    <tr>\n",
       "      <th>1</th>\n",
       "      <td>Junior Consultant</td>\n",
       "      <td>2</td>\n",
       "      <td>50000</td>\n",
       "    </tr>\n",
       "    <tr>\n",
       "      <th>2</th>\n",
       "      <td>Senior Consultant</td>\n",
       "      <td>3</td>\n",
       "      <td>60000</td>\n",
       "    </tr>\n",
       "    <tr>\n",
       "      <th>3</th>\n",
       "      <td>Manager</td>\n",
       "      <td>4</td>\n",
       "      <td>80000</td>\n",
       "    </tr>\n",
       "    <tr>\n",
       "      <th>4</th>\n",
       "      <td>Country Manager</td>\n",
       "      <td>5</td>\n",
       "      <td>110000</td>\n",
       "    </tr>\n",
       "    <tr>\n",
       "      <th>5</th>\n",
       "      <td>Region Manager</td>\n",
       "      <td>6</td>\n",
       "      <td>150000</td>\n",
       "    </tr>\n",
       "    <tr>\n",
       "      <th>6</th>\n",
       "      <td>Partner</td>\n",
       "      <td>7</td>\n",
       "      <td>200000</td>\n",
       "    </tr>\n",
       "    <tr>\n",
       "      <th>7</th>\n",
       "      <td>Senior Partner</td>\n",
       "      <td>8</td>\n",
       "      <td>300000</td>\n",
       "    </tr>\n",
       "    <tr>\n",
       "      <th>8</th>\n",
       "      <td>C-level</td>\n",
       "      <td>9</td>\n",
       "      <td>500000</td>\n",
       "    </tr>\n",
       "    <tr>\n",
       "      <th>9</th>\n",
       "      <td>CEO</td>\n",
       "      <td>10</td>\n",
       "      <td>1000000</td>\n",
       "    </tr>\n",
       "  </tbody>\n",
       "</table>\n",
       "</div>"
      ],
      "text/plain": [
       "            Position  Level   Salary\n",
       "0   Business Analyst      1    45000\n",
       "1  Junior Consultant      2    50000\n",
       "2  Senior Consultant      3    60000\n",
       "3            Manager      4    80000\n",
       "4    Country Manager      5   110000\n",
       "5     Region Manager      6   150000\n",
       "6            Partner      7   200000\n",
       "7     Senior Partner      8   300000\n",
       "8            C-level      9   500000\n",
       "9                CEO     10  1000000"
      ]
     },
     "execution_count": 11,
     "metadata": {},
     "output_type": "execute_result"
    }
   ],
   "source": [
    "dataset      # less dataset so no need of dividing the train and task"
   ]
  },
  {
   "cell_type": "code",
   "execution_count": 4,
   "id": "472cfc0c",
   "metadata": {},
   "outputs": [
    {
     "data": {
      "text/html": [
       "<style>#sk-container-id-1 {color: black;}#sk-container-id-1 pre{padding: 0;}#sk-container-id-1 div.sk-toggleable {background-color: white;}#sk-container-id-1 label.sk-toggleable__label {cursor: pointer;display: block;width: 100%;margin-bottom: 0;padding: 0.3em;box-sizing: border-box;text-align: center;}#sk-container-id-1 label.sk-toggleable__label-arrow:before {content: \"▸\";float: left;margin-right: 0.25em;color: #696969;}#sk-container-id-1 label.sk-toggleable__label-arrow:hover:before {color: black;}#sk-container-id-1 div.sk-estimator:hover label.sk-toggleable__label-arrow:before {color: black;}#sk-container-id-1 div.sk-toggleable__content {max-height: 0;max-width: 0;overflow: hidden;text-align: left;background-color: #f0f8ff;}#sk-container-id-1 div.sk-toggleable__content pre {margin: 0.2em;color: black;border-radius: 0.25em;background-color: #f0f8ff;}#sk-container-id-1 input.sk-toggleable__control:checked~div.sk-toggleable__content {max-height: 200px;max-width: 100%;overflow: auto;}#sk-container-id-1 input.sk-toggleable__control:checked~label.sk-toggleable__label-arrow:before {content: \"▾\";}#sk-container-id-1 div.sk-estimator input.sk-toggleable__control:checked~label.sk-toggleable__label {background-color: #d4ebff;}#sk-container-id-1 div.sk-label input.sk-toggleable__control:checked~label.sk-toggleable__label {background-color: #d4ebff;}#sk-container-id-1 input.sk-hidden--visually {border: 0;clip: rect(1px 1px 1px 1px);clip: rect(1px, 1px, 1px, 1px);height: 1px;margin: -1px;overflow: hidden;padding: 0;position: absolute;width: 1px;}#sk-container-id-1 div.sk-estimator {font-family: monospace;background-color: #f0f8ff;border: 1px dotted black;border-radius: 0.25em;box-sizing: border-box;margin-bottom: 0.5em;}#sk-container-id-1 div.sk-estimator:hover {background-color: #d4ebff;}#sk-container-id-1 div.sk-parallel-item::after {content: \"\";width: 100%;border-bottom: 1px solid gray;flex-grow: 1;}#sk-container-id-1 div.sk-label:hover label.sk-toggleable__label {background-color: #d4ebff;}#sk-container-id-1 div.sk-serial::before {content: \"\";position: absolute;border-left: 1px solid gray;box-sizing: border-box;top: 0;bottom: 0;left: 50%;z-index: 0;}#sk-container-id-1 div.sk-serial {display: flex;flex-direction: column;align-items: center;background-color: white;padding-right: 0.2em;padding-left: 0.2em;position: relative;}#sk-container-id-1 div.sk-item {position: relative;z-index: 1;}#sk-container-id-1 div.sk-parallel {display: flex;align-items: stretch;justify-content: center;background-color: white;position: relative;}#sk-container-id-1 div.sk-item::before, #sk-container-id-1 div.sk-parallel-item::before {content: \"\";position: absolute;border-left: 1px solid gray;box-sizing: border-box;top: 0;bottom: 0;left: 50%;z-index: -1;}#sk-container-id-1 div.sk-parallel-item {display: flex;flex-direction: column;z-index: 1;position: relative;background-color: white;}#sk-container-id-1 div.sk-parallel-item:first-child::after {align-self: flex-end;width: 50%;}#sk-container-id-1 div.sk-parallel-item:last-child::after {align-self: flex-start;width: 50%;}#sk-container-id-1 div.sk-parallel-item:only-child::after {width: 0;}#sk-container-id-1 div.sk-dashed-wrapped {border: 1px dashed gray;margin: 0 0.4em 0.5em 0.4em;box-sizing: border-box;padding-bottom: 0.4em;background-color: white;}#sk-container-id-1 div.sk-label label {font-family: monospace;font-weight: bold;display: inline-block;line-height: 1.2em;}#sk-container-id-1 div.sk-label-container {text-align: center;}#sk-container-id-1 div.sk-container {/* jupyter's `normalize.less` sets `[hidden] { display: none; }` but bootstrap.min.css set `[hidden] { display: none !important; }` so we also need the `!important` here to be able to override the default hidden behavior on the sphinx rendered scikit-learn.org. See: https://github.com/scikit-learn/scikit-learn/issues/21755 */display: inline-block !important;position: relative;}#sk-container-id-1 div.sk-text-repr-fallback {display: none;}</style><div id=\"sk-container-id-1\" class=\"sk-top-container\"><div class=\"sk-text-repr-fallback\"><pre>LinearRegression()</pre><b>In a Jupyter environment, please rerun this cell to show the HTML representation or trust the notebook. <br />On GitHub, the HTML representation is unable to render, please try loading this page with nbviewer.org.</b></div><div class=\"sk-container\" hidden><div class=\"sk-item\"><div class=\"sk-estimator sk-toggleable\"><input class=\"sk-toggleable__control sk-hidden--visually\" id=\"sk-estimator-id-1\" type=\"checkbox\" checked><label for=\"sk-estimator-id-1\" class=\"sk-toggleable__label sk-toggleable__label-arrow\">LinearRegression</label><div class=\"sk-toggleable__content\"><pre>LinearRegression()</pre></div></div></div></div></div>"
      ],
      "text/plain": [
       "LinearRegression()"
      ]
     },
     "execution_count": 4,
     "metadata": {},
     "output_type": "execute_result"
    }
   ],
   "source": [
    "# Training the Linear Regression model on the whole dataset as we took Level and Salary \n",
    "\n",
    "from sklearn.linear_model import LinearRegression\n",
    "lin_reg = LinearRegression()\n",
    "lin_reg.fit(X, y)"
   ]
  },
  {
   "cell_type": "code",
   "execution_count": 12,
   "id": "4fc490e2",
   "metadata": {},
   "outputs": [
    {
     "data": {
      "image/png": "[encoded data removed]",
      "text/plain": [
       "<Figure size 640x480 with 1 Axes>"
      ]
     },
     "metadata": {},
     "output_type": "display_data"
    }
   ],
   "source": [
    "# Visualising the Linear Regression results\n",
    "\n",
    "plt.scatter(X, y, color = 'red')\n",
    "plt.plot(X, lin_reg.predict(X), color = 'blue')\n",
    "plt.title('Truth or Bluff (Linear Regression)')\n",
    "plt.xlabel('Position Level')\n",
    "plt.ylabel('Salary')\n",
    "plt.show()"
   ]
  },
  {
   "cell_type": "markdown",
   "id": "3f9dc103",
   "metadata": {},
   "source": [
    "#### Polynomial Regression model"
   ]
  },
  {
   "cell_type": "code",
   "execution_count": 13,
   "id": "6a715608",
   "metadata": {},
   "outputs": [
    {
     "data": {
      "text/html": [
       "<style>#sk-container-id-3 {color: black;}#sk-container-id-3 pre{padding: 0;}#sk-container-id-3 div.sk-toggleable {background-color: white;}#sk-container-id-3 label.sk-toggleable__label {cursor: pointer;display: block;width: 100%;margin-bottom: 0;padding: 0.3em;box-sizing: border-box;text-align: center;}#sk-container-id-3 label.sk-toggleable__label-arrow:before {content: \"▸\";float: left;margin-right: 0.25em;color: #696969;}#sk-container-id-3 label.sk-toggleable__label-arrow:hover:before {color: black;}#sk-container-id-3 div.sk-estimator:hover label.sk-toggleable__label-arrow:before {color: black;}#sk-container-id-3 div.sk-toggleable__content {max-height: 0;max-width: 0;overflow: hidden;text-align: left;background-color: #f0f8ff;}#sk-container-id-3 div.sk-toggleable__content pre {margin: 0.2em;color: black;border-radius: 0.25em;background-color: #f0f8ff;}#sk-container-id-3 input.sk-toggleable__control:checked~div.sk-toggleable__content {max-height: 200px;max-width: 100%;overflow: auto;}#sk-container-id-3 input.sk-toggleable__control:checked~label.sk-toggleable__label-arrow:before {content: \"▾\";}#sk-container-id-3 div.sk-estimator input.sk-toggleable__control:checked~label.sk-toggleable__label {background-color: #d4ebff;}#sk-container-id-3 div.sk-label input.sk-toggleable__control:checked~label.sk-toggleable__label {background-color: #d4ebff;}#sk-container-id-3 input.sk-hidden--visually {border: 0;clip: rect(1px 1px 1px 1px);clip: rect(1px, 1px, 1px, 1px);height: 1px;margin: -1px;overflow: hidden;padding: 0;position: absolute;width: 1px;}#sk-container-id-3 div.sk-estimator {font-family: monospace;background-color: #f0f8ff;border: 1px dotted black;border-radius: 0.25em;box-sizing: border-box;margin-bottom: 0.5em;}#sk-container-id-3 div.sk-estimator:hover {background-color: #d4ebff;}#sk-container-id-3 div.sk-parallel-item::after {content: \"\";width: 100%;border-bottom: 1px solid gray;flex-grow: 1;}#sk-container-id-3 div.sk-label:hover label.sk-toggleable__label {background-color: #d4ebff;}#sk-container-id-3 div.sk-serial::before {content: \"\";position: absolute;border-left: 1px solid gray;box-sizing: border-box;top: 0;bottom: 0;left: 50%;z-index: 0;}#sk-container-id-3 div.sk-serial {display: flex;flex-direction: column;align-items: center;background-color: white;padding-right: 0.2em;padding-left: 0.2em;position: relative;}#sk-container-id-3 div.sk-item {position: relative;z-index: 1;}#sk-container-id-3 div.sk-parallel {display: flex;align-items: stretch;justify-content: center;background-color: white;position: relative;}#sk-container-id-3 div.sk-item::before, #sk-container-id-3 div.sk-parallel-item::before {content: \"\";position: absolute;border-left: 1px solid gray;box-sizing: border-box;top: 0;bottom: 0;left: 50%;z-index: -1;}#sk-container-id-3 div.sk-parallel-item {display: flex;flex-direction: column;z-index: 1;position: relative;background-color: white;}#sk-container-id-3 div.sk-parallel-item:first-child::after {align-self: flex-end;width: 50%;}#sk-container-id-3 div.sk-parallel-item:last-child::after {align-self: flex-start;width: 50%;}#sk-container-id-3 div.sk-parallel-item:only-child::after {width: 0;}#sk-container-id-3 div.sk-dashed-wrapped {border: 1px dashed gray;margin: 0 0.4em 0.5em 0.4em;box-sizing: border-box;padding-bottom: 0.4em;background-color: white;}#sk-container-id-3 div.sk-label label {font-family: monospace;font-weight: bold;display: inline-block;line-height: 1.2em;}#sk-container-id-3 div.sk-label-container {text-align: center;}#sk-container-id-3 div.sk-container {/* jupyter's `normalize.less` sets `[hidden] { display: none; }` but bootstrap.min.css set `[hidden] { display: none !important; }` so we also need the `!important` here to be able to override the default hidden behavior on the sphinx rendered scikit-learn.org. See: https://github.com/scikit-learn/scikit-learn/issues/21755 */display: inline-block !important;position: relative;}#sk-container-id-3 div.sk-text-repr-fallback {display: none;}</style><div id=\"sk-container-id-3\" class=\"sk-top-container\"><div class=\"sk-text-repr-fallback\"><pre>LinearRegression()</pre><b>In a Jupyter environment, please rerun this cell to show the HTML representation or trust the notebook. <br />On GitHub, the HTML representation is unable to render, please try loading this page with nbviewer.org.</b></div><div class=\"sk-container\" hidden><div class=\"sk-item\"><div class=\"sk-estimator sk-toggleable\"><input class=\"sk-toggleable__control sk-hidden--visually\" id=\"sk-estimator-id-3\" type=\"checkbox\" checked><label for=\"sk-estimator-id-3\" class=\"sk-toggleable__label sk-toggleable__label-arrow\">LinearRegression</label><div class=\"sk-toggleable__content\"><pre>LinearRegression()</pre></div></div></div></div></div>"
      ],
      "text/plain": [
       "LinearRegression()"
      ]
     },
     "execution_count": 13,
     "metadata": {},
     "output_type": "execute_result"
    }
   ],
   "source": [
    "# Training the Polynomial Regression model on the whole dataset\n",
    "\n",
    "from sklearn.preprocessing import PolynomialFeatures\n",
    "poly_reg = PolynomialFeatures(degree = 4)      # y = mx + c  here  x degree is 1   |||ly y = ax2 + bx + c degree is 2 \n",
    "X_poly = poly_reg.fit_transform(X)\n",
    "lin_reg_2 = LinearRegression()\n",
    "lin_reg_2.fit(X_poly, y)"
   ]
  },
  {
   "cell_type": "code",
   "execution_count": 14,
   "id": "47cb982c",
   "metadata": {},
   "outputs": [
    {
     "data": {
      "image/png": "[encoded data removed]",
      "text/plain": [
       "<Figure size 640x480 with 1 Axes>"
      ]
     },
     "metadata": {},
     "output_type": "display_data"
    }
   ],
   "source": [
    "# Visualising the Polynomial Regression results\n",
    "\n",
    "plt.scatter(X, y, color = 'red')\n",
    "plt.plot(X, lin_reg_2.predict(poly_reg.fit_transform(X)), color = 'blue')\n",
    "plt.title('Truth or Bluff (Polynomial Regression)')\n",
    "plt.xlabel('Position level')\n",
    "plt.ylabel('Salary')\n",
    "plt.show()"
   ]
  },
  {
   "cell_type": "code",
   "execution_count": 8,
   "id": "b62af254",
   "metadata": {},
   "outputs": [
    {
     "data": {
      "image/png": "[encoded data removed]",
      "text/plain": [
       "<Figure size 640x480 with 1 Axes>"
      ]
     },
     "metadata": {},
     "output_type": "display_data"
    }
   ],
   "source": [
    "# Visualising the Polynomial Regression results (for higher resolution and smoother curve)\n",
    "\n",
    "X_grid = np.arange(min(X), max(X), 0.1)\n",
    "X_grid = X_grid.reshape((len(X_grid), 1))\n",
    "plt.scatter(X, y, color = 'red')\n",
    "\n",
    "plt.plot(X_grid, lin_reg_2.predict(poly_reg.fit_transform(X_grid)), color = 'blue')\n",
    "plt.title('Truth or Bluff (Polynomial Regression)')\n",
    "plt.xlabel('Position level')\n",
    "plt.ylabel('Salary')\n",
    "plt.show()"
   ]
  },
  {
   "cell_type": "code",
   "execution_count": 9,
   "id": "953263fb",
   "metadata": {},
   "outputs": [
    {
     "data": {
      "text/plain": [
       "array([330378.78787879])"
      ]
     },
     "execution_count": 9,
     "metadata": {},
     "output_type": "execute_result"
    }
   ],
   "source": [
    "# Predicting a new result with Linear Regression\n",
    "\n",
    "lin_reg.predict([[6.5]])"
   ]
  },
  {
   "cell_type": "code",
   "execution_count": 10,
   "id": "5f8f46dd",
   "metadata": {},
   "outputs": [
    {
     "data": {
      "text/plain": [
       "array([158862.45265153])"
      ]
     },
     "execution_count": 10,
     "metadata": {},
     "output_type": "execute_result"
    }
   ],
   "source": [
    "# Predicting a new result with Polynomial Regression\n",
    "\n",
    "lin_reg_2.predict(poly_reg.fit_transform([[6.5]]))"
   ]
  },
  {
   "cell_type": "markdown",
   "id": "4ef0a1ac",
   "metadata": {},
   "source": [
    "### Polynomial Regression on our previous DataSet"
   ]
  },
  {
   "cell_type": "code",
   "execution_count": 1,
   "id": "26dd6533",
   "metadata": {},
   "outputs": [
    {
     "data": {
      "text/html": [
       "<div>\n",
       "<style scoped>\n",
       "    .dataframe tbody tr th:only-of-type {\n",
       "        vertical-align: middle;\n",
       "    }\n",
       "\n",
       "    .dataframe tbody tr th {\n",
       "        vertical-align: top;\n",
       "    }\n",
       "\n",
       "    .dataframe thead th {\n",
       "        text-align: right;\n",
       "    }\n",
       "</style>\n",
       "<table border=\"1\" class=\"dataframe\">\n",
       "  <thead>\n",
       "    <tr style=\"text-align: right;\">\n",
       "      <th></th>\n",
       "      <th>Sl_no</th>\n",
       "      <th>Attributed Touch Type</th>\n",
       "      <th>Attributed Touch Time</th>\n",
       "      <th>Install Time</th>\n",
       "      <th>Event Time</th>\n",
       "      <th>Event Name</th>\n",
       "      <th>Event Value</th>\n",
       "      <th>Event Revenue</th>\n",
       "      <th>Event Revenue Currency</th>\n",
       "      <th>Event Revenue INR</th>\n",
       "      <th>...</th>\n",
       "      <th>Is Retargeting</th>\n",
       "      <th>Retargeting Conversion Type</th>\n",
       "      <th>Is Primary Attribution</th>\n",
       "      <th>Attribution Lookback</th>\n",
       "      <th>Reengagement Window</th>\n",
       "      <th>Match Type</th>\n",
       "      <th>User Agent</th>\n",
       "      <th>HTTP Referrer</th>\n",
       "      <th>Original URL</th>\n",
       "      <th>Store Product Page</th>\n",
       "    </tr>\n",
       "  </thead>\n",
       "  <tbody>\n",
       "    <tr>\n",
       "      <th>0</th>\n",
       "      <td>1</td>\n",
       "      <td>click</td>\n",
       "      <td>2021-10-20 23:37:09</td>\n",
       "      <td>2021-10-20 23:52:09</td>\n",
       "      <td>2021-10-20 23:58:59</td>\n",
       "      <td>af_address_add</td>\n",
       "      <td>{\"af_city\":\"Pune\",\"af_content\":\"Godrej Infinit...</td>\n",
       "      <td>NaN</td>\n",
       "      <td>USD</td>\n",
       "      <td>NaN</td>\n",
       "      <td>...</td>\n",
       "      <td>False</td>\n",
       "      <td>NaN</td>\n",
       "      <td>True</td>\n",
       "      <td>30d</td>\n",
       "      <td>NaN</td>\n",
       "      <td>srn</td>\n",
       "      <td>Dalvik/2.1.0 (Linux; U; Android 10; SM-A750F B...</td>\n",
       "      <td>NaN</td>\n",
       "      <td>NaN</td>\n",
       "      <td>NaN</td>\n",
       "    </tr>\n",
       "    <tr>\n",
       "      <th>1</th>\n",
       "      <td>2</td>\n",
       "      <td>click</td>\n",
       "      <td>2021-10-14 20:15:35</td>\n",
       "      <td>2021-10-14 20:16:10</td>\n",
       "      <td>2021-10-20 23:51:36</td>\n",
       "      <td>af_address_add</td>\n",
       "      <td>{\"af_city\":\"Gurgaon-Faridabad\",\"af_content\":\"B...</td>\n",
       "      <td>NaN</td>\n",
       "      <td>USD</td>\n",
       "      <td>NaN</td>\n",
       "      <td>...</td>\n",
       "      <td>False</td>\n",
       "      <td>NaN</td>\n",
       "      <td>True</td>\n",
       "      <td>30d</td>\n",
       "      <td>NaN</td>\n",
       "      <td>srn</td>\n",
       "      <td>Dalvik/2.1.0 (Linux; U; Android 11; RMX3381 Bu...</td>\n",
       "      <td>NaN</td>\n",
       "      <td>NaN</td>\n",
       "      <td>NaN</td>\n",
       "    </tr>\n",
       "    <tr>\n",
       "      <th>2</th>\n",
       "      <td>3</td>\n",
       "      <td>click</td>\n",
       "      <td>2021-10-20 23:36:18</td>\n",
       "      <td>2021-10-20 23:36:42</td>\n",
       "      <td>2021-10-20 23:40:17</td>\n",
       "      <td>af_first_subscription</td>\n",
       "      <td>{\"af_currency\":\"INR\",\"af_revenue\":24,\"af_order...</td>\n",
       "      <td>24.0</td>\n",
       "      <td>INR</td>\n",
       "      <td>24.0</td>\n",
       "      <td>...</td>\n",
       "      <td>False</td>\n",
       "      <td>NaN</td>\n",
       "      <td>True</td>\n",
       "      <td>30d</td>\n",
       "      <td>NaN</td>\n",
       "      <td>srn</td>\n",
       "      <td>Dalvik/2.1.0 (Linux; U; Android 11; M2101K6I B...</td>\n",
       "      <td>NaN</td>\n",
       "      <td>NaN</td>\n",
       "      <td>NaN</td>\n",
       "    </tr>\n",
       "    <tr>\n",
       "      <th>3</th>\n",
       "      <td>4</td>\n",
       "      <td>click</td>\n",
       "      <td>2021-10-20 23:36:18</td>\n",
       "      <td>2021-10-20 23:36:42</td>\n",
       "      <td>2021-10-20 23:40:15</td>\n",
       "      <td>af_address_add</td>\n",
       "      <td>{\"af_city\":\"Mumbai\",\"af_content\":\"DAULAT NAGAR...</td>\n",
       "      <td>NaN</td>\n",
       "      <td>USD</td>\n",
       "      <td>NaN</td>\n",
       "      <td>...</td>\n",
       "      <td>False</td>\n",
       "      <td>NaN</td>\n",
       "      <td>True</td>\n",
       "      <td>30d</td>\n",
       "      <td>NaN</td>\n",
       "      <td>srn</td>\n",
       "      <td>Dalvik/2.1.0 (Linux; U; Android 11; M2101K6I B...</td>\n",
       "      <td>NaN</td>\n",
       "      <td>NaN</td>\n",
       "      <td>NaN</td>\n",
       "    </tr>\n",
       "    <tr>\n",
       "      <th>4</th>\n",
       "      <td>5</td>\n",
       "      <td>click</td>\n",
       "      <td>2021-10-04 19:36:29</td>\n",
       "      <td>2021-10-04 20:32:59</td>\n",
       "      <td>2021-10-20 23:27:58</td>\n",
       "      <td>af_first_subscription</td>\n",
       "      <td>{\"af_currency\":\"INR\",\"af_revenue\":55,\"af_order...</td>\n",
       "      <td>55.0</td>\n",
       "      <td>INR</td>\n",
       "      <td>55.0</td>\n",
       "      <td>...</td>\n",
       "      <td>False</td>\n",
       "      <td>NaN</td>\n",
       "      <td>True</td>\n",
       "      <td>30d</td>\n",
       "      <td>NaN</td>\n",
       "      <td>srn</td>\n",
       "      <td>Dalvik/2.1.0 (Linux; U; Android 11; SM-M317F B...</td>\n",
       "      <td>NaN</td>\n",
       "      <td>NaN</td>\n",
       "      <td>NaN</td>\n",
       "    </tr>\n",
       "  </tbody>\n",
       "</table>\n",
       "<p>5 rows × 60 columns</p>\n",
       "</div>"
      ],
      "text/plain": [
       "   Sl_no Attributed Touch Type Attributed Touch Time         Install Time  \\\n",
       "0      1                 click   2021-10-20 23:37:09  2021-10-20 23:52:09   \n",
       "1      2                 click   2021-10-14 20:15:35  2021-10-14 20:16:10   \n",
       "2      3                 click   2021-10-20 23:36:18  2021-10-20 23:36:42   \n",
       "3      4                 click   2021-10-20 23:36:18  2021-10-20 23:36:42   \n",
       "4      5                 click   2021-10-04 19:36:29  2021-10-04 20:32:59   \n",
       "\n",
       "            Event Time             Event Name  \\\n",
       "0  2021-10-20 23:58:59         af_address_add   \n",
       "1  2021-10-20 23:51:36         af_address_add   \n",
       "2  2021-10-20 23:40:17  af_first_subscription   \n",
       "3  2021-10-20 23:40:15         af_address_add   \n",
       "4  2021-10-20 23:27:58  af_first_subscription   \n",
       "\n",
       "                                         Event Value  Event Revenue  \\\n",
       "0  {\"af_city\":\"Pune\",\"af_content\":\"Godrej Infinit...            NaN   \n",
       "1  {\"af_city\":\"Gurgaon-Faridabad\",\"af_content\":\"B...            NaN   \n",
       "2  {\"af_currency\":\"INR\",\"af_revenue\":24,\"af_order...           24.0   \n",
       "3  {\"af_city\":\"Mumbai\",\"af_content\":\"DAULAT NAGAR...            NaN   \n",
       "4  {\"af_currency\":\"INR\",\"af_revenue\":55,\"af_order...           55.0   \n",
       "\n",
       "  Event Revenue Currency  Event Revenue INR  ...  Is Retargeting  \\\n",
       "0                    USD                NaN  ...           False   \n",
       "1                    USD                NaN  ...           False   \n",
       "2                    INR               24.0  ...           False   \n",
       "3                    USD                NaN  ...           False   \n",
       "4                    INR               55.0  ...           False   \n",
       "\n",
       "   Retargeting Conversion Type  Is Primary Attribution Attribution Lookback  \\\n",
       "0                          NaN                    True                  30d   \n",
       "1                          NaN                    True                  30d   \n",
       "2                          NaN                    True                  30d   \n",
       "3                          NaN                    True                  30d   \n",
       "4                          NaN                    True                  30d   \n",
       "\n",
       "   Reengagement Window Match Type  \\\n",
       "0                  NaN        srn   \n",
       "1                  NaN        srn   \n",
       "2                  NaN        srn   \n",
       "3                  NaN        srn   \n",
       "4                  NaN        srn   \n",
       "\n",
       "                                          User Agent HTTP Referrer  \\\n",
       "0  Dalvik/2.1.0 (Linux; U; Android 10; SM-A750F B...           NaN   \n",
       "1  Dalvik/2.1.0 (Linux; U; Android 11; RMX3381 Bu...           NaN   \n",
       "2  Dalvik/2.1.0 (Linux; U; Android 11; M2101K6I B...           NaN   \n",
       "3  Dalvik/2.1.0 (Linux; U; Android 11; M2101K6I B...           NaN   \n",
       "4  Dalvik/2.1.0 (Linux; U; Android 11; SM-M317F B...           NaN   \n",
       "\n",
       "   Original URL Store Product Page  \n",
       "0           NaN                NaN  \n",
       "1           NaN                NaN  \n",
       "2           NaN                NaN  \n",
       "3           NaN                NaN  \n",
       "4           NaN                NaN  \n",
       "\n",
       "[5 rows x 60 columns]"
      ]
     },
     "execution_count": 1,
     "metadata": {},
     "output_type": "execute_result"
    }
   ],
   "source": [
    "import pandas as pd\n",
    "import numpy\n",
    "import matplotlib.pyplot as plt\n",
    "from sklearn.preprocessing import LabelEncoder\n",
    "\n",
    "file = pd.read_csv(\"./datasets/1 to 20 oct in app bbdaily.csv\")\n",
    "# this is to generate serial number as dataset does not have this we are adding \n",
    "ser = pd.Series([i+1 for i in range(len(file))],name=\"Sl_no\")\n",
    "dataset_merged = pd.merge(ser, file, left_index=True, right_index=True)\n",
    "dataset = pd.DataFrame(dataset_merged)\n",
    "dataset.head()"
   ]
  },
  {
   "cell_type": "code",
   "execution_count": 2,
   "id": "d6e2263f",
   "metadata": {},
   "outputs": [
    {
     "data": {
      "text/plain": [
       "(13302, 60)"
      ]
     },
     "execution_count": 2,
     "metadata": {},
     "output_type": "execute_result"
    }
   ],
   "source": [
    "dataset.shape"
   ]
  },
  {
   "cell_type": "code",
   "execution_count": 3,
   "id": "6cefe8b4",
   "metadata": {},
   "outputs": [
    {
     "data": {
      "text/html": [
       "<div>\n",
       "<style scoped>\n",
       "    .dataframe tbody tr th:only-of-type {\n",
       "        vertical-align: middle;\n",
       "    }\n",
       "\n",
       "    .dataframe tbody tr th {\n",
       "        vertical-align: top;\n",
       "    }\n",
       "\n",
       "    .dataframe thead th {\n",
       "        text-align: right;\n",
       "    }\n",
       "</style>\n",
       "<table border=\"1\" class=\"dataframe\">\n",
       "  <thead>\n",
       "    <tr style=\"text-align: right;\">\n",
       "      <th></th>\n",
       "      <th>Sl_no</th>\n",
       "      <th>Event Revenue</th>\n",
       "      <th>Event Revenue INR</th>\n",
       "      <th>Cost Model</th>\n",
       "      <th>Cost Value</th>\n",
       "      <th>Cost Currency</th>\n",
       "      <th>Partner</th>\n",
       "      <th>Campaign ID</th>\n",
       "      <th>Adset ID</th>\n",
       "      <th>Ad</th>\n",
       "      <th>...</th>\n",
       "      <th>Customer User ID</th>\n",
       "      <th>Android ID</th>\n",
       "      <th>IMEI</th>\n",
       "      <th>IDFA</th>\n",
       "      <th>IDFV</th>\n",
       "      <th>Retargeting Conversion Type</th>\n",
       "      <th>Reengagement Window</th>\n",
       "      <th>HTTP Referrer</th>\n",
       "      <th>Original URL</th>\n",
       "      <th>Store Product Page</th>\n",
       "    </tr>\n",
       "  </thead>\n",
       "  <tbody>\n",
       "    <tr>\n",
       "      <th>count</th>\n",
       "      <td>13302.000000</td>\n",
       "      <td>6865.000000</td>\n",
       "      <td>6865.000000</td>\n",
       "      <td>0.0</td>\n",
       "      <td>0.0</td>\n",
       "      <td>0.0</td>\n",
       "      <td>0.0</td>\n",
       "      <td>1.330200e+04</td>\n",
       "      <td>1.330200e+04</td>\n",
       "      <td>3.430000e+02</td>\n",
       "      <td>...</td>\n",
       "      <td>0.0</td>\n",
       "      <td>0.0</td>\n",
       "      <td>0.0</td>\n",
       "      <td>0.0</td>\n",
       "      <td>0.0</td>\n",
       "      <td>0.0</td>\n",
       "      <td>0.0</td>\n",
       "      <td>0.0</td>\n",
       "      <td>0.0</td>\n",
       "      <td>0.0</td>\n",
       "    </tr>\n",
       "    <tr>\n",
       "      <th>mean</th>\n",
       "      <td>6651.500000</td>\n",
       "      <td>439.280774</td>\n",
       "      <td>439.280774</td>\n",
       "      <td>NaN</td>\n",
       "      <td>NaN</td>\n",
       "      <td>NaN</td>\n",
       "      <td>NaN</td>\n",
       "      <td>1.060031e+10</td>\n",
       "      <td>1.096819e+11</td>\n",
       "      <td>4.814073e+11</td>\n",
       "      <td>...</td>\n",
       "      <td>NaN</td>\n",
       "      <td>NaN</td>\n",
       "      <td>NaN</td>\n",
       "      <td>NaN</td>\n",
       "      <td>NaN</td>\n",
       "      <td>NaN</td>\n",
       "      <td>NaN</td>\n",
       "      <td>NaN</td>\n",
       "      <td>NaN</td>\n",
       "      <td>NaN</td>\n",
       "    </tr>\n",
       "    <tr>\n",
       "      <th>std</th>\n",
       "      <td>3840.100975</td>\n",
       "      <td>704.729281</td>\n",
       "      <td>704.729281</td>\n",
       "      <td>NaN</td>\n",
       "      <td>NaN</td>\n",
       "      <td>NaN</td>\n",
       "      <td>NaN</td>\n",
       "      <td>1.264224e+09</td>\n",
       "      <td>8.186245e+09</td>\n",
       "      <td>4.372491e+09</td>\n",
       "      <td>...</td>\n",
       "      <td>NaN</td>\n",
       "      <td>NaN</td>\n",
       "      <td>NaN</td>\n",
       "      <td>NaN</td>\n",
       "      <td>NaN</td>\n",
       "      <td>NaN</td>\n",
       "      <td>NaN</td>\n",
       "      <td>NaN</td>\n",
       "      <td>NaN</td>\n",
       "      <td>NaN</td>\n",
       "    </tr>\n",
       "    <tr>\n",
       "      <th>min</th>\n",
       "      <td>1.000000</td>\n",
       "      <td>0.000000</td>\n",
       "      <td>0.000000</td>\n",
       "      <td>NaN</td>\n",
       "      <td>NaN</td>\n",
       "      <td>NaN</td>\n",
       "      <td>NaN</td>\n",
       "      <td>1.003993e+10</td>\n",
       "      <td>9.785093e+10</td>\n",
       "      <td>4.797275e+11</td>\n",
       "      <td>...</td>\n",
       "      <td>NaN</td>\n",
       "      <td>NaN</td>\n",
       "      <td>NaN</td>\n",
       "      <td>NaN</td>\n",
       "      <td>NaN</td>\n",
       "      <td>NaN</td>\n",
       "      <td>NaN</td>\n",
       "      <td>NaN</td>\n",
       "      <td>NaN</td>\n",
       "      <td>NaN</td>\n",
       "    </tr>\n",
       "    <tr>\n",
       "      <th>25%</th>\n",
       "      <td>3326.250000</td>\n",
       "      <td>25.000000</td>\n",
       "      <td>25.000000</td>\n",
       "      <td>NaN</td>\n",
       "      <td>NaN</td>\n",
       "      <td>NaN</td>\n",
       "      <td>NaN</td>\n",
       "      <td>1.004679e+10</td>\n",
       "      <td>1.019315e+11</td>\n",
       "      <td>4.797275e+11</td>\n",
       "      <td>...</td>\n",
       "      <td>NaN</td>\n",
       "      <td>NaN</td>\n",
       "      <td>NaN</td>\n",
       "      <td>NaN</td>\n",
       "      <td>NaN</td>\n",
       "      <td>NaN</td>\n",
       "      <td>NaN</td>\n",
       "      <td>NaN</td>\n",
       "      <td>NaN</td>\n",
       "      <td>NaN</td>\n",
       "    </tr>\n",
       "    <tr>\n",
       "      <th>50%</th>\n",
       "      <td>6651.500000</td>\n",
       "      <td>80.000000</td>\n",
       "      <td>80.000000</td>\n",
       "      <td>NaN</td>\n",
       "      <td>NaN</td>\n",
       "      <td>NaN</td>\n",
       "      <td>NaN</td>\n",
       "      <td>1.005038e+10</td>\n",
       "      <td>1.136281e+11</td>\n",
       "      <td>4.797275e+11</td>\n",
       "      <td>...</td>\n",
       "      <td>NaN</td>\n",
       "      <td>NaN</td>\n",
       "      <td>NaN</td>\n",
       "      <td>NaN</td>\n",
       "      <td>NaN</td>\n",
       "      <td>NaN</td>\n",
       "      <td>NaN</td>\n",
       "      <td>NaN</td>\n",
       "      <td>NaN</td>\n",
       "      <td>NaN</td>\n",
       "    </tr>\n",
       "    <tr>\n",
       "      <th>75%</th>\n",
       "      <td>9976.750000</td>\n",
       "      <td>500.000000</td>\n",
       "      <td>500.000000</td>\n",
       "      <td>NaN</td>\n",
       "      <td>NaN</td>\n",
       "      <td>NaN</td>\n",
       "      <td>NaN</td>\n",
       "      <td>1.005040e+10</td>\n",
       "      <td>1.136281e+11</td>\n",
       "      <td>4.797275e+11</td>\n",
       "      <td>...</td>\n",
       "      <td>NaN</td>\n",
       "      <td>NaN</td>\n",
       "      <td>NaN</td>\n",
       "      <td>NaN</td>\n",
       "      <td>NaN</td>\n",
       "      <td>NaN</td>\n",
       "      <td>NaN</td>\n",
       "      <td>NaN</td>\n",
       "      <td>NaN</td>\n",
       "      <td>NaN</td>\n",
       "    </tr>\n",
       "    <tr>\n",
       "      <th>max</th>\n",
       "      <td>13302.000000</td>\n",
       "      <td>12000.000000</td>\n",
       "      <td>12000.000000</td>\n",
       "      <td>NaN</td>\n",
       "      <td>NaN</td>\n",
       "      <td>NaN</td>\n",
       "      <td>NaN</td>\n",
       "      <td>1.482331e+10</td>\n",
       "      <td>1.281670e+11</td>\n",
       "      <td>4.995395e+11</td>\n",
       "      <td>...</td>\n",
       "      <td>NaN</td>\n",
       "      <td>NaN</td>\n",
       "      <td>NaN</td>\n",
       "      <td>NaN</td>\n",
       "      <td>NaN</td>\n",
       "      <td>NaN</td>\n",
       "      <td>NaN</td>\n",
       "      <td>NaN</td>\n",
       "      <td>NaN</td>\n",
       "      <td>NaN</td>\n",
       "    </tr>\n",
       "  </tbody>\n",
       "</table>\n",
       "<p>8 rows × 23 columns</p>\n",
       "</div>"
      ],
      "text/plain": [
       "              Sl_no  Event Revenue  Event Revenue INR  Cost Model  Cost Value  \\\n",
       "count  13302.000000    6865.000000        6865.000000         0.0         0.0   \n",
       "mean    6651.500000     439.280774         439.280774         NaN         NaN   \n",
       "std     3840.100975     704.729281         704.729281         NaN         NaN   \n",
       "min        1.000000       0.000000           0.000000         NaN         NaN   \n",
       "25%     3326.250000      25.000000          25.000000         NaN         NaN   \n",
       "50%     6651.500000      80.000000          80.000000         NaN         NaN   \n",
       "75%     9976.750000     500.000000         500.000000         NaN         NaN   \n",
       "max    13302.000000   12000.000000       12000.000000         NaN         NaN   \n",
       "\n",
       "       Cost Currency  Partner   Campaign ID      Adset ID            Ad  ...  \\\n",
       "count            0.0      0.0  1.330200e+04  1.330200e+04  3.430000e+02  ...   \n",
       "mean             NaN      NaN  1.060031e+10  1.096819e+11  4.814073e+11  ...   \n",
       "std              NaN      NaN  1.264224e+09  8.186245e+09  4.372491e+09  ...   \n",
       "min              NaN      NaN  1.003993e+10  9.785093e+10  4.797275e+11  ...   \n",
       "25%              NaN      NaN  1.004679e+10  1.019315e+11  4.797275e+11  ...   \n",
       "50%              NaN      NaN  1.005038e+10  1.136281e+11  4.797275e+11  ...   \n",
       "75%              NaN      NaN  1.005040e+10  1.136281e+11  4.797275e+11  ...   \n",
       "max              NaN      NaN  1.482331e+10  1.281670e+11  4.995395e+11  ...   \n",
       "\n",
       "       Customer User ID  Android ID  IMEI  IDFA  IDFV  \\\n",
       "count               0.0         0.0   0.0   0.0   0.0   \n",
       "mean                NaN         NaN   NaN   NaN   NaN   \n",
       "std                 NaN         NaN   NaN   NaN   NaN   \n",
       "min                 NaN         NaN   NaN   NaN   NaN   \n",
       "25%                 NaN         NaN   NaN   NaN   NaN   \n",
       "50%                 NaN         NaN   NaN   NaN   NaN   \n",
       "75%                 NaN         NaN   NaN   NaN   NaN   \n",
       "max                 NaN         NaN   NaN   NaN   NaN   \n",
       "\n",
       "       Retargeting Conversion Type  Reengagement Window  HTTP Referrer  \\\n",
       "count                          0.0                  0.0            0.0   \n",
       "mean                           NaN                  NaN            NaN   \n",
       "std                            NaN                  NaN            NaN   \n",
       "min                            NaN                  NaN            NaN   \n",
       "25%                            NaN                  NaN            NaN   \n",
       "50%                            NaN                  NaN            NaN   \n",
       "75%                            NaN                  NaN            NaN   \n",
       "max                            NaN                  NaN            NaN   \n",
       "\n",
       "       Original URL  Store Product Page  \n",
       "count           0.0                 0.0  \n",
       "mean            NaN                 NaN  \n",
       "std             NaN                 NaN  \n",
       "min             NaN                 NaN  \n",
       "25%             NaN                 NaN  \n",
       "50%             NaN                 NaN  \n",
       "75%             NaN                 NaN  \n",
       "max             NaN                 NaN  \n",
       "\n",
       "[8 rows x 23 columns]"
      ]
     },
     "execution_count": 3,
     "metadata": {},
     "output_type": "execute_result"
    }
   ],
   "source": [
    "dataset.describe()"
   ]
  },
  {
   "cell_type": "code",
   "execution_count": 4,
   "id": "062f34f8",
   "metadata": {},
   "outputs": [
    {
     "data": {
      "text/plain": [
       "(array([6437.,    0.,    0., 2712.,    0.,    0., 1277.,    0.,    0.,\n",
       "        2876.]),\n",
       " array([0. , 0.3, 0.6, 0.9, 1.2, 1.5, 1.8, 2.1, 2.4, 2.7, 3. ]),\n",
       " <BarContainer object of 10 artists>)"
      ]
     },
     "execution_count": 4,
     "metadata": {},
     "output_type": "execute_result"
    },
    {
     "data": {
      "image/png": "[encoded data removed]",
      "text/plain": [
       "<Figure size 600x400 with 1 Axes>"
      ]
     },
     "metadata": {},
     "output_type": "display_data"
    }
   ],
   "source": [
    "plt.figure(figsize=(6,4))\n",
    "plt.hist(dataset[\"Event Name\"])"
   ]
  },
  {
   "cell_type": "code",
   "execution_count": 5,
   "id": "f8804045",
   "metadata": {},
   "outputs": [
    {
     "data": {
      "text/plain": [
       "Event Name\n",
       "af_address_add              6437\n",
       "af_first_wallet_recharge    2876\n",
       "af_first_subscription       2712\n",
       "af_first_topup              1277\n",
       "Name: count, dtype: int64"
      ]
     },
     "execution_count": 5,
     "metadata": {},
     "output_type": "execute_result"
    }
   ],
   "source": [
    "dataset[\"Event Name\"].value_counts()"
   ]
  },
  {
   "cell_type": "code",
   "execution_count": 6,
   "id": "36f63082",
   "metadata": {},
   "outputs": [
    {
     "data": {
      "text/html": [
       "<div>\n",
       "<style scoped>\n",
       "    .dataframe tbody tr th:only-of-type {\n",
       "        vertical-align: middle;\n",
       "    }\n",
       "\n",
       "    .dataframe tbody tr th {\n",
       "        vertical-align: top;\n",
       "    }\n",
       "\n",
       "    .dataframe thead th {\n",
       "        text-align: right;\n",
       "    }\n",
       "</style>\n",
       "<table border=\"1\" class=\"dataframe\">\n",
       "  <thead>\n",
       "    <tr style=\"text-align: right;\">\n",
       "      <th></th>\n",
       "      <th>Sl_no</th>\n",
       "      <th>Attributed Touch Type</th>\n",
       "      <th>Attributed Touch Time</th>\n",
       "      <th>Install Time</th>\n",
       "      <th>Event Time</th>\n",
       "      <th>Event Name</th>\n",
       "      <th>Event Value</th>\n",
       "      <th>Event Revenue</th>\n",
       "      <th>Event Revenue Currency</th>\n",
       "      <th>Event Revenue INR</th>\n",
       "      <th>...</th>\n",
       "      <th>Is Retargeting</th>\n",
       "      <th>Retargeting Conversion Type</th>\n",
       "      <th>Is Primary Attribution</th>\n",
       "      <th>Attribution Lookback</th>\n",
       "      <th>Reengagement Window</th>\n",
       "      <th>Match Type</th>\n",
       "      <th>User Agent</th>\n",
       "      <th>HTTP Referrer</th>\n",
       "      <th>Original URL</th>\n",
       "      <th>Store Product Page</th>\n",
       "    </tr>\n",
       "  </thead>\n",
       "  <tbody>\n",
       "    <tr>\n",
       "      <th>0</th>\n",
       "      <td>1</td>\n",
       "      <td>click</td>\n",
       "      <td>2021-10-20 23:37:09</td>\n",
       "      <td>2021-10-20 23:52:09</td>\n",
       "      <td>2021-10-20 23:58:59</td>\n",
       "      <td>0</td>\n",
       "      <td>{\"af_city\":\"Pune\",\"af_content\":\"Godrej Infinit...</td>\n",
       "      <td>NaN</td>\n",
       "      <td>USD</td>\n",
       "      <td>NaN</td>\n",
       "      <td>...</td>\n",
       "      <td>False</td>\n",
       "      <td>NaN</td>\n",
       "      <td>True</td>\n",
       "      <td>30d</td>\n",
       "      <td>NaN</td>\n",
       "      <td>srn</td>\n",
       "      <td>Dalvik/2.1.0 (Linux; U; Android 10; SM-A750F B...</td>\n",
       "      <td>NaN</td>\n",
       "      <td>NaN</td>\n",
       "      <td>NaN</td>\n",
       "    </tr>\n",
       "    <tr>\n",
       "      <th>1</th>\n",
       "      <td>2</td>\n",
       "      <td>click</td>\n",
       "      <td>2021-10-14 20:15:35</td>\n",
       "      <td>2021-10-14 20:16:10</td>\n",
       "      <td>2021-10-20 23:51:36</td>\n",
       "      <td>0</td>\n",
       "      <td>{\"af_city\":\"Gurgaon-Faridabad\",\"af_content\":\"B...</td>\n",
       "      <td>NaN</td>\n",
       "      <td>USD</td>\n",
       "      <td>NaN</td>\n",
       "      <td>...</td>\n",
       "      <td>False</td>\n",
       "      <td>NaN</td>\n",
       "      <td>True</td>\n",
       "      <td>30d</td>\n",
       "      <td>NaN</td>\n",
       "      <td>srn</td>\n",
       "      <td>Dalvik/2.1.0 (Linux; U; Android 11; RMX3381 Bu...</td>\n",
       "      <td>NaN</td>\n",
       "      <td>NaN</td>\n",
       "      <td>NaN</td>\n",
       "    </tr>\n",
       "    <tr>\n",
       "      <th>2</th>\n",
       "      <td>3</td>\n",
       "      <td>click</td>\n",
       "      <td>2021-10-20 23:36:18</td>\n",
       "      <td>2021-10-20 23:36:42</td>\n",
       "      <td>2021-10-20 23:40:17</td>\n",
       "      <td>1</td>\n",
       "      <td>{\"af_currency\":\"INR\",\"af_revenue\":24,\"af_order...</td>\n",
       "      <td>24.0</td>\n",
       "      <td>INR</td>\n",
       "      <td>24.0</td>\n",
       "      <td>...</td>\n",
       "      <td>False</td>\n",
       "      <td>NaN</td>\n",
       "      <td>True</td>\n",
       "      <td>30d</td>\n",
       "      <td>NaN</td>\n",
       "      <td>srn</td>\n",
       "      <td>Dalvik/2.1.0 (Linux; U; Android 11; M2101K6I B...</td>\n",
       "      <td>NaN</td>\n",
       "      <td>NaN</td>\n",
       "      <td>NaN</td>\n",
       "    </tr>\n",
       "    <tr>\n",
       "      <th>3</th>\n",
       "      <td>4</td>\n",
       "      <td>click</td>\n",
       "      <td>2021-10-20 23:36:18</td>\n",
       "      <td>2021-10-20 23:36:42</td>\n",
       "      <td>2021-10-20 23:40:15</td>\n",
       "      <td>0</td>\n",
       "      <td>{\"af_city\":\"Mumbai\",\"af_content\":\"DAULAT NAGAR...</td>\n",
       "      <td>NaN</td>\n",
       "      <td>USD</td>\n",
       "      <td>NaN</td>\n",
       "      <td>...</td>\n",
       "      <td>False</td>\n",
       "      <td>NaN</td>\n",
       "      <td>True</td>\n",
       "      <td>30d</td>\n",
       "      <td>NaN</td>\n",
       "      <td>srn</td>\n",
       "      <td>Dalvik/2.1.0 (Linux; U; Android 11; M2101K6I B...</td>\n",
       "      <td>NaN</td>\n",
       "      <td>NaN</td>\n",
       "      <td>NaN</td>\n",
       "    </tr>\n",
       "    <tr>\n",
       "      <th>4</th>\n",
       "      <td>5</td>\n",
       "      <td>click</td>\n",
       "      <td>2021-10-04 19:36:29</td>\n",
       "      <td>2021-10-04 20:32:59</td>\n",
       "      <td>2021-10-20 23:27:58</td>\n",
       "      <td>1</td>\n",
       "      <td>{\"af_currency\":\"INR\",\"af_revenue\":55,\"af_order...</td>\n",
       "      <td>55.0</td>\n",
       "      <td>INR</td>\n",
       "      <td>55.0</td>\n",
       "      <td>...</td>\n",
       "      <td>False</td>\n",
       "      <td>NaN</td>\n",
       "      <td>True</td>\n",
       "      <td>30d</td>\n",
       "      <td>NaN</td>\n",
       "      <td>srn</td>\n",
       "      <td>Dalvik/2.1.0 (Linux; U; Android 11; SM-M317F B...</td>\n",
       "      <td>NaN</td>\n",
       "      <td>NaN</td>\n",
       "      <td>NaN</td>\n",
       "    </tr>\n",
       "    <tr>\n",
       "      <th>...</th>\n",
       "      <td>...</td>\n",
       "      <td>...</td>\n",
       "      <td>...</td>\n",
       "      <td>...</td>\n",
       "      <td>...</td>\n",
       "      <td>...</td>\n",
       "      <td>...</td>\n",
       "      <td>...</td>\n",
       "      <td>...</td>\n",
       "      <td>...</td>\n",
       "      <td>...</td>\n",
       "      <td>...</td>\n",
       "      <td>...</td>\n",
       "      <td>...</td>\n",
       "      <td>...</td>\n",
       "      <td>...</td>\n",
       "      <td>...</td>\n",
       "      <td>...</td>\n",
       "      <td>...</td>\n",
       "      <td>...</td>\n",
       "      <td>...</td>\n",
       "    </tr>\n",
       "    <tr>\n",
       "      <th>13297</th>\n",
       "      <td>13298</td>\n",
       "      <td>click</td>\n",
       "      <td>2021-10-01 00:10:21</td>\n",
       "      <td>2021-10-01 00:11:20</td>\n",
       "      <td>2021-10-01 00:15:43</td>\n",
       "      <td>0</td>\n",
       "      <td>{\"af_city\":\"Chennai\",\"af_content\":\"VNR Milford...</td>\n",
       "      <td>NaN</td>\n",
       "      <td>USD</td>\n",
       "      <td>NaN</td>\n",
       "      <td>...</td>\n",
       "      <td>False</td>\n",
       "      <td>NaN</td>\n",
       "      <td>True</td>\n",
       "      <td>30d</td>\n",
       "      <td>NaN</td>\n",
       "      <td>srn</td>\n",
       "      <td>Dalvik/2.1.0 (Linux; U; Android 11; SM-A505F B...</td>\n",
       "      <td>NaN</td>\n",
       "      <td>NaN</td>\n",
       "      <td>NaN</td>\n",
       "    </tr>\n",
       "    <tr>\n",
       "      <th>13298</th>\n",
       "      <td>13299</td>\n",
       "      <td>click</td>\n",
       "      <td>2021-09-18 19:09:25</td>\n",
       "      <td>2021-09-18 19:10:24</td>\n",
       "      <td>2021-10-01 00:12:46</td>\n",
       "      <td>2</td>\n",
       "      <td>{\"af_currency\":\"INR\",\"af_content\":[\"Chocolate ...</td>\n",
       "      <td>321.0</td>\n",
       "      <td>INR</td>\n",
       "      <td>321.0</td>\n",
       "      <td>...</td>\n",
       "      <td>False</td>\n",
       "      <td>NaN</td>\n",
       "      <td>True</td>\n",
       "      <td>30d</td>\n",
       "      <td>NaN</td>\n",
       "      <td>srn</td>\n",
       "      <td>Dalvik/2.1.0 (Linux; U; Android 9; Redmi Y2 MI...</td>\n",
       "      <td>NaN</td>\n",
       "      <td>NaN</td>\n",
       "      <td>NaN</td>\n",
       "    </tr>\n",
       "    <tr>\n",
       "      <th>13299</th>\n",
       "      <td>13300</td>\n",
       "      <td>click</td>\n",
       "      <td>2021-10-01 00:00:24</td>\n",
       "      <td>2021-10-01 00:02:24</td>\n",
       "      <td>2021-10-01 00:08:21</td>\n",
       "      <td>1</td>\n",
       "      <td>{\"af_currency\":\"INR\",\"af_revenue\":25,\"af_order...</td>\n",
       "      <td>25.0</td>\n",
       "      <td>INR</td>\n",
       "      <td>25.0</td>\n",
       "      <td>...</td>\n",
       "      <td>False</td>\n",
       "      <td>NaN</td>\n",
       "      <td>True</td>\n",
       "      <td>30d</td>\n",
       "      <td>NaN</td>\n",
       "      <td>srn</td>\n",
       "      <td>Dalvik/2.1.0 (Linux; U; Android 9; RMX1833 Bui...</td>\n",
       "      <td>NaN</td>\n",
       "      <td>NaN</td>\n",
       "      <td>NaN</td>\n",
       "    </tr>\n",
       "    <tr>\n",
       "      <th>13300</th>\n",
       "      <td>13301</td>\n",
       "      <td>click</td>\n",
       "      <td>2021-10-01 00:00:24</td>\n",
       "      <td>2021-10-01 00:02:24</td>\n",
       "      <td>2021-10-01 00:08:15</td>\n",
       "      <td>0</td>\n",
       "      <td>{\"af_city\":\"Mumbai\",\"af_content\":\"Vitthal Plaz...</td>\n",
       "      <td>NaN</td>\n",
       "      <td>USD</td>\n",
       "      <td>NaN</td>\n",
       "      <td>...</td>\n",
       "      <td>False</td>\n",
       "      <td>NaN</td>\n",
       "      <td>True</td>\n",
       "      <td>30d</td>\n",
       "      <td>NaN</td>\n",
       "      <td>srn</td>\n",
       "      <td>Dalvik/2.1.0 (Linux; U; Android 9; RMX1833 Bui...</td>\n",
       "      <td>NaN</td>\n",
       "      <td>NaN</td>\n",
       "      <td>NaN</td>\n",
       "    </tr>\n",
       "    <tr>\n",
       "      <th>13301</th>\n",
       "      <td>13302</td>\n",
       "      <td>click</td>\n",
       "      <td>2021-09-30 23:46:17</td>\n",
       "      <td>2021-09-30 23:47:39</td>\n",
       "      <td>2021-10-01 00:00:25</td>\n",
       "      <td>3</td>\n",
       "      <td>{\"af_currency\":\"INR\",\"af_revenue\":20}</td>\n",
       "      <td>20.0</td>\n",
       "      <td>INR</td>\n",
       "      <td>20.0</td>\n",
       "      <td>...</td>\n",
       "      <td>False</td>\n",
       "      <td>NaN</td>\n",
       "      <td>True</td>\n",
       "      <td>30d</td>\n",
       "      <td>NaN</td>\n",
       "      <td>srn</td>\n",
       "      <td>Dalvik/2.1.0 (Linux; U; Android 11; M2004J19C ...</td>\n",
       "      <td>NaN</td>\n",
       "      <td>NaN</td>\n",
       "      <td>NaN</td>\n",
       "    </tr>\n",
       "  </tbody>\n",
       "</table>\n",
       "<p>13302 rows × 60 columns</p>\n",
       "</div>"
      ],
      "text/plain": [
       "       Sl_no Attributed Touch Type Attributed Touch Time         Install Time  \\\n",
       "0          1                 click   2021-10-20 23:37:09  2021-10-20 23:52:09   \n",
       "1          2                 click   2021-10-14 20:15:35  2021-10-14 20:16:10   \n",
       "2          3                 click   2021-10-20 23:36:18  2021-10-20 23:36:42   \n",
       "3          4                 click   2021-10-20 23:36:18  2021-10-20 23:36:42   \n",
       "4          5                 click   2021-10-04 19:36:29  2021-10-04 20:32:59   \n",
       "...      ...                   ...                   ...                  ...   \n",
       "13297  13298                 click   2021-10-01 00:10:21  2021-10-01 00:11:20   \n",
       "13298  13299                 click   2021-09-18 19:09:25  2021-09-18 19:10:24   \n",
       "13299  13300                 click   2021-10-01 00:00:24  2021-10-01 00:02:24   \n",
       "13300  13301                 click   2021-10-01 00:00:24  2021-10-01 00:02:24   \n",
       "13301  13302                 click   2021-09-30 23:46:17  2021-09-30 23:47:39   \n",
       "\n",
       "                Event Time  Event Name  \\\n",
       "0      2021-10-20 23:58:59           0   \n",
       "1      2021-10-20 23:51:36           0   \n",
       "2      2021-10-20 23:40:17           1   \n",
       "3      2021-10-20 23:40:15           0   \n",
       "4      2021-10-20 23:27:58           1   \n",
       "...                    ...         ...   \n",
       "13297  2021-10-01 00:15:43           0   \n",
       "13298  2021-10-01 00:12:46           2   \n",
       "13299  2021-10-01 00:08:21           1   \n",
       "13300  2021-10-01 00:08:15           0   \n",
       "13301  2021-10-01 00:00:25           3   \n",
       "\n",
       "                                             Event Value  Event Revenue  \\\n",
       "0      {\"af_city\":\"Pune\",\"af_content\":\"Godrej Infinit...            NaN   \n",
       "1      {\"af_city\":\"Gurgaon-Faridabad\",\"af_content\":\"B...            NaN   \n",
       "2      {\"af_currency\":\"INR\",\"af_revenue\":24,\"af_order...           24.0   \n",
       "3      {\"af_city\":\"Mumbai\",\"af_content\":\"DAULAT NAGAR...            NaN   \n",
       "4      {\"af_currency\":\"INR\",\"af_revenue\":55,\"af_order...           55.0   \n",
       "...                                                  ...            ...   \n",
       "13297  {\"af_city\":\"Chennai\",\"af_content\":\"VNR Milford...            NaN   \n",
       "13298  {\"af_currency\":\"INR\",\"af_content\":[\"Chocolate ...          321.0   \n",
       "13299  {\"af_currency\":\"INR\",\"af_revenue\":25,\"af_order...           25.0   \n",
       "13300  {\"af_city\":\"Mumbai\",\"af_content\":\"Vitthal Plaz...            NaN   \n",
       "13301              {\"af_currency\":\"INR\",\"af_revenue\":20}           20.0   \n",
       "\n",
       "      Event Revenue Currency  Event Revenue INR  ...  Is Retargeting  \\\n",
       "0                        USD                NaN  ...           False   \n",
       "1                        USD                NaN  ...           False   \n",
       "2                        INR               24.0  ...           False   \n",
       "3                        USD                NaN  ...           False   \n",
       "4                        INR               55.0  ...           False   \n",
       "...                      ...                ...  ...             ...   \n",
       "13297                    USD                NaN  ...           False   \n",
       "13298                    INR              321.0  ...           False   \n",
       "13299                    INR               25.0  ...           False   \n",
       "13300                    USD                NaN  ...           False   \n",
       "13301                    INR               20.0  ...           False   \n",
       "\n",
       "       Retargeting Conversion Type  Is Primary Attribution  \\\n",
       "0                              NaN                    True   \n",
       "1                              NaN                    True   \n",
       "2                              NaN                    True   \n",
       "3                              NaN                    True   \n",
       "4                              NaN                    True   \n",
       "...                            ...                     ...   \n",
       "13297                          NaN                    True   \n",
       "13298                          NaN                    True   \n",
       "13299                          NaN                    True   \n",
       "13300                          NaN                    True   \n",
       "13301                          NaN                    True   \n",
       "\n",
       "      Attribution Lookback  Reengagement Window Match Type  \\\n",
       "0                      30d                  NaN        srn   \n",
       "1                      30d                  NaN        srn   \n",
       "2                      30d                  NaN        srn   \n",
       "3                      30d                  NaN        srn   \n",
       "4                      30d                  NaN        srn   \n",
       "...                    ...                  ...        ...   \n",
       "13297                  30d                  NaN        srn   \n",
       "13298                  30d                  NaN        srn   \n",
       "13299                  30d                  NaN        srn   \n",
       "13300                  30d                  NaN        srn   \n",
       "13301                  30d                  NaN        srn   \n",
       "\n",
       "                                              User Agent HTTP Referrer  \\\n",
       "0      Dalvik/2.1.0 (Linux; U; Android 10; SM-A750F B...           NaN   \n",
       "1      Dalvik/2.1.0 (Linux; U; Android 11; RMX3381 Bu...           NaN   \n",
       "2      Dalvik/2.1.0 (Linux; U; Android 11; M2101K6I B...           NaN   \n",
       "3      Dalvik/2.1.0 (Linux; U; Android 11; M2101K6I B...           NaN   \n",
       "4      Dalvik/2.1.0 (Linux; U; Android 11; SM-M317F B...           NaN   \n",
       "...                                                  ...           ...   \n",
       "13297  Dalvik/2.1.0 (Linux; U; Android 11; SM-A505F B...           NaN   \n",
       "13298  Dalvik/2.1.0 (Linux; U; Android 9; Redmi Y2 MI...           NaN   \n",
       "13299  Dalvik/2.1.0 (Linux; U; Android 9; RMX1833 Bui...           NaN   \n",
       "13300  Dalvik/2.1.0 (Linux; U; Android 9; RMX1833 Bui...           NaN   \n",
       "13301  Dalvik/2.1.0 (Linux; U; Android 11; M2004J19C ...           NaN   \n",
       "\n",
       "       Original URL Store Product Page  \n",
       "0               NaN                NaN  \n",
       "1               NaN                NaN  \n",
       "2               NaN                NaN  \n",
       "3               NaN                NaN  \n",
       "4               NaN                NaN  \n",
       "...             ...                ...  \n",
       "13297           NaN                NaN  \n",
       "13298           NaN                NaN  \n",
       "13299           NaN                NaN  \n",
       "13300           NaN                NaN  \n",
       "13301           NaN                NaN  \n",
       "\n",
       "[13302 rows x 60 columns]"
      ]
     },
     "execution_count": 6,
     "metadata": {},
     "output_type": "execute_result"
    }
   ],
   "source": [
    "le = LabelEncoder()\n",
    "dataset[\"Event Name\"] = le.fit_transform(dataset[\"Event Name\"])\n",
    "dataset"
   ]
  },
  {
   "cell_type": "code",
   "execution_count": 7,
   "id": "237b5ca6",
   "metadata": {},
   "outputs": [
    {
     "data": {
      "text/plain": [
       "Sl_no               0\n",
       "Event Revenue    6437\n",
       "dtype: int64"
      ]
     },
     "execution_count": 7,
     "metadata": {},
     "output_type": "execute_result"
    }
   ],
   "source": [
    "dataset = dataset.iloc[:,[0,7]]  # SL_no and target\n",
    "dataset.isnull().sum()"
   ]
  },
  {
   "cell_type": "code",
   "execution_count": 8,
   "id": "3509ba2e",
   "metadata": {},
   "outputs": [
    {
     "data": {
      "text/plain": [
       "Sl_no            0\n",
       "Event Revenue    0\n",
       "dtype: int64"
      ]
     },
     "execution_count": 8,
     "metadata": {},
     "output_type": "execute_result"
    }
   ],
   "source": [
    "dataset = dataset.fillna(0)\n",
    "dataset.isnull().sum()"
   ]
  },
  {
   "cell_type": "code",
   "execution_count": 9,
   "id": "6daf3172",
   "metadata": {},
   "outputs": [
    {
     "data": {
      "text/plain": [
       "array([[    1],\n",
       "       [    2],\n",
       "       [    3],\n",
       "       ...,\n",
       "       [13300],\n",
       "       [13301],\n",
       "       [13302]], dtype=int64)"
      ]
     },
     "execution_count": 9,
     "metadata": {},
     "output_type": "execute_result"
    }
   ],
   "source": [
    "x = dataset.iloc[:,[0]].values      # independent variable and Instead of x.reshape(-1,1)  we write in []\n",
    "x"
   ]
  },
  {
   "cell_type": "code",
   "execution_count": 10,
   "id": "bbbcab8f",
   "metadata": {},
   "outputs": [
    {
     "data": {
      "text/plain": [
       "array([ 0.,  0., 24., ..., 25.,  0., 20.])"
      ]
     },
     "execution_count": 10,
     "metadata": {},
     "output_type": "execute_result"
    }
   ],
   "source": [
    "y = dataset.iloc[:,1].values   # horizontal\n",
    "y\n"
   ]
  },
  {
   "cell_type": "code",
   "execution_count": 11,
   "id": "53f5fddd",
   "metadata": {},
   "outputs": [
    {
     "data": {
      "text/html": [
       "<style>#sk-container-id-1 {color: black;}#sk-container-id-1 pre{padding: 0;}#sk-container-id-1 div.sk-toggleable {background-color: white;}#sk-container-id-1 label.sk-toggleable__label {cursor: pointer;display: block;width: 100%;margin-bottom: 0;padding: 0.3em;box-sizing: border-box;text-align: center;}#sk-container-id-1 label.sk-toggleable__label-arrow:before {content: \"▸\";float: left;margin-right: 0.25em;color: #696969;}#sk-container-id-1 label.sk-toggleable__label-arrow:hover:before {color: black;}#sk-container-id-1 div.sk-estimator:hover label.sk-toggleable__label-arrow:before {color: black;}#sk-container-id-1 div.sk-toggleable__content {max-height: 0;max-width: 0;overflow: hidden;text-align: left;background-color: #f0f8ff;}#sk-container-id-1 div.sk-toggleable__content pre {margin: 0.2em;color: black;border-radius: 0.25em;background-color: #f0f8ff;}#sk-container-id-1 input.sk-toggleable__control:checked~div.sk-toggleable__content {max-height: 200px;max-width: 100%;overflow: auto;}#sk-container-id-1 input.sk-toggleable__control:checked~label.sk-toggleable__label-arrow:before {content: \"▾\";}#sk-container-id-1 div.sk-estimator input.sk-toggleable__control:checked~label.sk-toggleable__label {background-color: #d4ebff;}#sk-container-id-1 div.sk-label input.sk-toggleable__control:checked~label.sk-toggleable__label {background-color: #d4ebff;}#sk-container-id-1 input.sk-hidden--visually {border: 0;clip: rect(1px 1px 1px 1px);clip: rect(1px, 1px, 1px, 1px);height: 1px;margin: -1px;overflow: hidden;padding: 0;position: absolute;width: 1px;}#sk-container-id-1 div.sk-estimator {font-family: monospace;background-color: #f0f8ff;border: 1px dotted black;border-radius: 0.25em;box-sizing: border-box;margin-bottom: 0.5em;}#sk-container-id-1 div.sk-estimator:hover {background-color: #d4ebff;}#sk-container-id-1 div.sk-parallel-item::after {content: \"\";width: 100%;border-bottom: 1px solid gray;flex-grow: 1;}#sk-container-id-1 div.sk-label:hover label.sk-toggleable__label {background-color: #d4ebff;}#sk-container-id-1 div.sk-serial::before {content: \"\";position: absolute;border-left: 1px solid gray;box-sizing: border-box;top: 0;bottom: 0;left: 50%;z-index: 0;}#sk-container-id-1 div.sk-serial {display: flex;flex-direction: column;align-items: center;background-color: white;padding-right: 0.2em;padding-left: 0.2em;position: relative;}#sk-container-id-1 div.sk-item {position: relative;z-index: 1;}#sk-container-id-1 div.sk-parallel {display: flex;align-items: stretch;justify-content: center;background-color: white;position: relative;}#sk-container-id-1 div.sk-item::before, #sk-container-id-1 div.sk-parallel-item::before {content: \"\";position: absolute;border-left: 1px solid gray;box-sizing: border-box;top: 0;bottom: 0;left: 50%;z-index: -1;}#sk-container-id-1 div.sk-parallel-item {display: flex;flex-direction: column;z-index: 1;position: relative;background-color: white;}#sk-container-id-1 div.sk-parallel-item:first-child::after {align-self: flex-end;width: 50%;}#sk-container-id-1 div.sk-parallel-item:last-child::after {align-self: flex-start;width: 50%;}#sk-container-id-1 div.sk-parallel-item:only-child::after {width: 0;}#sk-container-id-1 div.sk-dashed-wrapped {border: 1px dashed gray;margin: 0 0.4em 0.5em 0.4em;box-sizing: border-box;padding-bottom: 0.4em;background-color: white;}#sk-container-id-1 div.sk-label label {font-family: monospace;font-weight: bold;display: inline-block;line-height: 1.2em;}#sk-container-id-1 div.sk-label-container {text-align: center;}#sk-container-id-1 div.sk-container {/* jupyter's `normalize.less` sets `[hidden] { display: none; }` but bootstrap.min.css set `[hidden] { display: none !important; }` so we also need the `!important` here to be able to override the default hidden behavior on the sphinx rendered scikit-learn.org. See: https://github.com/scikit-learn/scikit-learn/issues/21755 */display: inline-block !important;position: relative;}#sk-container-id-1 div.sk-text-repr-fallback {display: none;}</style><div id=\"sk-container-id-1\" class=\"sk-top-container\"><div class=\"sk-text-repr-fallback\"><pre>LinearRegression()</pre><b>In a Jupyter environment, please rerun this cell to show the HTML representation or trust the notebook. <br />On GitHub, the HTML representation is unable to render, please try loading this page with nbviewer.org.</b></div><div class=\"sk-container\" hidden><div class=\"sk-item\"><div class=\"sk-estimator sk-toggleable\"><input class=\"sk-toggleable__control sk-hidden--visually\" id=\"sk-estimator-id-1\" type=\"checkbox\" checked><label for=\"sk-estimator-id-1\" class=\"sk-toggleable__label sk-toggleable__label-arrow\">LinearRegression</label><div class=\"sk-toggleable__content\"><pre>LinearRegression()</pre></div></div></div></div></div>"
      ],
      "text/plain": [
       "LinearRegression()"
      ]
     },
     "execution_count": 11,
     "metadata": {},
     "output_type": "execute_result"
    }
   ],
   "source": [
    "from sklearn.linear_model import LinearRegression\n",
    "lin_reg = LinearRegression()\n",
    "lin_reg.fit(x, y)"
   ]
  },
  {
   "cell_type": "code",
   "execution_count": 12,
   "id": "d36beb47",
   "metadata": {},
   "outputs": [
    {
     "data": {
      "image/png": "[encoded data removed]",
      "text/plain": [
       "<Figure size 640x480 with 1 Axes>"
      ]
     },
     "metadata": {},
     "output_type": "display_data"
    }
   ],
   "source": [
    "plt.scatter(x, y, color = 'red')\n",
    "plt.plot(x, lin_reg.predict(x), color = 'blue')\n",
    "plt.title('BB Data (Linear Regression)')\n",
    "plt.xlabel('Sr no')\n",
    "plt.ylabel('Revenue')\n",
    "plt.show()"
   ]
  },
  {
   "cell_type": "code",
   "execution_count": 13,
   "id": "239937a5",
   "metadata": {},
   "outputs": [
    {
     "data": {
      "text/html": [
       "<style>#sk-container-id-2 {color: black;}#sk-container-id-2 pre{padding: 0;}#sk-container-id-2 div.sk-toggleable {background-color: white;}#sk-container-id-2 label.sk-toggleable__label {cursor: pointer;display: block;width: 100%;margin-bottom: 0;padding: 0.3em;box-sizing: border-box;text-align: center;}#sk-container-id-2 label.sk-toggleable__label-arrow:before {content: \"▸\";float: left;margin-right: 0.25em;color: #696969;}#sk-container-id-2 label.sk-toggleable__label-arrow:hover:before {color: black;}#sk-container-id-2 div.sk-estimator:hover label.sk-toggleable__label-arrow:before {color: black;}#sk-container-id-2 div.sk-toggleable__content {max-height: 0;max-width: 0;overflow: hidden;text-align: left;background-color: #f0f8ff;}#sk-container-id-2 div.sk-toggleable__content pre {margin: 0.2em;color: black;border-radius: 0.25em;background-color: #f0f8ff;}#sk-container-id-2 input.sk-toggleable__control:checked~div.sk-toggleable__content {max-height: 200px;max-width: 100%;overflow: auto;}#sk-container-id-2 input.sk-toggleable__control:checked~label.sk-toggleable__label-arrow:before {content: \"▾\";}#sk-container-id-2 div.sk-estimator input.sk-toggleable__control:checked~label.sk-toggleable__label {background-color: #d4ebff;}#sk-container-id-2 div.sk-label input.sk-toggleable__control:checked~label.sk-toggleable__label {background-color: #d4ebff;}#sk-container-id-2 input.sk-hidden--visually {border: 0;clip: rect(1px 1px 1px 1px);clip: rect(1px, 1px, 1px, 1px);height: 1px;margin: -1px;overflow: hidden;padding: 0;position: absolute;width: 1px;}#sk-container-id-2 div.sk-estimator {font-family: monospace;background-color: #f0f8ff;border: 1px dotted black;border-radius: 0.25em;box-sizing: border-box;margin-bottom: 0.5em;}#sk-container-id-2 div.sk-estimator:hover {background-color: #d4ebff;}#sk-container-id-2 div.sk-parallel-item::after {content: \"\";width: 100%;border-bottom: 1px solid gray;flex-grow: 1;}#sk-container-id-2 div.sk-label:hover label.sk-toggleable__label {background-color: #d4ebff;}#sk-container-id-2 div.sk-serial::before {content: \"\";position: absolute;border-left: 1px solid gray;box-sizing: border-box;top: 0;bottom: 0;left: 50%;z-index: 0;}#sk-container-id-2 div.sk-serial {display: flex;flex-direction: column;align-items: center;background-color: white;padding-right: 0.2em;padding-left: 0.2em;position: relative;}#sk-container-id-2 div.sk-item {position: relative;z-index: 1;}#sk-container-id-2 div.sk-parallel {display: flex;align-items: stretch;justify-content: center;background-color: white;position: relative;}#sk-container-id-2 div.sk-item::before, #sk-container-id-2 div.sk-parallel-item::before {content: \"\";position: absolute;border-left: 1px solid gray;box-sizing: border-box;top: 0;bottom: 0;left: 50%;z-index: -1;}#sk-container-id-2 div.sk-parallel-item {display: flex;flex-direction: column;z-index: 1;position: relative;background-color: white;}#sk-container-id-2 div.sk-parallel-item:first-child::after {align-self: flex-end;width: 50%;}#sk-container-id-2 div.sk-parallel-item:last-child::after {align-self: flex-start;width: 50%;}#sk-container-id-2 div.sk-parallel-item:only-child::after {width: 0;}#sk-container-id-2 div.sk-dashed-wrapped {border: 1px dashed gray;margin: 0 0.4em 0.5em 0.4em;box-sizing: border-box;padding-bottom: 0.4em;background-color: white;}#sk-container-id-2 div.sk-label label {font-family: monospace;font-weight: bold;display: inline-block;line-height: 1.2em;}#sk-container-id-2 div.sk-label-container {text-align: center;}#sk-container-id-2 div.sk-container {/* jupyter's `normalize.less` sets `[hidden] { display: none; }` but bootstrap.min.css set `[hidden] { display: none !important; }` so we also need the `!important` here to be able to override the default hidden behavior on the sphinx rendered scikit-learn.org. See: https://github.com/scikit-learn/scikit-learn/issues/21755 */display: inline-block !important;position: relative;}#sk-container-id-2 div.sk-text-repr-fallback {display: none;}</style><div id=\"sk-container-id-2\" class=\"sk-top-container\"><div class=\"sk-text-repr-fallback\"><pre>LinearRegression()</pre><b>In a Jupyter environment, please rerun this cell to show the HTML representation or trust the notebook. <br />On GitHub, the HTML representation is unable to render, please try loading this page with nbviewer.org.</b></div><div class=\"sk-container\" hidden><div class=\"sk-item\"><div class=\"sk-estimator sk-toggleable\"><input class=\"sk-toggleable__control sk-hidden--visually\" id=\"sk-estimator-id-2\" type=\"checkbox\" checked><label for=\"sk-estimator-id-2\" class=\"sk-toggleable__label sk-toggleable__label-arrow\">LinearRegression</label><div class=\"sk-toggleable__content\"><pre>LinearRegression()</pre></div></div></div></div></div>"
      ],
      "text/plain": [
       "LinearRegression()"
      ]
     },
     "execution_count": 13,
     "metadata": {},
     "output_type": "execute_result"
    }
   ],
   "source": [
    "from sklearn.preprocessing import PolynomialFeatures\n",
    "poly_reg = PolynomialFeatures(degree = 4)\n",
    "X_poly = poly_reg.fit_transform(x)\n",
    "lin_reg_2 = LinearRegression()\n",
    "lin_reg_2.fit(X_poly, y)"
   ]
  },
  {
   "cell_type": "code",
   "execution_count": 14,
   "id": "032cc56e",
   "metadata": {},
   "outputs": [
    {
     "data": {
      "image/png": "[encoded data removed]",
      "text/plain": [
       "<Figure size 640x480 with 1 Axes>"
      ]
     },
     "metadata": {},
     "output_type": "display_data"
    }
   ],
   "source": [
    "plt.scatter(x, y, color = 'red')\n",
    "plt.plot(x, lin_reg_2.predict(poly_reg.fit_transform(x)), color = 'blue')\n",
    "plt.title('BB Data (Polynomial Regression)')\n",
    "plt.xlabel('Sr no.')\n",
    "plt.ylabel('Revenue')\n",
    "plt.show()"
   ]
  },
  {
   "cell_type": "markdown",
   "id": "2b61611a",
   "metadata": {},
   "source": [
    "### Here Both Linear and Polynolial Are giving same result and accurate result this is because dataset is not correct for this algorithm"
   ]
  },
  {
   "cell_type": "markdown",
   "id": "ec7cd886",
   "metadata": {},
   "source": [
    "## October batch session 11 (refer: )"
   ]
  },
  {
   "cell_type": "code",
   "execution_count": null,
   "id": "9effe577",
   "metadata": {},
   "outputs": [],
   "source": []
  }
 ],
 "metadata": {
  "kernelspec": {
   "display_name": "Python 3 (ipykernel)",
   "language": "python",
   "name": "python3"
  },
  "language_info": {
   "codemirror_mode": {
    "name": "ipython",
    "version": 3
   },
   "file_extension": ".py",
   "mimetype": "text/x-python",
   "name": "python",
   "nbconvert_exporter": "python",
   "pygments_lexer": "ipython3",
   "version": "3.11.5"
  }
 },
 "nbformat": 4,
 "nbformat_minor": 5
}
